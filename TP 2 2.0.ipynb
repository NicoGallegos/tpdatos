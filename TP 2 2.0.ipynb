{
 "cells": [
  {
   "cell_type": "code",
   "execution_count": 1,
   "metadata": {
    "collapsed": true
   },
   "outputs": [],
   "source": [
    "import pandas as pd\n",
    "import numpy as np\n",
    "import seaborn as sns\n",
    "import matplotlib.pyplot as plt\n",
    "\n",
    "%matplotlib inline\n",
    "\n",
    "agosto13 = pd.read_csv('1308.csv')\n",
    "septiembre13 = pd.read_csv('1309.csv')\n",
    "octubre13 = pd.read_csv('1310.csv')\n",
    "noviembre13 = pd.read_csv('1311.csv')\n",
    "diciembre13 = pd.read_csv('1312.csv')\n",
    "enero14 = pd.read_csv('1401.csv')\n",
    "febrero14 = pd.read_csv('1402.csv')\n",
    "marzo14 = pd.read_csv('1403.csv')\n",
    "abril14 = pd.read_csv('1404.csv')\n",
    "mayo14 = pd.read_csv('1405.csv')\n",
    "junio14 = pd.read_csv('1406.csv')\n",
    "enero15 = pd.read_csv('1501.csv')\n",
    "agosto15 = pd.read_csv('1508.csv')\n",
    "marzo16 = pd.read_csv('1603.csv')\n",
    "abril16 = pd.read_csv('1604.csv')\n",
    "mayo16 = pd.read_csv('1605.csv')\n",
    "junio16 = pd.read_csv('1606.csv')\n",
    "enero17 = pd.read_csv('1701.csv')\n",
    "agosto17 = pd.read_csv('1708.csv')\n",
    "\n",
    "datos = pd.concat([agosto13, septiembre13, octubre13, noviembre13, diciembre13, enero14, febrero14, \\\n",
    "                          marzo14, abril14, mayo14, junio14, enero15, agosto15, marzo16, abril16, mayo16, \\\n",
    "                          junio16, enero17, agosto17])\n",
    "\n",
    "datosForTesting = pd.read_csv('properati_dataset_testing_noprice.csv')\n",
    " "
   ]
  },
  {
   "cell_type": "code",
   "execution_count": 2,
   "metadata": {},
   "outputs": [
    {
     "data": {
      "text/plain": [
       "id                         14166\n",
       "created_on                 14166\n",
       "property_type              14166\n",
       "operation                  14166\n",
       "place_name                 14166\n",
       "place_with_parent_names    14166\n",
       "country_name               14166\n",
       "state_name                 14166\n",
       "lat-lon                    10487\n",
       "lat                        10487\n",
       "lon                        10487\n",
       "surface_total_in_m2        11853\n",
       "surface_covered_in_m2      13005\n",
       "floor                       1368\n",
       "rooms                       7500\n",
       "expenses                    2543\n",
       "description                14166\n",
       "dtype: int64"
      ]
     },
     "execution_count": 2,
     "metadata": {},
     "output_type": "execute_result"
    }
   ],
   "source": [
    "datosForTesting.count()"
   ]
  },
  {
   "cell_type": "markdown",
   "metadata": {},
   "source": [
    "Algunos primeros datos del set a testear. Vemos que los únicos campos con bajo porcentaje de datos son el piso y las expensas."
   ]
  },
  {
   "cell_type": "code",
   "execution_count": 3,
   "metadata": {},
   "outputs": [
    {
     "data": {
      "text/plain": [
       "Index([u'id', u'created_on', u'property_type', u'operation', u'place_name',\n",
       "       u'place_with_parent_names', u'country_name', u'state_name', u'lat-lon',\n",
       "       u'lat', u'lon', u'surface_total_in_m2', u'surface_covered_in_m2',\n",
       "       u'floor', u'rooms', u'expenses', u'description', u'price_aprox_usd'],\n",
       "      dtype='object')"
      ]
     },
     "execution_count": 3,
     "metadata": {},
     "output_type": "execute_result"
    }
   ],
   "source": [
    "datos = datos.loc[:, ['id', 'created_on',  'property_type', 'operation', 'place_name', \\\n",
    "                      'place_with_parent_names', 'country_name', 'state_name', 'lat-lon', 'lat', 'lon', \\\n",
    "                     'surface_total_in_m2', 'surface_covered_in_m2', 'floor', 'rooms', 'expenses', 'description',\\\n",
    "                     'price_aprox_usd']]\n",
    "datos.columns"
   ]
  },
  {
   "cell_type": "code",
   "execution_count": 4,
   "metadata": {},
   "outputs": [
    {
     "name": "stdout",
     "output_type": "stream",
     "text": [
      "['venta' 'alquiler']\n"
     ]
    }
   ],
   "source": [
    "print datosForTesting.operation.unique()"
   ]
  },
  {
   "cell_type": "code",
   "execution_count": 5,
   "metadata": {},
   "outputs": [
    {
     "data": {
      "text/plain": [
       "1"
      ]
     },
     "execution_count": 5,
     "metadata": {},
     "output_type": "execute_result"
    }
   ],
   "source": [
    "datosForTesting.loc[datosForTesting.operation == 'alquiler','id'].count()"
   ]
  },
  {
   "cell_type": "code",
   "execution_count": 6,
   "metadata": {},
   "outputs": [
    {
     "name": "stdout",
     "output_type": "stream",
     "text": [
      "['sell']\n"
     ]
    }
   ],
   "source": [
    "print datos.operation.unique()"
   ]
  },
  {
   "cell_type": "code",
   "execution_count": 7,
   "metadata": {},
   "outputs": [
    {
     "data": {
      "text/plain": [
       "394859"
      ]
     },
     "execution_count": 7,
     "metadata": {},
     "output_type": "execute_result"
    }
   ],
   "source": [
    "datos['operation'] = datos['operation'].map(lambda x: 'venta' if x == 'sell' else 'alquiler')\n",
    "datos.loc[datos.operation == 'venta', 'id'].count()"
   ]
  },
  {
   "cell_type": "code",
   "execution_count": 8,
   "metadata": {},
   "outputs": [
    {
     "name": "stdout",
     "output_type": "stream",
     "text": [
      "['departamento' 'ph' 'casa']\n"
     ]
    }
   ],
   "source": [
    "print datosForTesting.property_type.unique()"
   ]
  },
  {
   "cell_type": "code",
   "execution_count": 9,
   "metadata": {},
   "outputs": [
    {
     "data": {
      "text/plain": [
       "9761"
      ]
     },
     "execution_count": 9,
     "metadata": {},
     "output_type": "execute_result"
    }
   ],
   "source": [
    "datosForTesting.loc[datosForTesting.property_type == 'departamento', 'id'].count()"
   ]
  },
  {
   "cell_type": "code",
   "execution_count": 10,
   "metadata": {},
   "outputs": [
    {
     "name": "stdout",
     "output_type": "stream",
     "text": [
      "['house' 'apartment' 'PH' 'store']\n"
     ]
    }
   ],
   "source": [
    "print datos.property_type.unique()"
   ]
  },
  {
   "cell_type": "code",
   "execution_count": 11,
   "metadata": {},
   "outputs": [
    {
     "data": {
      "text/plain": [
       "id                          382226\n",
       "created_on                 1101908\n",
       "property_type              1101908\n",
       "operation                  1101908\n",
       "place_name                 1101851\n",
       "place_with_parent_names    1101908\n",
       "country_name                382226\n",
       "state_name                  382226\n",
       "lat-lon                     921414\n",
       "lat                         921414\n",
       "lon                         921403\n",
       "surface_total_in_m2         254876\n",
       "surface_covered_in_m2       307965\n",
       "floor                       150100\n",
       "rooms                       781325\n",
       "expenses                     53797\n",
       "description                 382210\n",
       "price_aprox_usd             918368\n",
       "dtype: int64"
      ]
     },
     "execution_count": 11,
     "metadata": {},
     "output_type": "execute_result"
    }
   ],
   "source": [
    "datos = datos.loc[datos.property_type != 'store', :]\n",
    "datos.count()"
   ]
  },
  {
   "cell_type": "code",
   "execution_count": 13,
   "metadata": {
    "collapsed": true
   },
   "outputs": [],
   "source": [
    "def traducirTipoPropiedad(x):\n",
    "    tipo = ''\n",
    "    if (x == 'house'):\n",
    "        tipo = 'casa' \n",
    "    else:\n",
    "        if (x == 'apartment'): \n",
    "            tipo = 'departamento'\n",
    "        else: \n",
    "            if (x == 'PH'): \n",
    "                tipo = 'ph'\n",
    "    return tipo        "
   ]
  },
  {
   "cell_type": "code",
   "execution_count": 14,
   "metadata": {},
   "outputs": [
    {
     "data": {
      "text/plain": [
       "144190"
      ]
     },
     "execution_count": 14,
     "metadata": {},
     "output_type": "execute_result"
    }
   ],
   "source": [
    "datos['property_type'] = datos['property_type'].map(traducirTipoPropiedad)\n",
    "datos.loc[datos.property_type == 'casa','id'].count()"
   ]
  },
  {
   "cell_type": "code",
   "execution_count": 15,
   "metadata": {},
   "outputs": [
    {
     "name": "stdout",
     "output_type": "stream",
     "text": [
      "0.0\n"
     ]
    }
   ],
   "source": [
    "print datosForTesting.surface_total_in_m2.min()"
   ]
  },
  {
   "cell_type": "code",
   "execution_count": 16,
   "metadata": {},
   "outputs": [
    {
     "name": "stdout",
     "output_type": "stream",
     "text": [
      "148000.0\n"
     ]
    }
   ],
   "source": [
    "print datosForTesting.surface_total_in_m2.max()"
   ]
  },
  {
   "cell_type": "code",
   "execution_count": 17,
   "metadata": {},
   "outputs": [
    {
     "name": "stdout",
     "output_type": "stream",
     "text": [
      "10\n"
     ]
    }
   ],
   "source": [
    "print datos.loc[datos.surface_total_in_m2 > 150000, 'id'].count()"
   ]
  },
  {
   "cell_type": "code",
   "execution_count": 18,
   "metadata": {},
   "outputs": [
    {
     "name": "stdout",
     "output_type": "stream",
     "text": [
      "['Capital Federal' 'Buenos Aires Interior' 'Bs.As. G.B.A. Zona Sur'\n",
      " 'Bs.As. G.B.A. Zona Oeste' 'Bs.As. G.B.A. Zona Norte']\n"
     ]
    }
   ],
   "source": [
    "print datosForTesting.state_name.unique()"
   ]
  },
  {
   "cell_type": "code",
   "execution_count": 18,
   "metadata": {},
   "outputs": [
    {
     "name": "stdout",
     "output_type": "stream",
     "text": [
      "1\n"
     ]
    }
   ],
   "source": [
    "print datosForTesting.loc[datosForTesting.state_name == 'Buenos Aires Interior', 'id'].count()"
   ]
  },
  {
   "cell_type": "code",
   "execution_count": 19,
   "metadata": {},
   "outputs": [
    {
     "name": "stdout",
     "output_type": "stream",
     "text": [
      "[nan 'Buenos Aires Interior' 'R\\xc3\\xado Negro' 'Capital Federal'\n",
      " 'Buenos Aires Costa Atl\\xc3\\xa1ntica' 'Neuqu\\xc3\\xa9n' 'San Juan'\n",
      " 'Bs.As. G.B.A. Zona Norte' 'Bs.As. G.B.A. Zona Sur'\n",
      " 'Bs.As. G.B.A. Zona Oeste' 'Misiones' 'Santa Fe' 'San Luis'\n",
      " 'C\\xc3\\xb3rdoba' 'Entre R\\xc3\\xados' 'La Pampa' 'Salta' 'Tucum\\xc3\\xa1n'\n",
      " 'Mendoza' 'Corrientes' 'Chaco' 'Jujuy' 'Catamarca' 'La Rioja' 'Chubut'\n",
      " 'Formosa' 'Tierra Del Fuego' 'Santa Cruz' 'Santiago Del Estero']\n"
     ]
    }
   ],
   "source": [
    "print datos.state_name.unique()"
   ]
  },
  {
   "cell_type": "code",
   "execution_count": 20,
   "metadata": {},
   "outputs": [
    {
     "data": {
      "text/plain": [
       "id                         266059\n",
       "created_on                 266059\n",
       "property_type              266059\n",
       "operation                  266059\n",
       "place_name                 266002\n",
       "place_with_parent_names    266059\n",
       "country_name               266059\n",
       "state_name                 266059\n",
       "lat-lon                    183538\n",
       "lat                        183538\n",
       "lon                        183538\n",
       "surface_total_in_m2        189874\n",
       "surface_covered_in_m2      230103\n",
       "floor                       34239\n",
       "rooms                      139224\n",
       "expenses                    32679\n",
       "description                266048\n",
       "price_aprox_usd            247383\n",
       "dtype: int64"
      ]
     },
     "execution_count": 20,
     "metadata": {},
     "output_type": "execute_result"
    }
   ],
   "source": [
    "datos = datos.loc[(datos['state_name'].str.contains('Capital Federal')| \\\n",
    "                   datos['state_name'].str.contains('Bs.As. G.B.A. Zona Sur')|\\\n",
    "                  datos['state_name'].str.contains('Bs.As. G.B.A. Zona Oeste')|\\\n",
    "                  datos['state_name'].str.contains('Bs.As. G.B.A. Zona Norte')),:]\n",
    "datos.count()"
   ]
  },
  {
   "cell_type": "code",
   "execution_count": 21,
   "metadata": {},
   "outputs": [
    {
     "data": {
      "text/plain": [
       "id                         235455\n",
       "created_on                 235455\n",
       "property_type              235455\n",
       "operation                  235455\n",
       "place_name                 235398\n",
       "place_with_parent_names    235455\n",
       "country_name               235455\n",
       "state_name                 235455\n",
       "lat-lon                    161442\n",
       "lat                        161442\n",
       "lon                        161442\n",
       "surface_total_in_m2        170226\n",
       "surface_covered_in_m2      210078\n",
       "floor                       32392\n",
       "rooms                      121130\n",
       "expenses                    31250\n",
       "description                235444\n",
       "price_aprox_usd            235455\n",
       "dtype: int64"
      ]
     },
     "execution_count": 21,
     "metadata": {},
     "output_type": "execute_result"
    }
   ],
   "source": [
    "datos = datos.loc[datos['price_aprox_usd'].notnull(),:]\n",
    "datos = datos.loc[datos['price_aprox_usd'] != 0,:]\n",
    "datos.count()"
   ]
  },
  {
   "cell_type": "code",
   "execution_count": 22,
   "metadata": {
    "collapsed": true
   },
   "outputs": [],
   "source": [
    "#Se hace la comparacion por lat, lon, superficie y superficie cubierta, tengo que quitar los nulls de esos campos\n",
    "datosSinNull = datos.loc[datos['lat'].notnull(),:]\n",
    "datosSinNull = datosSinNull.loc[datosSinNull['lon'].notnull(),:]\n",
    "datosSinNull = datosSinNull.loc[datosSinNull['surface_total_in_m2'].notnull(),:]\n",
    "datosSinNull = datosSinNull.loc[datosSinNull['surface_covered_in_m2'].notnull(),:]\n",
    "\n",
    "#Luego de esos divido los que estan en palermo de los que no estan en palermo\n",
    "datosPalermo = datosSinNull.loc[datosSinNull.place_name == 'Palermo', :]\n",
    "datosNoPalermo = datosSinNull.loc[datosSinNull.place_name != 'Palermo', :]\n",
    "\n",
    "#Divido al set de palermo en otros features y precios\n",
    "datosPalermoFeatures = datosPalermo.loc[:, ['lat', 'lon', 'surface_total_in_m2', 'surface_covered_in_m2']]\n",
    "datosPalermoPrecio = datosPalermo.loc[:, ['price_aprox_usd']]\n",
    "\n",
    "#Divido al set que no es de palermo en otros features y precios\n",
    "datosNoPalermoFeatures = datosNoPalermo.loc[:, ['lat', 'lon', 'surface_total_in_m2', 'surface_covered_in_m2']]\n",
    "datosNoPalermoPrecio = datosNoPalermo.loc[:, ['price_aprox_usd']]"
   ]
  },
  {
   "cell_type": "code",
   "execution_count": 59,
   "metadata": {},
   "outputs": [],
   "source": [
    "#Importo todas las librerias correspondientes a ML\n",
    "#Para score\n",
    "from sklearn.metrics import r2_score\n",
    "\n",
    "#Para training y cross\n",
    "from sklearn.cross_validation import train_test_split\n",
    "from sklearn.model_selection import cross_val_score\n",
    "from sklearn.preprocessing import Imputer\n",
    "\n",
    "#Algoritmos\n",
    "from sklearn.neighbors import KNeighborsRegressor\n",
    "from sklearn.ensemble import RandomForestRegressor\n",
    "from sklearn.neighbors import RadiusNeighborsRegressor\n",
    "from sklearn.linear_model import LinearRegression, LogisticRegression\n",
    "from sklearn import linear_model\n",
    "from sklearn import svm\n",
    "from sklearn import tree\n",
    "from sklearn import gaussian_process\n",
    "from sklearn import neural_network"
   ]
  },
  {
   "cell_type": "code",
   "execution_count": 24,
   "metadata": {},
   "outputs": [
    {
     "name": "stderr",
     "output_type": "stream",
     "text": [
      "/home/leandro/anaconda2/lib/python2.7/site-packages/ipykernel_launcher.py:15: DataConversionWarning: A column-vector y was passed when a 1d array was expected. Please change the shape of y to (n_samples,), for example using ravel().\n",
      "  from ipykernel import kernelapp as app\n"
     ]
    },
    {
     "data": {
      "image/png": "[encoded data removed]",
      "text/plain": [
       "<matplotlib.figure.Figure at 0x7f156e0041d0>"
      ]
     },
     "metadata": {},
     "output_type": "display_data"
    }
   ],
   "source": [
    "models = [KNeighborsRegressor(),\n",
    "         RandomForestRegressor(n_estimators=100, max_features='sqrt'),\n",
    "         #RadiusNeighborsRegressor(),\n",
    "         LinearRegression(),\n",
    "         linear_model.Ridge (alpha = .5),\n",
    "         linear_model.Lasso (alpha = 0.1),\n",
    "         linear_model.LassoLars (alpha = 0.1)]\n",
    " \n",
    "TestModels = pd.DataFrame()\n",
    "tmp = {}\n",
    " \n",
    "for model in models:\n",
    "        m = str(model)\n",
    "        tmp['Model'] = m[:m.index('(')]\n",
    "        model.fit(datosNoPalermoFeatures, datosNoPalermoPrecio)\n",
    "        tmp['Precio'] = r2_score(datosPalermoPrecio, model.predict(datosPalermoFeatures))\n",
    "        TestModels = TestModels.append([tmp])\n",
    " \n",
    "TestModels.set_index('Model', inplace=True)\n",
    " \n",
    "fig, axes = plt.subplots(ncols=1, figsize=(10, 4))\n",
    "TestModels.Precio.plot(ax=axes, kind='bar', title='Precio')\n",
    "plt.show()"
   ]
  },
  {
   "cell_type": "code",
   "execution_count": 25,
   "metadata": {},
   "outputs": [
    {
     "name": "stderr",
     "output_type": "stream",
     "text": [
      "/home/leandro/anaconda2/lib/python2.7/site-packages/sklearn/utils/validation.py:526: DataConversionWarning: A column-vector y was passed when a 1d array was expected. Please change the shape of y to (n_samples, ), for example using ravel().\n",
      "  y = column_or_1d(y, warn=True)\n",
      "/home/leandro/anaconda2/lib/python2.7/site-packages/sklearn/neural_network/multilayer_perceptron.py:1266: DataConversionWarning: A column-vector y was passed when a 1d array was expected. Please change the shape of y to (n_samples, ), for example using ravel().\n",
      "  y = column_or_1d(y, warn=True)\n"
     ]
    },
    {
     "data": {
      "image/png": "[encoded data removed]",
      "text/plain": [
       "<matplotlib.figure.Figure at 0x7f156e004690>"
      ]
     },
     "metadata": {},
     "output_type": "display_data"
    }
   ],
   "source": [
    "models = [linear_model.BayesianRidge(),\n",
    "         #LogisticRegression(),\n",
    "         svm.LinearSVR(),\n",
    "         tree.DecisionTreeRegressor(),\n",
    "         #gaussian_process.GaussianProcessRegressor(),\n",
    "         neural_network.MLPRegressor()]\n",
    " \n",
    "TestModels = pd.DataFrame()\n",
    "tmp = {}\n",
    " \n",
    "for model in models:\n",
    "        m = str(model)\n",
    "        tmp['Model'] = m[:m.index('(')]\n",
    "        model.fit(datosNoPalermoFeatures, datosNoPalermoPrecio)\n",
    "        tmp['Precio'] = r2_score(datosPalermoPrecio, model.predict(datosPalermoFeatures))\n",
    "        TestModels = TestModels.append([tmp])\n",
    " \n",
    "TestModels.set_index('Model', inplace=True)\n",
    " \n",
    "fig, axes = plt.subplots(ncols=1, figsize=(10, 4))\n",
    "TestModels.Precio.plot(ax=axes, kind='bar', title='Precio')\n",
    "plt.show()"
   ]
  },
  {
   "cell_type": "code",
   "execution_count": 26,
   "metadata": {
    "collapsed": true
   },
   "outputs": [],
   "source": [
    "#Split del set de datos prueba 1\n",
    "datosFiltrados = datosSinNull.loc[:, ['lat', 'lon', 'surface_total_in_m2', 'surface_covered_in_m2',\\\n",
    "                                      'price_aprox_usd']]\n",
    "\n",
    "x_train, x_test, y_train, y_test = train_test_split(datosFiltrados, datosFiltrados['price_aprox_usd'], test_size=0.2)"
   ]
  },
  {
   "cell_type": "code",
   "execution_count": 27,
   "metadata": {
    "collapsed": true
   },
   "outputs": [],
   "source": [
    "x_test = x_test.loc[:, ['lat', 'lon', 'surface_total_in_m2', 'surface_covered_in_m2']]\n",
    "x_train = x_train.loc[:, ['lat', 'lon', 'surface_total_in_m2', 'surface_covered_in_m2']]"
   ]
  },
  {
   "cell_type": "code",
   "execution_count": 28,
   "metadata": {},
   "outputs": [
    {
     "name": "stderr",
     "output_type": "stream",
     "text": [
      "/home/leandro/anaconda2/lib/python2.7/site-packages/sklearn/neural_network/multilayer_perceptron.py:563: ConvergenceWarning: Stochastic Optimizer: Maximum iterations reached and the optimization hasn't converged yet.\n",
      "  % (), ConvergenceWarning)\n"
     ]
    },
    {
     "data": {
      "image/png": "[encoded data removed]",
      "text/plain": [
       "<matplotlib.figure.Figure at 0x7f156b46a8d0>"
      ]
     },
     "metadata": {},
     "output_type": "display_data"
    }
   ],
   "source": [
    "models = [KNeighborsRegressor(),\n",
    "         RandomForestRegressor(n_estimators=100, max_features='sqrt'),\n",
    "         LinearRegression(),\n",
    "         linear_model.Ridge (alpha = .5),\n",
    "         linear_model.Lasso (alpha = 0.1),\n",
    "         linear_model.LassoLars (alpha = 0.1),\n",
    "         linear_model.BayesianRidge(),\n",
    "         svm.LinearSVR(),\n",
    "         tree.DecisionTreeRegressor(),\n",
    "         neural_network.MLPRegressor()]\n",
    " \n",
    "TestModels = pd.DataFrame()\n",
    "tmp = {}\n",
    " \n",
    "for model in models:\n",
    "        m = str(model)\n",
    "        tmp['Model'] = m[:m.index('(')]\n",
    "        model.fit(x_train, y_train)\n",
    "        tmp['Precio'] = r2_score(y_test, model.predict(x_test))\n",
    "        TestModels = TestModels.append([tmp])\n",
    " \n",
    "TestModels.set_index('Model', inplace=True)\n",
    " \n",
    "fig, axes = plt.subplots(ncols=1, figsize=(10, 4))\n",
    "TestModels.Precio.plot(ax=axes, kind='bar', title='Precio')\n",
    "plt.show()"
   ]
  },
  {
   "cell_type": "code",
   "execution_count": 29,
   "metadata": {},
   "outputs": [
    {
     "data": {
      "image/png": "[encoded data removed]",
      "text/plain": [
       "<matplotlib.figure.Figure at 0x7f156b3151d0>"
      ]
     },
     "metadata": {},
     "output_type": "display_data"
    }
   ],
   "source": [
    "#Prueba 2\n",
    "datosFiltrados = datosSinNull.loc[:, ['lat', 'lon', 'surface_total_in_m2', 'surface_covered_in_m2',\\\n",
    "                                      'price_aprox_usd']]\n",
    "\n",
    "x_train, x_test, y_train, y_test = train_test_split(datosFiltrados, datosFiltrados['price_aprox_usd'], test_size=0.2)\n",
    "x_test = x_test.loc[:, ['lat', 'lon', 'surface_total_in_m2', 'surface_covered_in_m2']]\n",
    "x_train = x_train.loc[:, ['lat', 'lon', 'surface_total_in_m2', 'surface_covered_in_m2']]\n",
    "models = [KNeighborsRegressor(),\n",
    "         RandomForestRegressor(n_estimators=100, max_features='sqrt'),\n",
    "         LinearRegression(),\n",
    "         linear_model.Ridge (alpha = .5),\n",
    "         linear_model.Lasso (alpha = 0.1),\n",
    "         linear_model.LassoLars (alpha = 0.1),\n",
    "         linear_model.BayesianRidge(),\n",
    "         svm.LinearSVR(),\n",
    "         tree.DecisionTreeRegressor(),\n",
    "         neural_network.MLPRegressor()]\n",
    " \n",
    "TestModels = pd.DataFrame()\n",
    "tmp = {}\n",
    " \n",
    "for model in models:\n",
    "        m = str(model)\n",
    "        tmp['Model'] = m[:m.index('(')]\n",
    "        model.fit(x_train, y_train)\n",
    "        tmp['Precio'] = r2_score(y_test, model.predict(x_test))\n",
    "        TestModels = TestModels.append([tmp])\n",
    " \n",
    "TestModels.set_index('Model', inplace=True)\n",
    " \n",
    "fig, axes = plt.subplots(ncols=1, figsize=(10, 4))\n",
    "TestModels.Precio.plot(ax=axes, kind='bar', title='Precio')\n",
    "plt.show()"
   ]
  },
  {
   "cell_type": "code",
   "execution_count": 30,
   "metadata": {},
   "outputs": [
    {
     "data": {
      "image/png": "[encoded data removed]",
      "text/plain": [
       "<matplotlib.figure.Figure at 0x7f156b4939d0>"
      ]
     },
     "metadata": {},
     "output_type": "display_data"
    }
   ],
   "source": [
    "#Prueba 3\n",
    "datosFiltrados = datosSinNull.loc[:, ['lat', 'lon', 'surface_total_in_m2', 'surface_covered_in_m2',\\\n",
    "                                      'price_aprox_usd']]\n",
    "\n",
    "x_train, x_test, y_train, y_test = train_test_split(datosFiltrados, datosFiltrados['price_aprox_usd'], test_size=0.2)\n",
    "x_test = x_test.loc[:, ['lat', 'lon', 'surface_total_in_m2', 'surface_covered_in_m2']]\n",
    "x_train = x_train.loc[:, ['lat', 'lon', 'surface_total_in_m2', 'surface_covered_in_m2']]\n",
    "models = [KNeighborsRegressor(),\n",
    "         RandomForestRegressor(n_estimators=100, max_features='sqrt'),\n",
    "         LinearRegression(),\n",
    "         linear_model.Ridge (alpha = .5),\n",
    "         linear_model.Lasso (alpha = 0.1),\n",
    "         linear_model.LassoLars (alpha = 0.1),\n",
    "         linear_model.BayesianRidge(),\n",
    "         svm.LinearSVR(),\n",
    "         tree.DecisionTreeRegressor(),\n",
    "         neural_network.MLPRegressor()]\n",
    " \n",
    "TestModels = pd.DataFrame()\n",
    "tmp = {}\n",
    " \n",
    "for model in models:\n",
    "        m = str(model)\n",
    "        tmp['Model'] = m[:m.index('(')]\n",
    "        model.fit(x_train, y_train)\n",
    "        tmp['Precio'] = r2_score(y_test, model.predict(x_test))\n",
    "        TestModels = TestModels.append([tmp])\n",
    " \n",
    "TestModels.set_index('Model', inplace=True)\n",
    " \n",
    "fig, axes = plt.subplots(ncols=1, figsize=(10, 4))\n",
    "TestModels.Precio.plot(ax=axes, kind='bar', title='Precio')\n",
    "plt.show()"
   ]
  },
  {
   "cell_type": "code",
   "execution_count": 46,
   "metadata": {},
   "outputs": [
    {
     "data": {
      "text/plain": [
       "array([ 0.3193749 ,  0.90852784,  0.78727665,  0.74706295,  0.63907671])"
      ]
     },
     "execution_count": 46,
     "metadata": {},
     "output_type": "execute_result"
    }
   ],
   "source": [
    "datosFiltradosFeatures = datosFiltrados.loc[:, ['lat', 'lon', 'surface_total_in_m2', 'surface_covered_in_m2']]\n",
    "datosFiltradosPrecios = datosFiltrados.loc[:, ['price_aprox_usd']]\n",
    "RFRModel = RandomForestRegressor(n_estimators=100, max_features='sqrt')\n",
    "scores = cross_val_score(RFRModel, datosFiltradosFeatures, np.ravel(datosFiltradosPrecios), cv=5)\n",
    "scores"
   ]
  },
  {
   "cell_type": "code",
   "execution_count": 50,
   "metadata": {},
   "outputs": [
    {
     "data": {
      "text/plain": [
       "array([ 0.2584208 ,  0.91204237,  0.77484542,  0.66607409,  0.63041404])"
      ]
     },
     "execution_count": 50,
     "metadata": {},
     "output_type": "execute_result"
    }
   ],
   "source": [
    "RFRModel = RandomForestRegressor(n_estimators=100)\n",
    "scores = cross_val_score(RFRModel, datosFiltradosFeatures, np.ravel(datosFiltradosPrecios), cv=5)\n",
    "scores"
   ]
  },
  {
   "cell_type": "code",
   "execution_count": 48,
   "metadata": {},
   "outputs": [
    {
     "data": {
      "text/plain": [
       "array([ 0.25138166,  0.88470325,  0.59708272,  0.67097637,  0.60537916])"
      ]
     },
     "execution_count": 48,
     "metadata": {},
     "output_type": "execute_result"
    }
   ],
   "source": [
    "RFRModel = RandomForestRegressor()\n",
    "scores = cross_val_score(RFRModel, datosFiltradosFeatures, np.ravel(datosFiltradosPrecios), cv=5)\n",
    "scores"
   ]
  },
  {
   "cell_type": "code",
   "execution_count": 49,
   "metadata": {},
   "outputs": [
    {
     "data": {
      "text/plain": [
       "array([ 0.31663359,  0.90991187,  0.79368348,  0.74809686,  0.63274897])"
      ]
     },
     "execution_count": 49,
     "metadata": {},
     "output_type": "execute_result"
    }
   ],
   "source": [
    "RFRModel = RandomForestRegressor(n_estimators=50, max_features=2)\n",
    "scores = cross_val_score(RFRModel, datosFiltradosFeatures, np.ravel(datosFiltradosPrecios), cv=5)\n",
    "scores"
   ]
  },
  {
   "cell_type": "code",
   "execution_count": 54,
   "metadata": {
    "collapsed": true
   },
   "outputs": [],
   "source": [
    "#primera estimacion al set de prueba\n",
    "primeraPrueba = datosForTesting.loc[:, ['lat', 'lon', 'surface_total_in_m2', 'surface_covered_in_m2']]\n",
    "RFRModel = RandomForestRegressor(n_estimators=100, max_features='sqrt')"
   ]
  },
  {
   "cell_type": "code",
   "execution_count": 61,
   "metadata": {},
   "outputs": [
    {
     "data": {
      "text/plain": [
       "array([[ -34.61098776,  -58.36346358,    0.        ,   64.        ],\n",
       "       [ -34.612651  ,  -58.4432756 ,    0.        ,   64.        ],\n",
       "       [ -34.58936332,  -58.41287986,   53.        ,   48.        ],\n",
       "       ..., \n",
       "       [ -34.7585252 ,  -58.4097202 ,  219.        ,  135.        ],\n",
       "       [ -34.56322108,  -58.46105268,   62.        ,   48.        ],\n",
       "       [ -34.70919169,  -58.53028938,  367.        ,  130.        ]])"
      ]
     },
     "execution_count": 61,
     "metadata": {},
     "output_type": "execute_result"
    }
   ],
   "source": [
    "imp = Imputer(missing_values='NaN', strategy='median', axis=0)\n",
    "imp.fit_transform(primeraPrueba)"
   ]
  },
  {
   "cell_type": "code",
   "execution_count": 68,
   "metadata": {},
   "outputs": [
    {
     "data": {
      "text/plain": [
       "array([ 307686.31166667,  159466.64      ,  185250.8197    , ...,\n",
       "        167100.2048    ,  172813.33989524,  152105.        ])"
      ]
     },
     "execution_count": 68,
     "metadata": {},
     "output_type": "execute_result"
    }
   ],
   "source": [
    "x_train, x_test, y_train, y_test = train_test_split(datosFiltrados.loc[:, ['lat', 'lon', 'surface_total_in_m2', 'surface_covered_in_m2']], datosFiltrados['price_aprox_usd'], test_size=0.2)\n",
    "RFRModel.fit(x_train, y_train)\n",
    "prueba1 = RFRModel.predict(imp.fit_transform(primeraPrueba))\n",
    "prueba1"
   ]
  },
  {
   "cell_type": "code",
   "execution_count": 79,
   "metadata": {},
   "outputs": [
    {
     "data": {
      "text/html": [
       "<div>\n",
       "<style>\n",
       "    .dataframe thead tr:only-child th {\n",
       "        text-align: right;\n",
       "    }\n",
       "\n",
       "    .dataframe thead th {\n",
       "        text-align: left;\n",
       "    }\n",
       "\n",
       "    .dataframe tbody tr th {\n",
       "        vertical-align: top;\n",
       "    }\n",
       "</style>\n",
       "<table border=\"1\" class=\"dataframe\">\n",
       "  <thead>\n",
       "    <tr style=\"text-align: right;\">\n",
       "      <th></th>\n",
       "      <th>id</th>\n",
       "      <th>price_usd</th>\n",
       "    </tr>\n",
       "  </thead>\n",
       "  <tbody>\n",
       "    <tr>\n",
       "      <th>0</th>\n",
       "      <td>3632</td>\n",
       "      <td>307686.311667</td>\n",
       "    </tr>\n",
       "    <tr>\n",
       "      <th>1</th>\n",
       "      <td>3633</td>\n",
       "      <td>159466.640000</td>\n",
       "    </tr>\n",
       "    <tr>\n",
       "      <th>2</th>\n",
       "      <td>2263404</td>\n",
       "      <td>185250.819700</td>\n",
       "    </tr>\n",
       "    <tr>\n",
       "      <th>3</th>\n",
       "      <td>2263405</td>\n",
       "      <td>83847.000000</td>\n",
       "    </tr>\n",
       "    <tr>\n",
       "      <th>4</th>\n",
       "      <td>2263406</td>\n",
       "      <td>141019.780741</td>\n",
       "    </tr>\n",
       "    <tr>\n",
       "      <th>5</th>\n",
       "      <td>2263407</td>\n",
       "      <td>83847.000000</td>\n",
       "    </tr>\n",
       "    <tr>\n",
       "      <th>6</th>\n",
       "      <td>2263408</td>\n",
       "      <td>83847.000000</td>\n",
       "    </tr>\n",
       "    <tr>\n",
       "      <th>7</th>\n",
       "      <td>2263409</td>\n",
       "      <td>83847.000000</td>\n",
       "    </tr>\n",
       "    <tr>\n",
       "      <th>8</th>\n",
       "      <td>2263410</td>\n",
       "      <td>139479.400000</td>\n",
       "    </tr>\n",
       "    <tr>\n",
       "      <th>9</th>\n",
       "      <td>2263411</td>\n",
       "      <td>109333.665000</td>\n",
       "    </tr>\n",
       "    <tr>\n",
       "      <th>10</th>\n",
       "      <td>2263412</td>\n",
       "      <td>109333.665000</td>\n",
       "    </tr>\n",
       "    <tr>\n",
       "      <th>11</th>\n",
       "      <td>2263413</td>\n",
       "      <td>109333.665000</td>\n",
       "    </tr>\n",
       "    <tr>\n",
       "      <th>12</th>\n",
       "      <td>2263415</td>\n",
       "      <td>177013.720200</td>\n",
       "    </tr>\n",
       "    <tr>\n",
       "      <th>13</th>\n",
       "      <td>2263416</td>\n",
       "      <td>699519.845238</td>\n",
       "    </tr>\n",
       "    <tr>\n",
       "      <th>14</th>\n",
       "      <td>2263417</td>\n",
       "      <td>83847.000000</td>\n",
       "    </tr>\n",
       "    <tr>\n",
       "      <th>15</th>\n",
       "      <td>2263418</td>\n",
       "      <td>83847.000000</td>\n",
       "    </tr>\n",
       "    <tr>\n",
       "      <th>16</th>\n",
       "      <td>2263419</td>\n",
       "      <td>83847.000000</td>\n",
       "    </tr>\n",
       "    <tr>\n",
       "      <th>17</th>\n",
       "      <td>2263420</td>\n",
       "      <td>83847.000000</td>\n",
       "    </tr>\n",
       "    <tr>\n",
       "      <th>18</th>\n",
       "      <td>2263421</td>\n",
       "      <td>83847.000000</td>\n",
       "    </tr>\n",
       "    <tr>\n",
       "      <th>19</th>\n",
       "      <td>2263422</td>\n",
       "      <td>83847.000000</td>\n",
       "    </tr>\n",
       "    <tr>\n",
       "      <th>20</th>\n",
       "      <td>2263423</td>\n",
       "      <td>83847.000000</td>\n",
       "    </tr>\n",
       "    <tr>\n",
       "      <th>21</th>\n",
       "      <td>2263424</td>\n",
       "      <td>83847.000000</td>\n",
       "    </tr>\n",
       "    <tr>\n",
       "      <th>22</th>\n",
       "      <td>2263425</td>\n",
       "      <td>121044.724300</td>\n",
       "    </tr>\n",
       "    <tr>\n",
       "      <th>23</th>\n",
       "      <td>2263426</td>\n",
       "      <td>141019.780741</td>\n",
       "    </tr>\n",
       "    <tr>\n",
       "      <th>24</th>\n",
       "      <td>2263427</td>\n",
       "      <td>141019.780741</td>\n",
       "    </tr>\n",
       "    <tr>\n",
       "      <th>25</th>\n",
       "      <td>2263428</td>\n",
       "      <td>141019.780741</td>\n",
       "    </tr>\n",
       "    <tr>\n",
       "      <th>26</th>\n",
       "      <td>2263429</td>\n",
       "      <td>141019.780741</td>\n",
       "    </tr>\n",
       "    <tr>\n",
       "      <th>27</th>\n",
       "      <td>2263430</td>\n",
       "      <td>83847.000000</td>\n",
       "    </tr>\n",
       "    <tr>\n",
       "      <th>28</th>\n",
       "      <td>2263431</td>\n",
       "      <td>83847.000000</td>\n",
       "    </tr>\n",
       "    <tr>\n",
       "      <th>29</th>\n",
       "      <td>2263432</td>\n",
       "      <td>82014.607680</td>\n",
       "    </tr>\n",
       "    <tr>\n",
       "      <th>...</th>\n",
       "      <td>...</td>\n",
       "      <td>...</td>\n",
       "    </tr>\n",
       "    <tr>\n",
       "      <th>14136</th>\n",
       "      <td>2245037</td>\n",
       "      <td>105664.543333</td>\n",
       "    </tr>\n",
       "    <tr>\n",
       "      <th>14137</th>\n",
       "      <td>2245039</td>\n",
       "      <td>81265.738300</td>\n",
       "    </tr>\n",
       "    <tr>\n",
       "      <th>14138</th>\n",
       "      <td>2245041</td>\n",
       "      <td>151419.000000</td>\n",
       "    </tr>\n",
       "    <tr>\n",
       "      <th>14139</th>\n",
       "      <td>2245042</td>\n",
       "      <td>207230.967300</td>\n",
       "    </tr>\n",
       "    <tr>\n",
       "      <th>14140</th>\n",
       "      <td>2245071</td>\n",
       "      <td>132594.642857</td>\n",
       "    </tr>\n",
       "    <tr>\n",
       "      <th>14141</th>\n",
       "      <td>2245093</td>\n",
       "      <td>226531.210000</td>\n",
       "    </tr>\n",
       "    <tr>\n",
       "      <th>14142</th>\n",
       "      <td>2245123</td>\n",
       "      <td>136577.720400</td>\n",
       "    </tr>\n",
       "    <tr>\n",
       "      <th>14143</th>\n",
       "      <td>2245124</td>\n",
       "      <td>88596.460000</td>\n",
       "    </tr>\n",
       "    <tr>\n",
       "      <th>14144</th>\n",
       "      <td>2245167</td>\n",
       "      <td>258604.000000</td>\n",
       "    </tr>\n",
       "    <tr>\n",
       "      <th>14145</th>\n",
       "      <td>2245170</td>\n",
       "      <td>140120.360081</td>\n",
       "    </tr>\n",
       "    <tr>\n",
       "      <th>14146</th>\n",
       "      <td>2245172</td>\n",
       "      <td>112105.321040</td>\n",
       "    </tr>\n",
       "    <tr>\n",
       "      <th>14147</th>\n",
       "      <td>2245180</td>\n",
       "      <td>100522.150200</td>\n",
       "    </tr>\n",
       "    <tr>\n",
       "      <th>14148</th>\n",
       "      <td>2245185</td>\n",
       "      <td>184690.830000</td>\n",
       "    </tr>\n",
       "    <tr>\n",
       "      <th>14149</th>\n",
       "      <td>2245186</td>\n",
       "      <td>176120.000000</td>\n",
       "    </tr>\n",
       "    <tr>\n",
       "      <th>14150</th>\n",
       "      <td>2245187</td>\n",
       "      <td>102468.760567</td>\n",
       "    </tr>\n",
       "    <tr>\n",
       "      <th>14151</th>\n",
       "      <td>2245203</td>\n",
       "      <td>163650.000000</td>\n",
       "    </tr>\n",
       "    <tr>\n",
       "      <th>14152</th>\n",
       "      <td>2245221</td>\n",
       "      <td>155160.441667</td>\n",
       "    </tr>\n",
       "    <tr>\n",
       "      <th>14153</th>\n",
       "      <td>2245222</td>\n",
       "      <td>225452.601567</td>\n",
       "    </tr>\n",
       "    <tr>\n",
       "      <th>14154</th>\n",
       "      <td>2245228</td>\n",
       "      <td>656550.000000</td>\n",
       "    </tr>\n",
       "    <tr>\n",
       "      <th>14155</th>\n",
       "      <td>2245266</td>\n",
       "      <td>113841.780200</td>\n",
       "    </tr>\n",
       "    <tr>\n",
       "      <th>14156</th>\n",
       "      <td>2245331</td>\n",
       "      <td>152940.000000</td>\n",
       "    </tr>\n",
       "    <tr>\n",
       "      <th>14157</th>\n",
       "      <td>2245345</td>\n",
       "      <td>90005.276033</td>\n",
       "    </tr>\n",
       "    <tr>\n",
       "      <th>14158</th>\n",
       "      <td>2245921</td>\n",
       "      <td>102003.960000</td>\n",
       "    </tr>\n",
       "    <tr>\n",
       "      <th>14159</th>\n",
       "      <td>2245929</td>\n",
       "      <td>176645.929394</td>\n",
       "    </tr>\n",
       "    <tr>\n",
       "      <th>14160</th>\n",
       "      <td>2245930</td>\n",
       "      <td>176645.929394</td>\n",
       "    </tr>\n",
       "    <tr>\n",
       "      <th>14161</th>\n",
       "      <td>2245938</td>\n",
       "      <td>547900.000000</td>\n",
       "    </tr>\n",
       "    <tr>\n",
       "      <th>14162</th>\n",
       "      <td>2245978</td>\n",
       "      <td>56810.329436</td>\n",
       "    </tr>\n",
       "    <tr>\n",
       "      <th>14163</th>\n",
       "      <td>2246083</td>\n",
       "      <td>167100.204800</td>\n",
       "    </tr>\n",
       "    <tr>\n",
       "      <th>14164</th>\n",
       "      <td>2246089</td>\n",
       "      <td>172813.339895</td>\n",
       "    </tr>\n",
       "    <tr>\n",
       "      <th>14165</th>\n",
       "      <td>2246127</td>\n",
       "      <td>152105.000000</td>\n",
       "    </tr>\n",
       "  </tbody>\n",
       "</table>\n",
       "<p>14166 rows × 2 columns</p>\n",
       "</div>"
      ],
      "text/plain": [
       "            id      price_usd\n",
       "0         3632  307686.311667\n",
       "1         3633  159466.640000\n",
       "2      2263404  185250.819700\n",
       "3      2263405   83847.000000\n",
       "4      2263406  141019.780741\n",
       "5      2263407   83847.000000\n",
       "6      2263408   83847.000000\n",
       "7      2263409   83847.000000\n",
       "8      2263410  139479.400000\n",
       "9      2263411  109333.665000\n",
       "10     2263412  109333.665000\n",
       "11     2263413  109333.665000\n",
       "12     2263415  177013.720200\n",
       "13     2263416  699519.845238\n",
       "14     2263417   83847.000000\n",
       "15     2263418   83847.000000\n",
       "16     2263419   83847.000000\n",
       "17     2263420   83847.000000\n",
       "18     2263421   83847.000000\n",
       "19     2263422   83847.000000\n",
       "20     2263423   83847.000000\n",
       "21     2263424   83847.000000\n",
       "22     2263425  121044.724300\n",
       "23     2263426  141019.780741\n",
       "24     2263427  141019.780741\n",
       "25     2263428  141019.780741\n",
       "26     2263429  141019.780741\n",
       "27     2263430   83847.000000\n",
       "28     2263431   83847.000000\n",
       "29     2263432   82014.607680\n",
       "...        ...            ...\n",
       "14136  2245037  105664.543333\n",
       "14137  2245039   81265.738300\n",
       "14138  2245041  151419.000000\n",
       "14139  2245042  207230.967300\n",
       "14140  2245071  132594.642857\n",
       "14141  2245093  226531.210000\n",
       "14142  2245123  136577.720400\n",
       "14143  2245124   88596.460000\n",
       "14144  2245167  258604.000000\n",
       "14145  2245170  140120.360081\n",
       "14146  2245172  112105.321040\n",
       "14147  2245180  100522.150200\n",
       "14148  2245185  184690.830000\n",
       "14149  2245186  176120.000000\n",
       "14150  2245187  102468.760567\n",
       "14151  2245203  163650.000000\n",
       "14152  2245221  155160.441667\n",
       "14153  2245222  225452.601567\n",
       "14154  2245228  656550.000000\n",
       "14155  2245266  113841.780200\n",
       "14156  2245331  152940.000000\n",
       "14157  2245345   90005.276033\n",
       "14158  2245921  102003.960000\n",
       "14159  2245929  176645.929394\n",
       "14160  2245930  176645.929394\n",
       "14161  2245938  547900.000000\n",
       "14162  2245978   56810.329436\n",
       "14163  2246083  167100.204800\n",
       "14164  2246089  172813.339895\n",
       "14165  2246127  152105.000000\n",
       "\n",
       "[14166 rows x 2 columns]"
      ]
     },
     "execution_count": 79,
     "metadata": {},
     "output_type": "execute_result"
    }
   ],
   "source": [
    "archivo1 = pd.DataFrame()\n",
    "archivo1['id'] = datosForTesting.loc[:,['id']]\n",
    "archivo1['price_usd'] = prueba1\n",
    "archivo1"
   ]
  },
  {
   "cell_type": "code",
   "execution_count": 85,
   "metadata": {
    "collapsed": true
   },
   "outputs": [],
   "source": [
    "archivo1.to_csv('prueba1.csv', index=False)"
   ]
  },
  {
   "cell_type": "code",
   "execution_count": 86,
   "metadata": {},
   "outputs": [
    {
     "data": {
      "text/html": [
       "<div>\n",
       "<style>\n",
       "    .dataframe thead tr:only-child th {\n",
       "        text-align: right;\n",
       "    }\n",
       "\n",
       "    .dataframe thead th {\n",
       "        text-align: left;\n",
       "    }\n",
       "\n",
       "    .dataframe tbody tr th {\n",
       "        vertical-align: top;\n",
       "    }\n",
       "</style>\n",
       "<table border=\"1\" class=\"dataframe\">\n",
       "  <thead>\n",
       "    <tr style=\"text-align: right;\">\n",
       "      <th></th>\n",
       "      <th>id</th>\n",
       "      <th>price_usd</th>\n",
       "    </tr>\n",
       "  </thead>\n",
       "  <tbody>\n",
       "    <tr>\n",
       "      <th>0</th>\n",
       "      <td>3632</td>\n",
       "      <td>307686.311667</td>\n",
       "    </tr>\n",
       "    <tr>\n",
       "      <th>1</th>\n",
       "      <td>3633</td>\n",
       "      <td>159466.640000</td>\n",
       "    </tr>\n",
       "    <tr>\n",
       "      <th>2</th>\n",
       "      <td>2263404</td>\n",
       "      <td>185250.819700</td>\n",
       "    </tr>\n",
       "    <tr>\n",
       "      <th>3</th>\n",
       "      <td>2263405</td>\n",
       "      <td>83847.000000</td>\n",
       "    </tr>\n",
       "    <tr>\n",
       "      <th>4</th>\n",
       "      <td>2263406</td>\n",
       "      <td>141019.780741</td>\n",
       "    </tr>\n",
       "    <tr>\n",
       "      <th>5</th>\n",
       "      <td>2263407</td>\n",
       "      <td>83847.000000</td>\n",
       "    </tr>\n",
       "    <tr>\n",
       "      <th>6</th>\n",
       "      <td>2263408</td>\n",
       "      <td>83847.000000</td>\n",
       "    </tr>\n",
       "    <tr>\n",
       "      <th>7</th>\n",
       "      <td>2263409</td>\n",
       "      <td>83847.000000</td>\n",
       "    </tr>\n",
       "    <tr>\n",
       "      <th>8</th>\n",
       "      <td>2263410</td>\n",
       "      <td>139479.400000</td>\n",
       "    </tr>\n",
       "    <tr>\n",
       "      <th>9</th>\n",
       "      <td>2263411</td>\n",
       "      <td>109333.665000</td>\n",
       "    </tr>\n",
       "    <tr>\n",
       "      <th>10</th>\n",
       "      <td>2263412</td>\n",
       "      <td>109333.665000</td>\n",
       "    </tr>\n",
       "    <tr>\n",
       "      <th>11</th>\n",
       "      <td>2263413</td>\n",
       "      <td>109333.665000</td>\n",
       "    </tr>\n",
       "    <tr>\n",
       "      <th>12</th>\n",
       "      <td>2263415</td>\n",
       "      <td>177013.720200</td>\n",
       "    </tr>\n",
       "    <tr>\n",
       "      <th>13</th>\n",
       "      <td>2263416</td>\n",
       "      <td>699519.845238</td>\n",
       "    </tr>\n",
       "    <tr>\n",
       "      <th>14</th>\n",
       "      <td>2263417</td>\n",
       "      <td>83847.000000</td>\n",
       "    </tr>\n",
       "    <tr>\n",
       "      <th>15</th>\n",
       "      <td>2263418</td>\n",
       "      <td>83847.000000</td>\n",
       "    </tr>\n",
       "    <tr>\n",
       "      <th>16</th>\n",
       "      <td>2263419</td>\n",
       "      <td>83847.000000</td>\n",
       "    </tr>\n",
       "    <tr>\n",
       "      <th>17</th>\n",
       "      <td>2263420</td>\n",
       "      <td>83847.000000</td>\n",
       "    </tr>\n",
       "    <tr>\n",
       "      <th>18</th>\n",
       "      <td>2263421</td>\n",
       "      <td>83847.000000</td>\n",
       "    </tr>\n",
       "    <tr>\n",
       "      <th>19</th>\n",
       "      <td>2263422</td>\n",
       "      <td>83847.000000</td>\n",
       "    </tr>\n",
       "    <tr>\n",
       "      <th>20</th>\n",
       "      <td>2263423</td>\n",
       "      <td>83847.000000</td>\n",
       "    </tr>\n",
       "    <tr>\n",
       "      <th>21</th>\n",
       "      <td>2263424</td>\n",
       "      <td>83847.000000</td>\n",
       "    </tr>\n",
       "    <tr>\n",
       "      <th>22</th>\n",
       "      <td>2263425</td>\n",
       "      <td>121044.724300</td>\n",
       "    </tr>\n",
       "    <tr>\n",
       "      <th>23</th>\n",
       "      <td>2263426</td>\n",
       "      <td>141019.780741</td>\n",
       "    </tr>\n",
       "    <tr>\n",
       "      <th>24</th>\n",
       "      <td>2263427</td>\n",
       "      <td>141019.780741</td>\n",
       "    </tr>\n",
       "    <tr>\n",
       "      <th>25</th>\n",
       "      <td>2263428</td>\n",
       "      <td>141019.780741</td>\n",
       "    </tr>\n",
       "    <tr>\n",
       "      <th>26</th>\n",
       "      <td>2263429</td>\n",
       "      <td>141019.780741</td>\n",
       "    </tr>\n",
       "    <tr>\n",
       "      <th>27</th>\n",
       "      <td>2263430</td>\n",
       "      <td>83847.000000</td>\n",
       "    </tr>\n",
       "    <tr>\n",
       "      <th>28</th>\n",
       "      <td>2263431</td>\n",
       "      <td>83847.000000</td>\n",
       "    </tr>\n",
       "    <tr>\n",
       "      <th>29</th>\n",
       "      <td>2263432</td>\n",
       "      <td>82014.607680</td>\n",
       "    </tr>\n",
       "    <tr>\n",
       "      <th>...</th>\n",
       "      <td>...</td>\n",
       "      <td>...</td>\n",
       "    </tr>\n",
       "    <tr>\n",
       "      <th>14136</th>\n",
       "      <td>2245037</td>\n",
       "      <td>105664.543333</td>\n",
       "    </tr>\n",
       "    <tr>\n",
       "      <th>14137</th>\n",
       "      <td>2245039</td>\n",
       "      <td>81265.738300</td>\n",
       "    </tr>\n",
       "    <tr>\n",
       "      <th>14138</th>\n",
       "      <td>2245041</td>\n",
       "      <td>151419.000000</td>\n",
       "    </tr>\n",
       "    <tr>\n",
       "      <th>14139</th>\n",
       "      <td>2245042</td>\n",
       "      <td>207230.967300</td>\n",
       "    </tr>\n",
       "    <tr>\n",
       "      <th>14140</th>\n",
       "      <td>2245071</td>\n",
       "      <td>132594.642857</td>\n",
       "    </tr>\n",
       "    <tr>\n",
       "      <th>14141</th>\n",
       "      <td>2245093</td>\n",
       "      <td>226531.210000</td>\n",
       "    </tr>\n",
       "    <tr>\n",
       "      <th>14142</th>\n",
       "      <td>2245123</td>\n",
       "      <td>136577.720400</td>\n",
       "    </tr>\n",
       "    <tr>\n",
       "      <th>14143</th>\n",
       "      <td>2245124</td>\n",
       "      <td>88596.460000</td>\n",
       "    </tr>\n",
       "    <tr>\n",
       "      <th>14144</th>\n",
       "      <td>2245167</td>\n",
       "      <td>258604.000000</td>\n",
       "    </tr>\n",
       "    <tr>\n",
       "      <th>14145</th>\n",
       "      <td>2245170</td>\n",
       "      <td>140120.360081</td>\n",
       "    </tr>\n",
       "    <tr>\n",
       "      <th>14146</th>\n",
       "      <td>2245172</td>\n",
       "      <td>112105.321040</td>\n",
       "    </tr>\n",
       "    <tr>\n",
       "      <th>14147</th>\n",
       "      <td>2245180</td>\n",
       "      <td>100522.150200</td>\n",
       "    </tr>\n",
       "    <tr>\n",
       "      <th>14148</th>\n",
       "      <td>2245185</td>\n",
       "      <td>184690.830000</td>\n",
       "    </tr>\n",
       "    <tr>\n",
       "      <th>14149</th>\n",
       "      <td>2245186</td>\n",
       "      <td>176120.000000</td>\n",
       "    </tr>\n",
       "    <tr>\n",
       "      <th>14150</th>\n",
       "      <td>2245187</td>\n",
       "      <td>102468.760567</td>\n",
       "    </tr>\n",
       "    <tr>\n",
       "      <th>14151</th>\n",
       "      <td>2245203</td>\n",
       "      <td>163650.000000</td>\n",
       "    </tr>\n",
       "    <tr>\n",
       "      <th>14152</th>\n",
       "      <td>2245221</td>\n",
       "      <td>155160.441667</td>\n",
       "    </tr>\n",
       "    <tr>\n",
       "      <th>14153</th>\n",
       "      <td>2245222</td>\n",
       "      <td>225452.601567</td>\n",
       "    </tr>\n",
       "    <tr>\n",
       "      <th>14154</th>\n",
       "      <td>2245228</td>\n",
       "      <td>656550.000000</td>\n",
       "    </tr>\n",
       "    <tr>\n",
       "      <th>14155</th>\n",
       "      <td>2245266</td>\n",
       "      <td>113841.780200</td>\n",
       "    </tr>\n",
       "    <tr>\n",
       "      <th>14156</th>\n",
       "      <td>2245331</td>\n",
       "      <td>152940.000000</td>\n",
       "    </tr>\n",
       "    <tr>\n",
       "      <th>14157</th>\n",
       "      <td>2245345</td>\n",
       "      <td>90005.276033</td>\n",
       "    </tr>\n",
       "    <tr>\n",
       "      <th>14158</th>\n",
       "      <td>2245921</td>\n",
       "      <td>102003.960000</td>\n",
       "    </tr>\n",
       "    <tr>\n",
       "      <th>14159</th>\n",
       "      <td>2245929</td>\n",
       "      <td>176645.929394</td>\n",
       "    </tr>\n",
       "    <tr>\n",
       "      <th>14160</th>\n",
       "      <td>2245930</td>\n",
       "      <td>176645.929394</td>\n",
       "    </tr>\n",
       "    <tr>\n",
       "      <th>14161</th>\n",
       "      <td>2245938</td>\n",
       "      <td>547900.000000</td>\n",
       "    </tr>\n",
       "    <tr>\n",
       "      <th>14162</th>\n",
       "      <td>2245978</td>\n",
       "      <td>56810.329436</td>\n",
       "    </tr>\n",
       "    <tr>\n",
       "      <th>14163</th>\n",
       "      <td>2246083</td>\n",
       "      <td>167100.204800</td>\n",
       "    </tr>\n",
       "    <tr>\n",
       "      <th>14164</th>\n",
       "      <td>2246089</td>\n",
       "      <td>172813.339895</td>\n",
       "    </tr>\n",
       "    <tr>\n",
       "      <th>14165</th>\n",
       "      <td>2246127</td>\n",
       "      <td>152105.000000</td>\n",
       "    </tr>\n",
       "  </tbody>\n",
       "</table>\n",
       "<p>14166 rows × 2 columns</p>\n",
       "</div>"
      ],
      "text/plain": [
       "            id      price_usd\n",
       "0         3632  307686.311667\n",
       "1         3633  159466.640000\n",
       "2      2263404  185250.819700\n",
       "3      2263405   83847.000000\n",
       "4      2263406  141019.780741\n",
       "5      2263407   83847.000000\n",
       "6      2263408   83847.000000\n",
       "7      2263409   83847.000000\n",
       "8      2263410  139479.400000\n",
       "9      2263411  109333.665000\n",
       "10     2263412  109333.665000\n",
       "11     2263413  109333.665000\n",
       "12     2263415  177013.720200\n",
       "13     2263416  699519.845238\n",
       "14     2263417   83847.000000\n",
       "15     2263418   83847.000000\n",
       "16     2263419   83847.000000\n",
       "17     2263420   83847.000000\n",
       "18     2263421   83847.000000\n",
       "19     2263422   83847.000000\n",
       "20     2263423   83847.000000\n",
       "21     2263424   83847.000000\n",
       "22     2263425  121044.724300\n",
       "23     2263426  141019.780741\n",
       "24     2263427  141019.780741\n",
       "25     2263428  141019.780741\n",
       "26     2263429  141019.780741\n",
       "27     2263430   83847.000000\n",
       "28     2263431   83847.000000\n",
       "29     2263432   82014.607680\n",
       "...        ...            ...\n",
       "14136  2245037  105664.543333\n",
       "14137  2245039   81265.738300\n",
       "14138  2245041  151419.000000\n",
       "14139  2245042  207230.967300\n",
       "14140  2245071  132594.642857\n",
       "14141  2245093  226531.210000\n",
       "14142  2245123  136577.720400\n",
       "14143  2245124   88596.460000\n",
       "14144  2245167  258604.000000\n",
       "14145  2245170  140120.360081\n",
       "14146  2245172  112105.321040\n",
       "14147  2245180  100522.150200\n",
       "14148  2245185  184690.830000\n",
       "14149  2245186  176120.000000\n",
       "14150  2245187  102468.760567\n",
       "14151  2245203  163650.000000\n",
       "14152  2245221  155160.441667\n",
       "14153  2245222  225452.601567\n",
       "14154  2245228  656550.000000\n",
       "14155  2245266  113841.780200\n",
       "14156  2245331  152940.000000\n",
       "14157  2245345   90005.276033\n",
       "14158  2245921  102003.960000\n",
       "14159  2245929  176645.929394\n",
       "14160  2245930  176645.929394\n",
       "14161  2245938  547900.000000\n",
       "14162  2245978   56810.329436\n",
       "14163  2246083  167100.204800\n",
       "14164  2246089  172813.339895\n",
       "14165  2246127  152105.000000\n",
       "\n",
       "[14166 rows x 2 columns]"
      ]
     },
     "execution_count": 86,
     "metadata": {},
     "output_type": "execute_result"
    }
   ],
   "source": [
    "aVer = pd.read_csv('prueba1.csv')\n",
    "aVer"
   ]
  },
  {
   "cell_type": "code",
   "execution_count": 79,
   "metadata": {
    "collapsed": true
   },
   "outputs": [],
   "source": [
    "from sklearn import svm\n",
    "def get_outliners(datosFiltrado, outliers_fraction=0.25):\n",
    "    clf = svm.OneClassSVM(nu=0.95 * outliers_fraction + 0.05, kernel=\"rbf\", gamma=0.1)\n",
    "    clf.fit(datosFiltrado)\n",
    "    result = clf.predict(datosFiltrado)\n",
    "    return result"
   ]
  },
  {
   "cell_type": "code",
   "execution_count": null,
   "metadata": {
    "collapsed": true
   },
   "outputs": [],
   "source": [
    "training_dataset = datosFiltrado[get_outliners(datosFiltrado, 0.15)==1]"
   ]
  },
  {
   "cell_type": "code",
   "execution_count": 44,
   "metadata": {
    "collapsed": true
   },
   "outputs": [],
   "source": [
    "#Datos Capital Federal\n",
    "datosCapital = datos[datos['state_name'] == 'Capital Federal']\n",
    "datosCapital = datosCapital.loc[datosCapital['price_aprox_usd'].notnull(),:]\n",
    "datosCapital = datosCapital.loc[datosCapital['rooms'].notnull(),:]\n",
    "datosCapital = datosCapital.loc[datosCapital['floor'].notnull(),:]\n",
    "#datosCapitalForTraining = datosCapital[['place_name','price_aprox_usd','rooms','floor']]\n",
    "datosCapitalForTraining = datosCapital[['price_aprox_usd','rooms','floor']]"
   ]
  },
  {
   "cell_type": "code",
   "execution_count": 81,
   "metadata": {},
   "outputs": [
    {
     "data": {
      "text/plain": [
       "RandomForestRegressor(bootstrap=True, criterion='mse', max_depth=None,\n",
       "           max_features='sqrt', max_leaf_nodes=None,\n",
       "           min_impurity_decrease=0.0, min_impurity_split=None,\n",
       "           min_samples_leaf=1, min_samples_split=2,\n",
       "           min_weight_fraction_leaf=0.0, n_estimators=100, n_jobs=1,\n",
       "           oob_score=False, random_state=None, verbose=0, warm_start=False)"
      ]
     },
     "execution_count": 81,
     "metadata": {},
     "output_type": "execute_result"
    }
   ],
   "source": [
    "from sklearn.neighbors import KNeighborsRegressor\n",
    "from sklearn.linear_model import LinearRegression, LogisticRegression\n",
    "from sklearn.svm import SVR\n",
    "from sklearn.metrics import r2_score\n",
    "from sklearn.cross_validation import train_test_split\n",
    "from sklearn.ensemble import RandomForestRegressor\n",
    "\n",
    "\n",
    "x_train, x_test, y_train, y_test = train_test_split(datosCapitalForTraining, datosCapitalForTraining['price_aprox_usd'], test_size=0.2)\n",
    "\n",
    "model = RandomForestRegressor(n_estimators=100, max_features='sqrt')\n",
    "model.fit(x_train,y_train)\n"
   ]
  },
  {
   "cell_type": "code",
   "execution_count": 79,
   "metadata": {},
   "outputs": [
    {
     "data": {
      "text/html": [
       "<div>\n",
       "<style>\n",
       "    .dataframe thead tr:only-child th {\n",
       "        text-align: right;\n",
       "    }\n",
       "\n",
       "    .dataframe thead th {\n",
       "        text-align: left;\n",
       "    }\n",
       "\n",
       "    .dataframe tbody tr th {\n",
       "        vertical-align: top;\n",
       "    }\n",
       "</style>\n",
       "<table border=\"1\" class=\"dataframe\">\n",
       "  <thead>\n",
       "    <tr style=\"text-align: right;\">\n",
       "      <th></th>\n",
       "      <th>price_aprox_usd</th>\n",
       "      <th>rooms</th>\n",
       "      <th>floor</th>\n",
       "    </tr>\n",
       "  </thead>\n",
       "  <tbody>\n",
       "    <tr>\n",
       "      <th>1010</th>\n",
       "      <td>395000.0</td>\n",
       "      <td>5.0</td>\n",
       "      <td>5.0</td>\n",
       "    </tr>\n",
       "    <tr>\n",
       "      <th>1243</th>\n",
       "      <td>190000.0</td>\n",
       "      <td>2.0</td>\n",
       "      <td>3.0</td>\n",
       "    </tr>\n",
       "    <tr>\n",
       "      <th>4794</th>\n",
       "      <td>174700.0</td>\n",
       "      <td>2.0</td>\n",
       "      <td>3.0</td>\n",
       "    </tr>\n",
       "    <tr>\n",
       "      <th>7492</th>\n",
       "      <td>165000.0</td>\n",
       "      <td>3.0</td>\n",
       "      <td>12.0</td>\n",
       "    </tr>\n",
       "    <tr>\n",
       "      <th>8787</th>\n",
       "      <td>520000.0</td>\n",
       "      <td>4.0</td>\n",
       "      <td>5.0</td>\n",
       "    </tr>\n",
       "  </tbody>\n",
       "</table>\n",
       "</div>"
      ],
      "text/plain": [
       "      price_aprox_usd  rooms  floor\n",
       "1010         395000.0    5.0    5.0\n",
       "1243         190000.0    2.0    3.0\n",
       "4794         174700.0    2.0    3.0\n",
       "7492         165000.0    3.0   12.0\n",
       "8787         520000.0    4.0    5.0"
      ]
     },
     "execution_count": 79,
     "metadata": {},
     "output_type": "execute_result"
    }
   ],
   "source": [
    "unoCualquiera = datosCapital[datosCapital['place_name'] == 'Palermo'].head(5)\n",
    "unoCualquiera = unoCualquiera[['price_aprox_usd','rooms','floor']]\n",
    "unoCualquiera.head()"
   ]
  },
  {
   "cell_type": "code",
   "execution_count": 82,
   "metadata": {},
   "outputs": [
    {
     "name": "stdout",
     "output_type": "stream",
     "text": [
      "[ 398700.    189444.88  174620.    165039.96  520800.  ]\n"
     ]
    }
   ],
   "source": [
    "print(model.predict(unoCualquiera))"
   ]
  }
 ],
 "metadata": {
  "kernelspec": {
   "display_name": "Python 2",
   "language": "python",
   "name": "python2"
  },
  "language_info": {
   "codemirror_mode": {
    "name": "ipython",
    "version": 2
   },
   "file_extension": ".py",
   "mimetype": "text/x-python",
   "name": "python",
   "nbconvert_exporter": "python",
   "pygments_lexer": "ipython2",
   "version": "2.7.13"
  }
 },
 "nbformat": 4,
 "nbformat_minor": 2
}
