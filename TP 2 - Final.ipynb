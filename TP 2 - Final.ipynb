{
 "cells": [
  {
   "cell_type": "markdown",
   "metadata": {},
   "source": [
    "# TP 2 - Organización Datos"
   ]
  },
  {
   "cell_type": "code",
   "execution_count": 1,
   "metadata": {
    "collapsed": true
   },
   "outputs": [],
   "source": [
    "import pandas as pd\n",
    "import numpy as np\n",
    "import seaborn as sns\n",
    "import matplotlib.pyplot as plt\n",
    "\n",
    "%matplotlib inline\n",
    "\n",
    "#agosto13 = pd.read_csv('1308.csv')\n",
    "#septiembre13 = pd.read_csv('1309.csv')\n",
    "#octubre13 = pd.read_csv('1310.csv')\n",
    "#noviembre13 = pd.read_csv('1311.csv')\n",
    "#diciembre13 = pd.read_csv('1312.csv')\n",
    "#enero14 = pd.read_csv('1401.csv')\n",
    "#febrero14 = pd.read_csv('1402.csv')\n",
    "#marzo14 = pd.read_csv('1403.csv')\n",
    "#abril14 = pd.read_csv('1404.csv')\n",
    "#mayo14 = pd.read_csv('1405.csv')\n",
    "#junio14 = pd.read_csv('1406.csv')\n",
    "#enero15 = pd.read_csv('1501.csv')\n",
    "#agosto15 = pd.read_csv('1508.csv')\n",
    "#marzo16 = pd.read_csv('1603.csv')\n",
    "#abril16 = pd.read_csv('1604.csv')\n",
    "#mayo16 = pd.read_csv('1605.csv')\n",
    "#junio16 = pd.read_csv('1606.csv')\n",
    "#enero17 = pd.read_csv('1701.csv')\n",
    "#agosto17 = pd.read_csv('1708.csv')\n",
    "\n",
    "agosto13 = pd.read_csv('resources/properati-AR-2013-08-01-properties-sell.csv')\n",
    "septiembre13 = pd.read_csv('resources/properati-AR-2013-09-01-properties-sell.csv')\n",
    "octubre13 = pd.read_csv('resources/properati-AR-2013-10-01-properties-sell.csv')\n",
    "noviembre13 = pd.read_csv('resources/properati-AR-2013-11-01-properties-sell.csv')\n",
    "diciembre13 = pd.read_csv('resources/properati-AR-2013-12-01-properties-sell.csv')\n",
    "enero14 = pd.read_csv('resources/properati-AR-2014-01-01-properties-sell.csv')\n",
    "febrero14 = pd.read_csv('resources/properati-AR-2014-02-01-properties-sell.csv')\n",
    "marzo14 = pd.read_csv('resources/properati-AR-2014-03-01-properties-sell.csv')\n",
    "abril14 = pd.read_csv('resources/properati-AR-2014-04-01-properties-sell.csv')\n",
    "mayo14 = pd.read_csv('resources/properati-AR-2014-05-01-properties-sell.csv')\n",
    "junio14 = pd.read_csv('resources/properati-AR-2014-06-01-properties-sell.csv')\n",
    "enero15 = pd.read_csv('resources/properati-AR-2015-01-01-properties-sell-six_months.csv')\n",
    "agosto15 = pd.read_csv('resources/properati-AR-2015-08-01-properties-sell-six_months.csv')\n",
    "marzo16 = pd.read_csv('resources/properati-AR-2016-03-01-properties-sell-six_months.csv')\n",
    "abril16 = pd.read_csv('resources/properati-AR-2016-04-01-properties-sell.csv')\n",
    "mayo16 = pd.read_csv('resources/properati-AR-2016-05-01-properties-sell.csv')\n",
    "junio16 = pd.read_csv('resources/properati-AR-2016-06-01-properties-sell.csv')\n",
    "enero17 = pd.read_csv('resources/properati-AR-2017-07-01-properties-sell-six_months.csv')\n",
    "agosto17 = pd.read_csv('resources/properati-AR-2017-08-01-properties-sell.csv')\n",
    "\n",
    "\n",
    "datos = pd.concat([agosto13, septiembre13, octubre13, noviembre13, diciembre13, enero14, febrero14, \\\n",
    "                          marzo14, abril14, mayo14, junio14, enero15, agosto15, marzo16, abril16, mayo16, \\\n",
    "                          junio16, enero17, agosto17])\n",
    "\n",
    "#datosForTesting = pd.read_csv('properati_dataset_testing_noprice.csv')\n",
    "datosForTesting = pd.read_csv('resources/properati_dataset_testing_noprice.csv')"
   ]
  },
  {
   "cell_type": "markdown",
   "metadata": {},
   "source": [
    "Algunos primeros datos del set a testear. Vemos que los únicos campos con bajo porcentaje de datos son el piso y las expensas."
   ]
  },
  {
   "cell_type": "code",
   "execution_count": 2,
   "metadata": {},
   "outputs": [
    {
     "data": {
      "text/plain": [
       "Index(['id', 'created_on', 'property_type', 'operation', 'place_name',\n",
       "       'place_with_parent_names', 'country_name', 'state_name', 'lat-lon',\n",
       "       'lat', 'lon', 'surface_total_in_m2', 'surface_covered_in_m2', 'floor',\n",
       "       'rooms', 'expenses', 'description', 'price_aprox_usd'],\n",
       "      dtype='object')"
      ]
     },
     "execution_count": 2,
     "metadata": {},
     "output_type": "execute_result"
    }
   ],
   "source": [
    "datos = datos.loc[:, ['id', 'created_on',  'property_type', 'operation', 'place_name', \\\n",
    "                      'place_with_parent_names', 'country_name', 'state_name', 'lat-lon', 'lat', 'lon', \\\n",
    "                     'surface_total_in_m2', 'surface_covered_in_m2', 'floor', 'rooms', 'expenses', 'description',\\\n",
    "                     'price_aprox_usd']]\n",
    "datos.columns"
   ]
  },
  {
   "cell_type": "code",
   "execution_count": 6,
   "metadata": {},
   "outputs": [
    {
     "data": {
      "text/plain": [
       "1"
      ]
     },
     "execution_count": 6,
     "metadata": {},
     "output_type": "execute_result"
    }
   ],
   "source": [
    "datosForTesting.loc[datosForTesting.operation == 'alquiler','id'].count()"
   ]
  },
  {
   "cell_type": "code",
   "execution_count": 5,
   "metadata": {},
   "outputs": [
    {
     "name": "stdout",
     "output_type": "stream",
     "text": [
      "['venta' 'alquiler']\n"
     ]
    }
   ],
   "source": [
    "#print datosForTesting.operation.unique()\n",
    "print(datosForTesting.operation.unique())"
   ]
  },
  {
   "cell_type": "code",
   "execution_count": 7,
   "metadata": {},
   "outputs": [
    {
     "name": "stdout",
     "output_type": "stream",
     "text": [
      "['departamento' 'ph' 'casa']\n"
     ]
    }
   ],
   "source": [
    "#print datosForTesting.property_type.unique()\n",
    "print(datosForTesting.property_type.unique())"
   ]
  },
  {
   "cell_type": "code",
   "execution_count": 8,
   "metadata": {},
   "outputs": [
    {
     "data": {
      "text/plain": [
       "id                          465972\n",
       "created_on                 1185654\n",
       "property_type              1185654\n",
       "operation                  1185654\n",
       "place_name                 1185587\n",
       "place_with_parent_names    1185654\n",
       "country_name                465972\n",
       "state_name                  465972\n",
       "lat-lon                     985741\n",
       "lat                         985741\n",
       "lon                         985730\n",
       "surface_total_in_m2         310527\n",
       "surface_covered_in_m2       376151\n",
       "floor                       158864\n",
       "rooms                       830826\n",
       "expenses                     58524\n",
       "description                 465951\n",
       "price_aprox_usd             983714\n",
       "dtype: int64"
      ]
     },
     "execution_count": 8,
     "metadata": {},
     "output_type": "execute_result"
    }
   ],
   "source": [
    "#Vemos que el set de datos a testear no contiene stores, eliminamos del set de entrenamiento.\n",
    "datos = datos.loc[datos.property_type != 'store', :]\n",
    "datos.count()"
   ]
  },
  {
   "cell_type": "code",
   "execution_count": 9,
   "metadata": {
    "collapsed": true
   },
   "outputs": [],
   "source": [
    " def traducirTipoPropiedad(x):\n",
    "    tipo = ''\n",
    "    if (x == 'house'):\n",
    "        tipo = 'casa' \n",
    "    else:\n",
    "        if (x == 'apartment'): \n",
    "            tipo = 'departamento'\n",
    "        else: \n",
    "            if (x == 'PH'): \n",
    "                tipo = 'ph'\n",
    "    return tipo        "
   ]
  },
  {
   "cell_type": "code",
   "execution_count": 10,
   "metadata": {},
   "outputs": [
    {
     "data": {
      "text/plain": [
       "177850"
      ]
     },
     "execution_count": 10,
     "metadata": {},
     "output_type": "execute_result"
    }
   ],
   "source": [
    "datos['property_type'] = datos['property_type'].map(traducirTipoPropiedad)\n",
    "datos.loc[datos.property_type == 'casa','id'].count()"
   ]
  },
  {
   "cell_type": "code",
   "execution_count": 18,
   "metadata": {},
   "outputs": [
    {
     "data": {
      "text/plain": [
       "id                         321215\n",
       "created_on                 321215\n",
       "property_type              321215\n",
       "operation                  321215\n",
       "place_name                 321148\n",
       "place_with_parent_names    321215\n",
       "country_name               321215\n",
       "state_name                 321215\n",
       "lat-lon                    222166\n",
       "lat                        222166\n",
       "lon                        222166\n",
       "surface_total_in_m2        229312\n",
       "surface_covered_in_m2      278374\n",
       "floor                       40599\n",
       "rooms                      169791\n",
       "expenses                    36608\n",
       "description                321200\n",
       "price_aprox_usd            293228\n",
       "dtype: int64"
      ]
     },
     "execution_count": 18,
     "metadata": {},
     "output_type": "execute_result"
    }
   ],
   "source": [
    "datos = datos.loc[(datos['state_name'].str.contains('Capital Federal')| \\\n",
    "                   datos['state_name'].str.contains('Bs.As. G.B.A. Zona Sur')|\\\n",
    "                  datos['state_name'].str.contains('Bs.As. G.B.A. Zona Oeste')|\\\n",
    "                  datos['state_name'].str.contains('Bs.As. G.B.A. Zona Norte')),:]\n",
    "datos.count()"
   ]
  },
  {
   "cell_type": "code",
   "execution_count": 19,
   "metadata": {},
   "outputs": [
    {
     "data": {
      "text/plain": [
       "id                         281951\n",
       "created_on                 281951\n",
       "property_type              281951\n",
       "operation                  281951\n",
       "place_name                 281885\n",
       "place_with_parent_names    281951\n",
       "country_name               281951\n",
       "state_name                 281951\n",
       "lat-lon                    193706\n",
       "lat                        193706\n",
       "lon                        193706\n",
       "surface_total_in_m2        203700\n",
       "surface_covered_in_m2      251872\n",
       "floor                       38473\n",
       "rooms                      145729\n",
       "expenses                    34945\n",
       "description                281936\n",
       "price_aprox_usd            281951\n",
       "dtype: int64"
      ]
     },
     "execution_count": 19,
     "metadata": {},
     "output_type": "execute_result"
    }
   ],
   "source": [
    "datos = datos.loc[datos['price_aprox_usd'].notnull(),:]\n",
    "datos = datos.loc[datos['price_aprox_usd'] != 0,:]\n",
    "datos.count()"
   ]
  },
  {
   "cell_type": "markdown",
   "metadata": {},
   "source": [
    "# Primera prueba, palermo vs no-palermo"
   ]
  },
  {
   "cell_type": "markdown",
   "metadata": {},
   "source": [
    "### Probamos con un set de datos que ya conocemos el precio, para ver el funcionamiento de los algoritmos"
   ]
  },
  {
   "cell_type": "code",
   "execution_count": 20,
   "metadata": {
    "collapsed": true
   },
   "outputs": [],
   "source": [
    "#Se hace la comparacion por lat, lon, superficie y superficie cubierta, tengo que quitar los nulls de esos campos\n",
    "datosSinNull = datos.loc[datos['lat'].notnull(),:]\n",
    "datosSinNull = datosSinNull.loc[datosSinNull['lon'].notnull(),:]\n",
    "datosSinNull = datosSinNull.loc[datosSinNull['surface_total_in_m2'].notnull(),:]\n",
    "datosSinNull = datosSinNull.loc[datosSinNull['surface_covered_in_m2'].notnull(),:]\n",
    "\n",
    "#Luego de esos divido los que estan en palermo de los que no estan en palermo\n",
    "datosPalermo = datosSinNull.loc[datosSinNull.place_name == 'Palermo', :]\n",
    "datosNoPalermo = datosSinNull.loc[datosSinNull.place_name != 'Palermo', :]\n",
    "\n",
    "#Divido al set de palermo en otros features y precios\n",
    "datosPalermoFeatures = datosPalermo.loc[:, ['lat', 'lon', 'surface_total_in_m2', 'surface_covered_in_m2']]\n",
    "datosPalermoPrecio = datosPalermo.loc[:, ['price_aprox_usd']]\n",
    "\n",
    "#Divido al set que no es de palermo en otros features y precios\n",
    "datosNoPalermoFeatures = datosNoPalermo.loc[:, ['lat', 'lon', 'surface_total_in_m2', 'surface_covered_in_m2']]\n",
    "datosNoPalermoPrecio = datosNoPalermo.loc[:, ['price_aprox_usd']]"
   ]
  },
  {
   "cell_type": "code",
   "execution_count": 21,
   "metadata": {},
   "outputs": [],
   "source": [
    "#Importo todas las librerias correspondientes a ML\n",
    "#Para score\n",
    "from sklearn.metrics import r2_score\n",
    "\n",
    "#Para training y cross\n",
    "from sklearn.cross_validation import train_test_split\n",
    "from sklearn.model_selection import cross_val_score\n",
    "from sklearn.preprocessing import Imputer\n",
    "\n",
    "#Algoritmos\n",
    "from sklearn.neighbors import KNeighborsRegressor\n",
    "from sklearn.ensemble import RandomForestRegressor\n",
    "from sklearn.neighbors import RadiusNeighborsRegressor\n",
    "from sklearn.linear_model import LinearRegression, LogisticRegression\n",
    "from sklearn import linear_model\n",
    "from sklearn import svm\n",
    "from sklearn import tree\n",
    "from sklearn import gaussian_process\n",
    "from sklearn import neural_network\n",
    "\n",
    "#Pre-procesamiento\n",
    "from sklearn import preprocessing\n",
    "from sklearn.pipeline import make_pipeline"
   ]
  },
  {
   "cell_type": "code",
   "execution_count": 22,
   "metadata": {},
   "outputs": [
    {
     "name": "stderr",
     "output_type": "stream",
     "text": [
      "C:\\Users\\nicol\\Anaconda3\\lib\\site-packages\\ipykernel_launcher.py:15: DataConversionWarning: A column-vector y was passed when a 1d array was expected. Please change the shape of y to (n_samples,), for example using ravel().\n",
      "  from ipykernel import kernelapp as app\n"
     ]
    },
    {
     "data": {
      "image/png": "[encoded data removed]",
      "text/plain": [
       "<matplotlib.figure.Figure at 0x1d98080f3c8>"
      ]
     },
     "metadata": {},
     "output_type": "display_data"
    }
   ],
   "source": [
    "models = [KNeighborsRegressor(),\n",
    "         RandomForestRegressor(n_estimators=100, max_features='sqrt'),\n",
    "         #RadiusNeighborsRegressor(),\n",
    "         LinearRegression(),\n",
    "         linear_model.Ridge (alpha = .5),\n",
    "         linear_model.Lasso (alpha = 0.1),\n",
    "         linear_model.LassoLars (alpha = 0.1)]\n",
    " \n",
    "TestModels = pd.DataFrame()\n",
    "tmp = {}\n",
    " \n",
    "for model in models:\n",
    "        m = str(model)\n",
    "        tmp['Model'] = m[:m.index('(')]\n",
    "        model.fit(datosNoPalermoFeatures, datosNoPalermoPrecio)\n",
    "        tmp['Precio'] = r2_score(datosPalermoPrecio, model.predict(datosPalermoFeatures))\n",
    "        TestModels = TestModels.append([tmp])\n",
    " \n",
    "TestModels.set_index('Model', inplace=True)\n",
    " \n",
    "fig, axes = plt.subplots(ncols=1, figsize=(10, 4))\n",
    "TestModels.Precio.plot(ax=axes, kind='bar', title='Precio')\n",
    "plt.show()"
   ]
  },
  {
   "cell_type": "code",
   "execution_count": 23,
   "metadata": {},
   "outputs": [
    {
     "name": "stderr",
     "output_type": "stream",
     "text": [
      "C:\\Users\\nicol\\Anaconda3\\lib\\site-packages\\sklearn\\utils\\validation.py:578: DataConversionWarning: A column-vector y was passed when a 1d array was expected. Please change the shape of y to (n_samples, ), for example using ravel().\n",
      "  y = column_or_1d(y, warn=True)\n",
      "C:\\Users\\nicol\\Anaconda3\\lib\\site-packages\\sklearn\\utils\\validation.py:578: DataConversionWarning: A column-vector y was passed when a 1d array was expected. Please change the shape of y to (n_samples, ), for example using ravel().\n",
      "  y = column_or_1d(y, warn=True)\n",
      "C:\\Users\\nicol\\Anaconda3\\lib\\site-packages\\sklearn\\neural_network\\multilayer_perceptron.py:1306: DataConversionWarning: A column-vector y was passed when a 1d array was expected. Please change the shape of y to (n_samples, ), for example using ravel().\n",
      "  y = column_or_1d(y, warn=True)\n",
      "C:\\Users\\nicol\\Anaconda3\\lib\\site-packages\\sklearn\\neural_network\\multilayer_perceptron.py:564: ConvergenceWarning: Stochastic Optimizer: Maximum iterations (200) reached and the optimization hasn't converged yet.\n",
      "  % self.max_iter, ConvergenceWarning)\n"
     ]
    },
    {
     "data": {
      "image/png": "[encoded data removed]",
      "text/plain": [
       "<matplotlib.figure.Figure at 0x1d980805128>"
      ]
     },
     "metadata": {},
     "output_type": "display_data"
    }
   ],
   "source": [
    "models = [linear_model.BayesianRidge(),\n",
    "         #LogisticRegression(),\n",
    "         svm.LinearSVR(),\n",
    "         tree.DecisionTreeRegressor(),\n",
    "         #gaussian_process.GaussianProcessRegressor(),\n",
    "         neural_network.MLPRegressor()]\n",
    " \n",
    "TestModels = pd.DataFrame()\n",
    "tmp = {}\n",
    " \n",
    "for model in models:\n",
    "        m = str(model)\n",
    "        tmp['Model'] = m[:m.index('(')]\n",
    "        model.fit(datosNoPalermoFeatures, datosNoPalermoPrecio)\n",
    "        tmp['Precio'] = r2_score(datosPalermoPrecio, model.predict(datosPalermoFeatures))\n",
    "        TestModels = TestModels.append([tmp])\n",
    " \n",
    "TestModels.set_index('Model', inplace=True)\n",
    " \n",
    "fig, axes = plt.subplots(ncols=1, figsize=(10, 4))\n",
    "TestModels.Precio.plot(ax=axes, kind='bar', title='Precio')\n",
    "plt.show()"
   ]
  },
  {
   "cell_type": "markdown",
   "metadata": {},
   "source": [
    "En base a estas pruebas, vemos que los algoritmos que mejor performance tienen con el set de datos es RandomForest, KNN y DecisionTree"
   ]
  },
  {
   "cell_type": "markdown",
   "metadata": {},
   "source": [
    "# Primera prueba con split del set de datos"
   ]
  },
  {
   "cell_type": "code",
   "execution_count": 24,
   "metadata": {
    "collapsed": true
   },
   "outputs": [],
   "source": [
    "#Split del set de datos prueba 1\n",
    "datosFiltrados = datosSinNull.loc[:, ['lat', 'lon', 'surface_total_in_m2', 'surface_covered_in_m2',\\\n",
    "                                      'price_aprox_usd']]\n",
    "\n",
    "x_train, x_test, y_train, y_test = train_test_split(datosFiltrados, datosFiltrados['price_aprox_usd'], test_size=0.2)"
   ]
  },
  {
   "cell_type": "code",
   "execution_count": 25,
   "metadata": {
    "collapsed": true
   },
   "outputs": [],
   "source": [
    "x_test = x_test.loc[:, ['lat', 'lon', 'surface_total_in_m2', 'surface_covered_in_m2']]\n",
    "x_train = x_train.loc[:, ['lat', 'lon', 'surface_total_in_m2', 'surface_covered_in_m2']]"
   ]
  },
  {
   "cell_type": "code",
   "execution_count": 26,
   "metadata": {},
   "outputs": [
    {
     "name": "stderr",
     "output_type": "stream",
     "text": [
      "C:\\Users\\nicol\\Anaconda3\\lib\\site-packages\\sklearn\\neural_network\\multilayer_perceptron.py:564: ConvergenceWarning: Stochastic Optimizer: Maximum iterations (200) reached and the optimization hasn't converged yet.\n",
      "  % self.max_iter, ConvergenceWarning)\n"
     ]
    },
    {
     "data": {
      "image/png": "[encoded data removed]",
      "text/plain": [
       "<matplotlib.figure.Figure at 0x1d9809fe128>"
      ]
     },
     "metadata": {},
     "output_type": "display_data"
    }
   ],
   "source": [
    "models = [KNeighborsRegressor(),\n",
    "         RandomForestRegressor(n_estimators=100, max_features='sqrt'),\n",
    "         LinearRegression(),\n",
    "         linear_model.Ridge (alpha = .5),\n",
    "         linear_model.Lasso (alpha = 0.1),\n",
    "         linear_model.LassoLars (alpha = 0.1),\n",
    "         linear_model.BayesianRidge(),\n",
    "         svm.LinearSVR(),\n",
    "         tree.DecisionTreeRegressor(),\n",
    "         neural_network.MLPRegressor()]\n",
    " \n",
    "TestModels = pd.DataFrame()\n",
    "tmp = {}\n",
    " \n",
    "for model in models:\n",
    "        m = str(model)\n",
    "        tmp['Model'] = m[:m.index('(')]\n",
    "        model.fit(x_train, y_train)\n",
    "        tmp['Precio'] = r2_score(y_test, model.predict(x_test))\n",
    "        TestModels = TestModels.append([tmp])\n",
    " \n",
    "TestModels.set_index('Model', inplace=True)\n",
    " \n",
    "fig, axes = plt.subplots(ncols=1, figsize=(10, 4))\n",
    "TestModels.Precio.plot(ax=axes, kind='bar', title='Precio')\n",
    "plt.show()"
   ]
  },
  {
   "cell_type": "markdown",
   "metadata": {},
   "source": [
    "# Segunda prueba con split del set de datos"
   ]
  },
  {
   "cell_type": "code",
   "execution_count": 27,
   "metadata": {},
   "outputs": [
    {
     "name": "stderr",
     "output_type": "stream",
     "text": [
      "C:\\Users\\nicol\\Anaconda3\\lib\\site-packages\\sklearn\\neural_network\\multilayer_perceptron.py:564: ConvergenceWarning: Stochastic Optimizer: Maximum iterations (200) reached and the optimization hasn't converged yet.\n",
      "  % self.max_iter, ConvergenceWarning)\n"
     ]
    },
    {
     "data": {
      "image/png": "[encoded data removed]",
      "text/plain": [
       "<matplotlib.figure.Figure at 0x1d9814031d0>"
      ]
     },
     "metadata": {},
     "output_type": "display_data"
    }
   ],
   "source": [
    "#Prueba 2\n",
    "datosFiltrados = datosSinNull.loc[:, ['lat', 'lon', 'surface_total_in_m2', 'surface_covered_in_m2',\\\n",
    "                                      'price_aprox_usd']]\n",
    "\n",
    "x_train, x_test, y_train, y_test = train_test_split(datosFiltrados, datosFiltrados['price_aprox_usd'], test_size=0.2)\n",
    "x_test = x_test.loc[:, ['lat', 'lon', 'surface_total_in_m2', 'surface_covered_in_m2']]\n",
    "x_train = x_train.loc[:, ['lat', 'lon', 'surface_total_in_m2', 'surface_covered_in_m2']]\n",
    "models = [KNeighborsRegressor(),\n",
    "         RandomForestRegressor(n_estimators=100, max_features='sqrt'),\n",
    "         LinearRegression(),\n",
    "         linear_model.Ridge (alpha = .5),\n",
    "         linear_model.Lasso (alpha = 0.1),\n",
    "         linear_model.LassoLars (alpha = 0.1),\n",
    "         linear_model.BayesianRidge(),\n",
    "         svm.LinearSVR(),\n",
    "         tree.DecisionTreeRegressor(),\n",
    "         neural_network.MLPRegressor()]\n",
    " \n",
    "TestModels = pd.DataFrame()\n",
    "tmp = {}\n",
    " \n",
    "for model in models:\n",
    "        m = str(model)\n",
    "        tmp['Model'] = m[:m.index('(')]\n",
    "        model.fit(x_train, y_train)\n",
    "        tmp['Precio'] = r2_score(y_test, model.predict(x_test))\n",
    "        TestModels = TestModels.append([tmp])\n",
    " \n",
    "TestModels.set_index('Model', inplace=True)\n",
    " \n",
    "fig, axes = plt.subplots(ncols=1, figsize=(10, 4))\n",
    "TestModels.Precio.plot(ax=axes, kind='bar', title='Precio')\n",
    "plt.show()"
   ]
  },
  {
   "cell_type": "code",
   "execution_count": 28,
   "metadata": {},
   "outputs": [
    {
     "data": {
      "image/png": "[encoded data removed]",
      "text/plain": [
       "<matplotlib.figure.Figure at 0x1d9817c9128>"
      ]
     },
     "metadata": {},
     "output_type": "display_data"
    }
   ],
   "source": [
    "#Prueba 3\n",
    "datosFiltrados = datosSinNull.loc[:, ['lat', 'lon', 'surface_total_in_m2', 'surface_covered_in_m2',\\\n",
    "                                      'price_aprox_usd']]\n",
    "\n",
    "x_train, x_test, y_train, y_test = train_test_split(datosFiltrados, datosFiltrados['price_aprox_usd'], test_size=0.2)\n",
    "x_test = x_test.loc[:, ['lat', 'lon', 'surface_total_in_m2', 'surface_covered_in_m2']]\n",
    "x_train = x_train.loc[:, ['lat', 'lon', 'surface_total_in_m2', 'surface_covered_in_m2']]\n",
    "models = [KNeighborsRegressor(),\n",
    "         RandomForestRegressor(n_estimators=100, max_features='sqrt'),\n",
    "         LinearRegression(),\n",
    "         linear_model.Ridge (alpha = .5),\n",
    "         linear_model.Lasso (alpha = 0.1),\n",
    "         linear_model.LassoLars (alpha = 0.1),\n",
    "         linear_model.BayesianRidge(),\n",
    "         svm.LinearSVR(),\n",
    "         tree.DecisionTreeRegressor(),\n",
    "         neural_network.MLPRegressor()]\n",
    " \n",
    "TestModels = pd.DataFrame()\n",
    "tmp = {}\n",
    " \n",
    "for model in models:\n",
    "        m = str(model)\n",
    "        tmp['Model'] = m[:m.index('(')]\n",
    "        model.fit(x_train, y_train)\n",
    "        tmp['Precio'] = r2_score(y_test, model.predict(x_test))\n",
    "        TestModels = TestModels.append([tmp])\n",
    " \n",
    "TestModels.set_index('Model', inplace=True)\n",
    " \n",
    "fig, axes = plt.subplots(ncols=1, figsize=(10, 4))\n",
    "TestModels.Precio.plot(ax=axes, kind='bar', title='Precio')\n",
    "plt.show()"
   ]
  },
  {
   "cell_type": "markdown",
   "metadata": {},
   "source": [
    "# Prueba de algoritmos para cross validation"
   ]
  },
  {
   "cell_type": "code",
   "execution_count": 29,
   "metadata": {
    "collapsed": true
   },
   "outputs": [],
   "source": [
    "datosFiltradosFeatures = datosFiltrados.loc[:, ['lat', 'lon', 'surface_total_in_m2', 'surface_covered_in_m2']]\n",
    "datosFiltradosPrecios = datosFiltrados.loc[:, ['price_aprox_usd']]"
   ]
  },
  {
   "cell_type": "code",
   "execution_count": 30,
   "metadata": {},
   "outputs": [
    {
     "data": {
      "text/plain": [
       "array([ 0.38995168,  0.91506301,  0.87382352,  0.78066009,  0.82446721])"
      ]
     },
     "execution_count": 30,
     "metadata": {},
     "output_type": "execute_result"
    }
   ],
   "source": [
    "RFRModel = RandomForestRegressor(n_estimators=100, max_features='sqrt')\n",
    "scores = cross_val_score(RFRModel, datosFiltradosFeatures, np.ravel(datosFiltradosPrecios), cv=5)\n",
    "scores"
   ]
  },
  {
   "cell_type": "code",
   "execution_count": 31,
   "metadata": {},
   "outputs": [
    {
     "data": {
      "text/plain": [
       "array([ 0.32320645,  0.90481454,  0.86508143,  0.63397217,  0.80908594])"
      ]
     },
     "execution_count": 31,
     "metadata": {},
     "output_type": "execute_result"
    }
   ],
   "source": [
    "RFRModel = RandomForestRegressor(n_estimators=100)\n",
    "scores = cross_val_score(RFRModel, datosFiltradosFeatures, np.ravel(datosFiltradosPrecios), cv=5)\n",
    "scores"
   ]
  },
  {
   "cell_type": "code",
   "execution_count": 32,
   "metadata": {},
   "outputs": [
    {
     "data": {
      "text/plain": [
       "array([ 0.31709098,  0.9017197 ,  0.84483048,  0.63994731,  0.79570738])"
      ]
     },
     "execution_count": 32,
     "metadata": {},
     "output_type": "execute_result"
    }
   ],
   "source": [
    "RFRModel = RandomForestRegressor()\n",
    "scores = cross_val_score(RFRModel, datosFiltradosFeatures, np.ravel(datosFiltradosPrecios), cv=5)\n",
    "scores"
   ]
  },
  {
   "cell_type": "code",
   "execution_count": 33,
   "metadata": {},
   "outputs": [
    {
     "data": {
      "text/plain": [
       "array([ 0.38433842,  0.91093427,  0.88668106,  0.77111773,  0.81901253])"
      ]
     },
     "execution_count": 33,
     "metadata": {},
     "output_type": "execute_result"
    }
   ],
   "source": [
    "RFRModel = RandomForestRegressor(n_estimators=50, max_features=2)\n",
    "scores = cross_val_score(RFRModel, datosFiltradosFeatures, np.ravel(datosFiltradosPrecios), cv=5)\n",
    "scores"
   ]
  },
  {
   "cell_type": "code",
   "execution_count": 34,
   "metadata": {},
   "outputs": [
    {
     "data": {
      "text/plain": [
       "array([ 0.17272264,  0.65380605,  0.56761734,  0.45272176,  0.54172758])"
      ]
     },
     "execution_count": 34,
     "metadata": {},
     "output_type": "execute_result"
    }
   ],
   "source": [
    "KNModel = KNeighborsRegressor()\n",
    "scores = cross_val_score(KNModel, datosFiltradosFeatures, np.ravel(datosFiltradosPrecios), cv=5)\n",
    "scores"
   ]
  },
  {
   "cell_type": "code",
   "execution_count": 35,
   "metadata": {},
   "outputs": [
    {
     "data": {
      "text/plain": [
       "array([ 0.05950573, -0.13649142, -0.06616694,  0.0758989 ,  0.08334829])"
      ]
     },
     "execution_count": 35,
     "metadata": {},
     "output_type": "execute_result"
    }
   ],
   "source": [
    "LRModel =  LinearRegression()\n",
    "scores = cross_val_score(LRModel, datosFiltradosFeatures, np.ravel(datosFiltradosPrecios), cv=5)\n",
    "scores   "
   ]
  },
  {
   "cell_type": "code",
   "execution_count": 36,
   "metadata": {},
   "outputs": [
    {
     "data": {
      "text/plain": [
       "array([ 0.05950579, -0.1364914 , -0.06616693,  0.07589889,  0.08334828])"
      ]
     },
     "execution_count": 36,
     "metadata": {},
     "output_type": "execute_result"
    }
   ],
   "source": [
    "model = linear_model.Ridge (alpha = .5)\n",
    "scores = cross_val_score(model, datosFiltradosFeatures, np.ravel(datosFiltradosPrecios), cv=5)\n",
    "scores  "
   ]
  },
  {
   "cell_type": "code",
   "execution_count": 37,
   "metadata": {},
   "outputs": [
    {
     "data": {
      "text/plain": [
       "array([ 0.05950583, -0.13649139, -0.06616693,  0.07589889,  0.08334828])"
      ]
     },
     "execution_count": 37,
     "metadata": {},
     "output_type": "execute_result"
    }
   ],
   "source": [
    "model = linear_model.Lasso (alpha = 0.1)\n",
    "scores = cross_val_score(model, datosFiltradosFeatures, np.ravel(datosFiltradosPrecios), cv=5)\n",
    "scores  "
   ]
  },
  {
   "cell_type": "code",
   "execution_count": 38,
   "metadata": {},
   "outputs": [
    {
     "data": {
      "text/plain": [
       "array([ 0.05952237, -0.13631007, -0.06605521,  0.07586682,  0.08330931])"
      ]
     },
     "execution_count": 38,
     "metadata": {},
     "output_type": "execute_result"
    }
   ],
   "source": [
    "model = linear_model.LassoLars (alpha = 0.1)\n",
    "scores = cross_val_score(model, datosFiltradosFeatures, np.ravel(datosFiltradosPrecios), cv=5)\n",
    "scores    "
   ]
  },
  {
   "cell_type": "code",
   "execution_count": 39,
   "metadata": {},
   "outputs": [
    {
     "data": {
      "text/plain": [
       "array([ 0.0596594 , -0.13643175, -0.06615379,  0.07588334,  0.08333617])"
      ]
     },
     "execution_count": 39,
     "metadata": {},
     "output_type": "execute_result"
    }
   ],
   "source": [
    "model = model = linear_model.BayesianRidge()\n",
    "scores = cross_val_score(model, datosFiltradosFeatures, np.ravel(datosFiltradosPrecios), cv=5)\n",
    "scores"
   ]
  },
  {
   "cell_type": "code",
   "execution_count": 40,
   "metadata": {},
   "outputs": [
    {
     "data": {
      "text/plain": [
       "array([-0.08500805, -3.90033735, -2.70579994,  0.1727671 ,  0.26871268])"
      ]
     },
     "execution_count": 40,
     "metadata": {},
     "output_type": "execute_result"
    }
   ],
   "source": [
    "model = svm.LinearSVR()\n",
    "scores = cross_val_score(model, datosFiltradosFeatures, np.ravel(datosFiltradosPrecios), cv=5)\n",
    "scores   "
   ]
  },
  {
   "cell_type": "code",
   "execution_count": 41,
   "metadata": {},
   "outputs": [
    {
     "data": {
      "text/plain": [
       "array([ 0.05838336,  0.89140018,  0.81245531,  0.22200604,  0.78502745])"
      ]
     },
     "execution_count": 41,
     "metadata": {},
     "output_type": "execute_result"
    }
   ],
   "source": [
    "model = tree.DecisionTreeRegressor()\n",
    "scores = cross_val_score(model, datosFiltradosFeatures, np.ravel(datosFiltradosPrecios), cv=5)\n",
    "scores    "
   ]
  },
  {
   "cell_type": "code",
   "execution_count": 42,
   "metadata": {},
   "outputs": [
    {
     "name": "stderr",
     "output_type": "stream",
     "text": [
      "C:\\Users\\nicol\\Anaconda3\\lib\\site-packages\\sklearn\\neural_network\\multilayer_perceptron.py:564: ConvergenceWarning: Stochastic Optimizer: Maximum iterations (200) reached and the optimization hasn't converged yet.\n",
      "  % self.max_iter, ConvergenceWarning)\n",
      "C:\\Users\\nicol\\Anaconda3\\lib\\site-packages\\sklearn\\neural_network\\multilayer_perceptron.py:564: ConvergenceWarning: Stochastic Optimizer: Maximum iterations (200) reached and the optimization hasn't converged yet.\n",
      "  % self.max_iter, ConvergenceWarning)\n"
     ]
    },
    {
     "data": {
      "text/plain": [
       "array([ 0.17708718, -0.16705888, -0.09453538,  0.29138281,  0.09785791])"
      ]
     },
     "execution_count": 42,
     "metadata": {},
     "output_type": "execute_result"
    }
   ],
   "source": [
    "model = neural_network.MLPRegressor()\n",
    "scores = cross_val_score(model, datosFiltradosFeatures, np.ravel(datosFiltradosPrecios), cv=5)\n",
    "scores"
   ]
  },
  {
   "cell_type": "markdown",
   "metadata": {},
   "source": [
    "En base a estos scores obtenidos, concluimos que nuestro mejor algoritmo para pruebas es Random Forest."
   ]
  },
  {
   "cell_type": "markdown",
   "metadata": {},
   "source": [
    "# Primera estimación al set de prueba para Kaggle"
   ]
  },
  {
   "cell_type": "code",
   "execution_count": 47,
   "metadata": {
    "collapsed": true
   },
   "outputs": [],
   "source": [
    "#primera estimacion al set de prueba\n",
    "primeraPrueba = datosForTesting.loc[:, ['lat', 'lon', 'surface_total_in_m2', 'surface_covered_in_m2']]\n",
    "RFRModel = RandomForestRegressor(n_estimators=100, max_features='sqrt')"
   ]
  },
  {
   "cell_type": "code",
   "execution_count": 48,
   "metadata": {},
   "outputs": [
    {
     "data": {
      "text/plain": [
       "array([[ -34.61098776,  -58.36346358,    0.        ,   64.        ],\n",
       "       [ -34.612651  ,  -58.4432756 ,    0.        ,   64.        ],\n",
       "       [ -34.58936332,  -58.41287986,   53.        ,   48.        ],\n",
       "       ..., \n",
       "       [ -34.7585252 ,  -58.4097202 ,  219.        ,  135.        ],\n",
       "       [ -34.56322108,  -58.46105268,   62.        ,   48.        ],\n",
       "       [ -34.70919169,  -58.53028938,  367.        ,  130.        ]])"
      ]
     },
     "execution_count": 48,
     "metadata": {},
     "output_type": "execute_result"
    }
   ],
   "source": [
    "imp = Imputer(missing_values='NaN', strategy='median', axis=0)\n",
    "imp.fit_transform(primeraPrueba)"
   ]
  },
  {
   "cell_type": "code",
   "execution_count": 49,
   "metadata": {
    "collapsed": true
   },
   "outputs": [],
   "source": [
    "x_train, x_test, y_train, y_test = train_test_split(datosFiltrados.loc[:, ['lat', 'lon', 'surface_total_in_m2', 'surface_covered_in_m2']], datosFiltrados['price_aprox_usd'], test_size=0.2)\n",
    "RFRModel.fit(x_train, y_train)\n",
    "prueba1 = RFRModel.predict(imp.fit_transform(primeraPrueba))"
   ]
  },
  {
   "cell_type": "code",
   "execution_count": null,
   "metadata": {
    "collapsed": true
   },
   "outputs": [],
   "source": [
    "archivo1 = pd.DataFrame()\n",
    "archivo1['id'] = datosForTesting.loc[:,['id']]\n",
    "archivo1['price_usd'] = prueba1\n",
    "archivo1.to_csv('prueba1.csv', index=False)"
   ]
  },
  {
   "cell_type": "markdown",
   "metadata": {},
   "source": [
    "# Segunda estimación para el set de prueba"
   ]
  },
  {
   "cell_type": "markdown",
   "metadata": {},
   "source": [
    "En esta prueba, transformamos los valores de las propiedades a boooleanos, de forma de poder ser aplicados al entrenamiento"
   ]
  },
  {
   "cell_type": "code",
   "execution_count": 50,
   "metadata": {
    "collapsed": true
   },
   "outputs": [],
   "source": [
    "#One hot encoding para tipo de propiedad\n",
    "datosForTesting['EsCasa'] = datosForTesting['property_type'].str.contains('casa')\n",
    "datosForTesting['EsDpto'] = datosForTesting['property_type'].str.contains('departamento')\n",
    "datosForTesting['EsPH'] = datosForTesting['property_type'].str.contains('ph')\n",
    "datos['EsCasa'] = datos['property_type'].str.contains('casa')\n",
    "datos['EsDpto'] = datos['property_type'].str.contains('departamento')\n",
    "datos['EsPH'] = datos['property_type'].str.contains('ph')"
   ]
  },
  {
   "cell_type": "code",
   "execution_count": 51,
   "metadata": {
    "collapsed": true
   },
   "outputs": [],
   "source": [
    "#segunda estimacion al set de prueba\n",
    "#En vez de filtrar los registros que tienen features con null, los relleno con la media\n",
    "segundaPrueba = datosForTesting.loc[:, ['lat', 'lon', 'surface_total_in_m2', 'surface_covered_in_m2', 'EsCasa',\\\n",
    "                                       'EsDpto', 'EsPH']]\n",
    "datosPrueba2 = datos.loc[:, ['lat', 'lon', 'surface_total_in_m2', 'surface_covered_in_m2', 'EsCasa',\\\n",
    "                                       'EsDpto', 'EsPH']]\n",
    "RFRModel = RandomForestRegressor(n_estimators=100, max_features='sqrt')"
   ]
  },
  {
   "cell_type": "code",
   "execution_count": 52,
   "metadata": {
    "collapsed": true
   },
   "outputs": [],
   "source": [
    "imp = Imputer(missing_values='NaN', strategy='median', axis=0)\n",
    "segundaPrueba = imp.fit_transform(segundaPrueba)\n",
    "datosPrueba2 = imp.fit_transform(datosPrueba2)"
   ]
  },
  {
   "cell_type": "code",
   "execution_count": 53,
   "metadata": {
    "collapsed": true
   },
   "outputs": [],
   "source": [
    "x_train, x_test, y_train, y_test = train_test_split(datosPrueba2, datos['price_aprox_usd'], test_size=0.2)\n",
    "RFRModel.fit(x_train, y_train)\n",
    "prueba2 = RFRModel.predict(imp.fit_transform(segundaPrueba))\n",
    "#prueba2"
   ]
  },
  {
   "cell_type": "code",
   "execution_count": null,
   "metadata": {
    "collapsed": true
   },
   "outputs": [],
   "source": [
    "archivo2 = pd.DataFrame()\n",
    "archivo2['id'] = datosForTesting.loc[:,['id']]\n",
    "archivo2['price_usd'] = prueba2\n",
    "archivo2.to_csv('prueba2.csv', index=False)"
   ]
  },
  {
   "cell_type": "markdown",
   "metadata": {},
   "source": [
    "# Tercera estimación para el set de prueba"
   ]
  },
  {
   "cell_type": "code",
   "execution_count": 58,
   "metadata": {},
   "outputs": [],
   "source": [
    "#No hubo mejoras con respecto a la prueba 1, vuelvo a filtrar los nulos\n",
    "#tercera estimacion al set de prueba\n",
    "terceraPrueba = datosForTesting.loc[:, ['lat', 'lon', 'surface_total_in_m2', 'surface_covered_in_m2', 'EsCasa',\\\n",
    "                                       'EsDpto', 'EsPH']]\n",
    "datosPrueba3 = datosSinNull.loc[:, ['lat', 'lon', 'surface_total_in_m2', 'surface_covered_in_m2', 'EsCasa',\\\n",
    "                                       'EsDpto', 'EsPH']]\n",
    "RFRModel = RandomForestRegressor(n_estimators=100, max_features='sqrt')\n",
    "\n",
    "x_train, x_test, y_train, y_test = train_test_split(datosPrueba3, datosSinNull['price_aprox_usd'], test_size=0.2)\n",
    "RFRModel.fit(x_train, y_train)\n",
    "prueba3 = RFRModel.predict(imp.fit_transform(terceraPrueba))"
   ]
  },
  {
   "cell_type": "code",
   "execution_count": null,
   "metadata": {
    "collapsed": true
   },
   "outputs": [],
   "source": [
    "archivo3 = pd.DataFrame()\n",
    "archivo3['id'] = datosForTesting.loc[:,['id']]\n",
    "archivo3['price_usd'] = prueba3\n",
    "archivo3.to_csv('prueba3.csv', index=False)"
   ]
  },
  {
   "cell_type": "markdown",
   "metadata": {},
   "source": [
    "# Cuarta estimación para el set de prueba"
   ]
  },
  {
   "cell_type": "code",
   "execution_count": 65,
   "metadata": {},
   "outputs": [
    {
     "name": "stdout",
     "output_type": "stream",
     "text": [
      "<class 'pandas.core.frame.DataFrame'>\n",
      "Int64Index: 281951 entries, 2 to 187480\n",
      "Data columns (total 22 columns):\n",
      "id                         281951 non-null object\n",
      "created_on                 281951 non-null object\n",
      "property_type              281951 non-null object\n",
      "operation                  281951 non-null object\n",
      "place_name                 281885 non-null object\n",
      "place_with_parent_names    281951 non-null object\n",
      "country_name               281951 non-null object\n",
      "state_name                 281951 non-null object\n",
      "lat-lon                    193706 non-null object\n",
      "lat                        193706 non-null float64\n",
      "lon                        193706 non-null float64\n",
      "surface_total_in_m2        203700 non-null float64\n",
      "surface_covered_in_m2      251872 non-null float64\n",
      "floor                      38473 non-null float64\n",
      "rooms                      145729 non-null float64\n",
      "expenses                   34945 non-null object\n",
      "description                281936 non-null object\n",
      "price_aprox_usd            281951 non-null float64\n",
      "EsCasa                     281951 non-null bool\n",
      "EsDpto                     281951 non-null bool\n",
      "EsPH                       281951 non-null bool\n",
      "localidad                  281951 non-null object\n",
      "dtypes: bool(3), float64(7), object(12)\n",
      "memory usage: 53.8+ MB\n"
     ]
    }
   ],
   "source": [
    "#Al no haber mejoras significativas voy a tratar de limpiar un poco mejor el set de datos de entrenamiento\n",
    "def split_place_with_parent_names_localidad(x):\n",
    "    z=x.split(\"|\")\n",
    "    return z[3]\n",
    "\n",
    "datos['localidad'] = datos['place_with_parent_names'].map(split_place_with_parent_names_localidad)\n",
    "datos.info()"
   ]
  },
  {
   "cell_type": "code",
   "execution_count": 66,
   "metadata": {},
   "outputs": [
    {
     "data": {
      "text/html": [
       "<div>\n",
       "<style>\n",
       "    .dataframe thead tr:only-child th {\n",
       "        text-align: right;\n",
       "    }\n",
       "\n",
       "    .dataframe thead th {\n",
       "        text-align: left;\n",
       "    }\n",
       "\n",
       "    .dataframe tbody tr th {\n",
       "        vertical-align: top;\n",
       "    }\n",
       "</style>\n",
       "<table border=\"1\" class=\"dataframe\">\n",
       "  <thead>\n",
       "    <tr style=\"text-align: right;\">\n",
       "      <th></th>\n",
       "      <th>id</th>\n",
       "      <th>created_on</th>\n",
       "      <th>property_type</th>\n",
       "      <th>operation</th>\n",
       "      <th>place_name</th>\n",
       "      <th>place_with_parent_names</th>\n",
       "      <th>country_name</th>\n",
       "      <th>state_name</th>\n",
       "      <th>lat-lon</th>\n",
       "      <th>lat</th>\n",
       "      <th>...</th>\n",
       "      <th>surface_total_in_m2</th>\n",
       "      <th>surface_covered_in_m2</th>\n",
       "      <th>floor</th>\n",
       "      <th>rooms</th>\n",
       "      <th>expenses</th>\n",
       "      <th>description</th>\n",
       "      <th>EsCasa</th>\n",
       "      <th>EsDpto</th>\n",
       "      <th>EsPH</th>\n",
       "      <th>localidad</th>\n",
       "    </tr>\n",
       "  </thead>\n",
       "  <tbody>\n",
       "    <tr>\n",
       "      <th>0</th>\n",
       "      <td>3632</td>\n",
       "      <td>2017-08-24</td>\n",
       "      <td>departamento</td>\n",
       "      <td>venta</td>\n",
       "      <td>Puerto Madero</td>\n",
       "      <td>|Argentina|Capital Federal|Puerto Madero|</td>\n",
       "      <td>Argentina</td>\n",
       "      <td>Capital Federal</td>\n",
       "      <td>-34.6109877599,-58.3634635778</td>\n",
       "      <td>-34.610988</td>\n",
       "      <td>...</td>\n",
       "      <td>0.0</td>\n",
       "      <td>NaN</td>\n",
       "      <td>NaN</td>\n",
       "      <td>NaN</td>\n",
       "      <td>NaN</td>\n",
       "      <td>Edificio BA Houses situado frente al Dique 3 d...</td>\n",
       "      <td>False</td>\n",
       "      <td>True</td>\n",
       "      <td>False</td>\n",
       "      <td>Puerto Madero</td>\n",
       "    </tr>\n",
       "    <tr>\n",
       "      <th>1</th>\n",
       "      <td>3633</td>\n",
       "      <td>2017-08-25</td>\n",
       "      <td>departamento</td>\n",
       "      <td>venta</td>\n",
       "      <td>Buenos Aires Interior</td>\n",
       "      <td>|Argentina|Buenos Aires Interior|</td>\n",
       "      <td>Argentina</td>\n",
       "      <td>Buenos Aires Interior</td>\n",
       "      <td>NaN</td>\n",
       "      <td>NaN</td>\n",
       "      <td>...</td>\n",
       "      <td>0.0</td>\n",
       "      <td>NaN</td>\n",
       "      <td>NaN</td>\n",
       "      <td>NaN</td>\n",
       "      <td>NaN</td>\n",
       "      <td>El departamento cuenta con un living-comedor a...</td>\n",
       "      <td>False</td>\n",
       "      <td>True</td>\n",
       "      <td>False</td>\n",
       "      <td></td>\n",
       "    </tr>\n",
       "    <tr>\n",
       "      <th>2</th>\n",
       "      <td>2263404</td>\n",
       "      <td>2017-08-01</td>\n",
       "      <td>departamento</td>\n",
       "      <td>venta</td>\n",
       "      <td>Palermo Soho</td>\n",
       "      <td>|Argentina|Capital Federal|Palermo|Palermo Soho|</td>\n",
       "      <td>Argentina</td>\n",
       "      <td>Capital Federal</td>\n",
       "      <td>-34.5893633232,-58.4128798588</td>\n",
       "      <td>-34.589363</td>\n",
       "      <td>...</td>\n",
       "      <td>53.0</td>\n",
       "      <td>48.0</td>\n",
       "      <td>NaN</td>\n",
       "      <td>NaN</td>\n",
       "      <td>1500</td>\n",
       "      <td>IMPECABLE TORRE COY III – DEPA...</td>\n",
       "      <td>False</td>\n",
       "      <td>True</td>\n",
       "      <td>False</td>\n",
       "      <td>Palermo</td>\n",
       "    </tr>\n",
       "    <tr>\n",
       "      <th>3</th>\n",
       "      <td>2263405</td>\n",
       "      <td>2017-08-01</td>\n",
       "      <td>departamento</td>\n",
       "      <td>venta</td>\n",
       "      <td>Chacarita</td>\n",
       "      <td>|Argentina|Capital Federal|Chacarita|</td>\n",
       "      <td>Argentina</td>\n",
       "      <td>Capital Federal</td>\n",
       "      <td>NaN</td>\n",
       "      <td>NaN</td>\n",
       "      <td>...</td>\n",
       "      <td>39.0</td>\n",
       "      <td>39.0</td>\n",
       "      <td>NaN</td>\n",
       "      <td>NaN</td>\n",
       "      <td>NaN</td>\n",
       "      <td>AMBIENTE DIVISIBLE CON PISOS D...</td>\n",
       "      <td>False</td>\n",
       "      <td>True</td>\n",
       "      <td>False</td>\n",
       "      <td>Chacarita</td>\n",
       "    </tr>\n",
       "    <tr>\n",
       "      <th>4</th>\n",
       "      <td>2263406</td>\n",
       "      <td>2017-08-01</td>\n",
       "      <td>departamento</td>\n",
       "      <td>venta</td>\n",
       "      <td>Chacarita</td>\n",
       "      <td>|Argentina|Capital Federal|Chacarita|</td>\n",
       "      <td>Argentina</td>\n",
       "      <td>Capital Federal</td>\n",
       "      <td>NaN</td>\n",
       "      <td>NaN</td>\n",
       "      <td>...</td>\n",
       "      <td>51.0</td>\n",
       "      <td>51.0</td>\n",
       "      <td>NaN</td>\n",
       "      <td>NaN</td>\n",
       "      <td>NaN</td>\n",
       "      <td>LIVING COMEDOR CON PISOS DE PO...</td>\n",
       "      <td>False</td>\n",
       "      <td>True</td>\n",
       "      <td>False</td>\n",
       "      <td>Chacarita</td>\n",
       "    </tr>\n",
       "  </tbody>\n",
       "</table>\n",
       "<p>5 rows × 21 columns</p>\n",
       "</div>"
      ],
      "text/plain": [
       "        id  created_on property_type operation             place_name  \\\n",
       "0     3632  2017-08-24  departamento     venta          Puerto Madero   \n",
       "1     3633  2017-08-25  departamento     venta  Buenos Aires Interior   \n",
       "2  2263404  2017-08-01  departamento     venta           Palermo Soho   \n",
       "3  2263405  2017-08-01  departamento     venta              Chacarita   \n",
       "4  2263406  2017-08-01  departamento     venta              Chacarita   \n",
       "\n",
       "                            place_with_parent_names country_name  \\\n",
       "0         |Argentina|Capital Federal|Puerto Madero|    Argentina   \n",
       "1                 |Argentina|Buenos Aires Interior|    Argentina   \n",
       "2  |Argentina|Capital Federal|Palermo|Palermo Soho|    Argentina   \n",
       "3             |Argentina|Capital Federal|Chacarita|    Argentina   \n",
       "4             |Argentina|Capital Federal|Chacarita|    Argentina   \n",
       "\n",
       "              state_name                        lat-lon        lat  \\\n",
       "0        Capital Federal  -34.6109877599,-58.3634635778 -34.610988   \n",
       "1  Buenos Aires Interior                            NaN        NaN   \n",
       "2        Capital Federal  -34.5893633232,-58.4128798588 -34.589363   \n",
       "3        Capital Federal                            NaN        NaN   \n",
       "4        Capital Federal                            NaN        NaN   \n",
       "\n",
       "       ...        surface_total_in_m2  surface_covered_in_m2  floor  rooms  \\\n",
       "0      ...                        0.0                    NaN    NaN    NaN   \n",
       "1      ...                        0.0                    NaN    NaN    NaN   \n",
       "2      ...                       53.0                   48.0    NaN    NaN   \n",
       "3      ...                       39.0                   39.0    NaN    NaN   \n",
       "4      ...                       51.0                   51.0    NaN    NaN   \n",
       "\n",
       "   expenses                                        description EsCasa  EsDpto  \\\n",
       "0       NaN  Edificio BA Houses situado frente al Dique 3 d...  False    True   \n",
       "1       NaN  El departamento cuenta con un living-comedor a...  False    True   \n",
       "2      1500                  IMPECABLE TORRE COY III – DEPA...  False    True   \n",
       "3       NaN                  AMBIENTE DIVISIBLE CON PISOS D...  False    True   \n",
       "4       NaN                  LIVING COMEDOR CON PISOS DE PO...  False    True   \n",
       "\n",
       "    EsPH      localidad  \n",
       "0  False  Puerto Madero  \n",
       "1  False                 \n",
       "2  False        Palermo  \n",
       "3  False      Chacarita  \n",
       "4  False      Chacarita  \n",
       "\n",
       "[5 rows x 21 columns]"
      ]
     },
     "execution_count": 66,
     "metadata": {},
     "output_type": "execute_result"
    }
   ],
   "source": [
    "datosForTesting['localidad'] = datosForTesting['place_with_parent_names'].map(split_place_with_parent_names_localidad)\n",
    "datosForTesting.head(5)"
   ]
  },
  {
   "cell_type": "code",
   "execution_count": 62,
   "metadata": {},
   "outputs": [
    {
     "data": {
      "text/plain": [
       "81"
      ]
     },
     "execution_count": 62,
     "metadata": {},
     "output_type": "execute_result"
    }
   ],
   "source": [
    "localidades = datosForTesting.localidad.unique()\n",
    "localidades.size"
   ]
  },
  {
   "cell_type": "code",
   "execution_count": 67,
   "metadata": {
    "collapsed": true
   },
   "outputs": [],
   "source": [
    "def localidadEnSet(x):\n",
    "    return x in localidades.tolist()"
   ]
  },
  {
   "cell_type": "code",
   "execution_count": 69,
   "metadata": {},
   "outputs": [
    {
     "data": {
      "text/plain": [
       "array([ 0.34223893,  0.96270967,  0.88510502,  0.8569523 ,  0.82646218])"
      ]
     },
     "execution_count": 69,
     "metadata": {},
     "output_type": "execute_result"
    }
   ],
   "source": [
    "datosSinNull = datos.loc[datos['lat'].notnull(),:]\n",
    "datosSinNull = datosSinNull.loc[datosSinNull['lon'].notnull(),:]\n",
    "datosSinNull = datosSinNull.loc[datosSinNull['surface_total_in_m2'].notnull(),:]\n",
    "datosSinNull = datosSinNull.loc[datosSinNull['surface_covered_in_m2'].notnull(),:]\n",
    "\n",
    "datosSinNull['localidadEnSet'] = datosSinNull['localidad'].map(localidadEnSet)\n",
    "datosPrueba4 = datosSinNull.loc[datosSinNull['localidadEnSet'] == True, :]\n",
    "\n",
    "#Resultados anteriores:\n",
    "#array([ 0.3193749 ,  0.90852784,  0.78727665,  0.74706295,  0.63907671])\n",
    "RFRModel = make_pipeline(preprocessing.StandardScaler(), RandomForestRegressor(n_estimators=100, max_features='sqrt'))\n",
    "scores = cross_val_score(RFRModel, datosPrueba4.loc[:,['lat', 'lon', 'surface_total_in_m2', \\\n",
    "                            'surface_covered_in_m2', 'EsCasa', 'EsDpto', 'EsPH']], np.ravel(datosPrueba4['price_aprox_usd']), cv=5)\n",
    "scores"
   ]
  },
  {
   "cell_type": "code",
   "execution_count": 70,
   "metadata": {},
   "outputs": [
    {
     "data": {
      "text/plain": [
       "array([ 0.05935582,  0.68177901,  0.98142643,  0.98333018,  0.87488619,\n",
       "        0.80608649,  0.832581  ,  0.8408704 ,  0.92283192,  0.35545586])"
      ]
     },
     "execution_count": 70,
     "metadata": {},
     "output_type": "execute_result"
    }
   ],
   "source": [
    "RFRModel = make_pipeline(preprocessing.StandardScaler(), RandomForestRegressor(n_estimators=150))\n",
    "scores = cross_val_score(RFRModel, datosPrueba4.loc[:,['lat', 'lon', 'surface_total_in_m2', \\\n",
    "                            'surface_covered_in_m2', 'EsCasa', 'EsDpto', 'EsPH']], np.ravel(datosPrueba4['price_aprox_usd']), cv=10)\n",
    "scores"
   ]
  },
  {
   "cell_type": "code",
   "execution_count": 71,
   "metadata": {},
   "outputs": [
    {
     "data": {
      "text/plain": [
       "count    102783.000000\n",
       "mean        141.648473\n",
       "std         668.710715\n",
       "min           0.000000\n",
       "25%          44.000000\n",
       "50%          72.000000\n",
       "75%         150.000000\n",
       "max      100000.000000\n",
       "Name: surface_total_in_m2, dtype: float64"
      ]
     },
     "execution_count": 71,
     "metadata": {},
     "output_type": "execute_result"
    }
   ],
   "source": [
    "datosPrueba4 = datosPrueba4.loc[datosPrueba4['surface_total_in_m2'] < 150000, :]\n",
    "datosPrueba4['surface_total_in_m2'].describe()"
   ]
  },
  {
   "cell_type": "code",
   "execution_count": 72,
   "metadata": {},
   "outputs": [
    {
     "data": {
      "text/plain": [
       "array([ 0.33883064,  0.96059814,  0.8757603 ,  0.86255338,  0.82842141])"
      ]
     },
     "execution_count": 72,
     "metadata": {},
     "output_type": "execute_result"
    }
   ],
   "source": [
    "RFRModel = make_pipeline(preprocessing.StandardScaler(), RandomForestRegressor(n_estimators=100, max_features='sqrt'))\n",
    "scores = cross_val_score(RFRModel, datosPrueba4.loc[:,['lat', 'lon', 'surface_total_in_m2', \\\n",
    "                            'surface_covered_in_m2', 'EsCasa', 'EsDpto', 'EsPH']], np.ravel(datosPrueba4['price_aprox_usd']), cv=5)\n",
    "scores"
   ]
  },
  {
   "cell_type": "code",
   "execution_count": 73,
   "metadata": {},
   "outputs": [
    {
     "data": {
      "text/plain": [
       "array([ 0.34167804,  0.96349449,  0.88338754,  0.85698915,  0.82907537])"
      ]
     },
     "execution_count": 73,
     "metadata": {},
     "output_type": "execute_result"
    }
   ],
   "source": [
    "RFRModel = make_pipeline(preprocessing.StandardScaler(), RandomForestRegressor(n_estimators=150, max_features='sqrt'))\n",
    "scores = cross_val_score(RFRModel, datosPrueba4.loc[:,['lat', 'lon', 'surface_total_in_m2', \\\n",
    "                            'surface_covered_in_m2', 'EsCasa', 'EsDpto', 'EsPH']], np.ravel(datosPrueba4['price_aprox_usd']), cv=5)\n",
    "scores"
   ]
  },
  {
   "cell_type": "code",
   "execution_count": 74,
   "metadata": {},
   "outputs": [
    {
     "data": {
      "text/plain": [
       "array([ 364775.83371746,  143547.7221619 ,  190005.27177778, ...,\n",
       "        174785.06826667,  157173.56711111,  152055.97876825])"
      ]
     },
     "execution_count": 74,
     "metadata": {},
     "output_type": "execute_result"
    }
   ],
   "source": [
    "imp = Imputer(missing_values='NaN', strategy='median', axis=0)\n",
    "cuartaPrueba = datosForTesting.loc[:, ['lat', 'lon', 'surface_total_in_m2', 'surface_covered_in_m2', 'EsCasa',\\\n",
    "                                       'EsDpto', 'EsPH']]\n",
    "x_train, x_test, y_train, y_test = train_test_split(datosPrueba4.loc[:,['lat', 'lon', 'surface_total_in_m2', \\\n",
    "                            'surface_covered_in_m2', 'EsCasa', 'EsDpto', 'EsPH']], datosPrueba4['price_aprox_usd'], test_size=0.2)\n",
    "RFRModel.fit(x_train, y_train)\n",
    "prueba4 = RFRModel.predict(imp.fit_transform(cuartaPrueba))\n",
    "prueba4"
   ]
  },
  {
   "cell_type": "code",
   "execution_count": null,
   "metadata": {
    "collapsed": true
   },
   "outputs": [],
   "source": [
    "archivo4 = pd.DataFrame()\n",
    "archivo4['id'] = datosForTesting.loc[:,['id']]\n",
    "archivo4['price_usd'] = prueba4\n",
    "archivo4\n",
    "archivo4.to_csv('prueba4.csv', index=False)"
   ]
  },
  {
   "cell_type": "markdown",
   "metadata": {},
   "source": [
    "# Quinta estimación para el set de prueba"
   ]
  },
  {
   "cell_type": "code",
   "execution_count": 75,
   "metadata": {},
   "outputs": [
    {
     "data": {
      "text/html": [
       "<div>\n",
       "<style>\n",
       "    .dataframe thead tr:only-child th {\n",
       "        text-align: right;\n",
       "    }\n",
       "\n",
       "    .dataframe thead th {\n",
       "        text-align: left;\n",
       "    }\n",
       "\n",
       "    .dataframe tbody tr th {\n",
       "        vertical-align: top;\n",
       "    }\n",
       "</style>\n",
       "<table border=\"1\" class=\"dataframe\">\n",
       "  <thead>\n",
       "    <tr style=\"text-align: right;\">\n",
       "      <th></th>\n",
       "      <th>place_name</th>\n",
       "      <th>place_name_id</th>\n",
       "    </tr>\n",
       "  </thead>\n",
       "  <tbody>\n",
       "    <tr>\n",
       "      <th>0</th>\n",
       "      <td>Jose Marmol</td>\n",
       "      <td>0</td>\n",
       "    </tr>\n",
       "    <tr>\n",
       "      <th>1</th>\n",
       "      <td>Belgrano</td>\n",
       "      <td>1</td>\n",
       "    </tr>\n",
       "    <tr>\n",
       "      <th>2</th>\n",
       "      <td>Palermo Soho</td>\n",
       "      <td>2</td>\n",
       "    </tr>\n",
       "    <tr>\n",
       "      <th>3</th>\n",
       "      <td>Burzaco</td>\n",
       "      <td>3</td>\n",
       "    </tr>\n",
       "    <tr>\n",
       "      <th>4</th>\n",
       "      <td>Villa Devoto</td>\n",
       "      <td>4</td>\n",
       "    </tr>\n",
       "  </tbody>\n",
       "</table>\n",
       "</div>"
      ],
      "text/plain": [
       "     place_name  place_name_id\n",
       "0   Jose Marmol              0\n",
       "1      Belgrano              1\n",
       "2  Palermo Soho              2\n",
       "3       Burzaco              3\n",
       "4  Villa Devoto              4"
      ]
     },
     "execution_count": 75,
     "metadata": {},
     "output_type": "execute_result"
    }
   ],
   "source": [
    "#Creamos un place_name_id para agregar a la query\n",
    "barrios = pd.concat([pd.DataFrame([[barrio,0]], columns=['place_name','place_name_id']) for barrio in datosSinNull['place_name'].unique()]).reset_index()\n",
    "barrios['place_name_id'] = barrios.index\n",
    "barrios = barrios.loc[:,['place_name','place_name_id']]\n",
    "barrios.head()"
   ]
  },
  {
   "cell_type": "code",
   "execution_count": 76,
   "metadata": {
    "collapsed": true
   },
   "outputs": [],
   "source": [
    "def aBinario(x):\n",
    "    return 1 if x == True else 0"
   ]
  },
  {
   "cell_type": "code",
   "execution_count": 77,
   "metadata": {},
   "outputs": [
    {
     "data": {
      "text/plain": [
       "array([ 0.41129491,  0.91260066,  0.88546915,  0.83033942,  0.83050222])"
      ]
     },
     "execution_count": 77,
     "metadata": {},
     "output_type": "execute_result"
    }
   ],
   "source": [
    "datosWithPlaces = pd.merge(datosSinNull,barrios,how='left',on='place_name')\n",
    "datosFiltradosWithPlaces = datosWithPlaces.loc[:, ['lat', \\\n",
    "                           'lon','surface_covered_in_m2','surface_total_in_m2',\\\n",
    "                           'price_aprox_usd', 'place_name_id', 'EsCasa', 'EsDpto', 'EsPH']]\n",
    "\n",
    "datosFiltradosWithPlacesFeatures = datosFiltradosWithPlaces.loc[:, ['lat', 'lon','surface_covered_in_m2','surface_total_in_m2',\\\n",
    "                                              'place_name_id', 'EsCasa', 'EsDpto', 'EsPH']]\n",
    "datosFiltradosWithPlacesPrecios = datosFiltradosWithPlaces.loc[:, ['price_aprox_usd']]\n",
    "RFRModel = RandomForestRegressor(n_estimators=100, max_features='sqrt')\n",
    "\n",
    "scores = cross_val_score(RFRModel, datosFiltradosWithPlacesFeatures, np.ravel(datosFiltradosWithPlacesPrecios), cv=5)\n",
    "\n",
    "scores"
   ]
  },
  {
   "cell_type": "code",
   "execution_count": 79,
   "metadata": {
    "collapsed": true
   },
   "outputs": [],
   "source": [
    "imp = Imputer(missing_values='NaN', strategy='median', axis=0)\n",
    "quintaPrueba = datosForTesting.loc[:, ['lat', 'lon', 'surface_total_in_m2', 'surface_covered_in_m2', 'EsCasa',\\\n",
    "                                       'EsDpto', 'EsPH', 'place_name_id']]\n",
    "\n",
    "x_train, x_test, y_train, y_test = train_test_split(datosFiltradosWithPlaces.loc[:, \\\n",
    "             ['lat', 'lon', 'surface_total_in_m2', 'surface_covered_in_m2', 'EsCasa', 'EsDpto', 'EsPH']], \\\n",
    "                                                    datosFiltradosWithPlaces['price_aprox_usd'], test_size=0.2)\n",
    "RFRModel.fit(x_train, y_train)\n",
    "prueba5 = RFRModel.predict(imp.fit_transform(quintaPrueba))\n",
    "\n",
    "#prueba5"
   ]
  },
  {
   "cell_type": "code",
   "execution_count": null,
   "metadata": {
    "collapsed": true
   },
   "outputs": [],
   "source": [
    "archivo5 = pd.DataFrame()\n",
    "archivo5['id'] = datosForTesting.loc[:,['id']]\n",
    "archivo5['price_usd'] = prueba5\n",
    "archivo5\n",
    "archivo5.to_csv('prueba5.csv', index=False)"
   ]
  },
  {
   "cell_type": "markdown",
   "metadata": {},
   "source": [
    "# Sexta estimación al set de prueba"
   ]
  },
  {
   "cell_type": "code",
   "execution_count": 80,
   "metadata": {},
   "outputs": [
    {
     "name": "stdout",
     "output_type": "stream",
     "text": [
      "<class 'pandas.core.frame.DataFrame'>\n",
      "Int64Index: 281951 entries, 2 to 187480\n",
      "Data columns (total 23 columns):\n",
      "id                         281951 non-null object\n",
      "created_on                 281951 non-null object\n",
      "property_type              281951 non-null object\n",
      "operation                  281951 non-null object\n",
      "place_name                 281885 non-null object\n",
      "place_with_parent_names    281951 non-null object\n",
      "country_name               281951 non-null object\n",
      "state_name                 281951 non-null object\n",
      "lat-lon                    193706 non-null object\n",
      "lat                        193706 non-null float64\n",
      "lon                        193706 non-null float64\n",
      "surface_total_in_m2        203700 non-null float64\n",
      "surface_covered_in_m2      251872 non-null float64\n",
      "floor                      38473 non-null float64\n",
      "rooms                      145729 non-null float64\n",
      "expenses                   34945 non-null object\n",
      "description                281936 non-null object\n",
      "price_aprox_usd            281951 non-null float64\n",
      "EsCasa                     281951 non-null bool\n",
      "EsDpto                     281951 non-null bool\n",
      "EsPH                       281951 non-null bool\n",
      "localidad                  281951 non-null object\n",
      "zona                       281951 non-null object\n",
      "dtypes: bool(3), float64(7), object(13)\n",
      "memory usage: 56.0+ MB\n"
     ]
    }
   ],
   "source": [
    "def split_place_with_parent_names_zona(x):\n",
    "    z=x.split(\"|\")\n",
    "    return z[2]\n",
    "\n",
    "datos['zona'] = datos['place_with_parent_names'].map(split_place_with_parent_names_zona)\n",
    "datos.info()"
   ]
  },
  {
   "cell_type": "code",
   "execution_count": 81,
   "metadata": {},
   "outputs": [
    {
     "data": {
      "text/plain": [
       "Index(['id', 'created_on', 'property_type', 'operation', 'place_name',\n",
       "       'place_with_parent_names', 'country_name', 'state_name', 'lat-lon',\n",
       "       'lat', 'lon', 'surface_total_in_m2', 'surface_covered_in_m2', 'floor',\n",
       "       'rooms', 'expenses', 'description', 'price_aprox_usd', 'EsCasa',\n",
       "       'EsDpto', 'EsPH', 'localidad', 'zona', 'localidadEnSet'],\n",
       "      dtype='object')"
      ]
     },
     "execution_count": 81,
     "metadata": {},
     "output_type": "execute_result"
    }
   ],
   "source": [
    "#Saco nulos\n",
    "datosSinNull = datos.loc[datos['lat'].notnull(),:]\n",
    "datosSinNull = datosSinNull.loc[datosSinNull['lon'].notnull(),:]\n",
    "datosSinNull = datosSinNull.loc[datosSinNull['surface_total_in_m2'].notnull(),:]\n",
    "datosSinNull = datosSinNull.loc[datosSinNull['surface_covered_in_m2'].notnull(),:]\n",
    "datosSinNull = datosSinNull.loc[datosSinNull['price_aprox_usd'].notnull(),:]\n",
    "\n",
    "#Me quedo solo con los que tienen la localidad en el set de datos\n",
    "datosSinNull['localidadEnSet'] = datosSinNull['localidad'].map(localidadEnSet)\n",
    "datosPrueba6 = datosSinNull.loc[datosSinNull['localidadEnSet'] == True, :]\n",
    "datosPrueba6.columns"
   ]
  },
  {
   "cell_type": "code",
   "execution_count": 82,
   "metadata": {},
   "outputs": [
    {
     "data": {
      "text/plain": [
       "array([ 0.34336234,  0.96236793,  0.88135876,  0.84523564,  0.83016371])"
      ]
     },
     "execution_count": 82,
     "metadata": {},
     "output_type": "execute_result"
    }
   ],
   "source": [
    "prueba6Campos = datosPrueba6.loc[:, ['lat', 'lon','surface_total_in_m2', 'surface_covered_in_m2',\\\n",
    "                                               'EsCasa', 'EsDpto', 'EsPH']]\n",
    "\n",
    "RFRModel = make_pipeline(preprocessing.StandardScaler(), RandomForestRegressor(n_estimators=100, max_features='sqrt'))\n",
    "\n",
    "scores = cross_val_score(RFRModel, prueba6Campos, np.ravel(datosPrueba6['price_aprox_usd']), cv=5)\n",
    "scores"
   ]
  },
  {
   "cell_type": "code",
   "execution_count": 84,
   "metadata": {
    "collapsed": true
   },
   "outputs": [],
   "source": [
    "#Creamos un place_name_id para agregar a la query\n",
    "barrios = pd.concat([pd.DataFrame([[barrio,0]], columns=['localidad','localidad_id']) for barrio in datosPrueba6['localidad'].unique()]).reset_index()\n",
    "barrios['localidad_id'] = barrios.index\n",
    "barrios = barrios.loc[:,['localidad','localidad_id']]"
   ]
  },
  {
   "cell_type": "code",
   "execution_count": 85,
   "metadata": {},
   "outputs": [
    {
     "data": {
      "text/html": [
       "<div>\n",
       "<style>\n",
       "    .dataframe thead tr:only-child th {\n",
       "        text-align: right;\n",
       "    }\n",
       "\n",
       "    .dataframe thead th {\n",
       "        text-align: left;\n",
       "    }\n",
       "\n",
       "    .dataframe tbody tr th {\n",
       "        vertical-align: top;\n",
       "    }\n",
       "</style>\n",
       "<table border=\"1\" class=\"dataframe\">\n",
       "  <thead>\n",
       "    <tr style=\"text-align: right;\">\n",
       "      <th></th>\n",
       "      <th>id</th>\n",
       "      <th>created_on</th>\n",
       "      <th>property_type</th>\n",
       "      <th>operation</th>\n",
       "      <th>place_name</th>\n",
       "      <th>place_with_parent_names</th>\n",
       "      <th>country_name</th>\n",
       "      <th>state_name</th>\n",
       "      <th>lat-lon</th>\n",
       "      <th>lat</th>\n",
       "      <th>...</th>\n",
       "      <th>expenses</th>\n",
       "      <th>description</th>\n",
       "      <th>price_aprox_usd</th>\n",
       "      <th>EsCasa</th>\n",
       "      <th>EsDpto</th>\n",
       "      <th>EsPH</th>\n",
       "      <th>localidad</th>\n",
       "      <th>zona</th>\n",
       "      <th>localidadEnSet</th>\n",
       "      <th>localidad_id</th>\n",
       "    </tr>\n",
       "  </thead>\n",
       "  <tbody>\n",
       "    <tr>\n",
       "      <th>0</th>\n",
       "      <td>4ba89da8e0e5f0677f3bf9b8da4e14c0ffc08ca1</td>\n",
       "      <td>2014-07-02</td>\n",
       "      <td>casa</td>\n",
       "      <td>sell</td>\n",
       "      <td>Jose Marmol</td>\n",
       "      <td>|Argentina|Bs.As. G.B.A. Zona Sur|Almirante Br...</td>\n",
       "      <td>Argentina</td>\n",
       "      <td>Bs.As. G.B.A. Zona Sur</td>\n",
       "      <td>-34.7875053,-58.3736059</td>\n",
       "      <td>-34.787505</td>\n",
       "      <td>...</td>\n",
       "      <td>NaN</td>\n",
       "      <td>CODIGO: 1520-MYR1925 ubicado en: Ferre 600 -  ...</td>\n",
       "      <td>450000.0</td>\n",
       "      <td>True</td>\n",
       "      <td>False</td>\n",
       "      <td>False</td>\n",
       "      <td>Almirante Brown</td>\n",
       "      <td>Bs.As. G.B.A. Zona Sur</td>\n",
       "      <td>True</td>\n",
       "      <td>0</td>\n",
       "    </tr>\n",
       "    <tr>\n",
       "      <th>1</th>\n",
       "      <td>4c508b233a1495e7ba016684ae7a43c4bcc2f26c</td>\n",
       "      <td>2014-07-02</td>\n",
       "      <td>departamento</td>\n",
       "      <td>sell</td>\n",
       "      <td>Belgrano</td>\n",
       "      <td>|Argentina|Capital Federal|Belgrano|</td>\n",
       "      <td>Argentina</td>\n",
       "      <td>Capital Federal</td>\n",
       "      <td>-34.55814,-58.4614942</td>\n",
       "      <td>-34.558140</td>\n",
       "      <td>...</td>\n",
       "      <td>700</td>\n",
       "      <td>CODIGO:  ubicado en: Roosevelt 2500 -  Publica...</td>\n",
       "      <td>96000.0</td>\n",
       "      <td>False</td>\n",
       "      <td>True</td>\n",
       "      <td>False</td>\n",
       "      <td>Belgrano</td>\n",
       "      <td>Capital Federal</td>\n",
       "      <td>True</td>\n",
       "      <td>1</td>\n",
       "    </tr>\n",
       "  </tbody>\n",
       "</table>\n",
       "<p>2 rows × 25 columns</p>\n",
       "</div>"
      ],
      "text/plain": [
       "                                         id  created_on property_type  \\\n",
       "0  4ba89da8e0e5f0677f3bf9b8da4e14c0ffc08ca1  2014-07-02          casa   \n",
       "1  4c508b233a1495e7ba016684ae7a43c4bcc2f26c  2014-07-02  departamento   \n",
       "\n",
       "  operation   place_name                            place_with_parent_names  \\\n",
       "0      sell  Jose Marmol  |Argentina|Bs.As. G.B.A. Zona Sur|Almirante Br...   \n",
       "1      sell     Belgrano               |Argentina|Capital Federal|Belgrano|   \n",
       "\n",
       "  country_name              state_name                  lat-lon        lat  \\\n",
       "0    Argentina  Bs.As. G.B.A. Zona Sur  -34.7875053,-58.3736059 -34.787505   \n",
       "1    Argentina         Capital Federal    -34.55814,-58.4614942 -34.558140   \n",
       "\n",
       "       ...       expenses                                        description  \\\n",
       "0      ...            NaN  CODIGO: 1520-MYR1925 ubicado en: Ferre 600 -  ...   \n",
       "1      ...            700  CODIGO:  ubicado en: Roosevelt 2500 -  Publica...   \n",
       "\n",
       "   price_aprox_usd  EsCasa  EsDpto   EsPH        localidad  \\\n",
       "0         450000.0    True   False  False  Almirante Brown   \n",
       "1          96000.0   False    True  False         Belgrano   \n",
       "\n",
       "                     zona  localidadEnSet  localidad_id  \n",
       "0  Bs.As. G.B.A. Zona Sur            True             0  \n",
       "1         Capital Federal            True             1  \n",
       "\n",
       "[2 rows x 25 columns]"
      ]
     },
     "execution_count": 85,
     "metadata": {},
     "output_type": "execute_result"
    }
   ],
   "source": [
    "#Agregamos el id del barrio al set de entrenamiento\n",
    "datosPrueba6 = pd.merge(datosPrueba6,barrios,how='left',on='localidad')\n",
    "datosPrueba6.head(2)"
   ]
  },
  {
   "cell_type": "code",
   "execution_count": 86,
   "metadata": {},
   "outputs": [
    {
     "data": {
      "text/plain": [
       "array([ 0.34043374,  0.95376287,  0.88700095,  0.86013861,  0.82885982])"
      ]
     },
     "execution_count": 86,
     "metadata": {},
     "output_type": "execute_result"
    }
   ],
   "source": [
    "prueba6Campos = datosPrueba6.loc[:, ['lat', 'lon','surface_total_in_m2', 'surface_covered_in_m2',\\\n",
    "                                              'localidad_id', 'EsCasa', 'EsDpto', 'EsPH']]\n",
    "\n",
    "RFRModel = make_pipeline(preprocessing.StandardScaler(), RandomForestRegressor(n_estimators=100, max_features='sqrt'))\n",
    "\n",
    "scores = cross_val_score(RFRModel, prueba6Campos, np.ravel(datosPrueba6['price_aprox_usd']), cv=5)\n",
    "scores"
   ]
  },
  {
   "cell_type": "code",
   "execution_count": 87,
   "metadata": {},
   "outputs": [
    {
     "data": {
      "text/plain": [
       "Index(['id', 'created_on', 'property_type', 'operation', 'place_name',\n",
       "       'place_with_parent_names', 'country_name', 'state_name', 'lat-lon',\n",
       "       'lat', 'lon', 'surface_total_in_m2', 'surface_covered_in_m2', 'floor',\n",
       "       'rooms', 'expenses', 'description', 'price_aprox_usd', 'EsCasa',\n",
       "       'EsDpto', 'EsPH', 'localidad', 'zona', 'localidadEnSet', 'localidad_id',\n",
       "       'EsCap', 'EsSur', 'EsNor', 'EsOes'],\n",
       "      dtype='object')"
      ]
     },
     "execution_count": 87,
     "metadata": {},
     "output_type": "execute_result"
    }
   ],
   "source": [
    "#One hot encoding para zona\n",
    "datosPrueba6.head(5)\n",
    "datosPrueba6['EsCap'] = datosPrueba6['zona'].str.contains('Capital Federal')\n",
    "datosPrueba6['EsSur'] = datosPrueba6['zona'].str.contains('Bs.As. G.B.A. Zona Sur')\n",
    "datosPrueba6['EsNor'] = datosPrueba6['zona'].str.contains('Bs.As. G.B.A. Zona Norte')\n",
    "datosPrueba6['EsOes'] = datosPrueba6['zona'].str.contains('Bs.As. G.B.A. Zona Oeste')\n",
    "datosPrueba6.columns"
   ]
  },
  {
   "cell_type": "code",
   "execution_count": 88,
   "metadata": {},
   "outputs": [
    {
     "data": {
      "text/plain": [
       "array([ 0.34521413,  0.94364677,  0.89035594,  0.86659368,  0.8297176 ])"
      ]
     },
     "execution_count": 88,
     "metadata": {},
     "output_type": "execute_result"
    }
   ],
   "source": [
    "prueba6Campos = datosPrueba6.loc[:, ['lat', 'lon','surface_total_in_m2', 'surface_covered_in_m2',\\\n",
    "                                              'localidad_id', 'EsCasa', 'EsDpto', 'EsPH',\\\n",
    "                                    'EsCap', 'EsSur', 'EsNor', 'EsOes']]\n",
    "\n",
    "RFRModel = make_pipeline(preprocessing.StandardScaler(), RandomForestRegressor(n_estimators=100, max_features='sqrt'))\n",
    "\n",
    "scores = cross_val_score(RFRModel, prueba6Campos, np.ravel(datosPrueba6['price_aprox_usd']), cv=5)\n",
    "scores"
   ]
  },
  {
   "cell_type": "code",
   "execution_count": 89,
   "metadata": {
    "collapsed": true
   },
   "outputs": [],
   "source": [
    "datosPrueba6['fecha'] = pd.to_datetime(datosPrueba6['created_on'], errors='coerce')\n",
    "datosPrueba6['mes'] = datosPrueba6['fecha'].dt.month\n",
    "datosPrueba6['año'] = datosPrueba6['fecha'].dt.year"
   ]
  },
  {
   "cell_type": "code",
   "execution_count": 90,
   "metadata": {},
   "outputs": [
    {
     "data": {
      "text/plain": [
       "array([ 0.75886976,  0.78464796,  0.6917761 ,  0.40880321,  0.76617345])"
      ]
     },
     "execution_count": 90,
     "metadata": {},
     "output_type": "execute_result"
    }
   ],
   "source": [
    "#Filtro fechas para acotar un poco el set de datos y probar por años\n",
    "datosPrueba2014 = datosPrueba6.loc[datosPrueba6['año'] == 2014, :]\n",
    "datosPrueba2014Campos = datosPrueba2014.loc[:, ['lat', 'lon','surface_total_in_m2', 'surface_covered_in_m2',\\\n",
    "                                              'localidad_id', 'EsCasa', 'EsDpto', 'EsPH',\\\n",
    "                                    'EsCap', 'EsSur', 'EsNor', 'EsOes']]\n",
    "\n",
    "RFRModel = make_pipeline(preprocessing.StandardScaler(), RandomForestRegressor(n_estimators=100, max_features='sqrt'))\n",
    "\n",
    "scores = cross_val_score(RFRModel, datosPrueba2014Campos, np.ravel(datosPrueba2014['price_aprox_usd']), cv=5)\n",
    "scores"
   ]
  },
  {
   "cell_type": "code",
   "execution_count": 91,
   "metadata": {},
   "outputs": [
    {
     "data": {
      "text/plain": [
       "array([ 0.65578858,  0.1445552 ,  0.77659778,  0.94746366,  0.93427542])"
      ]
     },
     "execution_count": 91,
     "metadata": {},
     "output_type": "execute_result"
    }
   ],
   "source": [
    "datosPrueba2015 = datosPrueba6.loc[datosPrueba6['año'] == 2015, :]\n",
    "datosPrueba2015Campos = datosPrueba2015.loc[:, ['lat', 'lon','surface_total_in_m2', 'surface_covered_in_m2',\\\n",
    "                                              'localidad_id', 'EsCasa', 'EsDpto', 'EsPH',\\\n",
    "                                    'EsCap', 'EsSur', 'EsNor', 'EsOes']]\n",
    "\n",
    "RFRModel = make_pipeline(preprocessing.StandardScaler(), RandomForestRegressor(n_estimators=100, max_features='sqrt'))\n",
    "\n",
    "scores = cross_val_score(RFRModel, datosPrueba2015Campos, np.ravel(datosPrueba2015['price_aprox_usd']), cv=5)\n",
    "scores"
   ]
  },
  {
   "cell_type": "code",
   "execution_count": 92,
   "metadata": {},
   "outputs": [
    {
     "data": {
      "text/plain": [
       "array([ 0.97937682,  0.97933864,  0.9874421 ,  0.86857762,  0.69933175])"
      ]
     },
     "execution_count": 92,
     "metadata": {},
     "output_type": "execute_result"
    }
   ],
   "source": [
    "datosPrueba2016 = datosPrueba6.loc[datosPrueba6['año'] == 2016, :]\n",
    "datosPrueba2016Campos = datosPrueba2016.loc[:, ['lat', 'lon','surface_total_in_m2', 'surface_covered_in_m2',\\\n",
    "                                              'localidad_id', 'EsCasa', 'EsDpto', 'EsPH',\\\n",
    "                                    'EsCap', 'EsSur', 'EsNor', 'EsOes']]\n",
    "\n",
    "RFRModel = make_pipeline(preprocessing.StandardScaler(), RandomForestRegressor(n_estimators=100, max_features='sqrt'))\n",
    "\n",
    "scores = cross_val_score(RFRModel, datosPrueba2016Campos, np.ravel(datosPrueba2016['price_aprox_usd']), cv=5)\n",
    "scores"
   ]
  },
  {
   "cell_type": "code",
   "execution_count": 93,
   "metadata": {},
   "outputs": [
    {
     "data": {
      "text/plain": [
       "array([ 0.92375184,  0.86615214,  0.96912902,  0.90850153,  0.6358081 ])"
      ]
     },
     "execution_count": 93,
     "metadata": {},
     "output_type": "execute_result"
    }
   ],
   "source": [
    "datosPrueba2017 = datosPrueba6.loc[datosPrueba6['año'] == 2017, :]\n",
    "datosPrueba2017Campos = datosPrueba2017.loc[:, ['lat', 'lon','surface_total_in_m2', 'surface_covered_in_m2',\\\n",
    "                                              'localidad_id', 'EsCasa', 'EsDpto', 'EsPH',\\\n",
    "                                    'EsCap', 'EsSur', 'EsNor', 'EsOes']]\n",
    "\n",
    "RFRModel = make_pipeline(preprocessing.StandardScaler(), RandomForestRegressor(n_estimators=100, max_features='sqrt'))\n",
    "\n",
    "scores = cross_val_score(RFRModel, datosPrueba2017Campos, np.ravel(datosPrueba2017['price_aprox_usd']), cv=5)\n",
    "scores"
   ]
  },
  {
   "cell_type": "code",
   "execution_count": 94,
   "metadata": {},
   "outputs": [
    {
     "data": {
      "text/plain": [
       "array([ 0.70136989,  0.98127143,  0.98875583,  0.98947865,  0.97842989])"
      ]
     },
     "execution_count": 94,
     "metadata": {},
     "output_type": "execute_result"
    }
   ],
   "source": [
    "datosPruebaMezcla = datosPrueba6.loc[((datosPrueba6['año'] == 2015) & (datosPrueba6['mes'] >5 )) | \\\n",
    "                                     ((datosPrueba6['año'] == 2016) & (datosPrueba6['mes'] < 6)), :]\n",
    "datosPruebaMezclaCampos = datosPruebaMezcla.loc[:, ['lat', 'lon','surface_total_in_m2', 'surface_covered_in_m2',\\\n",
    "                                              'localidad_id', 'EsCasa', 'EsDpto', 'EsPH',\\\n",
    "                                    'EsCap', 'EsSur', 'EsNor', 'EsOes']]\n",
    "\n",
    "RFRModel = make_pipeline(preprocessing.StandardScaler(), RandomForestRegressor(n_estimators=100, max_features='sqrt'))\n",
    "\n",
    "scores = cross_val_score(RFRModel, datosPruebaMezclaCampos, np.ravel(datosPruebaMezcla['price_aprox_usd']), cv=5)\n",
    "scores"
   ]
  },
  {
   "cell_type": "code",
   "execution_count": 95,
   "metadata": {},
   "outputs": [
    {
     "data": {
      "text/plain": [
       "array([ 0.96719224,  0.9792876 ,  0.99480877,  0.99012877,  0.97956228])"
      ]
     },
     "execution_count": 95,
     "metadata": {},
     "output_type": "execute_result"
    }
   ],
   "source": [
    "datosPruebaMezcla2 = datosPrueba6.loc[((datosPrueba6['año'] == 2015) & (datosPrueba6['mes'] > 8 )) | \\\n",
    "                                     ((datosPrueba6['año'] == 2016) & (datosPrueba6['mes'] < 6)), :]\n",
    "datosPruebaMezcla2Campos = datosPruebaMezcla2.loc[:, ['lat', 'lon','surface_total_in_m2', 'surface_covered_in_m2',\\\n",
    "                                              'localidad_id', 'EsCasa', 'EsDpto', 'EsPH',\\\n",
    "                                    'EsCap', 'EsSur', 'EsNor', 'EsOes']]\n",
    "\n",
    "RFRModel = make_pipeline(preprocessing.StandardScaler(), RandomForestRegressor(n_estimators=100, max_features='sqrt'))\n",
    "\n",
    "scores = cross_val_score(RFRModel, datosPruebaMezcla2Campos, np.ravel(datosPruebaMezcla2['price_aprox_usd']), cv=5)\n",
    "scores"
   ]
  },
  {
   "cell_type": "code",
   "execution_count": 97,
   "metadata": {},
   "outputs": [
    {
     "data": {
      "text/plain": [
       "Index(['id', 'created_on', 'property_type', 'operation', 'place_name',\n",
       "       'place_with_parent_names', 'country_name', 'state_name', 'lat-lon',\n",
       "       'lat', 'lon', 'surface_total_in_m2', 'surface_covered_in_m2', 'floor',\n",
       "       'rooms', 'expenses', 'description'],\n",
       "      dtype='object')"
      ]
     },
     "execution_count": 97,
     "metadata": {},
     "output_type": "execute_result"
    }
   ],
   "source": [
    "#datosForTesting = pd.read_csv('properati_dataset_testing_noprice.csv')\n",
    "datosForTesting = pd.read_csv('resources/properati_dataset_testing_noprice.csv')\n",
    "datosForTesting.columns"
   ]
  },
  {
   "cell_type": "code",
   "execution_count": 98,
   "metadata": {},
   "outputs": [
    {
     "data": {
      "text/html": [
       "<div>\n",
       "<style>\n",
       "    .dataframe thead tr:only-child th {\n",
       "        text-align: right;\n",
       "    }\n",
       "\n",
       "    .dataframe thead th {\n",
       "        text-align: left;\n",
       "    }\n",
       "\n",
       "    .dataframe tbody tr th {\n",
       "        vertical-align: top;\n",
       "    }\n",
       "</style>\n",
       "<table border=\"1\" class=\"dataframe\">\n",
       "  <thead>\n",
       "    <tr style=\"text-align: right;\">\n",
       "      <th></th>\n",
       "      <th>id</th>\n",
       "      <th>created_on</th>\n",
       "      <th>property_type</th>\n",
       "      <th>operation</th>\n",
       "      <th>place_name</th>\n",
       "      <th>place_with_parent_names</th>\n",
       "      <th>country_name</th>\n",
       "      <th>state_name</th>\n",
       "      <th>lat-lon</th>\n",
       "      <th>lat</th>\n",
       "      <th>lon</th>\n",
       "      <th>surface_total_in_m2</th>\n",
       "      <th>surface_covered_in_m2</th>\n",
       "      <th>floor</th>\n",
       "      <th>rooms</th>\n",
       "      <th>expenses</th>\n",
       "      <th>description</th>\n",
       "      <th>zona</th>\n",
       "      <th>localidad</th>\n",
       "    </tr>\n",
       "  </thead>\n",
       "  <tbody>\n",
       "    <tr>\n",
       "      <th>0</th>\n",
       "      <td>3632</td>\n",
       "      <td>2017-08-24</td>\n",
       "      <td>departamento</td>\n",
       "      <td>venta</td>\n",
       "      <td>Puerto Madero</td>\n",
       "      <td>|Argentina|Capital Federal|Puerto Madero|</td>\n",
       "      <td>Argentina</td>\n",
       "      <td>Capital Federal</td>\n",
       "      <td>-34.6109877599,-58.3634635778</td>\n",
       "      <td>-34.610988</td>\n",
       "      <td>-58.363464</td>\n",
       "      <td>0.0</td>\n",
       "      <td>NaN</td>\n",
       "      <td>NaN</td>\n",
       "      <td>NaN</td>\n",
       "      <td>NaN</td>\n",
       "      <td>Edificio BA Houses situado frente al Dique 3 d...</td>\n",
       "      <td>Capital Federal</td>\n",
       "      <td>Puerto Madero</td>\n",
       "    </tr>\n",
       "    <tr>\n",
       "      <th>1</th>\n",
       "      <td>3633</td>\n",
       "      <td>2017-08-25</td>\n",
       "      <td>departamento</td>\n",
       "      <td>venta</td>\n",
       "      <td>Buenos Aires Interior</td>\n",
       "      <td>|Argentina|Buenos Aires Interior|</td>\n",
       "      <td>Argentina</td>\n",
       "      <td>Buenos Aires Interior</td>\n",
       "      <td>NaN</td>\n",
       "      <td>NaN</td>\n",
       "      <td>NaN</td>\n",
       "      <td>0.0</td>\n",
       "      <td>NaN</td>\n",
       "      <td>NaN</td>\n",
       "      <td>NaN</td>\n",
       "      <td>NaN</td>\n",
       "      <td>El departamento cuenta con un living-comedor a...</td>\n",
       "      <td>Buenos Aires Interior</td>\n",
       "      <td></td>\n",
       "    </tr>\n",
       "    <tr>\n",
       "      <th>2</th>\n",
       "      <td>2263404</td>\n",
       "      <td>2017-08-01</td>\n",
       "      <td>departamento</td>\n",
       "      <td>venta</td>\n",
       "      <td>Palermo Soho</td>\n",
       "      <td>|Argentina|Capital Federal|Palermo|Palermo Soho|</td>\n",
       "      <td>Argentina</td>\n",
       "      <td>Capital Federal</td>\n",
       "      <td>-34.5893633232,-58.4128798588</td>\n",
       "      <td>-34.589363</td>\n",
       "      <td>-58.412880</td>\n",
       "      <td>53.0</td>\n",
       "      <td>48.0</td>\n",
       "      <td>NaN</td>\n",
       "      <td>NaN</td>\n",
       "      <td>1500</td>\n",
       "      <td>IMPECABLE TORRE COY III – DEPA...</td>\n",
       "      <td>Capital Federal</td>\n",
       "      <td>Palermo</td>\n",
       "    </tr>\n",
       "    <tr>\n",
       "      <th>3</th>\n",
       "      <td>2263405</td>\n",
       "      <td>2017-08-01</td>\n",
       "      <td>departamento</td>\n",
       "      <td>venta</td>\n",
       "      <td>Chacarita</td>\n",
       "      <td>|Argentina|Capital Federal|Chacarita|</td>\n",
       "      <td>Argentina</td>\n",
       "      <td>Capital Federal</td>\n",
       "      <td>NaN</td>\n",
       "      <td>NaN</td>\n",
       "      <td>NaN</td>\n",
       "      <td>39.0</td>\n",
       "      <td>39.0</td>\n",
       "      <td>NaN</td>\n",
       "      <td>NaN</td>\n",
       "      <td>NaN</td>\n",
       "      <td>AMBIENTE DIVISIBLE CON PISOS D...</td>\n",
       "      <td>Capital Federal</td>\n",
       "      <td>Chacarita</td>\n",
       "    </tr>\n",
       "    <tr>\n",
       "      <th>4</th>\n",
       "      <td>2263406</td>\n",
       "      <td>2017-08-01</td>\n",
       "      <td>departamento</td>\n",
       "      <td>venta</td>\n",
       "      <td>Chacarita</td>\n",
       "      <td>|Argentina|Capital Federal|Chacarita|</td>\n",
       "      <td>Argentina</td>\n",
       "      <td>Capital Federal</td>\n",
       "      <td>NaN</td>\n",
       "      <td>NaN</td>\n",
       "      <td>NaN</td>\n",
       "      <td>51.0</td>\n",
       "      <td>51.0</td>\n",
       "      <td>NaN</td>\n",
       "      <td>NaN</td>\n",
       "      <td>NaN</td>\n",
       "      <td>LIVING COMEDOR CON PISOS DE PO...</td>\n",
       "      <td>Capital Federal</td>\n",
       "      <td>Chacarita</td>\n",
       "    </tr>\n",
       "  </tbody>\n",
       "</table>\n",
       "</div>"
      ],
      "text/plain": [
       "        id  created_on property_type operation             place_name  \\\n",
       "0     3632  2017-08-24  departamento     venta          Puerto Madero   \n",
       "1     3633  2017-08-25  departamento     venta  Buenos Aires Interior   \n",
       "2  2263404  2017-08-01  departamento     venta           Palermo Soho   \n",
       "3  2263405  2017-08-01  departamento     venta              Chacarita   \n",
       "4  2263406  2017-08-01  departamento     venta              Chacarita   \n",
       "\n",
       "                            place_with_parent_names country_name  \\\n",
       "0         |Argentina|Capital Federal|Puerto Madero|    Argentina   \n",
       "1                 |Argentina|Buenos Aires Interior|    Argentina   \n",
       "2  |Argentina|Capital Federal|Palermo|Palermo Soho|    Argentina   \n",
       "3             |Argentina|Capital Federal|Chacarita|    Argentina   \n",
       "4             |Argentina|Capital Federal|Chacarita|    Argentina   \n",
       "\n",
       "              state_name                        lat-lon        lat        lon  \\\n",
       "0        Capital Federal  -34.6109877599,-58.3634635778 -34.610988 -58.363464   \n",
       "1  Buenos Aires Interior                            NaN        NaN        NaN   \n",
       "2        Capital Federal  -34.5893633232,-58.4128798588 -34.589363 -58.412880   \n",
       "3        Capital Federal                            NaN        NaN        NaN   \n",
       "4        Capital Federal                            NaN        NaN        NaN   \n",
       "\n",
       "   surface_total_in_m2  surface_covered_in_m2  floor  rooms expenses  \\\n",
       "0                  0.0                    NaN    NaN    NaN      NaN   \n",
       "1                  0.0                    NaN    NaN    NaN      NaN   \n",
       "2                 53.0                   48.0    NaN    NaN     1500   \n",
       "3                 39.0                   39.0    NaN    NaN      NaN   \n",
       "4                 51.0                   51.0    NaN    NaN      NaN   \n",
       "\n",
       "                                         description                   zona  \\\n",
       "0  Edificio BA Houses situado frente al Dique 3 d...        Capital Federal   \n",
       "1  El departamento cuenta con un living-comedor a...  Buenos Aires Interior   \n",
       "2                  IMPECABLE TORRE COY III – DEPA...        Capital Federal   \n",
       "3                  AMBIENTE DIVISIBLE CON PISOS D...        Capital Federal   \n",
       "4                  LIVING COMEDOR CON PISOS DE PO...        Capital Federal   \n",
       "\n",
       "       localidad  \n",
       "0  Puerto Madero  \n",
       "1                 \n",
       "2        Palermo  \n",
       "3      Chacarita  \n",
       "4      Chacarita  "
      ]
     },
     "execution_count": 98,
     "metadata": {},
     "output_type": "execute_result"
    }
   ],
   "source": [
    "datosForTesting['zona'] = datosForTesting['place_with_parent_names'].map(split_place_with_parent_names_zona)\n",
    "datosForTesting['localidad'] = datosForTesting['place_with_parent_names'].map(split_place_with_parent_names_localidad)\n",
    "datosForTesting.head(5)"
   ]
  },
  {
   "cell_type": "code",
   "execution_count": 99,
   "metadata": {
    "collapsed": true
   },
   "outputs": [],
   "source": [
    "datosForTesting = pd.merge(datosForTesting,barrios,how='left',on='localidad')"
   ]
  },
  {
   "cell_type": "code",
   "execution_count": 100,
   "metadata": {},
   "outputs": [
    {
     "data": {
      "text/html": [
       "<div>\n",
       "<style>\n",
       "    .dataframe thead tr:only-child th {\n",
       "        text-align: right;\n",
       "    }\n",
       "\n",
       "    .dataframe thead th {\n",
       "        text-align: left;\n",
       "    }\n",
       "\n",
       "    .dataframe tbody tr th {\n",
       "        vertical-align: top;\n",
       "    }\n",
       "</style>\n",
       "<table border=\"1\" class=\"dataframe\">\n",
       "  <thead>\n",
       "    <tr style=\"text-align: right;\">\n",
       "      <th></th>\n",
       "      <th>id</th>\n",
       "      <th>created_on</th>\n",
       "      <th>property_type</th>\n",
       "      <th>operation</th>\n",
       "      <th>place_name</th>\n",
       "      <th>place_with_parent_names</th>\n",
       "      <th>country_name</th>\n",
       "      <th>state_name</th>\n",
       "      <th>lat-lon</th>\n",
       "      <th>lat</th>\n",
       "      <th>...</th>\n",
       "      <th>zona</th>\n",
       "      <th>localidad</th>\n",
       "      <th>localidad_id</th>\n",
       "      <th>EsCap</th>\n",
       "      <th>EsSur</th>\n",
       "      <th>EsNor</th>\n",
       "      <th>EsOes</th>\n",
       "      <th>EsCasa</th>\n",
       "      <th>EsDpto</th>\n",
       "      <th>EsPH</th>\n",
       "    </tr>\n",
       "  </thead>\n",
       "  <tbody>\n",
       "    <tr>\n",
       "      <th>0</th>\n",
       "      <td>3632</td>\n",
       "      <td>2017-08-24</td>\n",
       "      <td>departamento</td>\n",
       "      <td>venta</td>\n",
       "      <td>Puerto Madero</td>\n",
       "      <td>|Argentina|Capital Federal|Puerto Madero|</td>\n",
       "      <td>Argentina</td>\n",
       "      <td>Capital Federal</td>\n",
       "      <td>-34.6109877599,-58.3634635778</td>\n",
       "      <td>-34.610988</td>\n",
       "      <td>...</td>\n",
       "      <td>Capital Federal</td>\n",
       "      <td>Puerto Madero</td>\n",
       "      <td>60</td>\n",
       "      <td>True</td>\n",
       "      <td>False</td>\n",
       "      <td>False</td>\n",
       "      <td>False</td>\n",
       "      <td>False</td>\n",
       "      <td>True</td>\n",
       "      <td>False</td>\n",
       "    </tr>\n",
       "    <tr>\n",
       "      <th>1</th>\n",
       "      <td>3633</td>\n",
       "      <td>2017-08-25</td>\n",
       "      <td>departamento</td>\n",
       "      <td>venta</td>\n",
       "      <td>Buenos Aires Interior</td>\n",
       "      <td>|Argentina|Buenos Aires Interior|</td>\n",
       "      <td>Argentina</td>\n",
       "      <td>Buenos Aires Interior</td>\n",
       "      <td>NaN</td>\n",
       "      <td>NaN</td>\n",
       "      <td>...</td>\n",
       "      <td>Buenos Aires Interior</td>\n",
       "      <td></td>\n",
       "      <td>71</td>\n",
       "      <td>False</td>\n",
       "      <td>False</td>\n",
       "      <td>False</td>\n",
       "      <td>False</td>\n",
       "      <td>False</td>\n",
       "      <td>True</td>\n",
       "      <td>False</td>\n",
       "    </tr>\n",
       "    <tr>\n",
       "      <th>2</th>\n",
       "      <td>2263404</td>\n",
       "      <td>2017-08-01</td>\n",
       "      <td>departamento</td>\n",
       "      <td>venta</td>\n",
       "      <td>Palermo Soho</td>\n",
       "      <td>|Argentina|Capital Federal|Palermo|Palermo Soho|</td>\n",
       "      <td>Argentina</td>\n",
       "      <td>Capital Federal</td>\n",
       "      <td>-34.5893633232,-58.4128798588</td>\n",
       "      <td>-34.589363</td>\n",
       "      <td>...</td>\n",
       "      <td>Capital Federal</td>\n",
       "      <td>Palermo</td>\n",
       "      <td>2</td>\n",
       "      <td>True</td>\n",
       "      <td>False</td>\n",
       "      <td>False</td>\n",
       "      <td>False</td>\n",
       "      <td>False</td>\n",
       "      <td>True</td>\n",
       "      <td>False</td>\n",
       "    </tr>\n",
       "    <tr>\n",
       "      <th>3</th>\n",
       "      <td>2263405</td>\n",
       "      <td>2017-08-01</td>\n",
       "      <td>departamento</td>\n",
       "      <td>venta</td>\n",
       "      <td>Chacarita</td>\n",
       "      <td>|Argentina|Capital Federal|Chacarita|</td>\n",
       "      <td>Argentina</td>\n",
       "      <td>Capital Federal</td>\n",
       "      <td>NaN</td>\n",
       "      <td>NaN</td>\n",
       "      <td>...</td>\n",
       "      <td>Capital Federal</td>\n",
       "      <td>Chacarita</td>\n",
       "      <td>28</td>\n",
       "      <td>True</td>\n",
       "      <td>False</td>\n",
       "      <td>False</td>\n",
       "      <td>False</td>\n",
       "      <td>False</td>\n",
       "      <td>True</td>\n",
       "      <td>False</td>\n",
       "    </tr>\n",
       "    <tr>\n",
       "      <th>4</th>\n",
       "      <td>2263406</td>\n",
       "      <td>2017-08-01</td>\n",
       "      <td>departamento</td>\n",
       "      <td>venta</td>\n",
       "      <td>Chacarita</td>\n",
       "      <td>|Argentina|Capital Federal|Chacarita|</td>\n",
       "      <td>Argentina</td>\n",
       "      <td>Capital Federal</td>\n",
       "      <td>NaN</td>\n",
       "      <td>NaN</td>\n",
       "      <td>...</td>\n",
       "      <td>Capital Federal</td>\n",
       "      <td>Chacarita</td>\n",
       "      <td>28</td>\n",
       "      <td>True</td>\n",
       "      <td>False</td>\n",
       "      <td>False</td>\n",
       "      <td>False</td>\n",
       "      <td>False</td>\n",
       "      <td>True</td>\n",
       "      <td>False</td>\n",
       "    </tr>\n",
       "  </tbody>\n",
       "</table>\n",
       "<p>5 rows × 27 columns</p>\n",
       "</div>"
      ],
      "text/plain": [
       "        id  created_on property_type operation             place_name  \\\n",
       "0     3632  2017-08-24  departamento     venta          Puerto Madero   \n",
       "1     3633  2017-08-25  departamento     venta  Buenos Aires Interior   \n",
       "2  2263404  2017-08-01  departamento     venta           Palermo Soho   \n",
       "3  2263405  2017-08-01  departamento     venta              Chacarita   \n",
       "4  2263406  2017-08-01  departamento     venta              Chacarita   \n",
       "\n",
       "                            place_with_parent_names country_name  \\\n",
       "0         |Argentina|Capital Federal|Puerto Madero|    Argentina   \n",
       "1                 |Argentina|Buenos Aires Interior|    Argentina   \n",
       "2  |Argentina|Capital Federal|Palermo|Palermo Soho|    Argentina   \n",
       "3             |Argentina|Capital Federal|Chacarita|    Argentina   \n",
       "4             |Argentina|Capital Federal|Chacarita|    Argentina   \n",
       "\n",
       "              state_name                        lat-lon        lat  ...    \\\n",
       "0        Capital Federal  -34.6109877599,-58.3634635778 -34.610988  ...     \n",
       "1  Buenos Aires Interior                            NaN        NaN  ...     \n",
       "2        Capital Federal  -34.5893633232,-58.4128798588 -34.589363  ...     \n",
       "3        Capital Federal                            NaN        NaN  ...     \n",
       "4        Capital Federal                            NaN        NaN  ...     \n",
       "\n",
       "                    zona      localidad  localidad_id  EsCap  EsSur  EsNor  \\\n",
       "0        Capital Federal  Puerto Madero            60   True  False  False   \n",
       "1  Buenos Aires Interior                           71  False  False  False   \n",
       "2        Capital Federal        Palermo             2   True  False  False   \n",
       "3        Capital Federal      Chacarita            28   True  False  False   \n",
       "4        Capital Federal      Chacarita            28   True  False  False   \n",
       "\n",
       "   EsOes EsCasa EsDpto   EsPH  \n",
       "0  False  False   True  False  \n",
       "1  False  False   True  False  \n",
       "2  False  False   True  False  \n",
       "3  False  False   True  False  \n",
       "4  False  False   True  False  \n",
       "\n",
       "[5 rows x 27 columns]"
      ]
     },
     "execution_count": 100,
     "metadata": {},
     "output_type": "execute_result"
    }
   ],
   "source": [
    "datosForTesting['zona'] = datosForTesting['place_with_parent_names'].map(split_place_with_parent_names_zona)\n",
    "datosForTesting['EsCap'] = datosForTesting['zona'].str.contains('Capital Federal')\n",
    "datosForTesting['EsSur'] = datosForTesting['zona'].str.contains('Bs.As. G.B.A. Zona Sur')\n",
    "datosForTesting['EsNor'] = datosForTesting['zona'].str.contains('Bs.As. G.B.A. Zona Norte')\n",
    "datosForTesting['EsOes'] = datosForTesting['zona'].str.contains('Bs.As. G.B.A. Zona Oeste')\n",
    "datosForTesting['EsCasa'] = datosForTesting['property_type'].str.contains('casa')\n",
    "datosForTesting['EsDpto'] = datosForTesting['property_type'].str.contains('departamento')\n",
    "datosForTesting['EsPH'] = datosForTesting['property_type'].str.contains('ph')\n",
    "datosForTesting.head(5)"
   ]
  },
  {
   "cell_type": "code",
   "execution_count": 101,
   "metadata": {},
   "outputs": [
    {
     "data": {
      "text/plain": [
       "array([ 335462.78683333,  117216.98666667,  239217.5       , ...,\n",
       "        173163.3042    ,  153062.42      ,  221647.2922    ])"
      ]
     },
     "execution_count": 101,
     "metadata": {},
     "output_type": "execute_result"
    }
   ],
   "source": [
    "imp = Imputer(missing_values='NaN', strategy='median', axis=0)\n",
    "sextaPrueba = datosForTesting.loc[:, ['lat', 'lon','surface_total_in_m2', 'surface_covered_in_m2',\\\n",
    "                                              'localidad_id', 'EsCasa', 'EsDpto', 'EsPH',\\\n",
    "                                    'EsCap', 'EsSur', 'EsNor', 'EsOes']]\n",
    "\n",
    "x_train, x_test, y_train, y_test = train_test_split(datosPruebaMezcla2Campos, \\\n",
    "                                                    np.ravel(datosPruebaMezcla2['price_aprox_usd']), test_size=0.2)\n",
    "RFRModel.fit(x_train, y_train)\n",
    "prueba6 = RFRModel.predict(imp.fit_transform(sextaPrueba))\n",
    "\n",
    "prueba6"
   ]
  },
  {
   "cell_type": "code",
   "execution_count": null,
   "metadata": {
    "collapsed": true
   },
   "outputs": [],
   "source": [
    "archivo6 = pd.DataFrame()\n",
    "archivo6['id'] = datosForTesting.loc[:,['id']]\n",
    "archivo6['price_usd'] = prueba6\n",
    "archivo6\n",
    "archivo6.to_csv('prueba6.csv', index=False)"
   ]
  },
  {
   "cell_type": "markdown",
   "metadata": {},
   "source": [
    "# Septima estimacion"
   ]
  },
  {
   "cell_type": "code",
   "execution_count": 117,
   "metadata": {
    "collapsed": true
   },
   "outputs": [],
   "source": [
    "datosSinNull.localidad = datosSinNull.localidad.str.upper()\n",
    "datosSinNull.localidad = datosSinNull.localidad.str.replace('Á','A')\n",
    "datosSinNull.localidad = datosSinNull.localidad.str.replace('É','E')\n",
    "datosSinNull.localidad = datosSinNull.localidad.str.replace('Í','I')\n",
    "datosSinNull.localidad = datosSinNull.localidad.str.replace('Ó','O')\n",
    "datosSinNull.localidad = datosSinNull.localidad.str.replace('Ú','U')\n",
    "datosSinNull.localidad = datosSinNull.localidad.str.replace('Ñ','N')"
   ]
  },
  {
   "cell_type": "code",
   "execution_count": 118,
   "metadata": {},
   "outputs": [
    {
     "data": {
      "text/plain": [
       "array(['PUERTO MADERO', '', 'PALERMO', 'CHACARITA', 'COLEGIALES',\n",
       "       'ALMAGRO', 'BELGRANO', 'VILLA CRESPO', 'CABALLITO', 'BOEDO',\n",
       "       'PARQUE PATRICIOS', 'RECOLETA', 'LOMAS DE ZAMORA', 'FLORES',\n",
       "       'LA PLATA', 'NUNEZ', 'MATADEROS', 'MORON', 'MONSERRAT',\n",
       "       'TRES DE FEBRERO', 'BOCA', 'BERAZATEGUI', 'VILLA URQUIZA',\n",
       "       'ESTEBAN ECHEVERRIA', 'VILLA LURO', 'COGHLAN', 'BARRIO NORTE',\n",
       "       'VILLA DEVOTO', 'BARRACAS', 'LAS CANITAS', 'PATERNAL', 'AVELLANEDA',\n",
       "       'LA MATANZA', 'MONTE CASTRO', 'RETIRO', 'VILLA PUEYRREDON',\n",
       "       'PARQUE CHACABUCO', 'LANUS', 'MORENO', 'LINIERS', 'CONGRESO',\n",
       "       'CENTRO / MICROCENTRO', 'VILLA LUGANO', 'PARQUE AVELLANEDA',\n",
       "       'SAN CRISTOBAL', 'POMPEYA', 'ALMIRANTE BROWN', 'SAAVEDRA',\n",
       "       'ITUZAINGO', 'TRIBUNALES', 'VILLA ORTUZAR', 'BALVANERA', 'ONCE',\n",
       "       'QUILMES', 'SAN NICOLAS', 'CONSTITUCION', 'FLORESTA', 'EZEIZA',\n",
       "       'VILLA DEL PARQUE', 'VILLA SANTA RITA', 'SAN TELMO', 'CANUELAS',\n",
       "       'HURLINGHAM', 'FLORENCIO VARELA', 'MERLO', 'VELEZ SARSFIELD',\n",
       "       'PARQUE CENTENARIO', 'AGRONOMIA', 'GENERAL RODRIGUEZ',\n",
       "       'SAN VICENTE', 'VILLA REAL', 'VERSALLES', 'ABASTO',\n",
       "       'VILLA GENERAL MITRE', 'MARCOS PAZ', 'PRESIDENTE PERON',\n",
       "       'PARQUE CHAS', 'VILLA SOLDATI', 'VILLA RIACHUELO', 'VICENTE LOPEZ',\n",
       "       'GENERAL SAN MARTIN'], dtype=object)"
      ]
     },
     "execution_count": 118,
     "metadata": {},
     "output_type": "execute_result"
    }
   ],
   "source": [
    "datosForTesting.localidad = datosForTesting.localidad.str.upper()\n",
    "datosForTesting.localidad = datosForTesting.localidad.str.replace('Á','A')\n",
    "datosForTesting.localidad = datosForTesting.localidad.str.replace('É','E')\n",
    "datosForTesting.localidad = datosForTesting.localidad.str.replace('Í','I')\n",
    "datosForTesting.localidad = datosForTesting.localidad.str.replace('Ó','O')\n",
    "datosForTesting.localidad = datosForTesting.localidad.str.replace('Ú','U')\n",
    "datosForTesting.localidad = datosForTesting.localidad.str.replace('Ñ','N')\n",
    "datosForTesting.localidad.unique()"
   ]
  },
  {
   "cell_type": "code",
   "execution_count": 119,
   "metadata": {},
   "outputs": [
    {
     "data": {
      "text/html": [
       "<div>\n",
       "<style>\n",
       "    .dataframe thead tr:only-child th {\n",
       "        text-align: right;\n",
       "    }\n",
       "\n",
       "    .dataframe thead th {\n",
       "        text-align: left;\n",
       "    }\n",
       "\n",
       "    .dataframe tbody tr th {\n",
       "        vertical-align: top;\n",
       "    }\n",
       "</style>\n",
       "<table border=\"1\" class=\"dataframe\">\n",
       "  <thead>\n",
       "    <tr style=\"text-align: right;\">\n",
       "      <th></th>\n",
       "      <th>id</th>\n",
       "      <th>created_on</th>\n",
       "      <th>property_type</th>\n",
       "      <th>operation</th>\n",
       "      <th>place_name</th>\n",
       "      <th>place_with_parent_names</th>\n",
       "      <th>country_name</th>\n",
       "      <th>state_name</th>\n",
       "      <th>lat-lon</th>\n",
       "      <th>lat</th>\n",
       "      <th>...</th>\n",
       "      <th>EsDpto</th>\n",
       "      <th>EsPH</th>\n",
       "      <th>localidad</th>\n",
       "      <th>zona</th>\n",
       "      <th>localidadEnSet</th>\n",
       "      <th>localidad_id</th>\n",
       "      <th>EsCap</th>\n",
       "      <th>EsSur</th>\n",
       "      <th>EsNor</th>\n",
       "      <th>EsOes</th>\n",
       "    </tr>\n",
       "  </thead>\n",
       "  <tbody>\n",
       "    <tr>\n",
       "      <th>0</th>\n",
       "      <td>4ba89da8e0e5f0677f3bf9b8da4e14c0ffc08ca1</td>\n",
       "      <td>2014-07-02</td>\n",
       "      <td>casa</td>\n",
       "      <td>sell</td>\n",
       "      <td>Jose Marmol</td>\n",
       "      <td>|Argentina|Bs.As. G.B.A. Zona Sur|Almirante Br...</td>\n",
       "      <td>Argentina</td>\n",
       "      <td>Bs.As. G.B.A. Zona Sur</td>\n",
       "      <td>-34.7875053,-58.3736059</td>\n",
       "      <td>-34.787505</td>\n",
       "      <td>...</td>\n",
       "      <td>False</td>\n",
       "      <td>False</td>\n",
       "      <td>ALMIRANTE BROWN</td>\n",
       "      <td>Bs.As. G.B.A. Zona Sur</td>\n",
       "      <td>True</td>\n",
       "      <td>0</td>\n",
       "      <td>False</td>\n",
       "      <td>True</td>\n",
       "      <td>False</td>\n",
       "      <td>False</td>\n",
       "    </tr>\n",
       "    <tr>\n",
       "      <th>1</th>\n",
       "      <td>4c508b233a1495e7ba016684ae7a43c4bcc2f26c</td>\n",
       "      <td>2014-07-02</td>\n",
       "      <td>departamento</td>\n",
       "      <td>sell</td>\n",
       "      <td>Belgrano</td>\n",
       "      <td>|Argentina|Capital Federal|Belgrano|</td>\n",
       "      <td>Argentina</td>\n",
       "      <td>Capital Federal</td>\n",
       "      <td>-34.55814,-58.4614942</td>\n",
       "      <td>-34.558140</td>\n",
       "      <td>...</td>\n",
       "      <td>True</td>\n",
       "      <td>False</td>\n",
       "      <td>BELGRANO</td>\n",
       "      <td>Capital Federal</td>\n",
       "      <td>True</td>\n",
       "      <td>1</td>\n",
       "      <td>True</td>\n",
       "      <td>False</td>\n",
       "      <td>False</td>\n",
       "      <td>False</td>\n",
       "    </tr>\n",
       "    <tr>\n",
       "      <th>2</th>\n",
       "      <td>1e0ec350dd33b32977e6da279fdd9e4ebf870d0d</td>\n",
       "      <td>2014-07-02</td>\n",
       "      <td>ph</td>\n",
       "      <td>sell</td>\n",
       "      <td>Palermo Soho</td>\n",
       "      <td>|Argentina|Capital Federal|Palermo|Palermo Soho|</td>\n",
       "      <td>Argentina</td>\n",
       "      <td>Capital Federal</td>\n",
       "      <td>-34.5881288,-58.4331522</td>\n",
       "      <td>-34.588129</td>\n",
       "      <td>...</td>\n",
       "      <td>False</td>\n",
       "      <td>True</td>\n",
       "      <td>PALERMO</td>\n",
       "      <td>Capital Federal</td>\n",
       "      <td>True</td>\n",
       "      <td>2</td>\n",
       "      <td>True</td>\n",
       "      <td>False</td>\n",
       "      <td>False</td>\n",
       "      <td>False</td>\n",
       "    </tr>\n",
       "    <tr>\n",
       "      <th>3</th>\n",
       "      <td>d8470085f8f543f16e0d28b7f38fb2354ab9ce92</td>\n",
       "      <td>2014-07-02</td>\n",
       "      <td>casa</td>\n",
       "      <td>sell</td>\n",
       "      <td>Burzaco</td>\n",
       "      <td>|Argentina|Bs.As. G.B.A. Zona Sur|Almirante Br...</td>\n",
       "      <td>Argentina</td>\n",
       "      <td>Bs.As. G.B.A. Zona Sur</td>\n",
       "      <td>-34.8273730973,-58.3935291244</td>\n",
       "      <td>-34.827373</td>\n",
       "      <td>...</td>\n",
       "      <td>False</td>\n",
       "      <td>False</td>\n",
       "      <td>ALMIRANTE BROWN</td>\n",
       "      <td>Bs.As. G.B.A. Zona Sur</td>\n",
       "      <td>True</td>\n",
       "      <td>0</td>\n",
       "      <td>False</td>\n",
       "      <td>True</td>\n",
       "      <td>False</td>\n",
       "      <td>False</td>\n",
       "    </tr>\n",
       "    <tr>\n",
       "      <th>4</th>\n",
       "      <td>4efac79c0ede6d23f5ef3f9b57096fd6ef503cb0</td>\n",
       "      <td>2014-07-02</td>\n",
       "      <td>departamento</td>\n",
       "      <td>sell</td>\n",
       "      <td>Villa Devoto</td>\n",
       "      <td>|Argentina|Capital Federal|Villa Devoto|</td>\n",
       "      <td>Argentina</td>\n",
       "      <td>Capital Federal</td>\n",
       "      <td>-34.5911545,-58.5101735</td>\n",
       "      <td>-34.591155</td>\n",
       "      <td>...</td>\n",
       "      <td>True</td>\n",
       "      <td>False</td>\n",
       "      <td>VILLA DEVOTO</td>\n",
       "      <td>Capital Federal</td>\n",
       "      <td>True</td>\n",
       "      <td>3</td>\n",
       "      <td>True</td>\n",
       "      <td>False</td>\n",
       "      <td>False</td>\n",
       "      <td>False</td>\n",
       "    </tr>\n",
       "  </tbody>\n",
       "</table>\n",
       "<p>5 rows × 29 columns</p>\n",
       "</div>"
      ],
      "text/plain": [
       "                                         id  created_on property_type  \\\n",
       "0  4ba89da8e0e5f0677f3bf9b8da4e14c0ffc08ca1  2014-07-02          casa   \n",
       "1  4c508b233a1495e7ba016684ae7a43c4bcc2f26c  2014-07-02  departamento   \n",
       "2  1e0ec350dd33b32977e6da279fdd9e4ebf870d0d  2014-07-02            ph   \n",
       "3  d8470085f8f543f16e0d28b7f38fb2354ab9ce92  2014-07-02          casa   \n",
       "4  4efac79c0ede6d23f5ef3f9b57096fd6ef503cb0  2014-07-02  departamento   \n",
       "\n",
       "  operation    place_name                            place_with_parent_names  \\\n",
       "0      sell   Jose Marmol  |Argentina|Bs.As. G.B.A. Zona Sur|Almirante Br...   \n",
       "1      sell      Belgrano               |Argentina|Capital Federal|Belgrano|   \n",
       "2      sell  Palermo Soho   |Argentina|Capital Federal|Palermo|Palermo Soho|   \n",
       "3      sell       Burzaco  |Argentina|Bs.As. G.B.A. Zona Sur|Almirante Br...   \n",
       "4      sell  Villa Devoto           |Argentina|Capital Federal|Villa Devoto|   \n",
       "\n",
       "  country_name              state_name                        lat-lon  \\\n",
       "0    Argentina  Bs.As. G.B.A. Zona Sur        -34.7875053,-58.3736059   \n",
       "1    Argentina         Capital Federal          -34.55814,-58.4614942   \n",
       "2    Argentina         Capital Federal        -34.5881288,-58.4331522   \n",
       "3    Argentina  Bs.As. G.B.A. Zona Sur  -34.8273730973,-58.3935291244   \n",
       "4    Argentina         Capital Federal        -34.5911545,-58.5101735   \n",
       "\n",
       "         lat  ...    EsDpto   EsPH        localidad                    zona  \\\n",
       "0 -34.787505  ...     False  False  ALMIRANTE BROWN  Bs.As. G.B.A. Zona Sur   \n",
       "1 -34.558140  ...      True  False         BELGRANO         Capital Federal   \n",
       "2 -34.588129  ...     False   True          PALERMO         Capital Federal   \n",
       "3 -34.827373  ...     False  False  ALMIRANTE BROWN  Bs.As. G.B.A. Zona Sur   \n",
       "4 -34.591155  ...      True  False     VILLA DEVOTO         Capital Federal   \n",
       "\n",
       "   localidadEnSet localidad_id  EsCap  EsSur  EsNor  EsOes  \n",
       "0            True            0  False   True  False  False  \n",
       "1            True            1   True  False  False  False  \n",
       "2            True            2   True  False  False  False  \n",
       "3            True            0  False   True  False  False  \n",
       "4            True            3   True  False  False  False  \n",
       "\n",
       "[5 rows x 29 columns]"
      ]
     },
     "execution_count": 119,
     "metadata": {},
     "output_type": "execute_result"
    }
   ],
   "source": [
    "datosPrueba7 = datosSinNull.loc[datosSinNull['localidadEnSet'] == True, :]\n",
    "datosPrueba7 = pd.merge(datosPrueba7,barrios,how='left',on='localidad')\n",
    "datosPrueba7['EsCap'] = datosPrueba7['zona'].str.contains('Capital Federal')\n",
    "datosPrueba7['EsSur'] = datosPrueba7['zona'].str.contains('Bs.As. G.B.A. Zona Sur')\n",
    "datosPrueba7['EsNor'] = datosPrueba7['zona'].str.contains('Bs.As. G.B.A. Zona Norte')\n",
    "datosPrueba7['EsOes'] = datosPrueba7['zona'].str.contains('Bs.As. G.B.A. Zona Oeste')\n",
    "datosPrueba7.head(5)"
   ]
  },
  {
   "cell_type": "code",
   "execution_count": 120,
   "metadata": {
    "collapsed": true
   },
   "outputs": [],
   "source": [
    "barrios = pd.concat([pd.DataFrame([[barrio,0]], columns=['localidad','localidad_id']) for barrio in datosPrueba7['localidad'].unique()]).reset_index()\n",
    "barrios['localidad_id'] = barrios.index\n",
    "barrios = barrios.loc[:,['localidad','localidad_id']]"
   ]
  },
  {
   "cell_type": "code",
   "execution_count": 121,
   "metadata": {},
   "outputs": [
    {
     "name": "stdout",
     "output_type": "stream",
     "text": [
      "['departamento - PUERTO MADERO' 'departamento - ' 'departamento - PALERMO'\n",
      " 'departamento - CHACARITA' 'departamento - COLEGIALES'\n",
      " 'departamento - ALMAGRO' 'departamento - BELGRANO'\n",
      " 'departamento - VILLA CRESPO' 'departamento - CABALLITO' 'ph - BOEDO'\n",
      " 'ph - PARQUE PATRICIOS' 'departamento - RECOLETA' 'casa - LOMAS DE ZAMORA'\n",
      " 'departamento - FLORES' 'ph - FLORES' 'departamento - LA PLATA'\n",
      " 'casa - NUNEZ' 'departamento - MATADEROS' 'casa - MORON' 'casa - '\n",
      " 'departamento - MONSERRAT' 'departamento - TRES DE FEBRERO'\n",
      " 'departamento - BOCA' 'casa - LA PLATA' 'ph - LA PLATA'\n",
      " 'departamento - BOEDO' 'ph - LOMAS DE ZAMORA' 'casa - BERAZATEGUI'\n",
      " 'departamento - VILLA URQUIZA' 'departamento - LOMAS DE ZAMORA'\n",
      " 'departamento - ESTEBAN ECHEVERRIA' 'departamento - VILLA LURO'\n",
      " 'departamento - COGHLAN' 'ph - MATADEROS' 'ph - '\n",
      " 'departamento - BARRIO NORTE' 'casa - BELGRANO' 'ph - VILLA URQUIZA'\n",
      " 'casa - VILLA DEVOTO' 'departamento - BARRACAS'\n",
      " 'departamento - LAS CANITAS' 'casa - PATERNAL' 'departamento - AVELLANEDA'\n",
      " 'casa - LA MATANZA' 'departamento - MONTE CASTRO'\n",
      " 'departamento - BERAZATEGUI' 'departamento - LA MATANZA'\n",
      " 'casa - MATADEROS' 'departamento - RETIRO'\n",
      " 'departamento - VILLA PUEYRREDON' 'ph - MONSERRAT'\n",
      " 'casa - PARQUE CHACABUCO' 'departamento - VILLA DEVOTO'\n",
      " 'departamento - LANUS' 'casa - PALERMO' 'casa - MORENO' 'ph - LINIERS'\n",
      " 'departamento - CONGRESO' 'departamento - CENTRO / MICROCENTRO'\n",
      " 'ph - VILLA LUGANO' 'ph - PALERMO' 'casa - VILLA PUEYRREDON'\n",
      " 'departamento - VILLA LUGANO' 'departamento - PARQUE AVELLANEDA'\n",
      " 'departamento - SAN CRISTOBAL' 'departamento - POMPEYA'\n",
      " 'casa - VILLA LURO' 'departamento - LINIERS' 'ph - LA MATANZA'\n",
      " 'casa - ALMIRANTE BROWN' 'ph - AVELLANEDA' 'departamento - SAAVEDRA'\n",
      " 'casa - ITUZAINGO' 'casa - TRES DE FEBRERO' 'ph - TRES DE FEBRERO'\n",
      " 'departamento - TRIBUNALES' 'casa - VILLA ORTUZAR'\n",
      " 'departamento - BALVANERA' 'ph - BALVANERA' 'ph - SAN CRISTOBAL'\n",
      " 'departamento - PARQUE CHACABUCO' 'ph - PARQUE CHACABUCO' 'casa - ALMAGRO'\n",
      " 'departamento - ONCE' 'casa - LANUS' 'casa - AVELLANEDA'\n",
      " 'departamento - QUILMES' 'ph - QUILMES' 'casa - QUILMES'\n",
      " 'departamento - MORON' 'ph - SAN NICOLAS' 'ph - NUNEZ'\n",
      " 'departamento - ALMIRANTE BROWN' 'departamento - CONSTITUCION'\n",
      " 'casa - VILLA CRESPO' 'departamento - FLORESTA' 'ph - PATERNAL'\n",
      " 'casa - COGHLAN' 'departamento - NUNEZ' 'casa - SAAVEDRA' 'casa - BOCA'\n",
      " 'departamento - EZEIZA' 'ph - ITUZAINGO' 'ph - CABALLITO'\n",
      " 'ph - ALMIRANTE BROWN' 'departamento - VILLA DEL PARQUE'\n",
      " 'departamento - VILLA SANTA RITA' 'ph - MORON' 'casa - VILLA LUGANO'\n",
      " 'ph - FLORESTA' 'departamento - SAN TELMO' 'casa - VILLA URQUIZA'\n",
      " 'casa - CANUELAS' 'casa - HURLINGHAM' 'ph - VILLA DEVOTO'\n",
      " 'departamento - PARQUE PATRICIOS' 'casa - COLEGIALES'\n",
      " 'casa - FLORENCIO VARELA' 'departamento - MERLO'\n",
      " 'departamento - HURLINGHAM' 'casa - ESTEBAN ECHEVERRIA'\n",
      " 'ph - VILLA CRESPO' 'ph - LANUS' 'casa - VELEZ SARSFIELD'\n",
      " 'casa - FLORESTA' 'casa - FLORES' 'ph - ALMAGRO' 'departamento - MORENO'\n",
      " 'casa - BARRACAS' 'departamento - ITUZAINGO' 'departamento - PATERNAL'\n",
      " 'departamento - PARQUE CENTENARIO' 'casa - CABALLITO' 'casa - LINIERS'\n",
      " 'departamento - AGRONOMIA' 'casa - GENERAL RODRIGUEZ' 'casa - MERLO'\n",
      " 'ph - BELGRANO' 'ph - SAAVEDRA' 'casa - VILLA DEL PARQUE'\n",
      " 'ph - PARQUE AVELLANEDA' 'casa - PARQUE PATRICIOS' 'ph - BARRACAS'\n",
      " 'ph - HURLINGHAM' 'ph - COLEGIALES' 'casa - PARQUE AVELLANEDA'\n",
      " 'casa - BOEDO' 'casa - SAN VICENTE' 'ph - VILLA SANTA RITA'\n",
      " 'departamento - SAN NICOLAS' 'casa - VILLA REAL' 'casa - VERSALLES'\n",
      " 'casa - EZEIZA' 'casa - POMPEYA' 'ph - BOCA' 'ph - VILLA DEL PARQUE'\n",
      " 'ph - MERLO' 'departamento - ABASTO' 'departamento - VILLA GENERAL MITRE'\n",
      " 'ph - ABASTO' 'ph - CONSTITUCION' 'departamento - VERSALLES'\n",
      " 'ph - COGHLAN' 'ph - SAN TELMO' 'ph - VILLA GENERAL MITRE'\n",
      " 'ph - VILLA PUEYRREDON' 'casa - CHACARITA' 'casa - SAN TELMO'\n",
      " 'casa - BALVANERA' 'casa - RECOLETA' 'departamento - MARCOS PAZ'\n",
      " 'departamento - VILLA ORTUZAR' 'casa - PRESIDENTE PERON'\n",
      " 'casa - MARCOS PAZ' 'departamento - PARQUE CHAS'\n",
      " 'departamento - FLORENCIO VARELA' 'ph - VILLA LURO'\n",
      " 'departamento - VILLA REAL' 'ph - MARCOS PAZ' 'ph - VELEZ SARSFIELD'\n",
      " 'ph - CONGRESO' 'departamento - VILLA SOLDATI' 'ph - RECOLETA'\n",
      " 'casa - SAN CRISTOBAL' 'ph - POMPEYA' 'ph - BARRIO NORTE' 'ph - VERSALLES'\n",
      " 'ph - MONTE CASTRO' 'departamento - VILLA RIACHUELO' 'casa - MONSERRAT'\n",
      " 'departamento - VELEZ SARSFIELD' 'ph - AGRONOMIA'\n",
      " 'departamento - VICENTE LOPEZ' 'ph - CHACARITA'\n",
      " 'casa - GENERAL SAN MARTIN' 'ph - EZEIZA' 'ph - ONCE'\n",
      " 'departamento - CANUELAS' 'casa - CONSTITUCION' 'ph - PARQUE CENTENARIO'\n",
      " 'departamento - GENERAL RODRIGUEZ' 'casa - MONTE CASTRO'\n",
      " 'casa - BARRIO NORTE' 'ph - ESTEBAN ECHEVERRIA' 'ph - VILLA ORTUZAR'\n",
      " 'ph - PARQUE CHAS' 'ph - BERAZATEGUI' 'casa - AGRONOMIA'\n",
      " 'casa - VILLA SANTA RITA' 'ph - VILLA REAL' 'casa - CENTRO / MICROCENTRO'\n",
      " 'casa - ABASTO']\n"
     ]
    }
   ],
   "source": [
    "datosForTesting['clave'] = datosForTesting.property_type + ' - ' + datosForTesting.localidad\n",
    "claves = datosForTesting['clave'].unique()\n",
    "print(claves)"
   ]
  },
  {
   "cell_type": "code",
   "execution_count": 122,
   "metadata": {
    "collapsed": true
   },
   "outputs": [],
   "source": [
    "def claveEnSet(x):\n",
    "    return x in claves.tolist()"
   ]
  },
  {
   "cell_type": "code",
   "execution_count": 123,
   "metadata": {},
   "outputs": [
    {
     "data": {
      "text/html": [
       "<div>\n",
       "<style>\n",
       "    .dataframe thead tr:only-child th {\n",
       "        text-align: right;\n",
       "    }\n",
       "\n",
       "    .dataframe thead th {\n",
       "        text-align: left;\n",
       "    }\n",
       "\n",
       "    .dataframe tbody tr th {\n",
       "        vertical-align: top;\n",
       "    }\n",
       "</style>\n",
       "<table border=\"1\" class=\"dataframe\">\n",
       "  <thead>\n",
       "    <tr style=\"text-align: right;\">\n",
       "      <th></th>\n",
       "      <th>id</th>\n",
       "      <th>created_on</th>\n",
       "      <th>property_type</th>\n",
       "      <th>operation</th>\n",
       "      <th>place_name</th>\n",
       "      <th>place_with_parent_names</th>\n",
       "      <th>country_name</th>\n",
       "      <th>state_name</th>\n",
       "      <th>lat-lon</th>\n",
       "      <th>lat</th>\n",
       "      <th>...</th>\n",
       "      <th>EsPH</th>\n",
       "      <th>localidad</th>\n",
       "      <th>zona</th>\n",
       "      <th>localidadEnSet</th>\n",
       "      <th>localidad_id</th>\n",
       "      <th>EsCap</th>\n",
       "      <th>EsSur</th>\n",
       "      <th>EsNor</th>\n",
       "      <th>EsOes</th>\n",
       "      <th>clave</th>\n",
       "    </tr>\n",
       "  </thead>\n",
       "  <tbody>\n",
       "    <tr>\n",
       "      <th>0</th>\n",
       "      <td>4ba89da8e0e5f0677f3bf9b8da4e14c0ffc08ca1</td>\n",
       "      <td>2014-07-02</td>\n",
       "      <td>casa</td>\n",
       "      <td>sell</td>\n",
       "      <td>Jose Marmol</td>\n",
       "      <td>|Argentina|Bs.As. G.B.A. Zona Sur|Almirante Br...</td>\n",
       "      <td>Argentina</td>\n",
       "      <td>Bs.As. G.B.A. Zona Sur</td>\n",
       "      <td>-34.7875053,-58.3736059</td>\n",
       "      <td>-34.787505</td>\n",
       "      <td>...</td>\n",
       "      <td>False</td>\n",
       "      <td>ALMIRANTE BROWN</td>\n",
       "      <td>Bs.As. G.B.A. Zona Sur</td>\n",
       "      <td>True</td>\n",
       "      <td>0</td>\n",
       "      <td>False</td>\n",
       "      <td>True</td>\n",
       "      <td>False</td>\n",
       "      <td>False</td>\n",
       "      <td>casa - ALMIRANTE BROWN</td>\n",
       "    </tr>\n",
       "    <tr>\n",
       "      <th>1</th>\n",
       "      <td>4c508b233a1495e7ba016684ae7a43c4bcc2f26c</td>\n",
       "      <td>2014-07-02</td>\n",
       "      <td>departamento</td>\n",
       "      <td>sell</td>\n",
       "      <td>Belgrano</td>\n",
       "      <td>|Argentina|Capital Federal|Belgrano|</td>\n",
       "      <td>Argentina</td>\n",
       "      <td>Capital Federal</td>\n",
       "      <td>-34.55814,-58.4614942</td>\n",
       "      <td>-34.558140</td>\n",
       "      <td>...</td>\n",
       "      <td>False</td>\n",
       "      <td>BELGRANO</td>\n",
       "      <td>Capital Federal</td>\n",
       "      <td>True</td>\n",
       "      <td>1</td>\n",
       "      <td>True</td>\n",
       "      <td>False</td>\n",
       "      <td>False</td>\n",
       "      <td>False</td>\n",
       "      <td>departamento - BELGRANO</td>\n",
       "    </tr>\n",
       "    <tr>\n",
       "      <th>2</th>\n",
       "      <td>1e0ec350dd33b32977e6da279fdd9e4ebf870d0d</td>\n",
       "      <td>2014-07-02</td>\n",
       "      <td>ph</td>\n",
       "      <td>sell</td>\n",
       "      <td>Palermo Soho</td>\n",
       "      <td>|Argentina|Capital Federal|Palermo|Palermo Soho|</td>\n",
       "      <td>Argentina</td>\n",
       "      <td>Capital Federal</td>\n",
       "      <td>-34.5881288,-58.4331522</td>\n",
       "      <td>-34.588129</td>\n",
       "      <td>...</td>\n",
       "      <td>True</td>\n",
       "      <td>PALERMO</td>\n",
       "      <td>Capital Federal</td>\n",
       "      <td>True</td>\n",
       "      <td>2</td>\n",
       "      <td>True</td>\n",
       "      <td>False</td>\n",
       "      <td>False</td>\n",
       "      <td>False</td>\n",
       "      <td>ph - PALERMO</td>\n",
       "    </tr>\n",
       "    <tr>\n",
       "      <th>3</th>\n",
       "      <td>d8470085f8f543f16e0d28b7f38fb2354ab9ce92</td>\n",
       "      <td>2014-07-02</td>\n",
       "      <td>casa</td>\n",
       "      <td>sell</td>\n",
       "      <td>Burzaco</td>\n",
       "      <td>|Argentina|Bs.As. G.B.A. Zona Sur|Almirante Br...</td>\n",
       "      <td>Argentina</td>\n",
       "      <td>Bs.As. G.B.A. Zona Sur</td>\n",
       "      <td>-34.8273730973,-58.3935291244</td>\n",
       "      <td>-34.827373</td>\n",
       "      <td>...</td>\n",
       "      <td>False</td>\n",
       "      <td>ALMIRANTE BROWN</td>\n",
       "      <td>Bs.As. G.B.A. Zona Sur</td>\n",
       "      <td>True</td>\n",
       "      <td>0</td>\n",
       "      <td>False</td>\n",
       "      <td>True</td>\n",
       "      <td>False</td>\n",
       "      <td>False</td>\n",
       "      <td>casa - ALMIRANTE BROWN</td>\n",
       "    </tr>\n",
       "    <tr>\n",
       "      <th>4</th>\n",
       "      <td>4efac79c0ede6d23f5ef3f9b57096fd6ef503cb0</td>\n",
       "      <td>2014-07-02</td>\n",
       "      <td>departamento</td>\n",
       "      <td>sell</td>\n",
       "      <td>Villa Devoto</td>\n",
       "      <td>|Argentina|Capital Federal|Villa Devoto|</td>\n",
       "      <td>Argentina</td>\n",
       "      <td>Capital Federal</td>\n",
       "      <td>-34.5911545,-58.5101735</td>\n",
       "      <td>-34.591155</td>\n",
       "      <td>...</td>\n",
       "      <td>False</td>\n",
       "      <td>VILLA DEVOTO</td>\n",
       "      <td>Capital Federal</td>\n",
       "      <td>True</td>\n",
       "      <td>3</td>\n",
       "      <td>True</td>\n",
       "      <td>False</td>\n",
       "      <td>False</td>\n",
       "      <td>False</td>\n",
       "      <td>departamento - VILLA DEVOTO</td>\n",
       "    </tr>\n",
       "  </tbody>\n",
       "</table>\n",
       "<p>5 rows × 30 columns</p>\n",
       "</div>"
      ],
      "text/plain": [
       "                                         id  created_on property_type  \\\n",
       "0  4ba89da8e0e5f0677f3bf9b8da4e14c0ffc08ca1  2014-07-02          casa   \n",
       "1  4c508b233a1495e7ba016684ae7a43c4bcc2f26c  2014-07-02  departamento   \n",
       "2  1e0ec350dd33b32977e6da279fdd9e4ebf870d0d  2014-07-02            ph   \n",
       "3  d8470085f8f543f16e0d28b7f38fb2354ab9ce92  2014-07-02          casa   \n",
       "4  4efac79c0ede6d23f5ef3f9b57096fd6ef503cb0  2014-07-02  departamento   \n",
       "\n",
       "  operation    place_name                            place_with_parent_names  \\\n",
       "0      sell   Jose Marmol  |Argentina|Bs.As. G.B.A. Zona Sur|Almirante Br...   \n",
       "1      sell      Belgrano               |Argentina|Capital Federal|Belgrano|   \n",
       "2      sell  Palermo Soho   |Argentina|Capital Federal|Palermo|Palermo Soho|   \n",
       "3      sell       Burzaco  |Argentina|Bs.As. G.B.A. Zona Sur|Almirante Br...   \n",
       "4      sell  Villa Devoto           |Argentina|Capital Federal|Villa Devoto|   \n",
       "\n",
       "  country_name              state_name                        lat-lon  \\\n",
       "0    Argentina  Bs.As. G.B.A. Zona Sur        -34.7875053,-58.3736059   \n",
       "1    Argentina         Capital Federal          -34.55814,-58.4614942   \n",
       "2    Argentina         Capital Federal        -34.5881288,-58.4331522   \n",
       "3    Argentina  Bs.As. G.B.A. Zona Sur  -34.8273730973,-58.3935291244   \n",
       "4    Argentina         Capital Federal        -34.5911545,-58.5101735   \n",
       "\n",
       "         lat             ...                EsPH        localidad  \\\n",
       "0 -34.787505             ...               False  ALMIRANTE BROWN   \n",
       "1 -34.558140             ...               False         BELGRANO   \n",
       "2 -34.588129             ...                True          PALERMO   \n",
       "3 -34.827373             ...               False  ALMIRANTE BROWN   \n",
       "4 -34.591155             ...               False     VILLA DEVOTO   \n",
       "\n",
       "                     zona  localidadEnSet  localidad_id  EsCap  EsSur  EsNor  \\\n",
       "0  Bs.As. G.B.A. Zona Sur            True             0  False   True  False   \n",
       "1         Capital Federal            True             1   True  False  False   \n",
       "2         Capital Federal            True             2   True  False  False   \n",
       "3  Bs.As. G.B.A. Zona Sur            True             0  False   True  False   \n",
       "4         Capital Federal            True             3   True  False  False   \n",
       "\n",
       "   EsOes                        clave  \n",
       "0  False       casa - ALMIRANTE BROWN  \n",
       "1  False      departamento - BELGRANO  \n",
       "2  False                 ph - PALERMO  \n",
       "3  False       casa - ALMIRANTE BROWN  \n",
       "4  False  departamento - VILLA DEVOTO  \n",
       "\n",
       "[5 rows x 30 columns]"
      ]
     },
     "execution_count": 123,
     "metadata": {},
     "output_type": "execute_result"
    }
   ],
   "source": [
    "datosPrueba7['clave'] = datosPrueba7.property_type + ' - ' + datosPrueba7.localidad\n",
    "datosPrueba7.head()"
   ]
  },
  {
   "cell_type": "code",
   "execution_count": 124,
   "metadata": {},
   "outputs": [
    {
     "data": {
      "text/plain": [
       "id                         96811\n",
       "created_on                 96811\n",
       "property_type              96811\n",
       "operation                  96811\n",
       "place_name                 96811\n",
       "place_with_parent_names    96811\n",
       "country_name               96811\n",
       "state_name                 96811\n",
       "lat-lon                    96811\n",
       "lat                        96811\n",
       "lon                        96811\n",
       "surface_total_in_m2        96811\n",
       "surface_covered_in_m2      96811\n",
       "floor                      14106\n",
       "rooms                      63971\n",
       "expenses                   21883\n",
       "description                96809\n",
       "price_aprox_usd            96811\n",
       "EsCasa                     96811\n",
       "EsDpto                     96811\n",
       "EsPH                       96811\n",
       "localidad                  96811\n",
       "zona                       96811\n",
       "localidadEnSet             96811\n",
       "localidad_id               96811\n",
       "EsCap                      96811\n",
       "EsSur                      96811\n",
       "EsNor                      96811\n",
       "EsOes                      96811\n",
       "clave                      96811\n",
       "claveEnSet                 96811\n",
       "dtype: int64"
      ]
     },
     "execution_count": 124,
     "metadata": {},
     "output_type": "execute_result"
    }
   ],
   "source": [
    "datosPrueba7['claveEnSet'] = datosPrueba7['clave'].map(claveEnSet)\n",
    "datosPrueba7 = datosPrueba7.loc[datosPrueba7.claveEnSet == True, :]\n",
    "datosPrueba7.count()"
   ]
  },
  {
   "cell_type": "code",
   "execution_count": null,
   "metadata": {
    "collapsed": true
   },
   "outputs": [],
   "source": []
  },
  {
   "cell_type": "code",
   "execution_count": 125,
   "metadata": {},
   "outputs": [
    {
     "data": {
      "text/plain": [
       "array([ 0.33006791,  0.87343448,  0.87213473,  0.86135234,  0.82585935])"
      ]
     },
     "execution_count": 125,
     "metadata": {},
     "output_type": "execute_result"
    }
   ],
   "source": [
    "datosPrueba7Campos = datosPrueba7.loc[:, ['lat', 'lon','surface_total_in_m2', 'surface_covered_in_m2',\\\n",
    "                                              'localidad_id', 'EsCasa', 'EsDpto', 'EsPH',\\\n",
    "                                    'EsCap', 'EsSur', 'EsNor', 'EsOes']]\n",
    "\n",
    "RFRModel = make_pipeline(preprocessing.StandardScaler(), RandomForestRegressor(n_estimators=100, max_features='sqrt'))\n",
    "\n",
    "scores = cross_val_score(RFRModel, datosPrueba7Campos, np.ravel(datosPrueba7['price_aprox_usd']), cv=5)\n",
    "scores"
   ]
  },
  {
   "cell_type": "code",
   "execution_count": 126,
   "metadata": {},
   "outputs": [
    {
     "data": {
      "text/plain": [
       "array([ 428626.89633333,  113946.16455238,  190602.33333333, ...,\n",
       "        170837.6024    ,  157385.15573333,  150778.67648333])"
      ]
     },
     "execution_count": 126,
     "metadata": {},
     "output_type": "execute_result"
    }
   ],
   "source": [
    "imp = Imputer(missing_values='NaN', strategy='median', axis=0)\n",
    "septimaPrueba = datosForTesting.loc[:, ['lat', 'lon','surface_total_in_m2', 'surface_covered_in_m2',\\\n",
    "                                              'localidad_id', 'EsCasa', 'EsDpto', 'EsPH',\\\n",
    "                                    'EsCap', 'EsSur', 'EsNor', 'EsOes']]\n",
    "\n",
    "x_train, x_test, y_train, y_test = train_test_split(datosPrueba7Campos, \\\n",
    "                                                    np.ravel(datosPrueba7['price_aprox_usd']), test_size=0.2)\n",
    "RFRModel.fit(x_train, y_train)\n",
    "prueba7 = RFRModel.predict(imp.fit_transform(septimaPrueba))\n",
    "\n",
    "prueba7"
   ]
  },
  {
   "cell_type": "code",
   "execution_count": null,
   "metadata": {
    "collapsed": true
   },
   "outputs": [],
   "source": [
    "archivo7 = pd.DataFrame()\n",
    "archivo7['id'] = datosForTesting.loc[:,['id']]\n",
    "archivo7['price_usd'] = prueba7\n",
    "archivo7\n",
    "archivo7.to_csv('prueba7.csv', index=False)"
   ]
  },
  {
   "cell_type": "markdown",
   "metadata": {},
   "source": [
    "# Octava estimacion"
   ]
  },
  {
   "cell_type": "code",
   "execution_count": 127,
   "metadata": {},
   "outputs": [
    {
     "data": {
      "text/html": [
       "<div>\n",
       "<style>\n",
       "    .dataframe thead tr:only-child th {\n",
       "        text-align: right;\n",
       "    }\n",
       "\n",
       "    .dataframe thead th {\n",
       "        text-align: left;\n",
       "    }\n",
       "\n",
       "    .dataframe tbody tr th {\n",
       "        vertical-align: top;\n",
       "    }\n",
       "</style>\n",
       "<table border=\"1\" class=\"dataframe\">\n",
       "  <thead>\n",
       "    <tr style=\"text-align: right;\">\n",
       "      <th></th>\n",
       "      <th>clave</th>\n",
       "      <th>clave_id</th>\n",
       "    </tr>\n",
       "  </thead>\n",
       "  <tbody>\n",
       "    <tr>\n",
       "      <th>0</th>\n",
       "      <td>departamento - PUERTO MADERO</td>\n",
       "      <td>0</td>\n",
       "    </tr>\n",
       "    <tr>\n",
       "      <th>1</th>\n",
       "      <td>departamento -</td>\n",
       "      <td>1</td>\n",
       "    </tr>\n",
       "    <tr>\n",
       "      <th>2</th>\n",
       "      <td>departamento - PALERMO</td>\n",
       "      <td>2</td>\n",
       "    </tr>\n",
       "    <tr>\n",
       "      <th>3</th>\n",
       "      <td>departamento - CHACARITA</td>\n",
       "      <td>3</td>\n",
       "    </tr>\n",
       "    <tr>\n",
       "      <th>4</th>\n",
       "      <td>departamento - COLEGIALES</td>\n",
       "      <td>4</td>\n",
       "    </tr>\n",
       "  </tbody>\n",
       "</table>\n",
       "</div>"
      ],
      "text/plain": [
       "                          clave  clave_id\n",
       "0  departamento - PUERTO MADERO         0\n",
       "1               departamento -          1\n",
       "2        departamento - PALERMO         2\n",
       "3      departamento - CHACARITA         3\n",
       "4     departamento - COLEGIALES         4"
      ]
     },
     "execution_count": 127,
     "metadata": {},
     "output_type": "execute_result"
    }
   ],
   "source": [
    "claves_ids = pd.concat([pd.DataFrame([[clave,0]], columns=['clave','clave_id']) for clave in claves]).reset_index()\n",
    "claves_ids['clave_id'] = claves_ids.index\n",
    "claves_ids = claves_ids.loc[:,['clave','clave_id']]\n",
    "claves_ids.head()"
   ]
  },
  {
   "cell_type": "code",
   "execution_count": 130,
   "metadata": {
    "collapsed": true
   },
   "outputs": [],
   "source": [
    "#Data set para nueva prueba\n",
    "datosPrueba8 = datosSinNull.loc[datosSinNull['localidadEnSet'] == True, :]\n",
    "#Le agrego localidad_id\n",
    "datosPrueba8 = pd.merge(datosPrueba8,barrios,how='left',on='localidad')\n",
    "#Encoding para zona\n",
    "datosPrueba8['EsCap'] = datosPrueba8['zona'].str.contains('Capital Federal')\n",
    "datosPrueba8['EsSur'] = datosPrueba8['zona'].str.contains('Bs.As. G.B.A. Zona Sur')\n",
    "datosPrueba8['EsNor'] = datosPrueba8['zona'].str.contains('Bs.As. G.B.A. Zona Norte')\n",
    "datosPrueba8['EsOes'] = datosPrueba8['zona'].str.contains('Bs.As. G.B.A. Zona Oeste')\n",
    "#Agrego claves\n",
    "datosPrueba8['clave'] = datosPrueba8.property_type + ' - ' + datosPrueba8.localidad\n",
    "datosPrueba8['claveEnSet'] = datosPrueba8['clave'].map(claveEnSet)\n",
    "datosPrueba8 = datosPrueba8.loc[datosPrueba8.claveEnSet == True, :]"
   ]
  },
  {
   "cell_type": "code",
   "execution_count": 132,
   "metadata": {},
   "outputs": [
    {
     "data": {
      "text/html": [
       "<div>\n",
       "<style>\n",
       "    .dataframe thead tr:only-child th {\n",
       "        text-align: right;\n",
       "    }\n",
       "\n",
       "    .dataframe thead th {\n",
       "        text-align: left;\n",
       "    }\n",
       "\n",
       "    .dataframe tbody tr th {\n",
       "        vertical-align: top;\n",
       "    }\n",
       "</style>\n",
       "<table border=\"1\" class=\"dataframe\">\n",
       "  <thead>\n",
       "    <tr style=\"text-align: right;\">\n",
       "      <th></th>\n",
       "      <th>id</th>\n",
       "      <th>created_on</th>\n",
       "      <th>property_type</th>\n",
       "      <th>operation</th>\n",
       "      <th>place_name</th>\n",
       "      <th>place_with_parent_names</th>\n",
       "      <th>country_name</th>\n",
       "      <th>state_name</th>\n",
       "      <th>lat-lon</th>\n",
       "      <th>lat</th>\n",
       "      <th>...</th>\n",
       "      <th>zona</th>\n",
       "      <th>localidadEnSet</th>\n",
       "      <th>localidad_id</th>\n",
       "      <th>EsCap</th>\n",
       "      <th>EsSur</th>\n",
       "      <th>EsNor</th>\n",
       "      <th>EsOes</th>\n",
       "      <th>clave</th>\n",
       "      <th>claveEnSet</th>\n",
       "      <th>clave_id</th>\n",
       "    </tr>\n",
       "  </thead>\n",
       "  <tbody>\n",
       "    <tr>\n",
       "      <th>0</th>\n",
       "      <td>4ba89da8e0e5f0677f3bf9b8da4e14c0ffc08ca1</td>\n",
       "      <td>2014-07-02</td>\n",
       "      <td>casa</td>\n",
       "      <td>sell</td>\n",
       "      <td>Jose Marmol</td>\n",
       "      <td>|Argentina|Bs.As. G.B.A. Zona Sur|Almirante Br...</td>\n",
       "      <td>Argentina</td>\n",
       "      <td>Bs.As. G.B.A. Zona Sur</td>\n",
       "      <td>-34.7875053,-58.3736059</td>\n",
       "      <td>-34.787505</td>\n",
       "      <td>...</td>\n",
       "      <td>Bs.As. G.B.A. Zona Sur</td>\n",
       "      <td>True</td>\n",
       "      <td>0</td>\n",
       "      <td>False</td>\n",
       "      <td>True</td>\n",
       "      <td>False</td>\n",
       "      <td>False</td>\n",
       "      <td>casa - ALMIRANTE BROWN</td>\n",
       "      <td>True</td>\n",
       "      <td>69</td>\n",
       "    </tr>\n",
       "    <tr>\n",
       "      <th>1</th>\n",
       "      <td>4c508b233a1495e7ba016684ae7a43c4bcc2f26c</td>\n",
       "      <td>2014-07-02</td>\n",
       "      <td>departamento</td>\n",
       "      <td>sell</td>\n",
       "      <td>Belgrano</td>\n",
       "      <td>|Argentina|Capital Federal|Belgrano|</td>\n",
       "      <td>Argentina</td>\n",
       "      <td>Capital Federal</td>\n",
       "      <td>-34.55814,-58.4614942</td>\n",
       "      <td>-34.558140</td>\n",
       "      <td>...</td>\n",
       "      <td>Capital Federal</td>\n",
       "      <td>True</td>\n",
       "      <td>1</td>\n",
       "      <td>True</td>\n",
       "      <td>False</td>\n",
       "      <td>False</td>\n",
       "      <td>False</td>\n",
       "      <td>departamento - BELGRANO</td>\n",
       "      <td>True</td>\n",
       "      <td>6</td>\n",
       "    </tr>\n",
       "    <tr>\n",
       "      <th>2</th>\n",
       "      <td>1e0ec350dd33b32977e6da279fdd9e4ebf870d0d</td>\n",
       "      <td>2014-07-02</td>\n",
       "      <td>ph</td>\n",
       "      <td>sell</td>\n",
       "      <td>Palermo Soho</td>\n",
       "      <td>|Argentina|Capital Federal|Palermo|Palermo Soho|</td>\n",
       "      <td>Argentina</td>\n",
       "      <td>Capital Federal</td>\n",
       "      <td>-34.5881288,-58.4331522</td>\n",
       "      <td>-34.588129</td>\n",
       "      <td>...</td>\n",
       "      <td>Capital Federal</td>\n",
       "      <td>True</td>\n",
       "      <td>2</td>\n",
       "      <td>True</td>\n",
       "      <td>False</td>\n",
       "      <td>False</td>\n",
       "      <td>False</td>\n",
       "      <td>ph - PALERMO</td>\n",
       "      <td>True</td>\n",
       "      <td>60</td>\n",
       "    </tr>\n",
       "    <tr>\n",
       "      <th>3</th>\n",
       "      <td>d8470085f8f543f16e0d28b7f38fb2354ab9ce92</td>\n",
       "      <td>2014-07-02</td>\n",
       "      <td>casa</td>\n",
       "      <td>sell</td>\n",
       "      <td>Burzaco</td>\n",
       "      <td>|Argentina|Bs.As. G.B.A. Zona Sur|Almirante Br...</td>\n",
       "      <td>Argentina</td>\n",
       "      <td>Bs.As. G.B.A. Zona Sur</td>\n",
       "      <td>-34.8273730973,-58.3935291244</td>\n",
       "      <td>-34.827373</td>\n",
       "      <td>...</td>\n",
       "      <td>Bs.As. G.B.A. Zona Sur</td>\n",
       "      <td>True</td>\n",
       "      <td>0</td>\n",
       "      <td>False</td>\n",
       "      <td>True</td>\n",
       "      <td>False</td>\n",
       "      <td>False</td>\n",
       "      <td>casa - ALMIRANTE BROWN</td>\n",
       "      <td>True</td>\n",
       "      <td>69</td>\n",
       "    </tr>\n",
       "    <tr>\n",
       "      <th>4</th>\n",
       "      <td>4efac79c0ede6d23f5ef3f9b57096fd6ef503cb0</td>\n",
       "      <td>2014-07-02</td>\n",
       "      <td>departamento</td>\n",
       "      <td>sell</td>\n",
       "      <td>Villa Devoto</td>\n",
       "      <td>|Argentina|Capital Federal|Villa Devoto|</td>\n",
       "      <td>Argentina</td>\n",
       "      <td>Capital Federal</td>\n",
       "      <td>-34.5911545,-58.5101735</td>\n",
       "      <td>-34.591155</td>\n",
       "      <td>...</td>\n",
       "      <td>Capital Federal</td>\n",
       "      <td>True</td>\n",
       "      <td>3</td>\n",
       "      <td>True</td>\n",
       "      <td>False</td>\n",
       "      <td>False</td>\n",
       "      <td>False</td>\n",
       "      <td>departamento - VILLA DEVOTO</td>\n",
       "      <td>True</td>\n",
       "      <td>52</td>\n",
       "    </tr>\n",
       "  </tbody>\n",
       "</table>\n",
       "<p>5 rows × 32 columns</p>\n",
       "</div>"
      ],
      "text/plain": [
       "                                         id  created_on property_type  \\\n",
       "0  4ba89da8e0e5f0677f3bf9b8da4e14c0ffc08ca1  2014-07-02          casa   \n",
       "1  4c508b233a1495e7ba016684ae7a43c4bcc2f26c  2014-07-02  departamento   \n",
       "2  1e0ec350dd33b32977e6da279fdd9e4ebf870d0d  2014-07-02            ph   \n",
       "3  d8470085f8f543f16e0d28b7f38fb2354ab9ce92  2014-07-02          casa   \n",
       "4  4efac79c0ede6d23f5ef3f9b57096fd6ef503cb0  2014-07-02  departamento   \n",
       "\n",
       "  operation    place_name                            place_with_parent_names  \\\n",
       "0      sell   Jose Marmol  |Argentina|Bs.As. G.B.A. Zona Sur|Almirante Br...   \n",
       "1      sell      Belgrano               |Argentina|Capital Federal|Belgrano|   \n",
       "2      sell  Palermo Soho   |Argentina|Capital Federal|Palermo|Palermo Soho|   \n",
       "3      sell       Burzaco  |Argentina|Bs.As. G.B.A. Zona Sur|Almirante Br...   \n",
       "4      sell  Villa Devoto           |Argentina|Capital Federal|Villa Devoto|   \n",
       "\n",
       "  country_name              state_name                        lat-lon  \\\n",
       "0    Argentina  Bs.As. G.B.A. Zona Sur        -34.7875053,-58.3736059   \n",
       "1    Argentina         Capital Federal          -34.55814,-58.4614942   \n",
       "2    Argentina         Capital Federal        -34.5881288,-58.4331522   \n",
       "3    Argentina  Bs.As. G.B.A. Zona Sur  -34.8273730973,-58.3935291244   \n",
       "4    Argentina         Capital Federal        -34.5911545,-58.5101735   \n",
       "\n",
       "         lat    ...                       zona  localidadEnSet  localidad_id  \\\n",
       "0 -34.787505    ...     Bs.As. G.B.A. Zona Sur            True             0   \n",
       "1 -34.558140    ...            Capital Federal            True             1   \n",
       "2 -34.588129    ...            Capital Federal            True             2   \n",
       "3 -34.827373    ...     Bs.As. G.B.A. Zona Sur            True             0   \n",
       "4 -34.591155    ...            Capital Federal            True             3   \n",
       "\n",
       "   EsCap  EsSur  EsNor  EsOes                        clave  claveEnSet  \\\n",
       "0  False   True  False  False       casa - ALMIRANTE BROWN        True   \n",
       "1   True  False  False  False      departamento - BELGRANO        True   \n",
       "2   True  False  False  False                 ph - PALERMO        True   \n",
       "3  False   True  False  False       casa - ALMIRANTE BROWN        True   \n",
       "4   True  False  False  False  departamento - VILLA DEVOTO        True   \n",
       "\n",
       "   clave_id  \n",
       "0        69  \n",
       "1         6  \n",
       "2        60  \n",
       "3        69  \n",
       "4        52  \n",
       "\n",
       "[5 rows x 32 columns]"
      ]
     },
     "execution_count": 132,
     "metadata": {},
     "output_type": "execute_result"
    }
   ],
   "source": [
    "datosPrueba8 = pd.merge(datosPrueba8,claves_ids,how='left',on='clave')\n",
    "datosPrueba8.head()"
   ]
  },
  {
   "cell_type": "code",
   "execution_count": 133,
   "metadata": {},
   "outputs": [
    {
     "data": {
      "text/plain": [
       "array([ 0.32582372,  0.89391483,  0.88421288,  0.8637997 ,  0.82568156])"
      ]
     },
     "execution_count": 133,
     "metadata": {},
     "output_type": "execute_result"
    }
   ],
   "source": [
    "datosPrueba8Campos = datosPrueba8.loc[:, ['lat', 'lon','surface_total_in_m2', 'surface_covered_in_m2',\\\n",
    "                                              'localidad_id', 'EsCasa', 'EsDpto', 'EsPH',\\\n",
    "                                    'EsCap', 'EsSur', 'EsNor', 'EsOes', 'clave_id']]\n",
    "\n",
    "RFRModel = make_pipeline(preprocessing.StandardScaler(), RandomForestRegressor(n_estimators=100, max_features='sqrt'))\n",
    "\n",
    "scores = cross_val_score(RFRModel, datosPrueba8Campos, np.ravel(datosPrueba8['price_aprox_usd']), cv=5)\n",
    "scores"
   ]
  },
  {
   "cell_type": "code",
   "execution_count": 134,
   "metadata": {},
   "outputs": [
    {
     "data": {
      "text/html": [
       "<div>\n",
       "<style>\n",
       "    .dataframe thead tr:only-child th {\n",
       "        text-align: right;\n",
       "    }\n",
       "\n",
       "    .dataframe thead th {\n",
       "        text-align: left;\n",
       "    }\n",
       "\n",
       "    .dataframe tbody tr th {\n",
       "        vertical-align: top;\n",
       "    }\n",
       "</style>\n",
       "<table border=\"1\" class=\"dataframe\">\n",
       "  <thead>\n",
       "    <tr style=\"text-align: right;\">\n",
       "      <th></th>\n",
       "      <th>id</th>\n",
       "      <th>created_on</th>\n",
       "      <th>property_type</th>\n",
       "      <th>operation</th>\n",
       "      <th>place_name</th>\n",
       "      <th>place_with_parent_names</th>\n",
       "      <th>country_name</th>\n",
       "      <th>state_name</th>\n",
       "      <th>lat-lon</th>\n",
       "      <th>lat</th>\n",
       "      <th>...</th>\n",
       "      <th>localidad_id</th>\n",
       "      <th>EsCap</th>\n",
       "      <th>EsSur</th>\n",
       "      <th>EsNor</th>\n",
       "      <th>EsOes</th>\n",
       "      <th>EsCasa</th>\n",
       "      <th>EsDpto</th>\n",
       "      <th>EsPH</th>\n",
       "      <th>clave</th>\n",
       "      <th>clave_id</th>\n",
       "    </tr>\n",
       "  </thead>\n",
       "  <tbody>\n",
       "    <tr>\n",
       "      <th>0</th>\n",
       "      <td>3632</td>\n",
       "      <td>2017-08-24</td>\n",
       "      <td>departamento</td>\n",
       "      <td>venta</td>\n",
       "      <td>Puerto Madero</td>\n",
       "      <td>|Argentina|Capital Federal|Puerto Madero|</td>\n",
       "      <td>Argentina</td>\n",
       "      <td>Capital Federal</td>\n",
       "      <td>-34.6109877599,-58.3634635778</td>\n",
       "      <td>-34.610988</td>\n",
       "      <td>...</td>\n",
       "      <td>60</td>\n",
       "      <td>True</td>\n",
       "      <td>False</td>\n",
       "      <td>False</td>\n",
       "      <td>False</td>\n",
       "      <td>False</td>\n",
       "      <td>True</td>\n",
       "      <td>False</td>\n",
       "      <td>departamento - PUERTO MADERO</td>\n",
       "      <td>0</td>\n",
       "    </tr>\n",
       "    <tr>\n",
       "      <th>1</th>\n",
       "      <td>3633</td>\n",
       "      <td>2017-08-25</td>\n",
       "      <td>departamento</td>\n",
       "      <td>venta</td>\n",
       "      <td>Buenos Aires Interior</td>\n",
       "      <td>|Argentina|Buenos Aires Interior|</td>\n",
       "      <td>Argentina</td>\n",
       "      <td>Buenos Aires Interior</td>\n",
       "      <td>NaN</td>\n",
       "      <td>NaN</td>\n",
       "      <td>...</td>\n",
       "      <td>71</td>\n",
       "      <td>False</td>\n",
       "      <td>False</td>\n",
       "      <td>False</td>\n",
       "      <td>False</td>\n",
       "      <td>False</td>\n",
       "      <td>True</td>\n",
       "      <td>False</td>\n",
       "      <td>departamento -</td>\n",
       "      <td>1</td>\n",
       "    </tr>\n",
       "    <tr>\n",
       "      <th>2</th>\n",
       "      <td>2263404</td>\n",
       "      <td>2017-08-01</td>\n",
       "      <td>departamento</td>\n",
       "      <td>venta</td>\n",
       "      <td>Palermo Soho</td>\n",
       "      <td>|Argentina|Capital Federal|Palermo|Palermo Soho|</td>\n",
       "      <td>Argentina</td>\n",
       "      <td>Capital Federal</td>\n",
       "      <td>-34.5893633232,-58.4128798588</td>\n",
       "      <td>-34.589363</td>\n",
       "      <td>...</td>\n",
       "      <td>2</td>\n",
       "      <td>True</td>\n",
       "      <td>False</td>\n",
       "      <td>False</td>\n",
       "      <td>False</td>\n",
       "      <td>False</td>\n",
       "      <td>True</td>\n",
       "      <td>False</td>\n",
       "      <td>departamento - PALERMO</td>\n",
       "      <td>2</td>\n",
       "    </tr>\n",
       "    <tr>\n",
       "      <th>3</th>\n",
       "      <td>2263405</td>\n",
       "      <td>2017-08-01</td>\n",
       "      <td>departamento</td>\n",
       "      <td>venta</td>\n",
       "      <td>Chacarita</td>\n",
       "      <td>|Argentina|Capital Federal|Chacarita|</td>\n",
       "      <td>Argentina</td>\n",
       "      <td>Capital Federal</td>\n",
       "      <td>NaN</td>\n",
       "      <td>NaN</td>\n",
       "      <td>...</td>\n",
       "      <td>28</td>\n",
       "      <td>True</td>\n",
       "      <td>False</td>\n",
       "      <td>False</td>\n",
       "      <td>False</td>\n",
       "      <td>False</td>\n",
       "      <td>True</td>\n",
       "      <td>False</td>\n",
       "      <td>departamento - CHACARITA</td>\n",
       "      <td>3</td>\n",
       "    </tr>\n",
       "    <tr>\n",
       "      <th>4</th>\n",
       "      <td>2263406</td>\n",
       "      <td>2017-08-01</td>\n",
       "      <td>departamento</td>\n",
       "      <td>venta</td>\n",
       "      <td>Chacarita</td>\n",
       "      <td>|Argentina|Capital Federal|Chacarita|</td>\n",
       "      <td>Argentina</td>\n",
       "      <td>Capital Federal</td>\n",
       "      <td>NaN</td>\n",
       "      <td>NaN</td>\n",
       "      <td>...</td>\n",
       "      <td>28</td>\n",
       "      <td>True</td>\n",
       "      <td>False</td>\n",
       "      <td>False</td>\n",
       "      <td>False</td>\n",
       "      <td>False</td>\n",
       "      <td>True</td>\n",
       "      <td>False</td>\n",
       "      <td>departamento - CHACARITA</td>\n",
       "      <td>3</td>\n",
       "    </tr>\n",
       "  </tbody>\n",
       "</table>\n",
       "<p>5 rows × 29 columns</p>\n",
       "</div>"
      ],
      "text/plain": [
       "        id  created_on property_type operation             place_name  \\\n",
       "0     3632  2017-08-24  departamento     venta          Puerto Madero   \n",
       "1     3633  2017-08-25  departamento     venta  Buenos Aires Interior   \n",
       "2  2263404  2017-08-01  departamento     venta           Palermo Soho   \n",
       "3  2263405  2017-08-01  departamento     venta              Chacarita   \n",
       "4  2263406  2017-08-01  departamento     venta              Chacarita   \n",
       "\n",
       "                            place_with_parent_names country_name  \\\n",
       "0         |Argentina|Capital Federal|Puerto Madero|    Argentina   \n",
       "1                 |Argentina|Buenos Aires Interior|    Argentina   \n",
       "2  |Argentina|Capital Federal|Palermo|Palermo Soho|    Argentina   \n",
       "3             |Argentina|Capital Federal|Chacarita|    Argentina   \n",
       "4             |Argentina|Capital Federal|Chacarita|    Argentina   \n",
       "\n",
       "              state_name                        lat-lon        lat    ...     \\\n",
       "0        Capital Federal  -34.6109877599,-58.3634635778 -34.610988    ...      \n",
       "1  Buenos Aires Interior                            NaN        NaN    ...      \n",
       "2        Capital Federal  -34.5893633232,-58.4128798588 -34.589363    ...      \n",
       "3        Capital Federal                            NaN        NaN    ...      \n",
       "4        Capital Federal                            NaN        NaN    ...      \n",
       "\n",
       "   localidad_id  EsCap  EsSur  EsNor  EsOes EsCasa EsDpto   EsPH  \\\n",
       "0            60   True  False  False  False  False   True  False   \n",
       "1            71  False  False  False  False  False   True  False   \n",
       "2             2   True  False  False  False  False   True  False   \n",
       "3            28   True  False  False  False  False   True  False   \n",
       "4            28   True  False  False  False  False   True  False   \n",
       "\n",
       "                          clave  clave_id  \n",
       "0  departamento - PUERTO MADERO         0  \n",
       "1               departamento -          1  \n",
       "2        departamento - PALERMO         2  \n",
       "3      departamento - CHACARITA         3  \n",
       "4      departamento - CHACARITA         3  \n",
       "\n",
       "[5 rows x 29 columns]"
      ]
     },
     "execution_count": 134,
     "metadata": {},
     "output_type": "execute_result"
    }
   ],
   "source": [
    "datosForTesting = pd.merge(datosForTesting,claves_ids,how='left',on='clave')\n",
    "datosForTesting.head()"
   ]
  },
  {
   "cell_type": "code",
   "execution_count": 135,
   "metadata": {},
   "outputs": [
    {
     "data": {
      "text/plain": [
       "array([ 480001.18191667,  118481.41597326,  195455.        , ...,\n",
       "        178037.6024    ,  161590.12733333,  143088.33333333])"
      ]
     },
     "execution_count": 135,
     "metadata": {},
     "output_type": "execute_result"
    }
   ],
   "source": [
    "imp = Imputer(missing_values='NaN', strategy='median', axis=0)\n",
    "octavaPrueba = datosForTesting.loc[:, ['lat', 'lon','surface_total_in_m2', 'surface_covered_in_m2',\\\n",
    "                                              'localidad_id', 'EsCasa', 'EsDpto', 'EsPH',\\\n",
    "                                    'EsCap', 'EsSur', 'EsNor', 'EsOes', 'clave_id']]\n",
    "\n",
    "x_train, x_test, y_train, y_test = train_test_split(datosPrueba8Campos, \\\n",
    "                                                    np.ravel(datosPrueba8['price_aprox_usd']), test_size=0.2)\n",
    "RFRModel.fit(x_train, y_train)\n",
    "prueba8 = RFRModel.predict(imp.fit_transform(octavaPrueba))\n",
    "\n",
    "prueba8"
   ]
  },
  {
   "cell_type": "code",
   "execution_count": null,
   "metadata": {
    "collapsed": true
   },
   "outputs": [],
   "source": [
    "archivo8 = pd.DataFrame()\n",
    "archivo8['id'] = datosForTesting.loc[:,['id']]\n",
    "archivo8['price_usd'] = prueba8\n",
    "archivo8\n",
    "archivo8.to_csv('prueba8.csv', index=False)"
   ]
  },
  {
   "cell_type": "markdown",
   "metadata": {},
   "source": [
    "# Prueba sin lugares"
   ]
  },
  {
   "cell_type": "markdown",
   "metadata": {},
   "source": []
  },
  {
   "cell_type": "code",
   "execution_count": 187,
   "metadata": {},
   "outputs": [],
   "source": [
    "\n",
    "agosto13 = pd.read_csv('resources/properati-AR-2013-08-01-properties-sell.csv')\n",
    "septiembre13 = pd.read_csv('resources/properati-AR-2013-09-01-properties-sell.csv')\n",
    "octubre13 = pd.read_csv('resources/properati-AR-2013-10-01-properties-sell.csv')\n",
    "noviembre13 = pd.read_csv('resources/properati-AR-2013-11-01-properties-sell.csv')\n",
    "diciembre13 = pd.read_csv('resources/properati-AR-2013-12-01-properties-sell.csv')\n",
    "enero14 = pd.read_csv('resources/properati-AR-2014-01-01-properties-sell.csv')\n",
    "febrero14 = pd.read_csv('resources/properati-AR-2014-02-01-properties-sell.csv')\n",
    "marzo14 = pd.read_csv('resources/properati-AR-2014-03-01-properties-sell.csv')\n",
    "abril14 = pd.read_csv('resources/properati-AR-2014-04-01-properties-sell.csv')\n",
    "mayo14 = pd.read_csv('resources/properati-AR-2014-05-01-properties-sell.csv')\n",
    "junio14 = pd.read_csv('resources/properati-AR-2014-06-01-properties-sell.csv')\n",
    "enero15 = pd.read_csv('resources/properati-AR-2015-01-01-properties-sell-six_months.csv')\n",
    "agosto15 = pd.read_csv('resources/properati-AR-2015-08-01-properties-sell-six_months.csv')\n",
    "marzo16 = pd.read_csv('resources/properati-AR-2016-03-01-properties-sell-six_months.csv')\n",
    "abril16 = pd.read_csv('resources/properati-AR-2016-04-01-properties-sell.csv')\n",
    "mayo16 = pd.read_csv('resources/properati-AR-2016-05-01-properties-sell.csv')\n",
    "junio16 = pd.read_csv('resources/properati-AR-2016-06-01-properties-sell.csv')\n",
    "enero17 = pd.read_csv('resources/properati-AR-2017-07-01-properties-sell-six_months.csv')\n",
    "agosto17 = pd.read_csv('resources/properati-AR-2017-08-01-properties-sell.csv')\n",
    "\n",
    "datos = pd.concat([agosto13, septiembre13, octubre13, noviembre13, diciembre13, enero14, febrero14, \\\n",
    "                          marzo14, abril14, mayo14, junio14, enero15, agosto15, marzo16, abril16, mayo16, \\\n",
    "                          junio16, enero17, agosto17])\n",
    "\n",
    "datosForTesting = pd.read_csv('resources/properati_dataset_testing_noprice.csv')\n",
    "\n",
    "datos = datos.loc[:, ['id', 'created_on',  'property_type', 'operation', 'place_name', \\\n",
    "                      'place_with_parent_names', 'country_name', 'state_name', 'lat-lon', 'lat', 'lon', \\\n",
    "                     'surface_total_in_m2', 'surface_covered_in_m2', 'floor', 'rooms', 'expenses', 'description',\\\n",
    "                     'price_aprox_usd']]\n",
    "\n",
    "datos['operation'] = datos['operation'].map(lambda x: 'venta' if x == 'sell' else 'alquiler')\n",
    "\n",
    "datos = datos.loc[datos.property_type != 'store', :]\n",
    "datos['property_type'] = datos['property_type'].map(traducirTipoPropiedad)\n",
    "\n",
    "datos = datos.loc[(datos['state_name'].str.contains('Capital Federal')| \\\n",
    "                   datos['state_name'].str.contains('Bs.As. G.B.A. Zona Sur')|\\\n",
    "                  datos['state_name'].str.contains('Bs.As. G.B.A. Zona Oeste')|\\\n",
    "                  datos['state_name'].str.contains('Buenos Aires Interior')|\\\n",
    "                  datos['state_name'].str.contains('Bs.As. G.B.A. Zona Norte')),:]\n",
    "\n",
    "datos = datos.loc[datos['price_aprox_usd'].notnull(),:]\n",
    "datos = datos.loc[datos['price_aprox_usd'] != 0,:]\n",
    "\n",
    "datosSinNull = datos.loc[datos['lat'].notnull(),:]\n",
    "datosSinNull = datosSinNull.loc[datosSinNull['lon'].notnull(),:]\n",
    "datosSinNull = datosSinNull.loc[datosSinNull['surface_total_in_m2'].notnull(),:]\n",
    "datosSinNull = datosSinNull.loc[datosSinNull['surface_covered_in_m2'].notnull(),:]\n",
    "\n",
    "datosSinNull['year'] = pd.DatetimeIndex(datosSinNull['created_on']).year\n",
    "datosSinNull['month'] = pd.DatetimeIndex(datosSinNull['created_on']).month"
   ]
  },
  {
   "cell_type": "code",
   "execution_count": 188,
   "metadata": {
    "collapsed": true
   },
   "outputs": [],
   "source": [
    "datosSinNullConFechas = datosSinNull.loc[:, ['lat', 'lon', 'surface_total_in_m2','price_aprox_usd', 'surface_covered_in_m2','property_type','year','month']]\n",
    "datosSinNullConFechas = pd.get_dummies(datosSinNullConFechas, prefix=['property_type'])"
   ]
  },
  {
   "cell_type": "code",
   "execution_count": 189,
   "metadata": {},
   "outputs": [
    {
     "name": "stderr",
     "output_type": "stream",
     "text": [
      "C:\\Users\\nicol\\Anaconda3\\lib\\site-packages\\sklearn\\neural_network\\multilayer_perceptron.py:564: ConvergenceWarning: Stochastic Optimizer: Maximum iterations (200) reached and the optimization hasn't converged yet.\n",
      "  % self.max_iter, ConvergenceWarning)\n"
     ]
    },
    {
     "data": {
      "text/plain": [
       "<matplotlib.axes._subplots.AxesSubplot at 0x1d988550a58>"
      ]
     },
     "execution_count": 189,
     "metadata": {},
     "output_type": "execute_result"
    },
    {
     "data": {
      "image/png": "[encoded data removed]",
      "text/plain": [
       "<matplotlib.figure.Figure at 0x1d9885502e8>"
      ]
     },
     "metadata": {},
     "output_type": "display_data"
    }
   ],
   "source": [
    "#Prueba 7\n",
    "\n",
    "x_train, x_test, y_train, y_test = train_test_split(datosSinNullConFechas, datosSinNullConFechas['price_aprox_usd'], test_size=0.2)\n",
    "#x_test = x_test.loc[:, ['lat', 'lon', 'surface_total_in_m2', 'surface_covered_in_m2','property_type_id','rooms']]\n",
    "#x_train = x_train.loc[:, ['lat', 'lon', 'surface_total_in_m2', 'surface_covered_in_m2','property_type_id','rooms']]\n",
    "\n",
    "x_test = x_test.drop('price_aprox_usd',1)\n",
    "x_train = x_train.drop('price_aprox_usd',1)\n",
    "\n",
    "\n",
    "models = [KNeighborsRegressor(),\n",
    "         RandomForestRegressor(n_estimators=100, max_features='sqrt'),\n",
    "         tree.DecisionTreeRegressor(),\n",
    "         neural_network.MLPRegressor()]\n",
    " \n",
    "TestModels = pd.DataFrame()\n",
    "tmp = {}\n",
    " \n",
    "for model in models:\n",
    "        m = str(model)\n",
    "        tmp['Model'] = m[:m.index('(')]\n",
    "        model.fit(x_train, y_train)\n",
    "        tmp['Precio'] = r2_score(y_test, model.predict(x_test))\n",
    "        TestModels = TestModels.append([tmp])\n",
    " \n",
    "TestModels.set_index('Model', inplace=True)\n",
    " \n",
    "fig, axes = plt.subplots(ncols=1, figsize=(10, 4))\n",
    "TestModels.Precio.plot(ax=axes, kind='bar', title='Precio')"
   ]
  },
  {
   "cell_type": "code",
   "execution_count": 190,
   "metadata": {},
   "outputs": [
    {
     "data": {
      "text/plain": [
       "array([ 0.39162159,  0.94040855,  0.89921241,  0.82022905,  0.83650378])"
      ]
     },
     "execution_count": 190,
     "metadata": {},
     "output_type": "execute_result"
    }
   ],
   "source": [
    "datosSinNullConFechasFeatures = datosSinNullConFechas.drop('price_aprox_usd',1)\n",
    "datosSinNullConFechasPrecios = datosSinNullConFechas.loc[:, ['price_aprox_usd']]\n",
    "\n",
    "RFRModel = RandomForestRegressor(n_estimators=100, max_features='sqrt')\n",
    "scores = cross_val_score(RFRModel, datosSinNullConFechasFeatures, np.ravel(datosSinNullConFechasPrecios), cv=5)\n",
    "scores"
   ]
  },
  {
   "cell_type": "code",
   "execution_count": null,
   "metadata": {},
   "outputs": [],
   "source": []
  },
  {
   "cell_type": "markdown",
   "metadata": {},
   "source": [
    "# Test con Set de Pruebas"
   ]
  },
  {
   "cell_type": "code",
   "execution_count": 192,
   "metadata": {},
   "outputs": [],
   "source": [
    "datosForTesting['year'] = pd.DatetimeIndex(datosForTesting['created_on']).year\n",
    "datosForTesting['month'] = pd.DatetimeIndex(datosForTesting['created_on']).month\n",
    "datosForTestingFecha = datosForTesting.loc[:, ['lat', 'lon', 'surface_total_in_m2', 'surface_covered_in_m2','property_type','year','month']]\n",
    "datosForTestingFecha = pd.get_dummies(datosForTestingFecha, prefix=['property_type'])"
   ]
  },
  {
   "cell_type": "code",
   "execution_count": 185,
   "metadata": {},
   "outputs": [],
   "source": [
    "sextaPrueba = datosForTestingFecha\n",
    "\n",
    "imp = Imputer(missing_values='NaN', strategy='median', axis=0)\n",
    "imp.fit_transform(sextaPrueba)\n",
    "\n",
    "\n",
    "RFRModel = RandomForestRegressor(n_estimators=100, max_features='sqrt')\n",
    "x_train, x_test, y_train, y_test = train_test_split(datosSinNullConFechasFeatures, datosSinNullConFechasPrecios['price_aprox_usd'], test_size=0.2)\n",
    "RFRModel.fit(x_train, y_train)\n",
    "prueba6 = RFRModel.predict(imp.fit_transform(sextaPrueba))"
   ]
  },
  {
   "cell_type": "markdown",
   "metadata": {},
   "source": [
    "# Pruebas con OHC en Barrios"
   ]
  },
  {
   "cell_type": "code",
   "execution_count": 193,
   "metadata": {
    "collapsed": true
   },
   "outputs": [],
   "source": [
    "datosSinNull = datosSinNull.loc[datosSinNull['lon'].notnull(),:]\n",
    "datosSinNull = datosSinNull.loc[datosSinNull['surface_total_in_m2'].notnull(),:]\n",
    "datosSinNull = datosSinNull.loc[datosSinNull['price_aprox_usd'].notnull(),:]\n",
    "datosSinNull = datosSinNull.loc[datosSinNull['lat'].notnull(),:]\n",
    "datosSinNull = datosSinNull.loc[datosSinNull['surface_covered_in_m2'].notnull(),:]\n",
    "datosSinNull = datosSinNull.loc[datosSinNull['rooms'].notnull(),:]\n",
    "datosSinNull['year'] = pd.DatetimeIndex(datosSinNull['created_on']).year\n",
    "datosSinNull['month'] = pd.DatetimeIndex(datosSinNull['created_on']).month\n",
    "\n",
    "datosSinNullOHC = datosSinNull.loc[:, ['lat', 'lon', 'surface_total_in_m2','price_aprox_usd', 'place_name' ,'surface_covered_in_m2','property_type','year','month','rooms']]"
   ]
  },
  {
   "cell_type": "code",
   "execution_count": 195,
   "metadata": {
    "collapsed": true
   },
   "outputs": [],
   "source": [
    "datosSinNullOHCWithDummies = pd.get_dummies(datosSinNullOHC)"
   ]
  },
  {
   "cell_type": "code",
   "execution_count": 196,
   "metadata": {},
   "outputs": [
    {
     "name": "stderr",
     "output_type": "stream",
     "text": [
      "C:\\Users\\nicol\\Anaconda3\\lib\\site-packages\\sklearn\\neural_network\\multilayer_perceptron.py:564: ConvergenceWarning: Stochastic Optimizer: Maximum iterations (200) reached and the optimization hasn't converged yet.\n",
      "  % self.max_iter, ConvergenceWarning)\n"
     ]
    },
    {
     "data": {
      "text/plain": [
       "<matplotlib.axes._subplots.AxesSubplot at 0x1d9885c0128>"
      ]
     },
     "execution_count": 196,
     "metadata": {},
     "output_type": "execute_result"
    },
    {
     "data": {
      "image/png": "[encoded data removed]",
      "text/plain": [
       "<matplotlib.figure.Figure at 0x1d9885bb1d0>"
      ]
     },
     "metadata": {},
     "output_type": "display_data"
    }
   ],
   "source": [
    "#Prueba 8\n",
    "\n",
    "x_train, x_test, y_train, y_test = train_test_split(datosSinNullOHCWithDummies, datosSinNullOHCWithDummies['price_aprox_usd'], test_size=0.2)\n",
    "#x_test = x_test.loc[:, ['lat', 'lon', 'surface_total_in_m2', 'surface_covered_in_m2','property_type_id','rooms']]\n",
    "#x_train = x_train.loc[:, ['lat', 'lon', 'surface_total_in_m2', 'surface_covered_in_m2','property_type_id','rooms']]\n",
    "\n",
    "x_test = x_test.drop('price_aprox_usd',1)\n",
    "x_train = x_train.drop('price_aprox_usd',1)\n",
    "\n",
    "\n",
    "models = [KNeighborsRegressor(),\n",
    "         RandomForestRegressor(n_estimators=100, max_features='sqrt'),\n",
    "         tree.DecisionTreeRegressor(),\n",
    "         neural_network.MLPRegressor()]\n",
    " \n",
    "TestModels = pd.DataFrame()\n",
    "tmp = {}\n",
    " \n",
    "for model in models:\n",
    "        m = str(model)\n",
    "        tmp['Model'] = m[:m.index('(')]\n",
    "        model.fit(x_train, y_train)\n",
    "        tmp['Precio'] = r2_score(y_test, model.predict(x_test))\n",
    "        TestModels = TestModels.append([tmp])\n",
    " \n",
    "TestModels.set_index('Model', inplace=True)\n",
    " \n",
    "fig, axes = plt.subplots(ncols=1, figsize=(10, 4))\n",
    "TestModels.Precio.plot(ax=axes, kind='bar', title='Precio')"
   ]
  },
  {
   "cell_type": "code",
   "execution_count": null,
   "metadata": {
    "collapsed": true
   },
   "outputs": [],
   "source": [
    "datosSinNullOHCWithDummiesFeatures = datosSinNullOHCWithDummies.drop('price_aprox_usd',1)\n",
    "datosSinNullOHCWithDummiesPrecios = datosSinNullOHCWithDummies.loc[:, ['price_aprox_usd']]\n",
    "\n",
    "RFRModel = RandomForestRegressor(n_estimators=100, max_features='sqrt')\n",
    "scores = cross_val_score(RFRModel, datosSinNullOHCWithDummiesFeatures, np.ravel(datosSinNullOHCWithDummiesPrecios), cv=5)\n",
    "scores"
   ]
  },
  {
   "cell_type": "code",
   "execution_count": null,
   "metadata": {
    "collapsed": true
   },
   "outputs": [],
   "source": [
    "datosForTesting['year'] = pd.DatetimeIndex(datosForTesting['created_on']).year\n",
    "datosForTesting['month'] = pd.DatetimeIndex(datosForTesting['created_on']).month\n",
    "datosForTestingOHC = datosForTesting.loc[:, ['lat', 'lon', 'surface_total_in_m2','place_name' ,'surface_covered_in_m2','property_type','year','month','rooms']]\n",
    "datosForTestingOHC = pd.get_dummies(datosForTestingOHC)"
   ]
  },
  {
   "cell_type": "markdown",
   "metadata": {},
   "source": [
    "# Type y Barrios con OHC"
   ]
  },
  {
   "cell_type": "code",
   "execution_count": 197,
   "metadata": {
    "collapsed": true
   },
   "outputs": [],
   "source": [
    "datosSinNull['year'] = pd.DatetimeIndex(datosSinNull['created_on']).year\n",
    "datosSinNull['month'] = pd.DatetimeIndex(datosSinNull['created_on']).month\n",
    "\n",
    "def split_place_with_parent_names_localidad(x):\n",
    "    z=x.split(\"|\")\n",
    "    return z[3]\n",
    "\n",
    "datosSinNull['localidad'] = datosSinNull['place_with_parent_names'].map(split_place_with_parent_names_localidad)\n",
    "datosForTesting['localidad'] = datosForTesting['place_with_parent_names'].map(split_place_with_parent_names_localidad)"
   ]
  },
  {
   "cell_type": "code",
   "execution_count": 198,
   "metadata": {
    "collapsed": true
   },
   "outputs": [],
   "source": [
    "localidades = datosForTesting['localidad'].unique()\n",
    "\n",
    "\n",
    "def localidadEnSet(x):\n",
    "    return x in localidades.tolist()\n",
    "\n",
    "\n",
    "datosSinNull['localidadEnSet'] = datosSinNull['localidad'].map(localidadEnSet)\n",
    "datosSamePlaces = datosSinNull.loc[datosSinNull['localidadEnSet'] == True, :]\n",
    "\n"
   ]
  },
  {
   "cell_type": "code",
   "execution_count": 199,
   "metadata": {
    "collapsed": true
   },
   "outputs": [],
   "source": [
    "datosSamePlacesFiltered = datosSamePlaces.loc[:, ['lat', 'lon', 'surface_total_in_m2','price_aprox_usd', 'localidad' ,'surface_covered_in_m2','property_type','year','month']]\n",
    "datosSamePlacesFiltered = pd.get_dummies(datosSamePlacesFiltered)"
   ]
  },
  {
   "cell_type": "markdown",
   "metadata": {},
   "source": [
    "# Entrenamiento"
   ]
  },
  {
   "cell_type": "code",
   "execution_count": 200,
   "metadata": {},
   "outputs": [
    {
     "name": "stderr",
     "output_type": "stream",
     "text": [
      "C:\\Users\\nicol\\Anaconda3\\lib\\site-packages\\sklearn\\neural_network\\multilayer_perceptron.py:564: ConvergenceWarning: Stochastic Optimizer: Maximum iterations (200) reached and the optimization hasn't converged yet.\n",
      "  % self.max_iter, ConvergenceWarning)\n"
     ]
    },
    {
     "data": {
      "text/plain": [
       "<matplotlib.axes._subplots.AxesSubplot at 0x1d987f14908>"
      ]
     },
     "execution_count": 200,
     "metadata": {},
     "output_type": "execute_result"
    },
    {
     "data": {
      "image/png": "[encoded data removed]",
      "text/plain": [
       "<matplotlib.figure.Figure at 0x1d987f1b668>"
      ]
     },
     "metadata": {},
     "output_type": "display_data"
    }
   ],
   "source": [
    "#Prueba 9\n",
    "\n",
    "x_train, x_test, y_train, y_test = train_test_split(datosSamePlacesFiltered, datosSamePlacesFiltered['price_aprox_usd'], test_size=0.2)\n",
    "#x_test = x_test.loc[:, ['lat', 'lon', 'surface_total_in_m2', 'surface_covered_in_m2','property_type_id','rooms']]\n",
    "#x_train = x_train.loc[:, ['lat', 'lon', 'surface_total_in_m2', 'surface_covered_in_m2','property_type_id','rooms']]\n",
    "\n",
    "x_test = x_test.drop('price_aprox_usd',1)\n",
    "x_train = x_train.drop('price_aprox_usd',1)\n",
    "\n",
    "\n",
    "models = [KNeighborsRegressor(),\n",
    "         RandomForestRegressor(n_estimators=100, max_features='sqrt'),\n",
    "         tree.DecisionTreeRegressor(),\n",
    "         neural_network.MLPRegressor()]\n",
    " \n",
    "TestModels = pd.DataFrame()\n",
    "tmp = {}\n",
    " \n",
    "for model in models:\n",
    "        m = str(model)\n",
    "        tmp['Model'] = m[:m.index('(')]\n",
    "        model.fit(x_train, y_train)\n",
    "        tmp['Precio'] = r2_score(y_test, model.predict(x_test))\n",
    "        TestModels = TestModels.append([tmp])\n",
    " \n",
    "TestModels.set_index('Model', inplace=True)\n",
    " \n",
    "fig, axes = plt.subplots(ncols=1, figsize=(10, 4))\n",
    "TestModels.Precio.plot(ax=axes, kind='bar', title='Precio')"
   ]
  },
  {
   "cell_type": "code",
   "execution_count": 201,
   "metadata": {},
   "outputs": [
    {
     "data": {
      "text/plain": [
       "array([ 0.25904793,  0.96279697,  0.89320367,  0.84678769,  0.90037426])"
      ]
     },
     "execution_count": 201,
     "metadata": {},
     "output_type": "execute_result"
    }
   ],
   "source": [
    "datosSamePlacesFilteredFeatures = datosSamePlacesFiltered.drop('price_aprox_usd',1)\n",
    "datosSamePlacesFilteredPrecios = datosSamePlacesFiltered.loc[:, ['price_aprox_usd']]\n",
    "\n",
    "RFRModel = RandomForestRegressor(n_estimators=100, max_features='sqrt')\n",
    "scores = cross_val_score(RFRModel, datosSamePlacesFilteredFeatures, np.ravel(datosSamePlacesFilteredPrecios), cv=5)\n",
    "scores"
   ]
  },
  {
   "cell_type": "markdown",
   "metadata": {},
   "source": [
    "# Set de datos de prueba"
   ]
  },
  {
   "cell_type": "code",
   "execution_count": 203,
   "metadata": {},
   "outputs": [],
   "source": [
    "datosForTesting['year'] = pd.DatetimeIndex(datosForTesting['created_on']).year\n",
    "datosForTesting['month'] = pd.DatetimeIndex(datosForTesting['created_on']).month\n",
    "\n",
    "datosForTestingFiltered = datosForTesting.loc[:, ['lat', 'lon', 'surface_total_in_m2','property_type' ,'localidad' ,'surface_covered_in_m2','year','month']]\n",
    "datosForTestingFiltered = pd.get_dummies(datosForTestingFiltered)\n",
    "\n",
    "octavaPrueba = datosForTestingFiltered\n",
    "\n",
    "imp = Imputer(missing_values='NaN', strategy='median', axis=0)\n",
    "imp.fit_transform(octavaPrueba)\n",
    "impColumns = Imputer()\n",
    "impColumns.fit_transform(octavaPrueba)\n",
    "RFRModel = RandomForestRegressor(n_estimators=100, max_features='sqrt')\n",
    "x_train, x_test, y_train, y_test = train_test_split(datosSamePlacesFilteredFeatures, datosSamePlacesFilteredPrecios['price_aprox_usd'], test_size=0.2)\n",
    "RFRModel.fit(x_train, y_train)\n",
    "prueba8 = RFRModel.predict(imp.fit_transform(octavaPrueba))"
   ]
  },
  {
   "cell_type": "markdown",
   "metadata": {},
   "source": [
    "# Agrupamos por Comunas"
   ]
  },
  {
   "cell_type": "markdown",
   "metadata": {},
   "source": [
    "Creamos un csv de comunas para Capital Federal. Para el caso de Buenos Aires, asociamos el state name "
   ]
  },
  {
   "cell_type": "code",
   "execution_count": 211,
   "metadata": {
    "collapsed": true
   },
   "outputs": [],
   "source": [
    "\n",
    "\n",
    "datosSinNull['year'] = pd.DatetimeIndex(datosSinNull['created_on']).year\n",
    "datosSinNull['month'] = pd.DatetimeIndex(datosSinNull['created_on']).month\n",
    "\n",
    "\n",
    "datosForTesting['year'] = pd.DatetimeIndex(datosForTesting['created_on']).year\n",
    "datosForTesting['month'] = pd.DatetimeIndex(datosForTesting['created_on']).month\n",
    "\n",
    "comunas = pd.read_csv('resources/comunas.csv')"
   ]
  },
  {
   "cell_type": "code",
   "execution_count": 212,
   "metadata": {
    "collapsed": true
   },
   "outputs": [],
   "source": [
    "datosSinNull['tipo'] = 'train'\n",
    "datosForTesting['tipo'] = 'test'\n",
    "concat_df = pd.concat([datosSinNull , datosForTesting])"
   ]
  },
  {
   "cell_type": "code",
   "execution_count": 213,
   "metadata": {
    "collapsed": true
   },
   "outputs": [],
   "source": [
    "datosConComunas = pd.merge(concat_df, comunas, left_on='place_name', right_on='barrio',how='left')"
   ]
  },
  {
   "cell_type": "code",
   "execution_count": 214,
   "metadata": {
    "collapsed": true
   },
   "outputs": [],
   "source": [
    "datosConComunas.loc[datosConComunas['barrio'].isnull(), 'barrio'] = datosConComunas['state_name']\n",
    "datosConComunas.loc[datosConComunas['state_name'] == 'Bs.As. G.B.A. Zona Sur', 'comuna'] = '17' \n",
    "datosConComunas.loc[datosConComunas['state_name'] == 'Bs.As. G.B.A. Zona Norte', 'comuna'] = '18'\n",
    "datosConComunas.loc[datosConComunas['state_name'] == 'Bs.As. G.B.A. Zona Oeste', 'comuna'] = '19'\n",
    "datosConComunas.loc[datosConComunas['state_name'] == 'Buenos Aires Interior', 'comuna'] = '20'\n",
    "datosConComunas.loc[:, 'comuna'] = 'Comuna '+ datosConComunas['comuna'].astype(str)"
   ]
  },
  {
   "cell_type": "code",
   "execution_count": 215,
   "metadata": {
    "collapsed": true
   },
   "outputs": [],
   "source": [
    "datosConComunasFiltered = datosConComunas.loc[:, ['lat', 'lon', 'surface_total_in_m2','price_aprox_usd','surface_covered_in_m2','property_type','comuna','year','month','tipo']]"
   ]
  },
  {
   "cell_type": "code",
   "execution_count": 216,
   "metadata": {
    "collapsed": true
   },
   "outputs": [],
   "source": [
    "datosConComunasFilteredOHC = pd.get_dummies(datosConComunasFiltered)\n",
    "#datosConComunasFilteredOHC.columns\n",
    "\n",
    "trainConComunas = datosConComunasFilteredOHC[datosConComunasFilteredOHC['tipo_train'] == 1]\n",
    "testConComunas = datosConComunasFilteredOHC[datosConComunasFilteredOHC['tipo_test'] == 1]\n",
    "\n",
    "# Drop your labels\n",
    "trainConComunas = trainConComunas.drop(['tipo_train','tipo_test'], axis=1)\n",
    "testConComunas = testConComunas.drop(['tipo_train','tipo_test'], axis=1)"
   ]
  },
  {
   "cell_type": "code",
   "execution_count": 217,
   "metadata": {},
   "outputs": [
    {
     "name": "stderr",
     "output_type": "stream",
     "text": [
      "C:\\Users\\nicol\\Anaconda3\\lib\\site-packages\\sklearn\\neural_network\\multilayer_perceptron.py:564: ConvergenceWarning: Stochastic Optimizer: Maximum iterations (200) reached and the optimization hasn't converged yet.\n",
      "  % self.max_iter, ConvergenceWarning)\n"
     ]
    },
    {
     "data": {
      "text/plain": [
       "<matplotlib.axes._subplots.AxesSubplot at 0x1d9c0b17c18>"
      ]
     },
     "execution_count": 217,
     "metadata": {},
     "output_type": "execute_result"
    },
    {
     "data": {
      "image/png": "[encoded data removed]",
      "text/plain": [
       "<matplotlib.figure.Figure at 0x1d9c0b17550>"
      ]
     },
     "metadata": {},
     "output_type": "display_data"
    }
   ],
   "source": [
    "#Prueba 9\n",
    "\n",
    "x_train, x_test, y_train, y_test = train_test_split(trainConComunas, trainConComunas['price_aprox_usd'], test_size=0.2)\n",
    "#x_test = x_test.loc[:, ['lat', 'lon', 'surface_total_in_m2', 'surface_covered_in_m2','property_type_id','rooms']]\n",
    "#x_train = x_train.loc[:, ['lat', 'lon', 'surface_total_in_m2', 'surface_covered_in_m2','property_type_id','rooms']]\n",
    "\n",
    "x_test = x_test.drop('price_aprox_usd',1)\n",
    "x_train = x_train.drop('price_aprox_usd',1)\n",
    "\n",
    "\n",
    "models = [KNeighborsRegressor(),\n",
    "         RandomForestRegressor(n_estimators=100, max_features='sqrt'),\n",
    "         tree.DecisionTreeRegressor(),\n",
    "         neural_network.MLPRegressor()]\n",
    " \n",
    "TestModels = pd.DataFrame()\n",
    "tmp = {}\n",
    " \n",
    "for model in models:\n",
    "        m = str(model)\n",
    "        tmp['Model'] = m[:m.index('(')]\n",
    "        model.fit(x_train, y_train)\n",
    "        tmp['Precio'] = r2_score(y_test, model.predict(x_test))\n",
    "        TestModels = TestModels.append([tmp])\n",
    " \n",
    "TestModels.set_index('Model', inplace=True)\n",
    " \n",
    "fig, axes = plt.subplots(ncols=1, figsize=(10, 4))\n",
    "TestModels.Precio.plot(ax=axes, kind='bar', title='Precio')"
   ]
  },
  {
   "cell_type": "code",
   "execution_count": 218,
   "metadata": {
    "collapsed": true
   },
   "outputs": [],
   "source": [
    "datosOHCFeatures = trainConComunas.drop('price_aprox_usd',1)\n",
    "datosOHCPrecios = trainConComunas.loc[:, ['price_aprox_usd']]"
   ]
  },
  {
   "cell_type": "code",
   "execution_count": 219,
   "metadata": {},
   "outputs": [
    {
     "data": {
      "text/plain": [
       "array([ 0.33597288,  0.96339663,  0.88586985,  0.8217689 ,  0.89190714])"
      ]
     },
     "execution_count": 219,
     "metadata": {},
     "output_type": "execute_result"
    }
   ],
   "source": [
    "RFRModel = RandomForestRegressor(n_estimators=100, max_features='sqrt')\n",
    "scores = cross_val_score(RFRModel, datosOHCFeatures, np.ravel(datosOHCPrecios.loc[:, ['price_aprox_usd']]), cv=5)\n",
    "scores"
   ]
  },
  {
   "cell_type": "markdown",
   "metadata": {},
   "source": [
    "# Set de Datos de Prueba"
   ]
  },
  {
   "cell_type": "code",
   "execution_count": 220,
   "metadata": {
    "collapsed": true
   },
   "outputs": [],
   "source": [
    "novenaPrueba = testConComunas.drop('price_aprox_usd', axis=1)\n",
    "imp = Imputer(missing_values='NaN', strategy='median', axis=0)\n",
    "imp.fit_transform(novenaPrueba)\n",
    "\n",
    "RFRModel = RandomForestRegressor(n_estimators=100, max_features='sqrt')\n",
    "x_train, x_test, y_train, y_test = train_test_split(datosOHCFeatures, datosOHCPrecios['price_aprox_usd'], test_size=0.2)\n",
    "RFRModel.fit(x_train, y_train)\n",
    "prueba9 = RFRModel.predict(imp.fit_transform(novenaPrueba))"
   ]
  },
  {
   "cell_type": "markdown",
   "metadata": {},
   "source": [
    "# Expensas"
   ]
  },
  {
   "cell_type": "markdown",
   "metadata": {},
   "source": [
    "Agregamos el valor de las expensas como parte de entrenamiento"
   ]
  },
  {
   "cell_type": "code",
   "execution_count": 221,
   "metadata": {
    "collapsed": true
   },
   "outputs": [],
   "source": [
    "datosConComunasFiltered = datosConComunas.loc[:, ['lat', 'lon', 'surface_total_in_m2','price_aprox_usd','surface_covered_in_m2','property_type','comuna','year','month','tipo', 'expenses']]\n",
    "datosConComunasFilteredOHC = pd.get_dummies(datosConComunasFiltered)\n",
    "\n",
    "\n",
    "trainConComunasyExpenses = datosConComunasFilteredOHC[datosConComunasFilteredOHC['tipo_train'] == 1]\n",
    "testConComunasyExpenses = datosConComunasFilteredOHC[datosConComunasFilteredOHC['tipo_test'] == 1]\n",
    "\n",
    "\n",
    "trainConComunasyExpenses = trainConComunasyExpenses.drop(['tipo_train','tipo_test'], axis=1)\n",
    "testConComunasyExpenses = testConComunasyExpenses.drop(['tipo_train','tipo_test'], axis=1)\n"
   ]
  },
  {
   "cell_type": "code",
   "execution_count": null,
   "metadata": {
    "collapsed": true
   },
   "outputs": [],
   "source": [
    "#Prueba 10\n",
    "\n",
    "x_train, x_test, y_train, y_test = train_test_split(trainConComunasyExpenses, trainConComunasyExpenses['price_aprox_usd'], test_size=0.2)\n",
    "\n",
    "x_test = x_test.drop('price_aprox_usd',1)\n",
    "x_train = x_train.drop('price_aprox_usd',1)\n",
    "\n",
    "\n",
    "models = [KNeighborsRegressor(),\n",
    "         RandomForestRegressor(n_estimators=100, max_features='sqrt'),\n",
    "         tree.DecisionTreeRegressor(),\n",
    "         neural_network.MLPRegressor()]\n",
    " \n",
    "TestModels = pd.DataFrame()\n",
    "tmp = {}\n",
    " \n",
    "for model in models:\n",
    "        m = str(model)\n",
    "        tmp['Model'] = m[:m.index('(')]\n",
    "        model.fit(x_train, y_train)\n",
    "        tmp['Precio'] = r2_score(y_test, model.predict(x_test))\n",
    "        TestModels = TestModels.append([tmp])\n",
    " \n",
    "TestModels.set_index('Model', inplace=True)\n",
    " \n",
    "fig, axes = plt.subplots(ncols=1, figsize=(10, 4))\n",
    "TestModels.Precio.plot(ax=axes, kind='bar', title='Precio')"
   ]
  },
  {
   "cell_type": "code",
   "execution_count": null,
   "metadata": {
    "collapsed": true
   },
   "outputs": [],
   "source": [
    "datosExpensesFeatures = trainConComunasyExpenses.drop('price_aprox_usd',1)\n",
    "datosExpensesPrecios = trainConComunasyExpenses.loc[:, ['price_aprox_usd']]\n",
    "\n",
    "RFRModel = RandomForestRegressor(n_estimators=100, max_features='sqrt')\n",
    "scores = cross_val_score(RFRModel, datosExpensesFeatures, np.ravel(datosExpensesPrecios.loc[:, ['price_aprox_usd']]), cv=5)\n",
    "scores"
   ]
  },
  {
   "cell_type": "markdown",
   "metadata": {},
   "source": [
    "array([ 0.39319107,  0.93250573,  0.89802838,  0.80779864,  0.82676582])"
   ]
  },
  {
   "cell_type": "markdown",
   "metadata": {},
   "source": [
    "# Set de Datos de Prueba"
   ]
  },
  {
   "cell_type": "code",
   "execution_count": null,
   "metadata": {
    "collapsed": true
   },
   "outputs": [],
   "source": [
    "decimaPrueba = testConComunasyExpenses.drop('price_aprox_usd', axis=1)\n",
    "imp = Imputer(missing_values='NaN', strategy='median', axis=0)\n",
    "imp.fit_transform(decimaPrueba)\n",
    "\n",
    "RFRModel = RandomForestRegressor(n_estimators=100, max_features='sqrt')\n",
    "x_train, x_test, y_train, y_test = train_test_split(datosExpensesFeatures, datosExpensesPrecios['price_aprox_usd'], test_size=0.2)\n",
    "RFRModel.fit(x_train, y_train)\n",
    "prueba10 = RFRModel.predict(imp.fit_transform(decimaPrueba))"
   ]
  },
  {
   "cell_type": "markdown",
   "metadata": {},
   "source": [
    "# Rooms "
   ]
  },
  {
   "cell_type": "markdown",
   "metadata": {},
   "source": [
    "Agregamos el valor de las habitaciones. Intentamos generar un valor de rooms mediana por tipo de propiedad"
   ]
  },
  {
   "cell_type": "code",
   "execution_count": 226,
   "metadata": {
    "collapsed": true
   },
   "outputs": [],
   "source": [
    "datosRooms = datosConComunas.loc[:, ['lat', 'lon', 'surface_total_in_m2','price_aprox_usd','surface_covered_in_m2','property_type','comuna','year','month','tipo', 'rooms']]\n",
    "datosRooms = pd.get_dummies(datosRooms)\n",
    "\n",
    "\n",
    "trainRooms= datosRooms[datosRooms['tipo_train'] == 1]\n",
    "testRooms = datosRooms[datosRooms['tipo_test'] == 1]\n",
    "\n",
    "\n",
    "trainRooms = trainRooms.drop(['tipo_train','tipo_test'], axis=1)\n",
    "testRooms = testRooms.drop(['tipo_train','tipo_test'], axis=1)\n",
    "\n",
    "testDptos = testRooms[testRooms['property_type_departamento'] == 1]\n",
    "testCasas = testRooms[testRooms['property_type_casa'] == 1]\n",
    "testPH = testRooms[testRooms['property_type_ph'] == 1]\n"
   ]
  },
  {
   "cell_type": "code",
   "execution_count": 227,
   "metadata": {
    "collapsed": true
   },
   "outputs": [],
   "source": [
    "testRooms.loc[testRooms['property_type_departamento'] == 1, 'rooms'] = imp.fit_transform(testDptos[['rooms']]).ravel()\n",
    "testRooms.loc[testRooms['property_type_casa'] == 1, 'rooms'] = imp.fit_transform(testCasas[['rooms']]).ravel()\n",
    "testRooms.loc[testRooms['property_type_ph'] == 1, 'rooms'] = imp.fit_transform(testPH[['rooms']]).ravel()"
   ]
  },
  {
   "cell_type": "code",
   "execution_count": 228,
   "metadata": {},
   "outputs": [
    {
     "name": "stderr",
     "output_type": "stream",
     "text": [
      "C:\\Users\\nicol\\Anaconda3\\lib\\site-packages\\sklearn\\neural_network\\multilayer_perceptron.py:564: ConvergenceWarning: Stochastic Optimizer: Maximum iterations (200) reached and the optimization hasn't converged yet.\n",
      "  % self.max_iter, ConvergenceWarning)\n"
     ]
    },
    {
     "data": {
      "text/plain": [
       "<matplotlib.axes._subplots.AxesSubplot at 0x1d9935345c0>"
      ]
     },
     "execution_count": 228,
     "metadata": {},
     "output_type": "execute_result"
    },
    {
     "data": {
      "image/png": "[encoded data removed]",
      "text/plain": [
       "<matplotlib.figure.Figure at 0x1d9b39f15c0>"
      ]
     },
     "metadata": {},
     "output_type": "display_data"
    }
   ],
   "source": [
    "#Prueba 11\n",
    "\n",
    "x_train, x_test, y_train, y_test = train_test_split(trainRooms, trainRooms['price_aprox_usd'], test_size=0.2)\n",
    "#x_test = x_test.loc[:, ['lat', 'lon', 'surface_total_in_m2', 'surface_covered_in_m2','property_type_id','rooms']]\n",
    "#x_train = x_train.loc[:, ['lat', 'lon', 'surface_total_in_m2', 'surface_covered_in_m2','property_type_id','rooms']]\n",
    "\n",
    "x_test = x_test.drop('price_aprox_usd',1)\n",
    "x_train = x_train.drop('price_aprox_usd',1)\n",
    "\n",
    "\n",
    "models = [KNeighborsRegressor(),\n",
    "         RandomForestRegressor(n_estimators=100, max_features='sqrt'),\n",
    "         tree.DecisionTreeRegressor(),\n",
    "         neural_network.MLPRegressor()]\n",
    " \n",
    "TestModels = pd.DataFrame()\n",
    "tmp = {}\n",
    " \n",
    "for model in models:\n",
    "        m = str(model)\n",
    "        tmp['Model'] = m[:m.index('(')]\n",
    "        model.fit(x_train, y_train)\n",
    "        tmp['Precio'] = r2_score(y_test, model.predict(x_test))\n",
    "        TestModels = TestModels.append([tmp])\n",
    " \n",
    "TestModels.set_index('Model', inplace=True)\n",
    " \n",
    "fig, axes = plt.subplots(ncols=1, figsize=(10, 4))\n",
    "TestModels.Precio.plot(ax=axes, kind='bar', title='Precio')"
   ]
  },
  {
   "cell_type": "code",
   "execution_count": 229,
   "metadata": {
    "collapsed": true
   },
   "outputs": [],
   "source": [
    "trainRoomsFeatures = trainRooms.drop('price_aprox_usd',1)\n",
    "trainRoomsPrecios = trainRooms.loc[:, ['price_aprox_usd']]"
   ]
  },
  {
   "cell_type": "code",
   "execution_count": 230,
   "metadata": {},
   "outputs": [
    {
     "data": {
      "text/plain": [
       "array([ 0.34701961,  0.96234522,  0.8873004 ,  0.82732948,  0.89537894])"
      ]
     },
     "execution_count": 230,
     "metadata": {},
     "output_type": "execute_result"
    }
   ],
   "source": [
    "RFRModel = RandomForestRegressor(n_estimators=100, max_features='sqrt')\n",
    "scores = cross_val_score(RFRModel, trainRoomsFeatures, np.ravel(trainRoomsPrecios.loc[:, ['price_aprox_usd']]), cv=5)\n",
    "scores"
   ]
  },
  {
   "cell_type": "markdown",
   "metadata": {},
   "source": [
    "# Set de Test"
   ]
  },
  {
   "cell_type": "code",
   "execution_count": 231,
   "metadata": {
    "collapsed": true
   },
   "outputs": [],
   "source": [
    "oncePrueba = testRooms.drop('price_aprox_usd', axis=1)\n",
    "imp = Imputer(missing_values='NaN', strategy='median', axis=0)\n",
    "imp.fit_transform(oncePrueba)\n",
    "\n",
    "RFRModel = RandomForestRegressor(n_estimators=100, max_features='sqrt')\n",
    "x_train, x_test, y_train, y_test = train_test_split(trainRoomsFeatures, trainRoomsPrecios['price_aprox_usd'], test_size=0.2)\n",
    "RFRModel.fit(x_train, y_train)\n",
    "prueba11 = RFRModel.predict(imp.fit_transform(oncePrueba))"
   ]
  },
  {
   "cell_type": "markdown",
   "metadata": {},
   "source": [
    "# Testeamos con mas limpieza de datos"
   ]
  },
  {
   "cell_type": "markdown",
   "metadata": {},
   "source": [
    "##### Ademas de limpieza, sacamos la superficie cubierta "
   ]
  },
  {
   "cell_type": "code",
   "execution_count": 234,
   "metadata": {
    "collapsed": true
   },
   "outputs": [],
   "source": [
    "datosForOtrosModelos = datosConComunas.loc[:, ['lat', 'lon', 'surface_total_in_m2','price_aprox_usd','surface_covered_in_m2','property_type','comuna','year','month','tipo']]\n",
    "datosForOtrosModelos = pd.get_dummies(datosForOtrosModelos)\n",
    "\n",
    "\n",
    "trainModelos= datosForOtrosModelos[datosForOtrosModelos['tipo_train'] == 1]\n",
    "testModelos = datosForOtrosModelos[datosForOtrosModelos['tipo_test'] == 1]\n",
    "\n",
    "\n",
    "trainModelos = trainModelos.drop(['tipo_train','tipo_test'], axis=1)\n",
    "testModelos = testModelos.drop(['tipo_train','tipo_test'], axis=1)"
   ]
  },
  {
   "cell_type": "code",
   "execution_count": 235,
   "metadata": {
    "collapsed": true
   },
   "outputs": [],
   "source": [
    "trainModelos = trainModelos.loc[trainModelos['surface_total_in_m2'].notnull(),:]\n",
    "trainModelos = trainModelos.loc[trainModelos['surface_covered_in_m2'].notnull(),:]\n",
    "trainModelos = trainModelos.loc[trainModelos['surface_covered_in_m2'] < trainModelos['surface_total_in_m2'],:]\n",
    "\n",
    "trainModelos.drop_duplicates(subset=None, keep='first', inplace=True)"
   ]
  },
  {
   "cell_type": "code",
   "execution_count": 236,
   "metadata": {},
   "outputs": [
    {
     "name": "stderr",
     "output_type": "stream",
     "text": [
      "C:\\Users\\nicol\\Anaconda3\\lib\\site-packages\\sklearn\\neural_network\\multilayer_perceptron.py:564: ConvergenceWarning: Stochastic Optimizer: Maximum iterations (200) reached and the optimization hasn't converged yet.\n",
      "  % self.max_iter, ConvergenceWarning)\n"
     ]
    },
    {
     "data": {
      "text/plain": [
       "<matplotlib.axes._subplots.AxesSubplot at 0x1da18b03278>"
      ]
     },
     "execution_count": 236,
     "metadata": {},
     "output_type": "execute_result"
    },
    {
     "data": {
      "image/png": "[encoded data removed]",
      "text/plain": [
       "<matplotlib.figure.Figure at 0x1d9de29bf60>"
      ]
     },
     "metadata": {},
     "output_type": "display_data"
    }
   ],
   "source": [
    "\n",
    "x_train, x_test, y_train, y_test = train_test_split(trainModelos, trainModelos['price_aprox_usd'], test_size=0.2)\n",
    "\n",
    "x_test = x_test.drop('price_aprox_usd',1)\n",
    "x_train = x_train.drop('price_aprox_usd',1)\n",
    "\n",
    "\n",
    "models = [KNeighborsRegressor(),\n",
    "         RandomForestRegressor(n_estimators=100, max_features='sqrt'),\n",
    "         tree.DecisionTreeRegressor(),\n",
    "         neural_network.MLPRegressor()]\n",
    " \n",
    "TestModels = pd.DataFrame()\n",
    "tmp = {}\n",
    " \n",
    "for model in models:\n",
    "        m = str(model)\n",
    "        tmp['Model'] = m[:m.index('(')]\n",
    "        model.fit(x_train, y_train)\n",
    "        tmp['Precio'] = r2_score(y_test, model.predict(x_test))\n",
    "        TestModels = TestModels.append([tmp])\n",
    " \n",
    "TestModels.set_index('Model', inplace=True)\n",
    " \n",
    "fig, axes = plt.subplots(ncols=1, figsize=(10, 4))\n",
    "TestModels.Precio.plot(ax=axes, kind='bar', title='Precio')"
   ]
  },
  {
   "cell_type": "code",
   "execution_count": 237,
   "metadata": {},
   "outputs": [
    {
     "data": {
      "text/plain": [
       "array([ 0.14348659,  0.77547461,  0.74715743,  0.66319313,  0.72171746])"
      ]
     },
     "execution_count": 237,
     "metadata": {},
     "output_type": "execute_result"
    }
   ],
   "source": [
    "trainModelosFeatures = trainModelos.drop('price_aprox_usd',1)\n",
    "trainModelosPrecios = trainModelos.loc[:, ['price_aprox_usd']]\n",
    "\n",
    "RFRModel = RandomForestRegressor(n_estimators=100, max_features='sqrt')\n",
    "scores = cross_val_score(RFRModel, trainModelosFeatures, np.ravel(trainModelosPrecios.loc[:, ['price_aprox_usd']]), cv=5)\n",
    "scores"
   ]
  },
  {
   "cell_type": "markdown",
   "metadata": {},
   "source": [
    "# Set de Entrenamiento"
   ]
  },
  {
   "cell_type": "code",
   "execution_count": null,
   "metadata": {
    "collapsed": true
   },
   "outputs": [],
   "source": [
    "docePrueba = testModelos.drop('price_aprox_usd', axis=1)\n",
    "imp = Imputer(missing_values='NaN', strategy='median', axis=0)\n",
    "imp.fit_transform(docePrueba)\n",
    "\n",
    "RFRModel = RandomForestRegressor(n_estimators=100, max_features='sqrt')\n",
    "x_train, x_test, y_train, y_test = train_test_split(trainModelosFeatures, trainModelosPrecios['price_aprox_usd'], test_size=0.2)\n",
    "RFRModel.fit(x_train, y_train)\n",
    "prueba12 = RFRModel.predict(imp.fit_transform(docePrueba))"
   ]
  },
  {
   "cell_type": "markdown",
   "metadata": {},
   "source": [
    "# Reducimos cantidad de Precios y sacamos covered m2"
   ]
  },
  {
   "cell_type": "code",
   "execution_count": 238,
   "metadata": {
    "collapsed": true
   },
   "outputs": [],
   "source": [
    "datosForOtrosModelos = datosConComunas.loc[:, ['lat', 'lon', 'surface_total_in_m2','price_aprox_usd','property_type','comuna','year','month','tipo']]\n",
    "datosForOtrosModelos = pd.get_dummies(datosForOtrosModelos)\n",
    "\n",
    "\n",
    "trainModelos= datosForOtrosModelos[datosForOtrosModelos['tipo_train'] == 1]\n",
    "testModelos = datosForOtrosModelos[datosForOtrosModelos['tipo_test'] == 1]\n",
    "\n",
    "\n",
    "trainModelos = trainModelos.drop(['tipo_train','tipo_test'], axis=1)\n",
    "testModelos = testModelos.drop(['tipo_train','tipo_test'], axis=1)\n",
    "\n",
    "trainModelosTenMillon = trainModelos.loc[trainModelos['price_aprox_usd'] < 11000000,:]"
   ]
  },
  {
   "cell_type": "code",
   "execution_count": 239,
   "metadata": {},
   "outputs": [
    {
     "name": "stderr",
     "output_type": "stream",
     "text": [
      "C:\\Users\\nicol\\Anaconda3\\lib\\site-packages\\sklearn\\neural_network\\multilayer_perceptron.py:564: ConvergenceWarning: Stochastic Optimizer: Maximum iterations (200) reached and the optimization hasn't converged yet.\n",
      "  % self.max_iter, ConvergenceWarning)\n"
     ]
    },
    {
     "data": {
      "text/plain": [
       "<matplotlib.axes._subplots.AxesSubplot at 0x1d9b39f13c8>"
      ]
     },
     "execution_count": 239,
     "metadata": {},
     "output_type": "execute_result"
    },
    {
     "data": {
      "image/png": "[encoded data removed]",
      "text/plain": [
       "<matplotlib.figure.Figure at 0x1d9a39ab4e0>"
      ]
     },
     "metadata": {},
     "output_type": "display_data"
    }
   ],
   "source": [
    "\n",
    "#clf.fit(X_train, y_train)\n",
    "         #ensemble.GradientBoostingClassifier({'n_estimators': 1000, 'max_leaf_nodes': 4, 'max_depth': None, 'random_state': 2,\n",
    "         #          'min_samples_split': 5})\n",
    "\n",
    "x_train, x_test, y_train, y_test = train_test_split(trainModelosTenMillon, trainModelosTenMillon['price_aprox_usd'], test_size=0.2)\n",
    "#x_test = x_test.loc[:, ['lat', 'lon', 'surface_total_in_m2', 'surface_covered_in_m2','property_type_id','rooms']]\n",
    "#x_train = x_train.loc[:, ['lat', 'lon', 'surface_total_in_m2', 'surface_covered_in_m2','property_type_id','rooms']]\n",
    "\n",
    "x_test = x_test.drop('price_aprox_usd',1)\n",
    "x_train = x_train.drop('price_aprox_usd',1)\n",
    "\n",
    "\n",
    "models = [KNeighborsRegressor(),\n",
    "         RandomForestRegressor(n_estimators=100, max_features='sqrt'),\n",
    "         tree.DecisionTreeRegressor(),\n",
    "         neural_network.MLPRegressor()]\n",
    " \n",
    "TestModels = pd.DataFrame()\n",
    "tmp = {}\n",
    " \n",
    "for model in models:\n",
    "        m = str(model)\n",
    "        tmp['Model'] = m[:m.index('(')]\n",
    "        model.fit(x_train, y_train)\n",
    "        tmp['Precio'] = r2_score(y_test, model.predict(x_test))\n",
    "        TestModels = TestModels.append([tmp])\n",
    " \n",
    "TestModels.set_index('Model', inplace=True)\n",
    " \n",
    "fig, axes = plt.subplots(ncols=1, figsize=(10, 4))\n",
    "TestModels.Precio.plot(ax=axes, kind='bar', title='Precio')"
   ]
  },
  {
   "cell_type": "code",
   "execution_count": 240,
   "metadata": {},
   "outputs": [
    {
     "data": {
      "text/plain": [
       "array([ 0.68336198,  0.94085297,  0.8397369 ,  0.82596222,  0.88257716])"
      ]
     },
     "execution_count": 240,
     "metadata": {},
     "output_type": "execute_result"
    }
   ],
   "source": [
    "trainModelosTenMillonFeatures = trainModelosTenMillon.drop('price_aprox_usd',1)\n",
    "trainModelosTenMillonPrecios = trainModelosTenMillon.loc[:, ['price_aprox_usd']]\n",
    "\n",
    "RFRModel = RandomForestRegressor(n_estimators=100, max_features='sqrt')\n",
    "scores = cross_val_score(RFRModel, trainModelosTenMillonFeatures, np.ravel(trainModelosTenMillonPrecios.loc[:, ['price_aprox_usd']]), cv=5)\n",
    "scores"
   ]
  },
  {
   "cell_type": "markdown",
   "metadata": {},
   "source": [
    "# Set de Pruebas"
   ]
  },
  {
   "cell_type": "code",
   "execution_count": 241,
   "metadata": {
    "collapsed": true
   },
   "outputs": [],
   "source": [
    "catorcePrueba = testModelos.drop('price_aprox_usd', axis=1)\n",
    "imp = Imputer(missing_values='NaN', strategy='median', axis=0)\n",
    "imp.fit_transform(catorcePrueba)\n",
    "\n",
    "RFRModel = RandomForestRegressor(n_estimators=100, max_features='sqrt')\n",
    "x_train, x_test, y_train, y_test = train_test_split(trainModelosTenMillonFeatures, trainModelosTenMillonPrecios['price_aprox_usd'], test_size=0.2)\n",
    "RFRModel.fit(x_train, y_train)\n",
    "prueba14 = RFRModel.predict(imp.fit_transform(catorcePrueba))"
   ]
  },
  {
   "cell_type": "markdown",
   "metadata": {},
   "source": [
    "# Prueba de rooms, pero con mas limpieza de datos"
   ]
  },
  {
   "cell_type": "code",
   "execution_count": 242,
   "metadata": {
    "collapsed": true
   },
   "outputs": [],
   "source": [
    "datosRoomsLindas = datosConComunas.loc[:, ['lat', 'lon','surface_total_in_m2', 'surface_covered_in_m2','price_aprox_usd','property_type','comuna','year','month','tipo', 'rooms']]\n",
    "datosRoomsLindas = pd.get_dummies(datosRoomsLindas)\n",
    "\n",
    "testRoomsLindas = datosRoomsLindas[datosRoomsLindas['tipo_test'] == 1]\n",
    "\n",
    "\n",
    "datosRoomsLindas = datosRoomsLindas.loc[datosRoomsLindas['price_aprox_usd'].notnull(),:]\n",
    "datosRoomsLindas = datosRoomsLindas.loc[datosRoomsLindas['rooms'].notnull(),:]\n",
    "datosRoomsLindas = datosRoomsLindas.loc[datosRoomsLindas['rooms'] < 10,:]\n",
    "\n",
    "\n",
    "trainRoomsLindas= datosRoomsLindas[datosRoomsLindas['tipo_train'] == 1]\n",
    "trainRoomsLindas = trainRoomsLindas.drop(['tipo_train','tipo_test'], axis=1)"
   ]
  },
  {
   "cell_type": "code",
   "execution_count": 243,
   "metadata": {},
   "outputs": [
    {
     "name": "stderr",
     "output_type": "stream",
     "text": [
      "C:\\Users\\nicol\\Anaconda3\\lib\\site-packages\\sklearn\\neural_network\\multilayer_perceptron.py:564: ConvergenceWarning: Stochastic Optimizer: Maximum iterations (200) reached and the optimization hasn't converged yet.\n",
      "  % self.max_iter, ConvergenceWarning)\n"
     ]
    },
    {
     "data": {
      "text/plain": [
       "<matplotlib.axes._subplots.AxesSubplot at 0x1d9b6f3ee80>"
      ]
     },
     "execution_count": 243,
     "metadata": {},
     "output_type": "execute_result"
    },
    {
     "data": {
      "image/png": "[encoded data removed]",
      "text/plain": [
       "<matplotlib.figure.Figure at 0x1d9b6f3e668>"
      ]
     },
     "metadata": {},
     "output_type": "display_data"
    }
   ],
   "source": [
    "x_train, x_test, y_train, y_test = train_test_split(trainRoomsLindas, trainRoomsLindas['price_aprox_usd'], test_size=0.2)\n",
    "\n",
    "x_test = x_test.drop('price_aprox_usd',1)\n",
    "x_train = x_train.drop('price_aprox_usd',1)\n",
    "\n",
    "\n",
    "models = [KNeighborsRegressor(),\n",
    "         RandomForestRegressor(n_estimators=100, max_features='sqrt'),\n",
    "         tree.DecisionTreeRegressor(),\n",
    "         neural_network.MLPRegressor()]\n",
    " \n",
    "TestModels = pd.DataFrame()\n",
    "tmp = {}\n",
    " \n",
    "for model in models:\n",
    "        m = str(model)\n",
    "        tmp['Model'] = m[:m.index('(')]\n",
    "        model.fit(x_train, y_train)\n",
    "        tmp['Precio'] = r2_score(y_test, model.predict(x_test))\n",
    "        TestModels = TestModels.append([tmp])\n",
    " \n",
    "TestModels.set_index('Model', inplace=True)\n",
    " \n",
    "fig, axes = plt.subplots(ncols=1, figsize=(10, 4))\n",
    "TestModels.Precio.plot(ax=axes, kind='bar', title='Precio')"
   ]
  },
  {
   "cell_type": "code",
   "execution_count": 244,
   "metadata": {
    "collapsed": true
   },
   "outputs": [],
   "source": [
    "trainRoomsLindasFeatures = trainRoomsLindas.drop('price_aprox_usd',1)\n",
    "trainRoomsLindasPrecios = trainRoomsLindas.loc[:, ['price_aprox_usd']]"
   ]
  },
  {
   "cell_type": "code",
   "execution_count": 245,
   "metadata": {},
   "outputs": [
    {
     "data": {
      "text/plain": [
       "array([ 0.33430616,  0.96441955,  0.88577738,  0.81813194,  0.89543982])"
      ]
     },
     "execution_count": 245,
     "metadata": {},
     "output_type": "execute_result"
    }
   ],
   "source": [
    "RFRModel = RandomForestRegressor(n_estimators=100, max_features='sqrt')\n",
    "scores = cross_val_score(RFRModel, trainRoomsLindasFeatures, np.ravel(trainRoomsLindasPrecios.loc[:, ['price_aprox_usd']]), cv=5)\n",
    "scores"
   ]
  },
  {
   "cell_type": "markdown",
   "metadata": {},
   "source": [
    "# Set Pruebas de datos"
   ]
  },
  {
   "cell_type": "code",
   "execution_count": 246,
   "metadata": {
    "collapsed": true
   },
   "outputs": [],
   "source": [
    "testRoomsLindas = testRoomsLindas.drop(['tipo_train','tipo_test'], axis=1)\n",
    "\n",
    "\n",
    "quincePrueba = testRoomsLindas.drop('price_aprox_usd', axis=1)\n",
    "imp = Imputer(missing_values='NaN', strategy='median', axis=0)\n",
    "imp.fit_transform(quincePrueba)\n",
    "\n",
    "RFRModel = RandomForestRegressor(n_estimators=100, max_features='sqrt')\n",
    "x_train, x_test, y_train, y_test = train_test_split(trainRoomsLindasFeatures, trainRoomsLindasPrecios['price_aprox_usd'], test_size=0.2)\n",
    "RFRModel.fit(x_train, y_train)\n",
    "prueba15 = RFRModel.predict(imp.fit_transform(quincePrueba))"
   ]
  },
  {
   "cell_type": "code",
   "execution_count": null,
   "metadata": {
    "collapsed": true
   },
   "outputs": [],
   "source": []
  }
 ],
 "metadata": {
  "kernelspec": {
   "display_name": "Python 3",
   "language": "python",
   "name": "python3"
  },
  "language_info": {
   "codemirror_mode": {
    "name": "ipython",
    "version": 3
   },
   "file_extension": ".py",
   "mimetype": "text/x-python",
   "name": "python",
   "nbconvert_exporter": "python",
   "pygments_lexer": "ipython3",
   "version": "3.6.3"
  }
 },
 "nbformat": 4,
 "nbformat_minor": 2
}
