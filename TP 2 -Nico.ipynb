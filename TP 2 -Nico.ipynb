{
 "cells": [
  {
   "cell_type": "code",
   "execution_count": 144,
   "metadata": {
    "collapsed": true
   },
   "outputs": [],
   "source": [
    "import pandas as pd\n",
    "import numpy as np\n",
    "import seaborn as sns\n",
    "import matplotlib.pyplot as plt\n",
    "\n",
    "%matplotlib inline\n",
    "\n",
    "#agosto13 = pd.read_csv('1308.csv')\n",
    "#septiembre13 = pd.read_csv('1309.csv')\n",
    "#octubre13 = pd.read_csv('1310.csv')\n",
    "#noviembre13 = pd.read_csv('1311.csv')\n",
    "#diciembre13 = pd.read_csv('1312.csv')\n",
    "#enero14 = pd.read_csv('1401.csv')\n",
    "#febrero14 = pd.read_csv('1402.csv')\n",
    "#marzo14 = pd.read_csv('1403.csv')\n",
    "#abril14 = pd.read_csv('1404.csv')\n",
    "#mayo14 = pd.read_csv('1405.csv')\n",
    "#junio14 = pd.read_csv('1406.csv')\n",
    "#enero15 = pd.read_csv('1501.csv')\n",
    "#agosto15 = pd.read_csv('1508.csv')\n",
    "#marzo16 = pd.read_csv('1603.csv')\n",
    "#abril16 = pd.read_csv('1604.csv')\n",
    "#mayo16 = pd.read_csv('1605.csv')\n",
    "#junio16 = pd.read_csv('1606.csv')\n",
    "#enero17 = pd.read_csv('1701.csv')\n",
    "#agosto17 = pd.read_csv('1708.csv')\n",
    "\n",
    "\n",
    "agosto13 = pd.read_csv('resources/properati-AR-2013-08-01-properties-sell.csv')\n",
    "septiembre13 = pd.read_csv('resources/properati-AR-2013-09-01-properties-sell.csv')\n",
    "octubre13 = pd.read_csv('resources/properati-AR-2013-10-01-properties-sell.csv')\n",
    "noviembre13 = pd.read_csv('resources/properati-AR-2013-11-01-properties-sell.csv')\n",
    "diciembre13 = pd.read_csv('resources/properati-AR-2013-12-01-properties-sell.csv')\n",
    "enero14 = pd.read_csv('resources/properati-AR-2014-01-01-properties-sell.csv')\n",
    "febrero14 = pd.read_csv('resources/properati-AR-2014-02-01-properties-sell.csv')\n",
    "marzo14 = pd.read_csv('resources/properati-AR-2014-03-01-properties-sell.csv')\n",
    "abril14 = pd.read_csv('resources/properati-AR-2014-04-01-properties-sell.csv')\n",
    "mayo14 = pd.read_csv('resources/properati-AR-2014-05-01-properties-sell.csv')\n",
    "junio14 = pd.read_csv('resources/properati-AR-2014-06-01-properties-sell.csv')\n",
    "enero15 = pd.read_csv('resources/properati-AR-2015-01-01-properties-sell-six_months.csv')\n",
    "agosto15 = pd.read_csv('resources/properati-AR-2015-08-01-properties-sell-six_months.csv')\n",
    "marzo16 = pd.read_csv('resources/properati-AR-2016-03-01-properties-sell-six_months.csv')\n",
    "abril16 = pd.read_csv('resources/properati-AR-2016-04-01-properties-sell.csv')\n",
    "mayo16 = pd.read_csv('resources/properati-AR-2016-05-01-properties-sell.csv')\n",
    "junio16 = pd.read_csv('resources/properati-AR-2016-06-01-properties-sell.csv')\n",
    "enero17 = pd.read_csv('resources/properati-AR-2017-07-01-properties-sell-six_months.csv')\n",
    "agosto17 = pd.read_csv('resources/properati-AR-2017-08-01-properties-sell.csv')\n",
    "\n",
    "\n",
    "datos = pd.concat([agosto13, septiembre13, octubre13, noviembre13, diciembre13, enero14, febrero14, \\\n",
    "                          marzo14, abril14, mayo14, junio14, enero15, agosto15, marzo16, abril16, mayo16, \\\n",
    "                          junio16, enero17, agosto17])\n",
    "\n",
    "#datosForTesting = pd.read_csv('properati_dataset_testing_noprice.csv')\n",
    "\n",
    "datosForTesting = pd.read_csv('resources/properati_dataset_testing_noprice.csv')"
   ]
  },
  {
   "cell_type": "code",
   "execution_count": 145,
   "metadata": {},
   "outputs": [
    {
     "data": {
      "text/plain": [
       "id                         14166\n",
       "created_on                 14166\n",
       "property_type              14166\n",
       "operation                  14166\n",
       "place_name                 14166\n",
       "place_with_parent_names    14166\n",
       "country_name               14166\n",
       "state_name                 14166\n",
       "lat-lon                    10487\n",
       "lat                        10487\n",
       "lon                        10487\n",
       "surface_total_in_m2        11853\n",
       "surface_covered_in_m2      13005\n",
       "floor                       1368\n",
       "rooms                       7500\n",
       "expenses                    2543\n",
       "description                14166\n",
       "dtype: int64"
      ]
     },
     "execution_count": 145,
     "metadata": {},
     "output_type": "execute_result"
    }
   ],
   "source": [
    "datosForTesting.count()"
   ]
  },
  {
   "cell_type": "markdown",
   "metadata": {},
   "source": [
    "Algunos primeros datos del set a testear. Vemos que los únicos campos con bajo porcentaje de datos son el piso y las expensas."
   ]
  },
  {
   "cell_type": "code",
   "execution_count": 146,
   "metadata": {},
   "outputs": [
    {
     "data": {
      "text/plain": [
       "Index(['id', 'created_on', 'property_type', 'operation', 'place_name',\n",
       "       'place_with_parent_names', 'country_name', 'state_name', 'lat-lon',\n",
       "       'lat', 'lon', 'surface_total_in_m2', 'surface_covered_in_m2', 'floor',\n",
       "       'rooms', 'expenses', 'description', 'price_aprox_usd'],\n",
       "      dtype='object')"
      ]
     },
     "execution_count": 146,
     "metadata": {},
     "output_type": "execute_result"
    }
   ],
   "source": [
    "datos = datos.loc[:, ['id', 'created_on',  'property_type', 'operation', 'place_name', \\\n",
    "                      'place_with_parent_names', 'country_name', 'state_name', 'lat-lon', 'lat', 'lon', \\\n",
    "                     'surface_total_in_m2', 'surface_covered_in_m2', 'floor', 'rooms', 'expenses', 'description',\\\n",
    "                     'price_aprox_usd']]\n",
    "datos.columns"
   ]
  },
  {
   "cell_type": "code",
   "execution_count": 5,
   "metadata": {},
   "outputs": [
    {
     "name": "stdout",
     "output_type": "stream",
     "text": [
      "['venta' 'alquiler']\n"
     ]
    }
   ],
   "source": [
    "#print datosForTesting.operation.unique()\n",
    "print(datosForTesting.operation.unique())"
   ]
  },
  {
   "cell_type": "code",
   "execution_count": 147,
   "metadata": {},
   "outputs": [
    {
     "data": {
      "text/plain": [
       "1"
      ]
     },
     "execution_count": 147,
     "metadata": {},
     "output_type": "execute_result"
    }
   ],
   "source": [
    "datosForTesting.loc[datosForTesting.operation == 'alquiler','id'].count()"
   ]
  },
  {
   "cell_type": "code",
   "execution_count": 8,
   "metadata": {},
   "outputs": [
    {
     "name": "stdout",
     "output_type": "stream",
     "text": [
      "['sell']\n"
     ]
    }
   ],
   "source": [
    "#print datos.operation.unique()\n",
    "print(datos.operation.unique())"
   ]
  },
  {
   "cell_type": "code",
   "execution_count": 148,
   "metadata": {},
   "outputs": [
    {
     "data": {
      "text/plain": [
       "481573"
      ]
     },
     "execution_count": 148,
     "metadata": {},
     "output_type": "execute_result"
    }
   ],
   "source": [
    "datos['operation'] = datos['operation'].map(lambda x: 'venta' if x == 'sell' else 'alquiler')\n",
    "datos.loc[datos.operation == 'venta', 'id'].count()"
   ]
  },
  {
   "cell_type": "code",
   "execution_count": 11,
   "metadata": {},
   "outputs": [
    {
     "name": "stdout",
     "output_type": "stream",
     "text": [
      "['departamento' 'ph' 'casa']\n"
     ]
    }
   ],
   "source": [
    "#print datosForTesting.property_type.unique()\n",
    "print(datosForTesting.property_type.unique())"
   ]
  },
  {
   "cell_type": "code",
   "execution_count": 13,
   "metadata": {},
   "outputs": [
    {
     "data": {
      "text/plain": [
       "9761"
      ]
     },
     "execution_count": 13,
     "metadata": {},
     "output_type": "execute_result"
    }
   ],
   "source": [
    "datosForTesting.loc[datosForTesting.property_type == 'departamento', 'id'].count()"
   ]
  },
  {
   "cell_type": "code",
   "execution_count": 14,
   "metadata": {},
   "outputs": [
    {
     "name": "stdout",
     "output_type": "stream",
     "text": [
      "['house' 'apartment' 'PH' 'store']\n"
     ]
    }
   ],
   "source": [
    "#print datos.property_type.unique()\n",
    "print(datos.property_type.unique())"
   ]
  },
  {
   "cell_type": "code",
   "execution_count": 15,
   "metadata": {},
   "outputs": [
    {
     "data": {
      "text/plain": [
       "id                          465972\n",
       "created_on                 1185654\n",
       "property_type              1185654\n",
       "operation                  1185654\n",
       "place_name                 1185587\n",
       "place_with_parent_names    1185654\n",
       "country_name                465972\n",
       "state_name                  465972\n",
       "lat-lon                     985741\n",
       "lat                         985741\n",
       "lon                         985730\n",
       "surface_total_in_m2         310527\n",
       "surface_covered_in_m2       376151\n",
       "floor                       158864\n",
       "rooms                       830826\n",
       "expenses                     58524\n",
       "description                 465951\n",
       "price_aprox_usd             983714\n",
       "dtype: int64"
      ]
     },
     "execution_count": 15,
     "metadata": {},
     "output_type": "execute_result"
    }
   ],
   "source": [
    "datos = datos.loc[datos.property_type != 'store', :]\n",
    "datos.count()"
   ]
  },
  {
   "cell_type": "code",
   "execution_count": 149,
   "metadata": {
    "collapsed": true
   },
   "outputs": [],
   "source": [
    "def traducirTipoPropiedad(x):\n",
    "    tipo = ''\n",
    "    if (x == 'house'):\n",
    "        tipo = 'casa' \n",
    "    else:\n",
    "        if (x == 'apartment'): \n",
    "            tipo = 'departamento'\n",
    "        else: \n",
    "            if (x == 'PH'): \n",
    "                tipo = 'ph'\n",
    "    return tipo"
   ]
  },
  {
   "cell_type": "code",
   "execution_count": 150,
   "metadata": {},
   "outputs": [
    {
     "data": {
      "text/plain": [
       "177850"
      ]
     },
     "execution_count": 150,
     "metadata": {},
     "output_type": "execute_result"
    }
   ],
   "source": [
    "datos['property_type'] = datos['property_type'].map(traducirTipoPropiedad)\n",
    "datos.loc[datos.property_type == 'casa','id'].count()"
   ]
  },
  {
   "cell_type": "code",
   "execution_count": 19,
   "metadata": {},
   "outputs": [
    {
     "name": "stdout",
     "output_type": "stream",
     "text": [
      "0.0\n"
     ]
    }
   ],
   "source": [
    "#print datosForTesting.surface_total_in_m2.min()\n",
    "print(datosForTesting.surface_total_in_m2.min())"
   ]
  },
  {
   "cell_type": "code",
   "execution_count": 16,
   "metadata": {},
   "outputs": [
    {
     "name": "stdout",
     "output_type": "stream",
     "text": [
      "148000.0\n"
     ]
    }
   ],
   "source": [
    "print(datosForTesting.surface_total_in_m2.max()"
   ]
  },
  {
   "cell_type": "code",
   "execution_count": 20,
   "metadata": {},
   "outputs": [
    {
     "name": "stdout",
     "output_type": "stream",
     "text": [
      "14\n"
     ]
    }
   ],
   "source": [
    "print(datos.loc[datos.surface_total_in_m2 > 150000, 'id'].count())"
   ]
  },
  {
   "cell_type": "code",
   "execution_count": 18,
   "metadata": {},
   "outputs": [
    {
     "name": "stdout",
     "output_type": "stream",
     "text": [
      "['Capital Federal' 'Buenos Aires Interior' 'Bs.As. G.B.A. Zona Sur'\n",
      " 'Bs.As. G.B.A. Zona Oeste' 'Bs.As. G.B.A. Zona Norte']\n"
     ]
    }
   ],
   "source": [
    "print datosForTesting.state_name.unique()"
   ]
  },
  {
   "cell_type": "code",
   "execution_count": 18,
   "metadata": {},
   "outputs": [
    {
     "name": "stdout",
     "output_type": "stream",
     "text": [
      "1\n"
     ]
    }
   ],
   "source": [
    "print datosForTesting.loc[datosForTesting.state_name == 'Buenos Aires Interior', 'id'].count()"
   ]
  },
  {
   "cell_type": "code",
   "execution_count": 19,
   "metadata": {},
   "outputs": [
    {
     "name": "stdout",
     "output_type": "stream",
     "text": [
      "[nan 'Buenos Aires Interior' 'R\\xc3\\xado Negro' 'Capital Federal'\n",
      " 'Buenos Aires Costa Atl\\xc3\\xa1ntica' 'Neuqu\\xc3\\xa9n' 'San Juan'\n",
      " 'Bs.As. G.B.A. Zona Norte' 'Bs.As. G.B.A. Zona Sur'\n",
      " 'Bs.As. G.B.A. Zona Oeste' 'Misiones' 'Santa Fe' 'San Luis'\n",
      " 'C\\xc3\\xb3rdoba' 'Entre R\\xc3\\xados' 'La Pampa' 'Salta' 'Tucum\\xc3\\xa1n'\n",
      " 'Mendoza' 'Corrientes' 'Chaco' 'Jujuy' 'Catamarca' 'La Rioja' 'Chubut'\n",
      " 'Formosa' 'Tierra Del Fuego' 'Santa Cruz' 'Santiago Del Estero']\n"
     ]
    }
   ],
   "source": [
    "print datos.state_name.unique()"
   ]
  },
  {
   "cell_type": "code",
   "execution_count": 155,
   "metadata": {},
   "outputs": [
    {
     "data": {
      "text/plain": [
       "id                         331901\n",
       "created_on                 331901\n",
       "property_type              331901\n",
       "operation                  331901\n",
       "place_name                 331834\n",
       "place_with_parent_names    331901\n",
       "country_name               331901\n",
       "state_name                 331901\n",
       "lat-lon                    230063\n",
       "lat                        230063\n",
       "lon                        230063\n",
       "surface_total_in_m2        236629\n",
       "surface_covered_in_m2      287081\n",
       "floor                       40705\n",
       "rooms                      170526\n",
       "expenses                    37314\n",
       "description                331886\n",
       "price_aprox_usd            302554\n",
       "dtype: int64"
      ]
     },
     "execution_count": 155,
     "metadata": {},
     "output_type": "execute_result"
    }
   ],
   "source": [
    "datos = datos.loc[(datos['state_name'].str.contains('Capital Federal')| \\\n",
    "                   datos['state_name'].str.contains('Bs.As. G.B.A. Zona Sur')|\\\n",
    "                  datos['state_name'].str.contains('Bs.As. G.B.A. Zona Oeste')|\\\n",
    "                  datos['state_name'].str.contains('Bs.As. G.B.A. Zona Norte')),:]\n",
    "datos.count()"
   ]
  },
  {
   "cell_type": "code",
   "execution_count": 156,
   "metadata": {},
   "outputs": [
    {
     "data": {
      "text/plain": [
       "id                         290843\n",
       "created_on                 290843\n",
       "property_type              290843\n",
       "operation                  290843\n",
       "place_name                 290777\n",
       "place_with_parent_names    290843\n",
       "country_name               290843\n",
       "state_name                 290843\n",
       "lat-lon                    200187\n",
       "lat                        200187\n",
       "lon                        200187\n",
       "surface_total_in_m2        209791\n",
       "surface_covered_in_m2      259383\n",
       "floor                       38560\n",
       "rooms                      146382\n",
       "expenses                    35614\n",
       "description                290828\n",
       "price_aprox_usd            290843\n",
       "dtype: int64"
      ]
     },
     "execution_count": 156,
     "metadata": {},
     "output_type": "execute_result"
    }
   ],
   "source": [
    "datos = datos.loc[datos['price_aprox_usd'].notnull(),:]\n",
    "datos = datos.loc[datos['price_aprox_usd'] != 0,:]\n",
    "datos.count()"
   ]
  },
  {
   "cell_type": "code",
   "execution_count": 157,
   "metadata": {
    "collapsed": true
   },
   "outputs": [],
   "source": [
    "#Se hace la comparacion por lat, lon, superficie y superficie cubierta, tengo que quitar los nulls de esos campos\n",
    "datosSinNull = datos.loc[datos['lat'].notnull(),:]\n",
    "datosSinNull = datosSinNull.loc[datosSinNull['lon'].notnull(),:]\n",
    "datosSinNull = datosSinNull.loc[datosSinNull['surface_total_in_m2'].notnull(),:]\n",
    "datosSinNull = datosSinNull.loc[datosSinNull['surface_covered_in_m2'].notnull(),:]\n",
    "\n",
    "#Luego de esos divido los que estan en palermo de los que no estan en palermo\n",
    "datosPalermo = datosSinNull.loc[datosSinNull.place_name == 'Palermo', :]\n",
    "datosNoPalermo = datosSinNull.loc[datosSinNull.place_name != 'Palermo', :]\n",
    "\n",
    "#Divido al set de palermo en otros features y precios\n",
    "datosPalermoFeatures = datosPalermo.loc[:, ['lat', 'lon', 'surface_total_in_m2', 'surface_covered_in_m2']]\n",
    "datosPalermoPrecio = datosPalermo.loc[:, ['price_aprox_usd']]\n",
    "\n",
    "#Divido al set que no es de palermo en otros features y precios\n",
    "datosNoPalermoFeatures = datosNoPalermo.loc[:, ['lat', 'lon', 'surface_total_in_m2', 'surface_covered_in_m2']]\n",
    "datosNoPalermoPrecio = datosNoPalermo.loc[:, ['price_aprox_usd']]"
   ]
  },
  {
   "cell_type": "code",
   "execution_count": 158,
   "metadata": {},
   "outputs": [],
   "source": [
    "#Importo todas las librerias correspondientes a ML\n",
    "#Para score\n",
    "from sklearn.metrics import r2_score\n",
    "\n",
    "#Para training y cross\n",
    "from sklearn.cross_validation import train_test_split\n",
    "from sklearn.model_selection import cross_val_score\n",
    "from sklearn.preprocessing import Imputer\n",
    "\n",
    "#Algoritmos\n",
    "from sklearn.neighbors import KNeighborsRegressor\n",
    "from sklearn.ensemble import RandomForestRegressor\n",
    "from sklearn.neighbors import RadiusNeighborsRegressor\n",
    "from sklearn.linear_model import LinearRegression, LogisticRegression\n",
    "from sklearn import linear_model\n",
    "from sklearn import svm\n",
    "from sklearn import tree\n",
    "from sklearn import gaussian_process\n",
    "from sklearn import neural_network"
   ]
  },
  {
   "cell_type": "code",
   "execution_count": 175,
   "metadata": {},
   "outputs": [
    {
     "name": "stderr",
     "output_type": "stream",
     "text": [
      "C:\\Users\\nicol\\Anaconda3\\lib\\site-packages\\ipykernel_launcher.py:15: DataConversionWarning: A column-vector y was passed when a 1d array was expected. Please change the shape of y to (n_samples,), for example using ravel().\n",
      "  from ipykernel import kernelapp as app\n"
     ]
    },
    {
     "data": {
      "image/png": "[encoded data removed]",
      "text/plain": [
       "<matplotlib.figure.Figure at 0x1b980cce978>"
      ]
     },
     "metadata": {},
     "output_type": "display_data"
    }
   ],
   "source": [
    "models = [KNeighborsRegressor(),\n",
    "         RandomForestRegressor(n_estimators=100, max_features='sqrt'),\n",
    "         #RadiusNeighborsRegressor(),\n",
    "         LinearRegression(),\n",
    "         linear_model.Ridge (alpha = .5),\n",
    "         linear_model.Lasso (alpha = 0.1),\n",
    "         linear_model.LassoLars (alpha = 0.1)]\n",
    " \n",
    "TestModels = pd.DataFrame()\n",
    "tmp = {}\n",
    " \n",
    "for model in models:\n",
    "        m = str(model)\n",
    "        tmp['Model'] = m[:m.index('(')]\n",
    "        model.fit(datosNoPalermoFeatures, datosNoPalermoPrecio)\n",
    "        tmp['Precio'] = r2_score(datosPalermoPrecio, model.predict(datosPalermoFeatures))\n",
    "        TestModels = TestModels.append([tmp])\n",
    " \n",
    "TestModels.set_index('Model', inplace=True)\n",
    " \n",
    "fig, axes = plt.subplots(ncols=1, figsize=(10, 4))\n",
    "TestModels.Precio.plot(ax=axes, kind='bar', title='Precio')\n",
    "plt.show()"
   ]
  },
  {
   "cell_type": "code",
   "execution_count": 28,
   "metadata": {},
   "outputs": [
    {
     "name": "stderr",
     "output_type": "stream",
     "text": [
      "C:\\Users\\nicol\\Anaconda3\\lib\\site-packages\\sklearn\\utils\\validation.py:578: DataConversionWarning: A column-vector y was passed when a 1d array was expected. Please change the shape of y to (n_samples, ), for example using ravel().\n",
      "  y = column_or_1d(y, warn=True)\n",
      "C:\\Users\\nicol\\Anaconda3\\lib\\site-packages\\sklearn\\utils\\validation.py:578: DataConversionWarning: A column-vector y was passed when a 1d array was expected. Please change the shape of y to (n_samples, ), for example using ravel().\n",
      "  y = column_or_1d(y, warn=True)\n",
      "C:\\Users\\nicol\\Anaconda3\\lib\\site-packages\\sklearn\\neural_network\\multilayer_perceptron.py:1306: DataConversionWarning: A column-vector y was passed when a 1d array was expected. Please change the shape of y to (n_samples, ), for example using ravel().\n",
      "  y = column_or_1d(y, warn=True)\n",
      "C:\\Users\\nicol\\Anaconda3\\lib\\site-packages\\sklearn\\neural_network\\multilayer_perceptron.py:564: ConvergenceWarning: Stochastic Optimizer: Maximum iterations (200) reached and the optimization hasn't converged yet.\n",
      "  % self.max_iter, ConvergenceWarning)\n"
     ]
    },
    {
     "data": {
      "image/png": "[encoded data removed]",
      "text/plain": [
       "<matplotlib.figure.Figure at 0x1b98062b0f0>"
      ]
     },
     "metadata": {},
     "output_type": "display_data"
    }
   ],
   "source": [
    "models = [linear_model.BayesianRidge(),\n",
    "         #LogisticRegression(),\n",
    "         svm.LinearSVR(),\n",
    "         tree.DecisionTreeRegressor(),\n",
    "         #gaussian_process.GaussianProcessRegressor(),\n",
    "         neural_network.MLPRegressor()]\n",
    " \n",
    "TestModels = pd.DataFrame()\n",
    "tmp = {}\n",
    " \n",
    "for model in models:\n",
    "        m = str(model)\n",
    "        tmp['Model'] = m[:m.index('(')]\n",
    "        model.fit(datosNoPalermoFeatures, datosNoPalermoPrecio)\n",
    "        tmp['Precio'] = r2_score(datosPalermoPrecio, model.predict(datosPalermoFeatures))\n",
    "        TestModels = TestModels.append([tmp])\n",
    " \n",
    "TestModels.set_index('Model', inplace=True)\n",
    " \n",
    "fig, axes = plt.subplots(ncols=1, figsize=(10, 4))\n",
    "TestModels.Precio.plot(ax=axes, kind='bar', title='Precio')\n",
    "plt.show()"
   ]
  },
  {
   "cell_type": "code",
   "execution_count": 176,
   "metadata": {
    "collapsed": true
   },
   "outputs": [],
   "source": [
    "#Split del set de datos prueba 1\n",
    "datosFiltrados = datosSinNull.loc[:, ['lat', 'lon', 'surface_total_in_m2', 'surface_covered_in_m2',\\\n",
    "                                      'price_aprox_usd']]\n",
    "\n",
    "x_train, x_test, y_train, y_test = train_test_split(datosFiltrados, datosFiltrados['price_aprox_usd'], test_size=0.2)"
   ]
  },
  {
   "cell_type": "code",
   "execution_count": 177,
   "metadata": {
    "collapsed": true
   },
   "outputs": [],
   "source": [
    "x_test = x_test.loc[:, ['lat', 'lon', 'surface_total_in_m2', 'surface_covered_in_m2']]\n",
    "x_train = x_train.loc[:, ['lat', 'lon', 'surface_total_in_m2', 'surface_covered_in_m2']]"
   ]
  },
  {
   "cell_type": "code",
   "execution_count": 178,
   "metadata": {},
   "outputs": [
    {
     "name": "stderr",
     "output_type": "stream",
     "text": [
      "C:\\Users\\nicol\\Anaconda3\\lib\\site-packages\\sklearn\\neural_network\\multilayer_perceptron.py:564: ConvergenceWarning: Stochastic Optimizer: Maximum iterations (200) reached and the optimization hasn't converged yet.\n",
      "  % self.max_iter, ConvergenceWarning)\n"
     ]
    },
    {
     "data": {
      "image/png": "[encoded data removed]",
      "text/plain": [
       "<matplotlib.figure.Figure at 0x1b980cb80b8>"
      ]
     },
     "metadata": {},
     "output_type": "display_data"
    }
   ],
   "source": [
    "models = [KNeighborsRegressor(),\n",
    "         RandomForestRegressor(n_estimators=100, max_features='sqrt'),\n",
    "         LinearRegression(),\n",
    "         linear_model.Ridge (alpha = .5),\n",
    "         linear_model.Lasso (alpha = 0.1),\n",
    "         linear_model.LassoLars (alpha = 0.1),\n",
    "         linear_model.BayesianRidge(),\n",
    "         svm.LinearSVR(),\n",
    "         tree.DecisionTreeRegressor(),\n",
    "         neural_network.MLPRegressor()]\n",
    " \n",
    "TestModels = pd.DataFrame()\n",
    "tmp = {}\n",
    " \n",
    "for model in models:\n",
    "        m = str(model)\n",
    "        tmp['Model'] = m[:m.index('(')]\n",
    "        model.fit(x_train, y_train)\n",
    "        tmp['Precio'] = r2_score(y_test, model.predict(x_test))\n",
    "        TestModels = TestModels.append([tmp])\n",
    " \n",
    "TestModels.set_index('Model', inplace=True)\n",
    " \n",
    "fig, axes = plt.subplots(ncols=1, figsize=(10, 4))\n",
    "TestModels.Precio.plot(ax=axes, kind='bar', title='Precio')\n",
    "plt.show()"
   ]
  },
  {
   "cell_type": "code",
   "execution_count": 32,
   "metadata": {},
   "outputs": [
    {
     "data": {
      "image/png": "[encoded data removed]",
      "text/plain": [
       "<matplotlib.figure.Figure at 0x1b980b8a160>"
      ]
     },
     "metadata": {},
     "output_type": "display_data"
    }
   ],
   "source": [
    "#Prueba 2\n",
    "datosFiltrados = datosSinNull.loc[:, ['lat', 'lon', 'surface_total_in_m2', 'surface_covered_in_m2',\\\n",
    "                                      'price_aprox_usd']]\n",
    "\n",
    "x_train, x_test, y_train, y_test = train_test_split(datosFiltrados, datosFiltrados['price_aprox_usd'], test_size=0.2)\n",
    "x_test = x_test.loc[:, ['lat', 'lon', 'surface_total_in_m2', 'surface_covered_in_m2']]\n",
    "x_train = x_train.loc[:, ['lat', 'lon', 'surface_total_in_m2', 'surface_covered_in_m2']]\n",
    "models = [KNeighborsRegressor(),\n",
    "         RandomForestRegressor(n_estimators=100, max_features='sqrt'),\n",
    "         LinearRegression(),\n",
    "         linear_model.Ridge (alpha = .5),\n",
    "         linear_model.Lasso (alpha = 0.1),\n",
    "         linear_model.LassoLars (alpha = 0.1),\n",
    "         linear_model.BayesianRidge(),\n",
    "         svm.LinearSVR(),\n",
    "         tree.DecisionTreeRegressor(),\n",
    "         neural_network.MLPRegressor()]\n",
    " \n",
    "TestModels = pd.DataFrame()\n",
    "tmp = {}\n",
    " \n",
    "for model in models:\n",
    "        m = str(model)\n",
    "        tmp['Model'] = m[:m.index('(')]\n",
    "        model.fit(x_train, y_train)\n",
    "        tmp['Precio'] = r2_score(y_test, model.predict(x_test))\n",
    "        TestModels = TestModels.append([tmp])\n",
    " \n",
    "TestModels.set_index('Model', inplace=True)\n",
    " \n",
    "fig, axes = plt.subplots(ncols=1, figsize=(10, 4))\n",
    "TestModels.Precio.plot(ax=axes, kind='bar', title='Precio')\n",
    "plt.show()"
   ]
  },
  {
   "cell_type": "code",
   "execution_count": 179,
   "metadata": {},
   "outputs": [
    {
     "name": "stderr",
     "output_type": "stream",
     "text": [
      "C:\\Users\\nicol\\Anaconda3\\lib\\site-packages\\sklearn\\neural_network\\multilayer_perceptron.py:564: ConvergenceWarning: Stochastic Optimizer: Maximum iterations (200) reached and the optimization hasn't converged yet.\n",
      "  % self.max_iter, ConvergenceWarning)\n"
     ]
    },
    {
     "data": {
      "image/png": "[encoded data removed]",
      "text/plain": [
       "<matplotlib.figure.Figure at 0x1b980ca3780>"
      ]
     },
     "metadata": {},
     "output_type": "display_data"
    }
   ],
   "source": [
    "#Prueba 3\n",
    "datosFiltrados = datosSinNull.loc[:, ['lat', 'lon', 'surface_total_in_m2', 'surface_covered_in_m2',\\\n",
    "                                      'price_aprox_usd']]\n",
    "\n",
    "x_train, x_test, y_train, y_test = train_test_split(datosFiltrados, datosFiltrados['price_aprox_usd'], test_size=0.2)\n",
    "x_test = x_test.loc[:, ['lat', 'lon', 'surface_total_in_m2', 'surface_covered_in_m2']]\n",
    "x_train = x_train.loc[:, ['lat', 'lon', 'surface_total_in_m2', 'surface_covered_in_m2']]\n",
    "models = [KNeighborsRegressor(),\n",
    "         RandomForestRegressor(n_estimators=100, max_features='sqrt'),\n",
    "         LinearRegression(),\n",
    "         linear_model.Ridge (alpha = .5),\n",
    "         linear_model.Lasso (alpha = 0.1),\n",
    "         linear_model.LassoLars (alpha = 0.1),\n",
    "         linear_model.BayesianRidge(),\n",
    "         svm.LinearSVR(),\n",
    "         tree.DecisionTreeRegressor(),\n",
    "         neural_network.MLPRegressor()]\n",
    " \n",
    "TestModels = pd.DataFrame()\n",
    "tmp = {}\n",
    " \n",
    "for model in models:\n",
    "        m = str(model)\n",
    "        tmp['Model'] = m[:m.index('(')]\n",
    "        model.fit(x_train, y_train)\n",
    "        tmp['Precio'] = r2_score(y_test, model.predict(x_test))\n",
    "        TestModels = TestModels.append([tmp])\n",
    " \n",
    "TestModels.set_index('Model', inplace=True)\n",
    " \n",
    "fig, axes = plt.subplots(ncols=1, figsize=(10, 4))\n",
    "TestModels.Precio.plot(ax=axes, kind='bar', title='Precio')\n",
    "plt.show()"
   ]
  },
  {
   "cell_type": "code",
   "execution_count": 33,
   "metadata": {},
   "outputs": [
    {
     "data": {
      "text/plain": [
       "array([ 0.39237995,  0.91701864,  0.88376643,  0.78635228,  0.82133644])"
      ]
     },
     "execution_count": 33,
     "metadata": {},
     "output_type": "execute_result"
    }
   ],
   "source": [
    "datosFiltradosFeatures = datosFiltrados.loc[:, ['lat', 'lon', 'surface_total_in_m2', 'surface_covered_in_m2']]\n",
    "datosFiltradosPrecios = datosFiltrados.loc[:, ['price_aprox_usd']]\n",
    "RFRModel = RandomForestRegressor(n_estimators=100, max_features='sqrt')\n",
    "scores = cross_val_score(RFRModel, datosFiltradosFeatures, np.ravel(datosFiltradosPrecios), cv=5)\n",
    "scores"
   ]
  },
  {
   "cell_type": "code",
   "execution_count": 50,
   "metadata": {},
   "outputs": [
    {
     "data": {
      "text/plain": [
       "array([ 0.2584208 ,  0.91204237,  0.77484542,  0.66607409,  0.63041404])"
      ]
     },
     "execution_count": 50,
     "metadata": {},
     "output_type": "execute_result"
    }
   ],
   "source": [
    "RFRModel = RandomForestRegressor(n_estimators=100)\n",
    "scores = cross_val_score(RFRModel, datosFiltradosFeatures, np.ravel(datosFiltradosPrecios), cv=5)\n",
    "scores"
   ]
  },
  {
   "cell_type": "code",
   "execution_count": 48,
   "metadata": {},
   "outputs": [
    {
     "data": {
      "text/plain": [
       "array([ 0.25138166,  0.88470325,  0.59708272,  0.67097637,  0.60537916])"
      ]
     },
     "execution_count": 48,
     "metadata": {},
     "output_type": "execute_result"
    }
   ],
   "source": [
    "RFRModel = RandomForestRegressor()\n",
    "scores = cross_val_score(RFRModel, datosFiltradosFeatures, np.ravel(datosFiltradosPrecios), cv=5)\n",
    "scores"
   ]
  },
  {
   "cell_type": "code",
   "execution_count": 49,
   "metadata": {},
   "outputs": [
    {
     "data": {
      "text/plain": [
       "array([ 0.31663359,  0.90991187,  0.79368348,  0.74809686,  0.63274897])"
      ]
     },
     "execution_count": 49,
     "metadata": {},
     "output_type": "execute_result"
    }
   ],
   "source": [
    "RFRModel = RandomForestRegressor(n_estimators=50, max_features=2)\n",
    "scores = cross_val_score(RFRModel, datosFiltradosFeatures, np.ravel(datosFiltradosPrecios), cv=5)\n",
    "scores"
   ]
  },
  {
   "cell_type": "code",
   "execution_count": 54,
   "metadata": {
    "collapsed": true
   },
   "outputs": [],
   "source": [
    "#primera estimacion al set de prueba\n",
    "primeraPrueba = datosForTesting.loc[:, ['lat', 'lon', 'surface_total_in_m2', 'surface_covered_in_m2']]\n",
    "RFRModel = RandomForestRegressor(n_estimators=100, max_features='sqrt')"
   ]
  },
  {
   "cell_type": "code",
   "execution_count": 61,
   "metadata": {},
   "outputs": [
    {
     "data": {
      "text/plain": [
       "array([[ -34.61098776,  -58.36346358,    0.        ,   64.        ],\n",
       "       [ -34.612651  ,  -58.4432756 ,    0.        ,   64.        ],\n",
       "       [ -34.58936332,  -58.41287986,   53.        ,   48.        ],\n",
       "       ..., \n",
       "       [ -34.7585252 ,  -58.4097202 ,  219.        ,  135.        ],\n",
       "       [ -34.56322108,  -58.46105268,   62.        ,   48.        ],\n",
       "       [ -34.70919169,  -58.53028938,  367.        ,  130.        ]])"
      ]
     },
     "execution_count": 61,
     "metadata": {},
     "output_type": "execute_result"
    }
   ],
   "source": [
    "imp = Imputer(missing_values='NaN', strategy='median', axis=0)\n",
    "imp.fit_transform(primeraPrueba)"
   ]
  },
  {
   "cell_type": "code",
   "execution_count": 68,
   "metadata": {},
   "outputs": [
    {
     "data": {
      "text/plain": [
       "array([ 307686.31166667,  159466.64      ,  185250.8197    , ...,\n",
       "        167100.2048    ,  172813.33989524,  152105.        ])"
      ]
     },
     "execution_count": 68,
     "metadata": {},
     "output_type": "execute_result"
    }
   ],
   "source": [
    "x_train, x_test, y_train, y_test = train_test_split(datosFiltrados.loc[:, ['lat', 'lon', 'surface_total_in_m2', 'surface_covered_in_m2']], datosFiltrados['price_aprox_usd'], test_size=0.2)\n",
    "RFRModel.fit(x_train, y_train)\n",
    "prueba1 = RFRModel.predict(imp.fit_transform(primeraPrueba))\n",
    "prueba1"
   ]
  },
  {
   "cell_type": "code",
   "execution_count": 79,
   "metadata": {},
   "outputs": [
    {
     "data": {
      "text/html": [
       "<div>\n",
       "<style>\n",
       "    .dataframe thead tr:only-child th {\n",
       "        text-align: right;\n",
       "    }\n",
       "\n",
       "    .dataframe thead th {\n",
       "        text-align: left;\n",
       "    }\n",
       "\n",
       "    .dataframe tbody tr th {\n",
       "        vertical-align: top;\n",
       "    }\n",
       "</style>\n",
       "<table border=\"1\" class=\"dataframe\">\n",
       "  <thead>\n",
       "    <tr style=\"text-align: right;\">\n",
       "      <th></th>\n",
       "      <th>id</th>\n",
       "      <th>price_usd</th>\n",
       "    </tr>\n",
       "  </thead>\n",
       "  <tbody>\n",
       "    <tr>\n",
       "      <th>0</th>\n",
       "      <td>3632</td>\n",
       "      <td>307686.311667</td>\n",
       "    </tr>\n",
       "    <tr>\n",
       "      <th>1</th>\n",
       "      <td>3633</td>\n",
       "      <td>159466.640000</td>\n",
       "    </tr>\n",
       "    <tr>\n",
       "      <th>2</th>\n",
       "      <td>2263404</td>\n",
       "      <td>185250.819700</td>\n",
       "    </tr>\n",
       "    <tr>\n",
       "      <th>3</th>\n",
       "      <td>2263405</td>\n",
       "      <td>83847.000000</td>\n",
       "    </tr>\n",
       "    <tr>\n",
       "      <th>4</th>\n",
       "      <td>2263406</td>\n",
       "      <td>141019.780741</td>\n",
       "    </tr>\n",
       "    <tr>\n",
       "      <th>5</th>\n",
       "      <td>2263407</td>\n",
       "      <td>83847.000000</td>\n",
       "    </tr>\n",
       "    <tr>\n",
       "      <th>6</th>\n",
       "      <td>2263408</td>\n",
       "      <td>83847.000000</td>\n",
       "    </tr>\n",
       "    <tr>\n",
       "      <th>7</th>\n",
       "      <td>2263409</td>\n",
       "      <td>83847.000000</td>\n",
       "    </tr>\n",
       "    <tr>\n",
       "      <th>8</th>\n",
       "      <td>2263410</td>\n",
       "      <td>139479.400000</td>\n",
       "    </tr>\n",
       "    <tr>\n",
       "      <th>9</th>\n",
       "      <td>2263411</td>\n",
       "      <td>109333.665000</td>\n",
       "    </tr>\n",
       "    <tr>\n",
       "      <th>10</th>\n",
       "      <td>2263412</td>\n",
       "      <td>109333.665000</td>\n",
       "    </tr>\n",
       "    <tr>\n",
       "      <th>11</th>\n",
       "      <td>2263413</td>\n",
       "      <td>109333.665000</td>\n",
       "    </tr>\n",
       "    <tr>\n",
       "      <th>12</th>\n",
       "      <td>2263415</td>\n",
       "      <td>177013.720200</td>\n",
       "    </tr>\n",
       "    <tr>\n",
       "      <th>13</th>\n",
       "      <td>2263416</td>\n",
       "      <td>699519.845238</td>\n",
       "    </tr>\n",
       "    <tr>\n",
       "      <th>14</th>\n",
       "      <td>2263417</td>\n",
       "      <td>83847.000000</td>\n",
       "    </tr>\n",
       "    <tr>\n",
       "      <th>15</th>\n",
       "      <td>2263418</td>\n",
       "      <td>83847.000000</td>\n",
       "    </tr>\n",
       "    <tr>\n",
       "      <th>16</th>\n",
       "      <td>2263419</td>\n",
       "      <td>83847.000000</td>\n",
       "    </tr>\n",
       "    <tr>\n",
       "      <th>17</th>\n",
       "      <td>2263420</td>\n",
       "      <td>83847.000000</td>\n",
       "    </tr>\n",
       "    <tr>\n",
       "      <th>18</th>\n",
       "      <td>2263421</td>\n",
       "      <td>83847.000000</td>\n",
       "    </tr>\n",
       "    <tr>\n",
       "      <th>19</th>\n",
       "      <td>2263422</td>\n",
       "      <td>83847.000000</td>\n",
       "    </tr>\n",
       "    <tr>\n",
       "      <th>20</th>\n",
       "      <td>2263423</td>\n",
       "      <td>83847.000000</td>\n",
       "    </tr>\n",
       "    <tr>\n",
       "      <th>21</th>\n",
       "      <td>2263424</td>\n",
       "      <td>83847.000000</td>\n",
       "    </tr>\n",
       "    <tr>\n",
       "      <th>22</th>\n",
       "      <td>2263425</td>\n",
       "      <td>121044.724300</td>\n",
       "    </tr>\n",
       "    <tr>\n",
       "      <th>23</th>\n",
       "      <td>2263426</td>\n",
       "      <td>141019.780741</td>\n",
       "    </tr>\n",
       "    <tr>\n",
       "      <th>24</th>\n",
       "      <td>2263427</td>\n",
       "      <td>141019.780741</td>\n",
       "    </tr>\n",
       "    <tr>\n",
       "      <th>25</th>\n",
       "      <td>2263428</td>\n",
       "      <td>141019.780741</td>\n",
       "    </tr>\n",
       "    <tr>\n",
       "      <th>26</th>\n",
       "      <td>2263429</td>\n",
       "      <td>141019.780741</td>\n",
       "    </tr>\n",
       "    <tr>\n",
       "      <th>27</th>\n",
       "      <td>2263430</td>\n",
       "      <td>83847.000000</td>\n",
       "    </tr>\n",
       "    <tr>\n",
       "      <th>28</th>\n",
       "      <td>2263431</td>\n",
       "      <td>83847.000000</td>\n",
       "    </tr>\n",
       "    <tr>\n",
       "      <th>29</th>\n",
       "      <td>2263432</td>\n",
       "      <td>82014.607680</td>\n",
       "    </tr>\n",
       "    <tr>\n",
       "      <th>...</th>\n",
       "      <td>...</td>\n",
       "      <td>...</td>\n",
       "    </tr>\n",
       "    <tr>\n",
       "      <th>14136</th>\n",
       "      <td>2245037</td>\n",
       "      <td>105664.543333</td>\n",
       "    </tr>\n",
       "    <tr>\n",
       "      <th>14137</th>\n",
       "      <td>2245039</td>\n",
       "      <td>81265.738300</td>\n",
       "    </tr>\n",
       "    <tr>\n",
       "      <th>14138</th>\n",
       "      <td>2245041</td>\n",
       "      <td>151419.000000</td>\n",
       "    </tr>\n",
       "    <tr>\n",
       "      <th>14139</th>\n",
       "      <td>2245042</td>\n",
       "      <td>207230.967300</td>\n",
       "    </tr>\n",
       "    <tr>\n",
       "      <th>14140</th>\n",
       "      <td>2245071</td>\n",
       "      <td>132594.642857</td>\n",
       "    </tr>\n",
       "    <tr>\n",
       "      <th>14141</th>\n",
       "      <td>2245093</td>\n",
       "      <td>226531.210000</td>\n",
       "    </tr>\n",
       "    <tr>\n",
       "      <th>14142</th>\n",
       "      <td>2245123</td>\n",
       "      <td>136577.720400</td>\n",
       "    </tr>\n",
       "    <tr>\n",
       "      <th>14143</th>\n",
       "      <td>2245124</td>\n",
       "      <td>88596.460000</td>\n",
       "    </tr>\n",
       "    <tr>\n",
       "      <th>14144</th>\n",
       "      <td>2245167</td>\n",
       "      <td>258604.000000</td>\n",
       "    </tr>\n",
       "    <tr>\n",
       "      <th>14145</th>\n",
       "      <td>2245170</td>\n",
       "      <td>140120.360081</td>\n",
       "    </tr>\n",
       "    <tr>\n",
       "      <th>14146</th>\n",
       "      <td>2245172</td>\n",
       "      <td>112105.321040</td>\n",
       "    </tr>\n",
       "    <tr>\n",
       "      <th>14147</th>\n",
       "      <td>2245180</td>\n",
       "      <td>100522.150200</td>\n",
       "    </tr>\n",
       "    <tr>\n",
       "      <th>14148</th>\n",
       "      <td>2245185</td>\n",
       "      <td>184690.830000</td>\n",
       "    </tr>\n",
       "    <tr>\n",
       "      <th>14149</th>\n",
       "      <td>2245186</td>\n",
       "      <td>176120.000000</td>\n",
       "    </tr>\n",
       "    <tr>\n",
       "      <th>14150</th>\n",
       "      <td>2245187</td>\n",
       "      <td>102468.760567</td>\n",
       "    </tr>\n",
       "    <tr>\n",
       "      <th>14151</th>\n",
       "      <td>2245203</td>\n",
       "      <td>163650.000000</td>\n",
       "    </tr>\n",
       "    <tr>\n",
       "      <th>14152</th>\n",
       "      <td>2245221</td>\n",
       "      <td>155160.441667</td>\n",
       "    </tr>\n",
       "    <tr>\n",
       "      <th>14153</th>\n",
       "      <td>2245222</td>\n",
       "      <td>225452.601567</td>\n",
       "    </tr>\n",
       "    <tr>\n",
       "      <th>14154</th>\n",
       "      <td>2245228</td>\n",
       "      <td>656550.000000</td>\n",
       "    </tr>\n",
       "    <tr>\n",
       "      <th>14155</th>\n",
       "      <td>2245266</td>\n",
       "      <td>113841.780200</td>\n",
       "    </tr>\n",
       "    <tr>\n",
       "      <th>14156</th>\n",
       "      <td>2245331</td>\n",
       "      <td>152940.000000</td>\n",
       "    </tr>\n",
       "    <tr>\n",
       "      <th>14157</th>\n",
       "      <td>2245345</td>\n",
       "      <td>90005.276033</td>\n",
       "    </tr>\n",
       "    <tr>\n",
       "      <th>14158</th>\n",
       "      <td>2245921</td>\n",
       "      <td>102003.960000</td>\n",
       "    </tr>\n",
       "    <tr>\n",
       "      <th>14159</th>\n",
       "      <td>2245929</td>\n",
       "      <td>176645.929394</td>\n",
       "    </tr>\n",
       "    <tr>\n",
       "      <th>14160</th>\n",
       "      <td>2245930</td>\n",
       "      <td>176645.929394</td>\n",
       "    </tr>\n",
       "    <tr>\n",
       "      <th>14161</th>\n",
       "      <td>2245938</td>\n",
       "      <td>547900.000000</td>\n",
       "    </tr>\n",
       "    <tr>\n",
       "      <th>14162</th>\n",
       "      <td>2245978</td>\n",
       "      <td>56810.329436</td>\n",
       "    </tr>\n",
       "    <tr>\n",
       "      <th>14163</th>\n",
       "      <td>2246083</td>\n",
       "      <td>167100.204800</td>\n",
       "    </tr>\n",
       "    <tr>\n",
       "      <th>14164</th>\n",
       "      <td>2246089</td>\n",
       "      <td>172813.339895</td>\n",
       "    </tr>\n",
       "    <tr>\n",
       "      <th>14165</th>\n",
       "      <td>2246127</td>\n",
       "      <td>152105.000000</td>\n",
       "    </tr>\n",
       "  </tbody>\n",
       "</table>\n",
       "<p>14166 rows × 2 columns</p>\n",
       "</div>"
      ],
      "text/plain": [
       "            id      price_usd\n",
       "0         3632  307686.311667\n",
       "1         3633  159466.640000\n",
       "2      2263404  185250.819700\n",
       "3      2263405   83847.000000\n",
       "4      2263406  141019.780741\n",
       "5      2263407   83847.000000\n",
       "6      2263408   83847.000000\n",
       "7      2263409   83847.000000\n",
       "8      2263410  139479.400000\n",
       "9      2263411  109333.665000\n",
       "10     2263412  109333.665000\n",
       "11     2263413  109333.665000\n",
       "12     2263415  177013.720200\n",
       "13     2263416  699519.845238\n",
       "14     2263417   83847.000000\n",
       "15     2263418   83847.000000\n",
       "16     2263419   83847.000000\n",
       "17     2263420   83847.000000\n",
       "18     2263421   83847.000000\n",
       "19     2263422   83847.000000\n",
       "20     2263423   83847.000000\n",
       "21     2263424   83847.000000\n",
       "22     2263425  121044.724300\n",
       "23     2263426  141019.780741\n",
       "24     2263427  141019.780741\n",
       "25     2263428  141019.780741\n",
       "26     2263429  141019.780741\n",
       "27     2263430   83847.000000\n",
       "28     2263431   83847.000000\n",
       "29     2263432   82014.607680\n",
       "...        ...            ...\n",
       "14136  2245037  105664.543333\n",
       "14137  2245039   81265.738300\n",
       "14138  2245041  151419.000000\n",
       "14139  2245042  207230.967300\n",
       "14140  2245071  132594.642857\n",
       "14141  2245093  226531.210000\n",
       "14142  2245123  136577.720400\n",
       "14143  2245124   88596.460000\n",
       "14144  2245167  258604.000000\n",
       "14145  2245170  140120.360081\n",
       "14146  2245172  112105.321040\n",
       "14147  2245180  100522.150200\n",
       "14148  2245185  184690.830000\n",
       "14149  2245186  176120.000000\n",
       "14150  2245187  102468.760567\n",
       "14151  2245203  163650.000000\n",
       "14152  2245221  155160.441667\n",
       "14153  2245222  225452.601567\n",
       "14154  2245228  656550.000000\n",
       "14155  2245266  113841.780200\n",
       "14156  2245331  152940.000000\n",
       "14157  2245345   90005.276033\n",
       "14158  2245921  102003.960000\n",
       "14159  2245929  176645.929394\n",
       "14160  2245930  176645.929394\n",
       "14161  2245938  547900.000000\n",
       "14162  2245978   56810.329436\n",
       "14163  2246083  167100.204800\n",
       "14164  2246089  172813.339895\n",
       "14165  2246127  152105.000000\n",
       "\n",
       "[14166 rows x 2 columns]"
      ]
     },
     "execution_count": 79,
     "metadata": {},
     "output_type": "execute_result"
    }
   ],
   "source": [
    "archivo1 = pd.DataFrame()\n",
    "archivo1['id'] = datosForTesting.loc[:,['id']]\n",
    "archivo1['price_usd'] = prueba1\n",
    "archivo1"
   ]
  },
  {
   "cell_type": "code",
   "execution_count": 85,
   "metadata": {
    "collapsed": true
   },
   "outputs": [],
   "source": [
    "archivo1.to_csv('prueba1.csv', index=False)"
   ]
  },
  {
   "cell_type": "code",
   "execution_count": 86,
   "metadata": {},
   "outputs": [
    {
     "data": {
      "text/html": [
       "<div>\n",
       "<style>\n",
       "    .dataframe thead tr:only-child th {\n",
       "        text-align: right;\n",
       "    }\n",
       "\n",
       "    .dataframe thead th {\n",
       "        text-align: left;\n",
       "    }\n",
       "\n",
       "    .dataframe tbody tr th {\n",
       "        vertical-align: top;\n",
       "    }\n",
       "</style>\n",
       "<table border=\"1\" class=\"dataframe\">\n",
       "  <thead>\n",
       "    <tr style=\"text-align: right;\">\n",
       "      <th></th>\n",
       "      <th>id</th>\n",
       "      <th>price_usd</th>\n",
       "    </tr>\n",
       "  </thead>\n",
       "  <tbody>\n",
       "    <tr>\n",
       "      <th>0</th>\n",
       "      <td>3632</td>\n",
       "      <td>307686.311667</td>\n",
       "    </tr>\n",
       "    <tr>\n",
       "      <th>1</th>\n",
       "      <td>3633</td>\n",
       "      <td>159466.640000</td>\n",
       "    </tr>\n",
       "    <tr>\n",
       "      <th>2</th>\n",
       "      <td>2263404</td>\n",
       "      <td>185250.819700</td>\n",
       "    </tr>\n",
       "    <tr>\n",
       "      <th>3</th>\n",
       "      <td>2263405</td>\n",
       "      <td>83847.000000</td>\n",
       "    </tr>\n",
       "    <tr>\n",
       "      <th>4</th>\n",
       "      <td>2263406</td>\n",
       "      <td>141019.780741</td>\n",
       "    </tr>\n",
       "    <tr>\n",
       "      <th>5</th>\n",
       "      <td>2263407</td>\n",
       "      <td>83847.000000</td>\n",
       "    </tr>\n",
       "    <tr>\n",
       "      <th>6</th>\n",
       "      <td>2263408</td>\n",
       "      <td>83847.000000</td>\n",
       "    </tr>\n",
       "    <tr>\n",
       "      <th>7</th>\n",
       "      <td>2263409</td>\n",
       "      <td>83847.000000</td>\n",
       "    </tr>\n",
       "    <tr>\n",
       "      <th>8</th>\n",
       "      <td>2263410</td>\n",
       "      <td>139479.400000</td>\n",
       "    </tr>\n",
       "    <tr>\n",
       "      <th>9</th>\n",
       "      <td>2263411</td>\n",
       "      <td>109333.665000</td>\n",
       "    </tr>\n",
       "    <tr>\n",
       "      <th>10</th>\n",
       "      <td>2263412</td>\n",
       "      <td>109333.665000</td>\n",
       "    </tr>\n",
       "    <tr>\n",
       "      <th>11</th>\n",
       "      <td>2263413</td>\n",
       "      <td>109333.665000</td>\n",
       "    </tr>\n",
       "    <tr>\n",
       "      <th>12</th>\n",
       "      <td>2263415</td>\n",
       "      <td>177013.720200</td>\n",
       "    </tr>\n",
       "    <tr>\n",
       "      <th>13</th>\n",
       "      <td>2263416</td>\n",
       "      <td>699519.845238</td>\n",
       "    </tr>\n",
       "    <tr>\n",
       "      <th>14</th>\n",
       "      <td>2263417</td>\n",
       "      <td>83847.000000</td>\n",
       "    </tr>\n",
       "    <tr>\n",
       "      <th>15</th>\n",
       "      <td>2263418</td>\n",
       "      <td>83847.000000</td>\n",
       "    </tr>\n",
       "    <tr>\n",
       "      <th>16</th>\n",
       "      <td>2263419</td>\n",
       "      <td>83847.000000</td>\n",
       "    </tr>\n",
       "    <tr>\n",
       "      <th>17</th>\n",
       "      <td>2263420</td>\n",
       "      <td>83847.000000</td>\n",
       "    </tr>\n",
       "    <tr>\n",
       "      <th>18</th>\n",
       "      <td>2263421</td>\n",
       "      <td>83847.000000</td>\n",
       "    </tr>\n",
       "    <tr>\n",
       "      <th>19</th>\n",
       "      <td>2263422</td>\n",
       "      <td>83847.000000</td>\n",
       "    </tr>\n",
       "    <tr>\n",
       "      <th>20</th>\n",
       "      <td>2263423</td>\n",
       "      <td>83847.000000</td>\n",
       "    </tr>\n",
       "    <tr>\n",
       "      <th>21</th>\n",
       "      <td>2263424</td>\n",
       "      <td>83847.000000</td>\n",
       "    </tr>\n",
       "    <tr>\n",
       "      <th>22</th>\n",
       "      <td>2263425</td>\n",
       "      <td>121044.724300</td>\n",
       "    </tr>\n",
       "    <tr>\n",
       "      <th>23</th>\n",
       "      <td>2263426</td>\n",
       "      <td>141019.780741</td>\n",
       "    </tr>\n",
       "    <tr>\n",
       "      <th>24</th>\n",
       "      <td>2263427</td>\n",
       "      <td>141019.780741</td>\n",
       "    </tr>\n",
       "    <tr>\n",
       "      <th>25</th>\n",
       "      <td>2263428</td>\n",
       "      <td>141019.780741</td>\n",
       "    </tr>\n",
       "    <tr>\n",
       "      <th>26</th>\n",
       "      <td>2263429</td>\n",
       "      <td>141019.780741</td>\n",
       "    </tr>\n",
       "    <tr>\n",
       "      <th>27</th>\n",
       "      <td>2263430</td>\n",
       "      <td>83847.000000</td>\n",
       "    </tr>\n",
       "    <tr>\n",
       "      <th>28</th>\n",
       "      <td>2263431</td>\n",
       "      <td>83847.000000</td>\n",
       "    </tr>\n",
       "    <tr>\n",
       "      <th>29</th>\n",
       "      <td>2263432</td>\n",
       "      <td>82014.607680</td>\n",
       "    </tr>\n",
       "    <tr>\n",
       "      <th>...</th>\n",
       "      <td>...</td>\n",
       "      <td>...</td>\n",
       "    </tr>\n",
       "    <tr>\n",
       "      <th>14136</th>\n",
       "      <td>2245037</td>\n",
       "      <td>105664.543333</td>\n",
       "    </tr>\n",
       "    <tr>\n",
       "      <th>14137</th>\n",
       "      <td>2245039</td>\n",
       "      <td>81265.738300</td>\n",
       "    </tr>\n",
       "    <tr>\n",
       "      <th>14138</th>\n",
       "      <td>2245041</td>\n",
       "      <td>151419.000000</td>\n",
       "    </tr>\n",
       "    <tr>\n",
       "      <th>14139</th>\n",
       "      <td>2245042</td>\n",
       "      <td>207230.967300</td>\n",
       "    </tr>\n",
       "    <tr>\n",
       "      <th>14140</th>\n",
       "      <td>2245071</td>\n",
       "      <td>132594.642857</td>\n",
       "    </tr>\n",
       "    <tr>\n",
       "      <th>14141</th>\n",
       "      <td>2245093</td>\n",
       "      <td>226531.210000</td>\n",
       "    </tr>\n",
       "    <tr>\n",
       "      <th>14142</th>\n",
       "      <td>2245123</td>\n",
       "      <td>136577.720400</td>\n",
       "    </tr>\n",
       "    <tr>\n",
       "      <th>14143</th>\n",
       "      <td>2245124</td>\n",
       "      <td>88596.460000</td>\n",
       "    </tr>\n",
       "    <tr>\n",
       "      <th>14144</th>\n",
       "      <td>2245167</td>\n",
       "      <td>258604.000000</td>\n",
       "    </tr>\n",
       "    <tr>\n",
       "      <th>14145</th>\n",
       "      <td>2245170</td>\n",
       "      <td>140120.360081</td>\n",
       "    </tr>\n",
       "    <tr>\n",
       "      <th>14146</th>\n",
       "      <td>2245172</td>\n",
       "      <td>112105.321040</td>\n",
       "    </tr>\n",
       "    <tr>\n",
       "      <th>14147</th>\n",
       "      <td>2245180</td>\n",
       "      <td>100522.150200</td>\n",
       "    </tr>\n",
       "    <tr>\n",
       "      <th>14148</th>\n",
       "      <td>2245185</td>\n",
       "      <td>184690.830000</td>\n",
       "    </tr>\n",
       "    <tr>\n",
       "      <th>14149</th>\n",
       "      <td>2245186</td>\n",
       "      <td>176120.000000</td>\n",
       "    </tr>\n",
       "    <tr>\n",
       "      <th>14150</th>\n",
       "      <td>2245187</td>\n",
       "      <td>102468.760567</td>\n",
       "    </tr>\n",
       "    <tr>\n",
       "      <th>14151</th>\n",
       "      <td>2245203</td>\n",
       "      <td>163650.000000</td>\n",
       "    </tr>\n",
       "    <tr>\n",
       "      <th>14152</th>\n",
       "      <td>2245221</td>\n",
       "      <td>155160.441667</td>\n",
       "    </tr>\n",
       "    <tr>\n",
       "      <th>14153</th>\n",
       "      <td>2245222</td>\n",
       "      <td>225452.601567</td>\n",
       "    </tr>\n",
       "    <tr>\n",
       "      <th>14154</th>\n",
       "      <td>2245228</td>\n",
       "      <td>656550.000000</td>\n",
       "    </tr>\n",
       "    <tr>\n",
       "      <th>14155</th>\n",
       "      <td>2245266</td>\n",
       "      <td>113841.780200</td>\n",
       "    </tr>\n",
       "    <tr>\n",
       "      <th>14156</th>\n",
       "      <td>2245331</td>\n",
       "      <td>152940.000000</td>\n",
       "    </tr>\n",
       "    <tr>\n",
       "      <th>14157</th>\n",
       "      <td>2245345</td>\n",
       "      <td>90005.276033</td>\n",
       "    </tr>\n",
       "    <tr>\n",
       "      <th>14158</th>\n",
       "      <td>2245921</td>\n",
       "      <td>102003.960000</td>\n",
       "    </tr>\n",
       "    <tr>\n",
       "      <th>14159</th>\n",
       "      <td>2245929</td>\n",
       "      <td>176645.929394</td>\n",
       "    </tr>\n",
       "    <tr>\n",
       "      <th>14160</th>\n",
       "      <td>2245930</td>\n",
       "      <td>176645.929394</td>\n",
       "    </tr>\n",
       "    <tr>\n",
       "      <th>14161</th>\n",
       "      <td>2245938</td>\n",
       "      <td>547900.000000</td>\n",
       "    </tr>\n",
       "    <tr>\n",
       "      <th>14162</th>\n",
       "      <td>2245978</td>\n",
       "      <td>56810.329436</td>\n",
       "    </tr>\n",
       "    <tr>\n",
       "      <th>14163</th>\n",
       "      <td>2246083</td>\n",
       "      <td>167100.204800</td>\n",
       "    </tr>\n",
       "    <tr>\n",
       "      <th>14164</th>\n",
       "      <td>2246089</td>\n",
       "      <td>172813.339895</td>\n",
       "    </tr>\n",
       "    <tr>\n",
       "      <th>14165</th>\n",
       "      <td>2246127</td>\n",
       "      <td>152105.000000</td>\n",
       "    </tr>\n",
       "  </tbody>\n",
       "</table>\n",
       "<p>14166 rows × 2 columns</p>\n",
       "</div>"
      ],
      "text/plain": [
       "            id      price_usd\n",
       "0         3632  307686.311667\n",
       "1         3633  159466.640000\n",
       "2      2263404  185250.819700\n",
       "3      2263405   83847.000000\n",
       "4      2263406  141019.780741\n",
       "5      2263407   83847.000000\n",
       "6      2263408   83847.000000\n",
       "7      2263409   83847.000000\n",
       "8      2263410  139479.400000\n",
       "9      2263411  109333.665000\n",
       "10     2263412  109333.665000\n",
       "11     2263413  109333.665000\n",
       "12     2263415  177013.720200\n",
       "13     2263416  699519.845238\n",
       "14     2263417   83847.000000\n",
       "15     2263418   83847.000000\n",
       "16     2263419   83847.000000\n",
       "17     2263420   83847.000000\n",
       "18     2263421   83847.000000\n",
       "19     2263422   83847.000000\n",
       "20     2263423   83847.000000\n",
       "21     2263424   83847.000000\n",
       "22     2263425  121044.724300\n",
       "23     2263426  141019.780741\n",
       "24     2263427  141019.780741\n",
       "25     2263428  141019.780741\n",
       "26     2263429  141019.780741\n",
       "27     2263430   83847.000000\n",
       "28     2263431   83847.000000\n",
       "29     2263432   82014.607680\n",
       "...        ...            ...\n",
       "14136  2245037  105664.543333\n",
       "14137  2245039   81265.738300\n",
       "14138  2245041  151419.000000\n",
       "14139  2245042  207230.967300\n",
       "14140  2245071  132594.642857\n",
       "14141  2245093  226531.210000\n",
       "14142  2245123  136577.720400\n",
       "14143  2245124   88596.460000\n",
       "14144  2245167  258604.000000\n",
       "14145  2245170  140120.360081\n",
       "14146  2245172  112105.321040\n",
       "14147  2245180  100522.150200\n",
       "14148  2245185  184690.830000\n",
       "14149  2245186  176120.000000\n",
       "14150  2245187  102468.760567\n",
       "14151  2245203  163650.000000\n",
       "14152  2245221  155160.441667\n",
       "14153  2245222  225452.601567\n",
       "14154  2245228  656550.000000\n",
       "14155  2245266  113841.780200\n",
       "14156  2245331  152940.000000\n",
       "14157  2245345   90005.276033\n",
       "14158  2245921  102003.960000\n",
       "14159  2245929  176645.929394\n",
       "14160  2245930  176645.929394\n",
       "14161  2245938  547900.000000\n",
       "14162  2245978   56810.329436\n",
       "14163  2246083  167100.204800\n",
       "14164  2246089  172813.339895\n",
       "14165  2246127  152105.000000\n",
       "\n",
       "[14166 rows x 2 columns]"
      ]
     },
     "execution_count": 86,
     "metadata": {},
     "output_type": "execute_result"
    }
   ],
   "source": [
    "aVer = pd.read_csv('prueba1.csv')\n",
    "aVer"
   ]
  },
  {
   "cell_type": "markdown",
   "metadata": {},
   "source": [
    "#  Prueba Incluyendo lugares"
   ]
  },
  {
   "cell_type": "code",
   "execution_count": 168,
   "metadata": {},
   "outputs": [
    {
     "data": {
      "text/html": [
       "<div>\n",
       "<style>\n",
       "    .dataframe thead tr:only-child th {\n",
       "        text-align: right;\n",
       "    }\n",
       "\n",
       "    .dataframe thead th {\n",
       "        text-align: left;\n",
       "    }\n",
       "\n",
       "    .dataframe tbody tr th {\n",
       "        vertical-align: top;\n",
       "    }\n",
       "</style>\n",
       "<table border=\"1\" class=\"dataframe\">\n",
       "  <thead>\n",
       "    <tr style=\"text-align: right;\">\n",
       "      <th></th>\n",
       "      <th>place_name</th>\n",
       "      <th>place_name_id</th>\n",
       "    </tr>\n",
       "  </thead>\n",
       "  <tbody>\n",
       "    <tr>\n",
       "      <th>0</th>\n",
       "      <td>Jose Marmol</td>\n",
       "      <td>0</td>\n",
       "    </tr>\n",
       "    <tr>\n",
       "      <th>1</th>\n",
       "      <td>Belgrano</td>\n",
       "      <td>1</td>\n",
       "    </tr>\n",
       "    <tr>\n",
       "      <th>2</th>\n",
       "      <td>Palermo Soho</td>\n",
       "      <td>2</td>\n",
       "    </tr>\n",
       "    <tr>\n",
       "      <th>3</th>\n",
       "      <td>Burzaco</td>\n",
       "      <td>3</td>\n",
       "    </tr>\n",
       "    <tr>\n",
       "      <th>4</th>\n",
       "      <td>Villa Devoto</td>\n",
       "      <td>4</td>\n",
       "    </tr>\n",
       "  </tbody>\n",
       "</table>\n",
       "</div>"
      ],
      "text/plain": [
       "     place_name  place_name_id\n",
       "0   Jose Marmol              0\n",
       "1      Belgrano              1\n",
       "2  Palermo Soho              2\n",
       "3       Burzaco              3\n",
       "4  Villa Devoto              4"
      ]
     },
     "execution_count": 168,
     "metadata": {},
     "output_type": "execute_result"
    }
   ],
   "source": [
    "#Creamos un place_name_id para agregar a la query\n",
    "barrios = pd.concat([pd.DataFrame([[barrio,0]], columns=['place_name','place_name_id']) for barrio in datosSinNull['place_name'].unique()]).reset_index()\n",
    "barrios['place_name_id'] = barrios.index\n",
    "barrios = barrios.loc[:,['place_name','place_name_id']]\n",
    "barrios.head()"
   ]
  },
  {
   "cell_type": "code",
   "execution_count": null,
   "metadata": {},
   "outputs": [],
   "source": []
  },
  {
   "cell_type": "code",
   "execution_count": 203,
   "metadata": {},
   "outputs": [],
   "source": [
    "datosWithPlaces = pd.merge(datosSinNull,barrios,how='left',on='place_name')"
   ]
  },
  {
   "cell_type": "code",
   "execution_count": 208,
   "metadata": {},
   "outputs": [],
   "source": [
    "datosFiltradosWithPlaces = datosWithPlaces.loc[:, ['lat', 'lon','surface_covered_in_m2','surface_total_in_m2','price_aprox_usd','place_name_id']]"
   ]
  },
  {
   "cell_type": "markdown",
   "metadata": {},
   "source": [
    "# Entrenamiento"
   ]
  },
  {
   "cell_type": "code",
   "execution_count": 206,
   "metadata": {},
   "outputs": [
    {
     "name": "stderr",
     "output_type": "stream",
     "text": [
      "C:\\Users\\nicol\\Anaconda3\\lib\\site-packages\\sklearn\\neural_network\\multilayer_perceptron.py:564: ConvergenceWarning: Stochastic Optimizer: Maximum iterations (200) reached and the optimization hasn't converged yet.\n",
      "  % self.max_iter, ConvergenceWarning)\n"
     ]
    },
    {
     "data": {
      "text/plain": [
       "<matplotlib.axes._subplots.AxesSubplot at 0x1b980cfa2b0>"
      ]
     },
     "execution_count": 206,
     "metadata": {},
     "output_type": "execute_result"
    },
    {
     "data": {
      "image/png": "[encoded data removed]",
      "text/plain": [
       "<matplotlib.figure.Figure at 0x1b9dceaf470>"
      ]
     },
     "metadata": {},
     "output_type": "display_data"
    }
   ],
   "source": [
    "#Prueba 4\n",
    "\n",
    "x_train, x_test, y_train, y_test = train_test_split(datosFiltradosWithPlaces, datosFiltradosWithPlaces['price_aprox_usd'], test_size=0.2)\n",
    "x_test = x_test.loc[:, ['lat', 'lon', 'surface_total_in_m2', 'surface_covered_in_m2','place_name_id']]\n",
    "x_train = x_train.loc[:, ['lat', 'lon', 'surface_total_in_m2', 'surface_covered_in_m2','place_name_id']]\n",
    "models = [KNeighborsRegressor(),\n",
    "         RandomForestRegressor(n_estimators=100, max_features='sqrt'),\n",
    "         tree.DecisionTreeRegressor(),\n",
    "         neural_network.MLPRegressor()]\n",
    " \n",
    "TestModels = pd.DataFrame()\n",
    "tmp = {}\n",
    " \n",
    "for model in models:\n",
    "        m = str(model)\n",
    "        tmp['Model'] = m[:m.index('(')]\n",
    "        model.fit(x_train, y_train)\n",
    "        tmp['Precio'] = r2_score(y_test, model.predict(x_test))\n",
    "        TestModels = TestModels.append([tmp])\n",
    " \n",
    "TestModels.set_index('Model', inplace=True)\n",
    " \n",
    "fig, axes = plt.subplots(ncols=1, figsize=(10, 4))\n",
    "TestModels.Precio.plot(ax=axes, kind='bar', title='Precio')\n"
   ]
  },
  {
   "cell_type": "code",
   "execution_count": 207,
   "metadata": {},
   "outputs": [
    {
     "data": {
      "text/plain": [
       "array([ 0.42288672,  0.92579638,  0.88060466,  0.78343659,  0.80647233])"
      ]
     },
     "execution_count": 207,
     "metadata": {},
     "output_type": "execute_result"
    }
   ],
   "source": [
    "datosFiltradosWithPlacesFeatures = datosFiltradosWithPlaces.loc[:, ['lat', 'lon', 'surface_total_in_m2', 'surface_covered_in_m2','place_name_id']]\n",
    "datosFiltradosWithPlacesPrecios = datosFiltradosWithPlaces.loc[:, ['price_aprox_usd']]\n",
    "RFRModel = RandomForestRegressor(n_estimators=100, max_features='sqrt')\n",
    "\n",
    "scores = cross_val_score(RFRModel, datosFiltradosWithPlacesFeatures, np.ravel(datosFiltradosWithPlacesPrecios), cv=5)\n",
    "\n",
    "scores"
   ]
  },
  {
   "cell_type": "markdown",
   "metadata": {},
   "source": [
    "# Test con set de pruebas "
   ]
  },
  {
   "cell_type": "code",
   "execution_count": 209,
   "metadata": {},
   "outputs": [],
   "source": [
    "datosForTestingWithPlaces = pd.merge(datosForTesting,barrios,how='left',on='place_name')"
   ]
  },
  {
   "cell_type": "code",
   "execution_count": 210,
   "metadata": {},
   "outputs": [],
   "source": [
    "segundaPrueba = datosForTestingWithPlaces.loc[:, ['lat', 'lon', 'surface_total_in_m2', 'surface_covered_in_m2','place_name_id']]\n",
    "\n",
    "\n",
    "imp = Imputer(missing_values='NaN', strategy='median', axis=0)\n",
    "imp.fit_transform(segundaPrueba)\n",
    "\n",
    "\n",
    "RFRModel = RandomForestRegressor(n_estimators=100, max_features='sqrt')\n",
    "\n",
    "x_train, x_test, y_train, y_test = train_test_split(datosFiltradosWithPlace.loc[:, ['lat', 'lon', 'surface_total_in_m2', 'surface_covered_in_m2','place_name_id']], datosFiltradosWithPlace['price_aprox_usd'], test_size=0.2)\n",
    "RFRModel.fit(x_train, y_train)\n",
    "prueba2 = RFRModel.predict(imp.fit_transform(segundaPrueba))\n"
   ]
  },
  {
   "cell_type": "code",
   "execution_count": 211,
   "metadata": {
    "collapsed": true
   },
   "outputs": [],
   "source": [
    "archivo2 = pd.DataFrame()\n",
    "archivo2['id'] = datosForTesting.loc[:,['id']]\n",
    "archivo2['price_usd'] = prueba2\n",
    "archivo2.to_csv('prueba2.csv', index=False)"
   ]
  },
  {
   "cell_type": "code",
   "execution_count": null,
   "metadata": {
    "collapsed": true
   },
   "outputs": [],
   "source": []
  }
 ],
 "metadata": {
  "kernelspec": {
   "display_name": "Python 3",
   "language": "python",
   "name": "python3"
  },
  "language_info": {
   "codemirror_mode": {
    "name": "ipython",
    "version": 3
   },
   "file_extension": ".py",
   "mimetype": "text/x-python",
   "name": "python",
   "nbconvert_exporter": "python",
   "pygments_lexer": "ipython3",
   "version": "3.6.3"
  }
 },
 "nbformat": 4,
 "nbformat_minor": 2
}
