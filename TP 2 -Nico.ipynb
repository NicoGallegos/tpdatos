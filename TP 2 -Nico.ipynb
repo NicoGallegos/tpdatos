{
 "cells": [
  {
   "cell_type": "code",
   "execution_count": 268,
   "metadata": {
    "collapsed": true
   },
   "outputs": [],
   "source": [
    "import pandas as pd\n",
    "import numpy as np\n",
    "import seaborn as sns\n",
    "import matplotlib.pyplot as plt\n",
    "\n",
    "%matplotlib inline\n",
    "\n",
    "#agosto13 = pd.read_csv('1308.csv')\n",
    "#septiembre13 = pd.read_csv('1309.csv')\n",
    "#octubre13 = pd.read_csv('1310.csv')\n",
    "#noviembre13 = pd.read_csv('1311.csv')\n",
    "#diciembre13 = pd.read_csv('1312.csv')\n",
    "#enero14 = pd.read_csv('1401.csv')\n",
    "#febrero14 = pd.read_csv('1402.csv')\n",
    "#marzo14 = pd.read_csv('1403.csv')\n",
    "#abril14 = pd.read_csv('1404.csv')\n",
    "#mayo14 = pd.read_csv('1405.csv')\n",
    "#junio14 = pd.read_csv('1406.csv')\n",
    "#enero15 = pd.read_csv('1501.csv')\n",
    "#agosto15 = pd.read_csv('1508.csv')\n",
    "#marzo16 = pd.read_csv('1603.csv')\n",
    "#abril16 = pd.read_csv('1604.csv')\n",
    "#mayo16 = pd.read_csv('1605.csv')\n",
    "#junio16 = pd.read_csv('1606.csv')\n",
    "#enero17 = pd.read_csv('1701.csv')\n",
    "#agosto17 = pd.read_csv('1708.csv')\n",
    "\n",
    "\n",
    "agosto13 = pd.read_csv('resources/properati-AR-2013-08-01-properties-sell.csv')\n",
    "septiembre13 = pd.read_csv('resources/properati-AR-2013-09-01-properties-sell.csv')\n",
    "octubre13 = pd.read_csv('resources/properati-AR-2013-10-01-properties-sell.csv')\n",
    "noviembre13 = pd.read_csv('resources/properati-AR-2013-11-01-properties-sell.csv')\n",
    "diciembre13 = pd.read_csv('resources/properati-AR-2013-12-01-properties-sell.csv')\n",
    "enero14 = pd.read_csv('resources/properati-AR-2014-01-01-properties-sell.csv')\n",
    "febrero14 = pd.read_csv('resources/properati-AR-2014-02-01-properties-sell.csv')\n",
    "marzo14 = pd.read_csv('resources/properati-AR-2014-03-01-properties-sell.csv')\n",
    "abril14 = pd.read_csv('resources/properati-AR-2014-04-01-properties-sell.csv')\n",
    "mayo14 = pd.read_csv('resources/properati-AR-2014-05-01-properties-sell.csv')\n",
    "junio14 = pd.read_csv('resources/properati-AR-2014-06-01-properties-sell.csv')\n",
    "enero15 = pd.read_csv('resources/properati-AR-2015-01-01-properties-sell-six_months.csv')\n",
    "agosto15 = pd.read_csv('resources/properati-AR-2015-08-01-properties-sell-six_months.csv')\n",
    "marzo16 = pd.read_csv('resources/properati-AR-2016-03-01-properties-sell-six_months.csv')\n",
    "abril16 = pd.read_csv('resources/properati-AR-2016-04-01-properties-sell.csv')\n",
    "mayo16 = pd.read_csv('resources/properati-AR-2016-05-01-properties-sell.csv')\n",
    "junio16 = pd.read_csv('resources/properati-AR-2016-06-01-properties-sell.csv')\n",
    "enero17 = pd.read_csv('resources/properati-AR-2017-07-01-properties-sell-six_months.csv')\n",
    "agosto17 = pd.read_csv('resources/properati-AR-2017-08-01-properties-sell.csv')\n",
    "\n",
    "\n",
    "datos = pd.concat([agosto13, septiembre13, octubre13, noviembre13, diciembre13, enero14, febrero14, \\\n",
    "                          marzo14, abril14, mayo14, junio14, enero15, agosto15, marzo16, abril16, mayo16, \\\n",
    "                          junio16, enero17, agosto17])\n",
    "\n",
    "#datosForTesting = pd.read_csv('properati_dataset_testing_noprice.csv')\n",
    "\n"
   ]
  },
  {
   "cell_type": "code",
   "execution_count": 269,
   "metadata": {
    "collapsed": true
   },
   "outputs": [],
   "source": [
    "datosForTesting = pd.read_csv('resources/properati_dataset_testing_noprice.csv')"
   ]
  },
  {
   "cell_type": "markdown",
   "metadata": {},
   "source": [
    "# Preparacion de Datos"
   ]
  },
  {
   "cell_type": "markdown",
   "metadata": {},
   "source": [
    "Algunos primeros datos del set a testear. Vemos que los únicos campos con bajo porcentaje de datos son el piso y las expensas."
   ]
  },
  {
   "cell_type": "code",
   "execution_count": 270,
   "metadata": {},
   "outputs": [
    {
     "data": {
      "text/plain": [
       "Index(['id', 'created_on', 'property_type', 'operation', 'place_name',\n",
       "       'place_with_parent_names', 'country_name', 'state_name', 'lat-lon',\n",
       "       'lat', 'lon', 'surface_total_in_m2', 'surface_covered_in_m2', 'floor',\n",
       "       'rooms', 'expenses', 'description', 'price_aprox_usd'],\n",
       "      dtype='object')"
      ]
     },
     "execution_count": 270,
     "metadata": {},
     "output_type": "execute_result"
    }
   ],
   "source": [
    "datos = datos.loc[:, ['id', 'created_on',  'property_type', 'operation', 'place_name', \\\n",
    "                      'place_with_parent_names', 'country_name', 'state_name', 'lat-lon', 'lat', 'lon', \\\n",
    "                     'surface_total_in_m2', 'surface_covered_in_m2', 'floor', 'rooms', 'expenses', 'description',\\\n",
    "                     'price_aprox_usd']]\n",
    "datos.columns"
   ]
  },
  {
   "cell_type": "code",
   "execution_count": 271,
   "metadata": {
    "collapsed": true
   },
   "outputs": [],
   "source": [
    "datos['operation'] = datos['operation'].map(lambda x: 'venta' if x == 'sell' else 'alquiler')"
   ]
  },
  {
   "cell_type": "code",
   "execution_count": 272,
   "metadata": {
    "collapsed": true
   },
   "outputs": [],
   "source": [
    "datos = datos.loc[datos.property_type != 'store', :]"
   ]
  },
  {
   "cell_type": "code",
   "execution_count": 273,
   "metadata": {
    "collapsed": true
   },
   "outputs": [],
   "source": [
    "def traducirTipoPropiedad(x):\n",
    "    tipo = ''\n",
    "    if (x == 'house'):\n",
    "        tipo = 'casa' \n",
    "    else:\n",
    "        if (x == 'apartment'): \n",
    "            tipo = 'departamento'\n",
    "        else: \n",
    "            if (x == 'PH'): \n",
    "                tipo = 'ph'\n",
    "    return tipo"
   ]
  },
  {
   "cell_type": "code",
   "execution_count": 274,
   "metadata": {},
   "outputs": [
    {
     "data": {
      "text/plain": [
       "177850"
      ]
     },
     "execution_count": 274,
     "metadata": {},
     "output_type": "execute_result"
    }
   ],
   "source": [
    "datos['property_type'] = datos['property_type'].map(traducirTipoPropiedad)\n",
    "datos.loc[datos.property_type == 'casa','id'].count()"
   ]
  },
  {
   "cell_type": "code",
   "execution_count": 275,
   "metadata": {},
   "outputs": [
    {
     "data": {
      "text/plain": [
       "id                         335028\n",
       "created_on                 335028\n",
       "property_type              335028\n",
       "operation                  335028\n",
       "place_name                 334961\n",
       "place_with_parent_names    335028\n",
       "country_name               335028\n",
       "state_name                 335028\n",
       "lat-lon                    232012\n",
       "lat                        232012\n",
       "lon                        232012\n",
       "surface_total_in_m2        237632\n",
       "surface_covered_in_m2      288460\n",
       "floor                       40757\n",
       "rooms                      176131\n",
       "expenses                    37242\n",
       "description                335013\n",
       "price_aprox_usd            304216\n",
       "dtype: int64"
      ]
     },
     "execution_count": 275,
     "metadata": {},
     "output_type": "execute_result"
    }
   ],
   "source": [
    "datos = datos.loc[(datos['state_name'].str.contains('Capital Federal')| \\\n",
    "                   datos['state_name'].str.contains('Bs.As. G.B.A. Zona Sur')|\\\n",
    "                  datos['state_name'].str.contains('Bs.As. G.B.A. Zona Oeste')|\\\n",
    "                  datos['state_name'].str.contains('Buenos Aires Interior')|\\\n",
    "                  datos['state_name'].str.contains('Bs.As. G.B.A. Zona Norte')),:]\n",
    "datos.count()"
   ]
  },
  {
   "cell_type": "code",
   "execution_count": 276,
   "metadata": {},
   "outputs": [
    {
     "data": {
      "text/plain": [
       "id                         291841\n",
       "created_on                 291841\n",
       "property_type              291841\n",
       "operation                  291841\n",
       "place_name                 291775\n",
       "place_with_parent_names    291841\n",
       "country_name               291841\n",
       "state_name                 291841\n",
       "lat-lon                    200121\n",
       "lat                        200121\n",
       "lon                        200121\n",
       "surface_total_in_m2        209467\n",
       "surface_covered_in_m2      259621\n",
       "floor                       38541\n",
       "rooms                      150166\n",
       "expenses                    35503\n",
       "description                291826\n",
       "price_aprox_usd            291841\n",
       "dtype: int64"
      ]
     },
     "execution_count": 276,
     "metadata": {},
     "output_type": "execute_result"
    }
   ],
   "source": [
    "datos = datos.loc[datos['price_aprox_usd'].notnull(),:]\n",
    "datos = datos.loc[datos['price_aprox_usd'] != 0,:]\n",
    "datos.count()"
   ]
  },
  {
   "cell_type": "code",
   "execution_count": 277,
   "metadata": {
    "collapsed": true
   },
   "outputs": [],
   "source": [
    "#Se hace la comparacion por lat, lon, superficie y superficie cubierta, tengo que quitar los nulls de esos campos\n",
    "datosSinNull = datos.loc[datos['lat'].notnull(),:]\n",
    "datosSinNull = datosSinNull.loc[datosSinNull['lon'].notnull(),:]\n",
    "datosSinNull = datosSinNull.loc[datosSinNull['surface_total_in_m2'].notnull(),:]\n",
    "datosSinNull = datosSinNull.loc[datosSinNull['surface_covered_in_m2'].notnull(),:]"
   ]
  },
  {
   "cell_type": "markdown",
   "metadata": {},
   "source": [
    "#  Pruebas Algoritmos"
   ]
  },
  {
   "cell_type": "code",
   "execution_count": 4,
   "metadata": {
    "collapsed": true
   },
   "outputs": [],
   "source": [
    "#Luego de esos divido los que estan en palermo de los que no estan en palermo\n",
    "datosPalermo = datosSinNull.loc[datosSinNull.place_name == 'Palermo', :]\n",
    "datosNoPalermo = datosSinNull.loc[datosSinNull.place_name != 'Palermo', :]\n",
    "\n",
    "#Divido al set de palermo en otros features y precios\n",
    "datosPalermoFeatures = datosPalermo.loc[:, ['lat', 'lon', 'surface_total_in_m2', 'surface_covered_in_m2']]\n",
    "datosPalermoPrecio = datosPalermo.loc[:, ['price_aprox_usd']]\n",
    "\n",
    "#Divido al set que no es de palermo en otros features y precios\n",
    "datosNoPalermoFeatures = datosNoPalermo.loc[:, ['lat', 'lon', 'surface_total_in_m2', 'surface_covered_in_m2']]\n",
    "datosNoPalermoPrecio = datosNoPalermo.loc[:, ['price_aprox_usd']]"
   ]
  },
  {
   "cell_type": "code",
   "execution_count": 278,
   "metadata": {},
   "outputs": [],
   "source": [
    "#Importo todas las librerias correspondientes a ML\n",
    "#Para score\n",
    "from sklearn.metrics import r2_score\n",
    "\n",
    "#Para training y cross\n",
    "from sklearn.cross_validation import train_test_split\n",
    "from sklearn.model_selection import cross_val_score\n",
    "from sklearn.preprocessing import Imputer\n",
    "\n",
    "#Algoritmos\n",
    "from sklearn.neighbors import KNeighborsRegressor\n",
    "from sklearn.ensemble import RandomForestRegressor\n",
    "from sklearn.neighbors import RadiusNeighborsRegressor\n",
    "from sklearn.linear_model import LinearRegression, LogisticRegression\n",
    "from sklearn import linear_model\n",
    "from sklearn import svm\n",
    "from sklearn import tree\n",
    "from sklearn import gaussian_process\n",
    "from sklearn import neural_network"
   ]
  },
  {
   "cell_type": "code",
   "execution_count": 175,
   "metadata": {},
   "outputs": [
    {
     "name": "stderr",
     "output_type": "stream",
     "text": [
      "C:\\Users\\nicol\\Anaconda3\\lib\\site-packages\\ipykernel_launcher.py:15: DataConversionWarning: A column-vector y was passed when a 1d array was expected. Please change the shape of y to (n_samples,), for example using ravel().\n",
      "  from ipykernel import kernelapp as app\n"
     ]
    },
    {
     "data": {
      "image/png": "[encoded data removed]",
      "text/plain": [
       "<matplotlib.figure.Figure at 0x1b980cce978>"
      ]
     },
     "metadata": {},
     "output_type": "display_data"
    }
   ],
   "source": [
    "models = [KNeighborsRegressor(),\n",
    "         RandomForestRegressor(n_estimators=100, max_features='sqrt'),\n",
    "         #RadiusNeighborsRegressor(),\n",
    "         LinearRegression(),\n",
    "         linear_model.Ridge (alpha = .5),\n",
    "         linear_model.Lasso (alpha = 0.1),\n",
    "         linear_model.LassoLars (alpha = 0.1)]\n",
    " \n",
    "TestModels = pd.DataFrame()\n",
    "tmp = {}\n",
    " \n",
    "for model in models:\n",
    "        m = str(model)\n",
    "        tmp['Model'] = m[:m.index('(')]\n",
    "        model.fit(datosNoPalermoFeatures, datosNoPalermoPrecio)\n",
    "        tmp['Precio'] = r2_score(datosPalermoPrecio, model.predict(datosPalermoFeatures))\n",
    "        TestModels = TestModels.append([tmp])\n",
    " \n",
    "TestModels.set_index('Model', inplace=True)\n",
    " \n",
    "fig, axes = plt.subplots(ncols=1, figsize=(10, 4))\n",
    "TestModels.Precio.plot(ax=axes, kind='bar', title='Precio')\n",
    "plt.show()"
   ]
  },
  {
   "cell_type": "code",
   "execution_count": 28,
   "metadata": {},
   "outputs": [
    {
     "name": "stderr",
     "output_type": "stream",
     "text": [
      "C:\\Users\\nicol\\Anaconda3\\lib\\site-packages\\sklearn\\utils\\validation.py:578: DataConversionWarning: A column-vector y was passed when a 1d array was expected. Please change the shape of y to (n_samples, ), for example using ravel().\n",
      "  y = column_or_1d(y, warn=True)\n",
      "C:\\Users\\nicol\\Anaconda3\\lib\\site-packages\\sklearn\\utils\\validation.py:578: DataConversionWarning: A column-vector y was passed when a 1d array was expected. Please change the shape of y to (n_samples, ), for example using ravel().\n",
      "  y = column_or_1d(y, warn=True)\n",
      "C:\\Users\\nicol\\Anaconda3\\lib\\site-packages\\sklearn\\neural_network\\multilayer_perceptron.py:1306: DataConversionWarning: A column-vector y was passed when a 1d array was expected. Please change the shape of y to (n_samples, ), for example using ravel().\n",
      "  y = column_or_1d(y, warn=True)\n",
      "C:\\Users\\nicol\\Anaconda3\\lib\\site-packages\\sklearn\\neural_network\\multilayer_perceptron.py:564: ConvergenceWarning: Stochastic Optimizer: Maximum iterations (200) reached and the optimization hasn't converged yet.\n",
      "  % self.max_iter, ConvergenceWarning)\n"
     ]
    },
    {
     "data": {
      "image/png": "[encoded data removed]",
      "text/plain": [
       "<matplotlib.figure.Figure at 0x1b98062b0f0>"
      ]
     },
     "metadata": {},
     "output_type": "display_data"
    }
   ],
   "source": [
    "models = [linear_model.BayesianRidge(),\n",
    "         #LogisticRegression(),\n",
    "         svm.LinearSVR(),\n",
    "         tree.DecisionTreeRegressor(),\n",
    "         #gaussian_process.GaussianProcessRegressor(),\n",
    "         neural_network.MLPRegressor()]\n",
    " \n",
    "TestModels = pd.DataFrame()\n",
    "tmp = {}\n",
    " \n",
    "for model in models:\n",
    "        m = str(model)\n",
    "        tmp['Model'] = m[:m.index('(')]\n",
    "        model.fit(datosNoPalermoFeatures, datosNoPalermoPrecio)\n",
    "        tmp['Precio'] = r2_score(datosPalermoPrecio, model.predict(datosPalermoFeatures))\n",
    "        TestModels = TestModels.append([tmp])\n",
    " \n",
    "TestModels.set_index('Model', inplace=True)\n",
    " \n",
    "fig, axes = plt.subplots(ncols=1, figsize=(10, 4))\n",
    "TestModels.Precio.plot(ax=axes, kind='bar', title='Precio')\n",
    "plt.show()"
   ]
  },
  {
   "cell_type": "markdown",
   "metadata": {},
   "source": [
    "# Primeros tests con set de datos"
   ]
  },
  {
   "cell_type": "code",
   "execution_count": 176,
   "metadata": {
    "collapsed": true
   },
   "outputs": [],
   "source": [
    "#Split del set de datos prueba 1\n",
    "datosFiltrados = datosSinNull.loc[:, ['lat', 'lon', 'surface_total_in_m2', 'surface_covered_in_m2',\\\n",
    "                                      'price_aprox_usd']]\n",
    "\n",
    "x_train, x_test, y_train, y_test = train_test_split(datosFiltrados, datosFiltrados['price_aprox_usd'], test_size=0.2)"
   ]
  },
  {
   "cell_type": "code",
   "execution_count": 177,
   "metadata": {
    "collapsed": true
   },
   "outputs": [],
   "source": [
    "x_test = x_test.loc[:, ['lat', 'lon', 'surface_total_in_m2', 'surface_covered_in_m2']]\n",
    "x_train = x_train.loc[:, ['lat', 'lon', 'surface_total_in_m2', 'surface_covered_in_m2']]"
   ]
  },
  {
   "cell_type": "code",
   "execution_count": 178,
   "metadata": {},
   "outputs": [
    {
     "name": "stderr",
     "output_type": "stream",
     "text": [
      "C:\\Users\\nicol\\Anaconda3\\lib\\site-packages\\sklearn\\neural_network\\multilayer_perceptron.py:564: ConvergenceWarning: Stochastic Optimizer: Maximum iterations (200) reached and the optimization hasn't converged yet.\n",
      "  % self.max_iter, ConvergenceWarning)\n"
     ]
    },
    {
     "data": {
      "image/png": "[encoded data removed]",
      "text/plain": [
       "<matplotlib.figure.Figure at 0x1b980cb80b8>"
      ]
     },
     "metadata": {},
     "output_type": "display_data"
    }
   ],
   "source": [
    "models = [KNeighborsRegressor(),\n",
    "         RandomForestRegressor(n_estimators=100, max_features='sqrt'),\n",
    "         LinearRegression(),\n",
    "         linear_model.Ridge (alpha = .5),\n",
    "         linear_model.Lasso (alpha = 0.1),\n",
    "         linear_model.LassoLars (alpha = 0.1),\n",
    "         linear_model.BayesianRidge(),\n",
    "         svm.LinearSVR(),\n",
    "         tree.DecisionTreeRegressor(),\n",
    "         neural_network.MLPRegressor()]\n",
    " \n",
    "TestModels = pd.DataFrame()\n",
    "tmp = {}\n",
    " \n",
    "for model in models:\n",
    "        m = str(model)\n",
    "        tmp['Model'] = m[:m.index('(')]\n",
    "        model.fit(x_train, y_train)\n",
    "        tmp['Precio'] = r2_score(y_test, model.predict(x_test))\n",
    "        TestModels = TestModels.append([tmp])\n",
    " \n",
    "TestModels.set_index('Model', inplace=True)\n",
    " \n",
    "fig, axes = plt.subplots(ncols=1, figsize=(10, 4))\n",
    "TestModels.Precio.plot(ax=axes, kind='bar', title='Precio')\n",
    "plt.show()"
   ]
  },
  {
   "cell_type": "code",
   "execution_count": 32,
   "metadata": {},
   "outputs": [
    {
     "data": {
      "image/png": "[encoded data removed]",
      "text/plain": [
       "<matplotlib.figure.Figure at 0x1b980b8a160>"
      ]
     },
     "metadata": {},
     "output_type": "display_data"
    }
   ],
   "source": [
    "#Prueba 2\n",
    "datosFiltrados = datosSinNull.loc[:, ['lat', 'lon', 'surface_total_in_m2', 'surface_covered_in_m2',\\\n",
    "                                      'price_aprox_usd']]\n",
    "\n",
    "x_train, x_test, y_train, y_test = train_test_split(datosFiltrados, datosFiltrados['price_aprox_usd'], test_size=0.2)\n",
    "x_test = x_test.loc[:, ['lat', 'lon', 'surface_total_in_m2', 'surface_covered_in_m2']]\n",
    "x_train = x_train.loc[:, ['lat', 'lon', 'surface_total_in_m2', 'surface_covered_in_m2']]\n",
    "models = [KNeighborsRegressor(),\n",
    "         RandomForestRegressor(n_estimators=100, max_features='sqrt'),\n",
    "         LinearRegression(),\n",
    "         linear_model.Ridge (alpha = .5),\n",
    "         linear_model.Lasso (alpha = 0.1),\n",
    "         linear_model.LassoLars (alpha = 0.1),\n",
    "         linear_model.BayesianRidge(),\n",
    "         svm.LinearSVR(),\n",
    "         tree.DecisionTreeRegressor(),\n",
    "         neural_network.MLPRegressor()]\n",
    " \n",
    "TestModels = pd.DataFrame()\n",
    "tmp = {}\n",
    " \n",
    "for model in models:\n",
    "        m = str(model)\n",
    "        tmp['Model'] = m[:m.index('(')]\n",
    "        model.fit(x_train, y_train)\n",
    "        tmp['Precio'] = r2_score(y_test, model.predict(x_test))\n",
    "        TestModels = TestModels.append([tmp])\n",
    " \n",
    "TestModels.set_index('Model', inplace=True)\n",
    " \n",
    "fig, axes = plt.subplots(ncols=1, figsize=(10, 4))\n",
    "TestModels.Precio.plot(ax=axes, kind='bar', title='Precio')\n",
    "plt.show()"
   ]
  },
  {
   "cell_type": "code",
   "execution_count": 179,
   "metadata": {},
   "outputs": [
    {
     "name": "stderr",
     "output_type": "stream",
     "text": [
      "C:\\Users\\nicol\\Anaconda3\\lib\\site-packages\\sklearn\\neural_network\\multilayer_perceptron.py:564: ConvergenceWarning: Stochastic Optimizer: Maximum iterations (200) reached and the optimization hasn't converged yet.\n",
      "  % self.max_iter, ConvergenceWarning)\n"
     ]
    },
    {
     "data": {
      "image/png": "[encoded data removed]",
      "text/plain": [
       "<matplotlib.figure.Figure at 0x1b980ca3780>"
      ]
     },
     "metadata": {},
     "output_type": "display_data"
    }
   ],
   "source": [
    "#Prueba 3\n",
    "datosFiltrados = datosSinNull.loc[:, ['lat', 'lon', 'surface_total_in_m2', 'surface_covered_in_m2',\\\n",
    "                                      'price_aprox_usd']]\n",
    "\n",
    "x_train, x_test, y_train, y_test = train_test_split(datosFiltrados, datosFiltrados['price_aprox_usd'], test_size=0.2)\n",
    "x_test = x_test.loc[:, ['lat', 'lon', 'surface_total_in_m2', 'surface_covered_in_m2']]\n",
    "x_train = x_train.loc[:, ['lat', 'lon', 'surface_total_in_m2', 'surface_covered_in_m2']]\n",
    "models = [KNeighborsRegressor(),\n",
    "         RandomForestRegressor(n_estimators=100, max_features='sqrt'),\n",
    "         LinearRegression(),\n",
    "         linear_model.Ridge (alpha = .5),\n",
    "         linear_model.Lasso (alpha = 0.1),\n",
    "         linear_model.LassoLars (alpha = 0.1),\n",
    "         linear_model.BayesianRidge(),\n",
    "         svm.LinearSVR(),\n",
    "         tree.DecisionTreeRegressor(),\n",
    "         neural_network.MLPRegressor()]\n",
    " \n",
    "TestModels = pd.DataFrame()\n",
    "tmp = {}\n",
    " \n",
    "for model in models:\n",
    "        m = str(model)\n",
    "        tmp['Model'] = m[:m.index('(')]\n",
    "        model.fit(x_train, y_train)\n",
    "        tmp['Precio'] = r2_score(y_test, model.predict(x_test))\n",
    "        TestModels = TestModels.append([tmp])\n",
    " \n",
    "TestModels.set_index('Model', inplace=True)\n",
    " \n",
    "fig, axes = plt.subplots(ncols=1, figsize=(10, 4))\n",
    "TestModels.Precio.plot(ax=axes, kind='bar', title='Precio')\n",
    "plt.show()"
   ]
  },
  {
   "cell_type": "code",
   "execution_count": 33,
   "metadata": {},
   "outputs": [
    {
     "data": {
      "text/plain": [
       "array([ 0.39237995,  0.91701864,  0.88376643,  0.78635228,  0.82133644])"
      ]
     },
     "execution_count": 33,
     "metadata": {},
     "output_type": "execute_result"
    }
   ],
   "source": [
    "datosFiltradosFeatures = datosFiltrados.loc[:, ['lat', 'lon', 'surface_total_in_m2', 'surface_covered_in_m2']]\n",
    "datosFiltradosPrecios = datosFiltrados.loc[:, ['price_aprox_usd']]\n",
    "RFRModel = RandomForestRegressor(n_estimators=100, max_features='sqrt')\n",
    "scores = cross_val_score(RFRModel, datosFiltradosFeatures, np.ravel(datosFiltradosPrecios), cv=5)\n",
    "scores"
   ]
  },
  {
   "cell_type": "code",
   "execution_count": 50,
   "metadata": {},
   "outputs": [
    {
     "data": {
      "text/plain": [
       "array([ 0.2584208 ,  0.91204237,  0.77484542,  0.66607409,  0.63041404])"
      ]
     },
     "execution_count": 50,
     "metadata": {},
     "output_type": "execute_result"
    }
   ],
   "source": [
    "RFRModel = RandomForestRegressor(n_estimators=100)\n",
    "scores = cross_val_score(RFRModel, datosFiltradosFeatures, np.ravel(datosFiltradosPrecios), cv=5)\n",
    "scores"
   ]
  },
  {
   "cell_type": "code",
   "execution_count": 48,
   "metadata": {},
   "outputs": [
    {
     "data": {
      "text/plain": [
       "array([ 0.25138166,  0.88470325,  0.59708272,  0.67097637,  0.60537916])"
      ]
     },
     "execution_count": 48,
     "metadata": {},
     "output_type": "execute_result"
    }
   ],
   "source": [
    "RFRModel = RandomForestRegressor()\n",
    "scores = cross_val_score(RFRModel, datosFiltradosFeatures, np.ravel(datosFiltradosPrecios), cv=5)\n",
    "scores"
   ]
  },
  {
   "cell_type": "code",
   "execution_count": 49,
   "metadata": {},
   "outputs": [
    {
     "data": {
      "text/plain": [
       "array([ 0.31663359,  0.90991187,  0.79368348,  0.74809686,  0.63274897])"
      ]
     },
     "execution_count": 49,
     "metadata": {},
     "output_type": "execute_result"
    }
   ],
   "source": [
    "RFRModel = RandomForestRegressor(n_estimators=50, max_features=2)\n",
    "scores = cross_val_score(RFRModel, datosFiltradosFeatures, np.ravel(datosFiltradosPrecios), cv=5)\n",
    "scores"
   ]
  },
  {
   "cell_type": "code",
   "execution_count": 54,
   "metadata": {
    "collapsed": true
   },
   "outputs": [],
   "source": [
    "#primera estimacion al set de prueba\n",
    "primeraPrueba = datosForTesting.loc[:, ['lat', 'lon', 'surface_total_in_m2', 'surface_covered_in_m2']]\n",
    "RFRModel = RandomForestRegressor(n_estimators=100, max_features='sqrt')"
   ]
  },
  {
   "cell_type": "code",
   "execution_count": 61,
   "metadata": {},
   "outputs": [
    {
     "data": {
      "text/plain": [
       "array([[ -34.61098776,  -58.36346358,    0.        ,   64.        ],\n",
       "       [ -34.612651  ,  -58.4432756 ,    0.        ,   64.        ],\n",
       "       [ -34.58936332,  -58.41287986,   53.        ,   48.        ],\n",
       "       ..., \n",
       "       [ -34.7585252 ,  -58.4097202 ,  219.        ,  135.        ],\n",
       "       [ -34.56322108,  -58.46105268,   62.        ,   48.        ],\n",
       "       [ -34.70919169,  -58.53028938,  367.        ,  130.        ]])"
      ]
     },
     "execution_count": 61,
     "metadata": {},
     "output_type": "execute_result"
    }
   ],
   "source": [
    "imp = Imputer(missing_values='NaN', strategy='median', axis=0)\n",
    "imp.fit_transform(primeraPrueba)"
   ]
  },
  {
   "cell_type": "code",
   "execution_count": 68,
   "metadata": {},
   "outputs": [
    {
     "data": {
      "text/plain": [
       "array([ 307686.31166667,  159466.64      ,  185250.8197    , ...,\n",
       "        167100.2048    ,  172813.33989524,  152105.        ])"
      ]
     },
     "execution_count": 68,
     "metadata": {},
     "output_type": "execute_result"
    }
   ],
   "source": [
    "x_train, x_test, y_train, y_test = train_test_split(datosFiltrados.loc[:, ['lat', 'lon', 'surface_total_in_m2', 'surface_covered_in_m2']], datosFiltrados['price_aprox_usd'], test_size=0.2)\n",
    "RFRModel.fit(x_train, y_train)\n",
    "prueba1 = RFRModel.predict(imp.fit_transform(primeraPrueba))\n",
    "prueba1"
   ]
  },
  {
   "cell_type": "markdown",
   "metadata": {},
   "source": [
    "# Primer Archivo Kaggle"
   ]
  },
  {
   "cell_type": "code",
   "execution_count": 79,
   "metadata": {},
   "outputs": [
    {
     "data": {
      "text/html": [
       "<div>\n",
       "<style>\n",
       "    .dataframe thead tr:only-child th {\n",
       "        text-align: right;\n",
       "    }\n",
       "\n",
       "    .dataframe thead th {\n",
       "        text-align: left;\n",
       "    }\n",
       "\n",
       "    .dataframe tbody tr th {\n",
       "        vertical-align: top;\n",
       "    }\n",
       "</style>\n",
       "<table border=\"1\" class=\"dataframe\">\n",
       "  <thead>\n",
       "    <tr style=\"text-align: right;\">\n",
       "      <th></th>\n",
       "      <th>id</th>\n",
       "      <th>price_usd</th>\n",
       "    </tr>\n",
       "  </thead>\n",
       "  <tbody>\n",
       "    <tr>\n",
       "      <th>0</th>\n",
       "      <td>3632</td>\n",
       "      <td>307686.311667</td>\n",
       "    </tr>\n",
       "    <tr>\n",
       "      <th>1</th>\n",
       "      <td>3633</td>\n",
       "      <td>159466.640000</td>\n",
       "    </tr>\n",
       "    <tr>\n",
       "      <th>2</th>\n",
       "      <td>2263404</td>\n",
       "      <td>185250.819700</td>\n",
       "    </tr>\n",
       "    <tr>\n",
       "      <th>3</th>\n",
       "      <td>2263405</td>\n",
       "      <td>83847.000000</td>\n",
       "    </tr>\n",
       "    <tr>\n",
       "      <th>4</th>\n",
       "      <td>2263406</td>\n",
       "      <td>141019.780741</td>\n",
       "    </tr>\n",
       "    <tr>\n",
       "      <th>5</th>\n",
       "      <td>2263407</td>\n",
       "      <td>83847.000000</td>\n",
       "    </tr>\n",
       "    <tr>\n",
       "      <th>6</th>\n",
       "      <td>2263408</td>\n",
       "      <td>83847.000000</td>\n",
       "    </tr>\n",
       "    <tr>\n",
       "      <th>7</th>\n",
       "      <td>2263409</td>\n",
       "      <td>83847.000000</td>\n",
       "    </tr>\n",
       "    <tr>\n",
       "      <th>8</th>\n",
       "      <td>2263410</td>\n",
       "      <td>139479.400000</td>\n",
       "    </tr>\n",
       "    <tr>\n",
       "      <th>9</th>\n",
       "      <td>2263411</td>\n",
       "      <td>109333.665000</td>\n",
       "    </tr>\n",
       "    <tr>\n",
       "      <th>10</th>\n",
       "      <td>2263412</td>\n",
       "      <td>109333.665000</td>\n",
       "    </tr>\n",
       "    <tr>\n",
       "      <th>11</th>\n",
       "      <td>2263413</td>\n",
       "      <td>109333.665000</td>\n",
       "    </tr>\n",
       "    <tr>\n",
       "      <th>12</th>\n",
       "      <td>2263415</td>\n",
       "      <td>177013.720200</td>\n",
       "    </tr>\n",
       "    <tr>\n",
       "      <th>13</th>\n",
       "      <td>2263416</td>\n",
       "      <td>699519.845238</td>\n",
       "    </tr>\n",
       "    <tr>\n",
       "      <th>14</th>\n",
       "      <td>2263417</td>\n",
       "      <td>83847.000000</td>\n",
       "    </tr>\n",
       "    <tr>\n",
       "      <th>15</th>\n",
       "      <td>2263418</td>\n",
       "      <td>83847.000000</td>\n",
       "    </tr>\n",
       "    <tr>\n",
       "      <th>16</th>\n",
       "      <td>2263419</td>\n",
       "      <td>83847.000000</td>\n",
       "    </tr>\n",
       "    <tr>\n",
       "      <th>17</th>\n",
       "      <td>2263420</td>\n",
       "      <td>83847.000000</td>\n",
       "    </tr>\n",
       "    <tr>\n",
       "      <th>18</th>\n",
       "      <td>2263421</td>\n",
       "      <td>83847.000000</td>\n",
       "    </tr>\n",
       "    <tr>\n",
       "      <th>19</th>\n",
       "      <td>2263422</td>\n",
       "      <td>83847.000000</td>\n",
       "    </tr>\n",
       "    <tr>\n",
       "      <th>20</th>\n",
       "      <td>2263423</td>\n",
       "      <td>83847.000000</td>\n",
       "    </tr>\n",
       "    <tr>\n",
       "      <th>21</th>\n",
       "      <td>2263424</td>\n",
       "      <td>83847.000000</td>\n",
       "    </tr>\n",
       "    <tr>\n",
       "      <th>22</th>\n",
       "      <td>2263425</td>\n",
       "      <td>121044.724300</td>\n",
       "    </tr>\n",
       "    <tr>\n",
       "      <th>23</th>\n",
       "      <td>2263426</td>\n",
       "      <td>141019.780741</td>\n",
       "    </tr>\n",
       "    <tr>\n",
       "      <th>24</th>\n",
       "      <td>2263427</td>\n",
       "      <td>141019.780741</td>\n",
       "    </tr>\n",
       "    <tr>\n",
       "      <th>25</th>\n",
       "      <td>2263428</td>\n",
       "      <td>141019.780741</td>\n",
       "    </tr>\n",
       "    <tr>\n",
       "      <th>26</th>\n",
       "      <td>2263429</td>\n",
       "      <td>141019.780741</td>\n",
       "    </tr>\n",
       "    <tr>\n",
       "      <th>27</th>\n",
       "      <td>2263430</td>\n",
       "      <td>83847.000000</td>\n",
       "    </tr>\n",
       "    <tr>\n",
       "      <th>28</th>\n",
       "      <td>2263431</td>\n",
       "      <td>83847.000000</td>\n",
       "    </tr>\n",
       "    <tr>\n",
       "      <th>29</th>\n",
       "      <td>2263432</td>\n",
       "      <td>82014.607680</td>\n",
       "    </tr>\n",
       "    <tr>\n",
       "      <th>...</th>\n",
       "      <td>...</td>\n",
       "      <td>...</td>\n",
       "    </tr>\n",
       "    <tr>\n",
       "      <th>14136</th>\n",
       "      <td>2245037</td>\n",
       "      <td>105664.543333</td>\n",
       "    </tr>\n",
       "    <tr>\n",
       "      <th>14137</th>\n",
       "      <td>2245039</td>\n",
       "      <td>81265.738300</td>\n",
       "    </tr>\n",
       "    <tr>\n",
       "      <th>14138</th>\n",
       "      <td>2245041</td>\n",
       "      <td>151419.000000</td>\n",
       "    </tr>\n",
       "    <tr>\n",
       "      <th>14139</th>\n",
       "      <td>2245042</td>\n",
       "      <td>207230.967300</td>\n",
       "    </tr>\n",
       "    <tr>\n",
       "      <th>14140</th>\n",
       "      <td>2245071</td>\n",
       "      <td>132594.642857</td>\n",
       "    </tr>\n",
       "    <tr>\n",
       "      <th>14141</th>\n",
       "      <td>2245093</td>\n",
       "      <td>226531.210000</td>\n",
       "    </tr>\n",
       "    <tr>\n",
       "      <th>14142</th>\n",
       "      <td>2245123</td>\n",
       "      <td>136577.720400</td>\n",
       "    </tr>\n",
       "    <tr>\n",
       "      <th>14143</th>\n",
       "      <td>2245124</td>\n",
       "      <td>88596.460000</td>\n",
       "    </tr>\n",
       "    <tr>\n",
       "      <th>14144</th>\n",
       "      <td>2245167</td>\n",
       "      <td>258604.000000</td>\n",
       "    </tr>\n",
       "    <tr>\n",
       "      <th>14145</th>\n",
       "      <td>2245170</td>\n",
       "      <td>140120.360081</td>\n",
       "    </tr>\n",
       "    <tr>\n",
       "      <th>14146</th>\n",
       "      <td>2245172</td>\n",
       "      <td>112105.321040</td>\n",
       "    </tr>\n",
       "    <tr>\n",
       "      <th>14147</th>\n",
       "      <td>2245180</td>\n",
       "      <td>100522.150200</td>\n",
       "    </tr>\n",
       "    <tr>\n",
       "      <th>14148</th>\n",
       "      <td>2245185</td>\n",
       "      <td>184690.830000</td>\n",
       "    </tr>\n",
       "    <tr>\n",
       "      <th>14149</th>\n",
       "      <td>2245186</td>\n",
       "      <td>176120.000000</td>\n",
       "    </tr>\n",
       "    <tr>\n",
       "      <th>14150</th>\n",
       "      <td>2245187</td>\n",
       "      <td>102468.760567</td>\n",
       "    </tr>\n",
       "    <tr>\n",
       "      <th>14151</th>\n",
       "      <td>2245203</td>\n",
       "      <td>163650.000000</td>\n",
       "    </tr>\n",
       "    <tr>\n",
       "      <th>14152</th>\n",
       "      <td>2245221</td>\n",
       "      <td>155160.441667</td>\n",
       "    </tr>\n",
       "    <tr>\n",
       "      <th>14153</th>\n",
       "      <td>2245222</td>\n",
       "      <td>225452.601567</td>\n",
       "    </tr>\n",
       "    <tr>\n",
       "      <th>14154</th>\n",
       "      <td>2245228</td>\n",
       "      <td>656550.000000</td>\n",
       "    </tr>\n",
       "    <tr>\n",
       "      <th>14155</th>\n",
       "      <td>2245266</td>\n",
       "      <td>113841.780200</td>\n",
       "    </tr>\n",
       "    <tr>\n",
       "      <th>14156</th>\n",
       "      <td>2245331</td>\n",
       "      <td>152940.000000</td>\n",
       "    </tr>\n",
       "    <tr>\n",
       "      <th>14157</th>\n",
       "      <td>2245345</td>\n",
       "      <td>90005.276033</td>\n",
       "    </tr>\n",
       "    <tr>\n",
       "      <th>14158</th>\n",
       "      <td>2245921</td>\n",
       "      <td>102003.960000</td>\n",
       "    </tr>\n",
       "    <tr>\n",
       "      <th>14159</th>\n",
       "      <td>2245929</td>\n",
       "      <td>176645.929394</td>\n",
       "    </tr>\n",
       "    <tr>\n",
       "      <th>14160</th>\n",
       "      <td>2245930</td>\n",
       "      <td>176645.929394</td>\n",
       "    </tr>\n",
       "    <tr>\n",
       "      <th>14161</th>\n",
       "      <td>2245938</td>\n",
       "      <td>547900.000000</td>\n",
       "    </tr>\n",
       "    <tr>\n",
       "      <th>14162</th>\n",
       "      <td>2245978</td>\n",
       "      <td>56810.329436</td>\n",
       "    </tr>\n",
       "    <tr>\n",
       "      <th>14163</th>\n",
       "      <td>2246083</td>\n",
       "      <td>167100.204800</td>\n",
       "    </tr>\n",
       "    <tr>\n",
       "      <th>14164</th>\n",
       "      <td>2246089</td>\n",
       "      <td>172813.339895</td>\n",
       "    </tr>\n",
       "    <tr>\n",
       "      <th>14165</th>\n",
       "      <td>2246127</td>\n",
       "      <td>152105.000000</td>\n",
       "    </tr>\n",
       "  </tbody>\n",
       "</table>\n",
       "<p>14166 rows × 2 columns</p>\n",
       "</div>"
      ],
      "text/plain": [
       "            id      price_usd\n",
       "0         3632  307686.311667\n",
       "1         3633  159466.640000\n",
       "2      2263404  185250.819700\n",
       "3      2263405   83847.000000\n",
       "4      2263406  141019.780741\n",
       "5      2263407   83847.000000\n",
       "6      2263408   83847.000000\n",
       "7      2263409   83847.000000\n",
       "8      2263410  139479.400000\n",
       "9      2263411  109333.665000\n",
       "10     2263412  109333.665000\n",
       "11     2263413  109333.665000\n",
       "12     2263415  177013.720200\n",
       "13     2263416  699519.845238\n",
       "14     2263417   83847.000000\n",
       "15     2263418   83847.000000\n",
       "16     2263419   83847.000000\n",
       "17     2263420   83847.000000\n",
       "18     2263421   83847.000000\n",
       "19     2263422   83847.000000\n",
       "20     2263423   83847.000000\n",
       "21     2263424   83847.000000\n",
       "22     2263425  121044.724300\n",
       "23     2263426  141019.780741\n",
       "24     2263427  141019.780741\n",
       "25     2263428  141019.780741\n",
       "26     2263429  141019.780741\n",
       "27     2263430   83847.000000\n",
       "28     2263431   83847.000000\n",
       "29     2263432   82014.607680\n",
       "...        ...            ...\n",
       "14136  2245037  105664.543333\n",
       "14137  2245039   81265.738300\n",
       "14138  2245041  151419.000000\n",
       "14139  2245042  207230.967300\n",
       "14140  2245071  132594.642857\n",
       "14141  2245093  226531.210000\n",
       "14142  2245123  136577.720400\n",
       "14143  2245124   88596.460000\n",
       "14144  2245167  258604.000000\n",
       "14145  2245170  140120.360081\n",
       "14146  2245172  112105.321040\n",
       "14147  2245180  100522.150200\n",
       "14148  2245185  184690.830000\n",
       "14149  2245186  176120.000000\n",
       "14150  2245187  102468.760567\n",
       "14151  2245203  163650.000000\n",
       "14152  2245221  155160.441667\n",
       "14153  2245222  225452.601567\n",
       "14154  2245228  656550.000000\n",
       "14155  2245266  113841.780200\n",
       "14156  2245331  152940.000000\n",
       "14157  2245345   90005.276033\n",
       "14158  2245921  102003.960000\n",
       "14159  2245929  176645.929394\n",
       "14160  2245930  176645.929394\n",
       "14161  2245938  547900.000000\n",
       "14162  2245978   56810.329436\n",
       "14163  2246083  167100.204800\n",
       "14164  2246089  172813.339895\n",
       "14165  2246127  152105.000000\n",
       "\n",
       "[14166 rows x 2 columns]"
      ]
     },
     "execution_count": 79,
     "metadata": {},
     "output_type": "execute_result"
    }
   ],
   "source": [
    "archivo1 = pd.DataFrame()\n",
    "archivo1['id'] = datosForTesting.loc[:,['id']]\n",
    "archivo1['price_usd'] = prueba1\n",
    "archivo1"
   ]
  },
  {
   "cell_type": "code",
   "execution_count": 85,
   "metadata": {
    "collapsed": true
   },
   "outputs": [],
   "source": [
    "archivo1.to_csv('prueba1.csv', index=False)"
   ]
  },
  {
   "cell_type": "code",
   "execution_count": 86,
   "metadata": {},
   "outputs": [
    {
     "data": {
      "text/html": [
       "<div>\n",
       "<style>\n",
       "    .dataframe thead tr:only-child th {\n",
       "        text-align: right;\n",
       "    }\n",
       "\n",
       "    .dataframe thead th {\n",
       "        text-align: left;\n",
       "    }\n",
       "\n",
       "    .dataframe tbody tr th {\n",
       "        vertical-align: top;\n",
       "    }\n",
       "</style>\n",
       "<table border=\"1\" class=\"dataframe\">\n",
       "  <thead>\n",
       "    <tr style=\"text-align: right;\">\n",
       "      <th></th>\n",
       "      <th>id</th>\n",
       "      <th>price_usd</th>\n",
       "    </tr>\n",
       "  </thead>\n",
       "  <tbody>\n",
       "    <tr>\n",
       "      <th>0</th>\n",
       "      <td>3632</td>\n",
       "      <td>307686.311667</td>\n",
       "    </tr>\n",
       "    <tr>\n",
       "      <th>1</th>\n",
       "      <td>3633</td>\n",
       "      <td>159466.640000</td>\n",
       "    </tr>\n",
       "    <tr>\n",
       "      <th>2</th>\n",
       "      <td>2263404</td>\n",
       "      <td>185250.819700</td>\n",
       "    </tr>\n",
       "    <tr>\n",
       "      <th>3</th>\n",
       "      <td>2263405</td>\n",
       "      <td>83847.000000</td>\n",
       "    </tr>\n",
       "    <tr>\n",
       "      <th>4</th>\n",
       "      <td>2263406</td>\n",
       "      <td>141019.780741</td>\n",
       "    </tr>\n",
       "    <tr>\n",
       "      <th>5</th>\n",
       "      <td>2263407</td>\n",
       "      <td>83847.000000</td>\n",
       "    </tr>\n",
       "    <tr>\n",
       "      <th>6</th>\n",
       "      <td>2263408</td>\n",
       "      <td>83847.000000</td>\n",
       "    </tr>\n",
       "    <tr>\n",
       "      <th>7</th>\n",
       "      <td>2263409</td>\n",
       "      <td>83847.000000</td>\n",
       "    </tr>\n",
       "    <tr>\n",
       "      <th>8</th>\n",
       "      <td>2263410</td>\n",
       "      <td>139479.400000</td>\n",
       "    </tr>\n",
       "    <tr>\n",
       "      <th>9</th>\n",
       "      <td>2263411</td>\n",
       "      <td>109333.665000</td>\n",
       "    </tr>\n",
       "    <tr>\n",
       "      <th>10</th>\n",
       "      <td>2263412</td>\n",
       "      <td>109333.665000</td>\n",
       "    </tr>\n",
       "    <tr>\n",
       "      <th>11</th>\n",
       "      <td>2263413</td>\n",
       "      <td>109333.665000</td>\n",
       "    </tr>\n",
       "    <tr>\n",
       "      <th>12</th>\n",
       "      <td>2263415</td>\n",
       "      <td>177013.720200</td>\n",
       "    </tr>\n",
       "    <tr>\n",
       "      <th>13</th>\n",
       "      <td>2263416</td>\n",
       "      <td>699519.845238</td>\n",
       "    </tr>\n",
       "    <tr>\n",
       "      <th>14</th>\n",
       "      <td>2263417</td>\n",
       "      <td>83847.000000</td>\n",
       "    </tr>\n",
       "    <tr>\n",
       "      <th>15</th>\n",
       "      <td>2263418</td>\n",
       "      <td>83847.000000</td>\n",
       "    </tr>\n",
       "    <tr>\n",
       "      <th>16</th>\n",
       "      <td>2263419</td>\n",
       "      <td>83847.000000</td>\n",
       "    </tr>\n",
       "    <tr>\n",
       "      <th>17</th>\n",
       "      <td>2263420</td>\n",
       "      <td>83847.000000</td>\n",
       "    </tr>\n",
       "    <tr>\n",
       "      <th>18</th>\n",
       "      <td>2263421</td>\n",
       "      <td>83847.000000</td>\n",
       "    </tr>\n",
       "    <tr>\n",
       "      <th>19</th>\n",
       "      <td>2263422</td>\n",
       "      <td>83847.000000</td>\n",
       "    </tr>\n",
       "    <tr>\n",
       "      <th>20</th>\n",
       "      <td>2263423</td>\n",
       "      <td>83847.000000</td>\n",
       "    </tr>\n",
       "    <tr>\n",
       "      <th>21</th>\n",
       "      <td>2263424</td>\n",
       "      <td>83847.000000</td>\n",
       "    </tr>\n",
       "    <tr>\n",
       "      <th>22</th>\n",
       "      <td>2263425</td>\n",
       "      <td>121044.724300</td>\n",
       "    </tr>\n",
       "    <tr>\n",
       "      <th>23</th>\n",
       "      <td>2263426</td>\n",
       "      <td>141019.780741</td>\n",
       "    </tr>\n",
       "    <tr>\n",
       "      <th>24</th>\n",
       "      <td>2263427</td>\n",
       "      <td>141019.780741</td>\n",
       "    </tr>\n",
       "    <tr>\n",
       "      <th>25</th>\n",
       "      <td>2263428</td>\n",
       "      <td>141019.780741</td>\n",
       "    </tr>\n",
       "    <tr>\n",
       "      <th>26</th>\n",
       "      <td>2263429</td>\n",
       "      <td>141019.780741</td>\n",
       "    </tr>\n",
       "    <tr>\n",
       "      <th>27</th>\n",
       "      <td>2263430</td>\n",
       "      <td>83847.000000</td>\n",
       "    </tr>\n",
       "    <tr>\n",
       "      <th>28</th>\n",
       "      <td>2263431</td>\n",
       "      <td>83847.000000</td>\n",
       "    </tr>\n",
       "    <tr>\n",
       "      <th>29</th>\n",
       "      <td>2263432</td>\n",
       "      <td>82014.607680</td>\n",
       "    </tr>\n",
       "    <tr>\n",
       "      <th>...</th>\n",
       "      <td>...</td>\n",
       "      <td>...</td>\n",
       "    </tr>\n",
       "    <tr>\n",
       "      <th>14136</th>\n",
       "      <td>2245037</td>\n",
       "      <td>105664.543333</td>\n",
       "    </tr>\n",
       "    <tr>\n",
       "      <th>14137</th>\n",
       "      <td>2245039</td>\n",
       "      <td>81265.738300</td>\n",
       "    </tr>\n",
       "    <tr>\n",
       "      <th>14138</th>\n",
       "      <td>2245041</td>\n",
       "      <td>151419.000000</td>\n",
       "    </tr>\n",
       "    <tr>\n",
       "      <th>14139</th>\n",
       "      <td>2245042</td>\n",
       "      <td>207230.967300</td>\n",
       "    </tr>\n",
       "    <tr>\n",
       "      <th>14140</th>\n",
       "      <td>2245071</td>\n",
       "      <td>132594.642857</td>\n",
       "    </tr>\n",
       "    <tr>\n",
       "      <th>14141</th>\n",
       "      <td>2245093</td>\n",
       "      <td>226531.210000</td>\n",
       "    </tr>\n",
       "    <tr>\n",
       "      <th>14142</th>\n",
       "      <td>2245123</td>\n",
       "      <td>136577.720400</td>\n",
       "    </tr>\n",
       "    <tr>\n",
       "      <th>14143</th>\n",
       "      <td>2245124</td>\n",
       "      <td>88596.460000</td>\n",
       "    </tr>\n",
       "    <tr>\n",
       "      <th>14144</th>\n",
       "      <td>2245167</td>\n",
       "      <td>258604.000000</td>\n",
       "    </tr>\n",
       "    <tr>\n",
       "      <th>14145</th>\n",
       "      <td>2245170</td>\n",
       "      <td>140120.360081</td>\n",
       "    </tr>\n",
       "    <tr>\n",
       "      <th>14146</th>\n",
       "      <td>2245172</td>\n",
       "      <td>112105.321040</td>\n",
       "    </tr>\n",
       "    <tr>\n",
       "      <th>14147</th>\n",
       "      <td>2245180</td>\n",
       "      <td>100522.150200</td>\n",
       "    </tr>\n",
       "    <tr>\n",
       "      <th>14148</th>\n",
       "      <td>2245185</td>\n",
       "      <td>184690.830000</td>\n",
       "    </tr>\n",
       "    <tr>\n",
       "      <th>14149</th>\n",
       "      <td>2245186</td>\n",
       "      <td>176120.000000</td>\n",
       "    </tr>\n",
       "    <tr>\n",
       "      <th>14150</th>\n",
       "      <td>2245187</td>\n",
       "      <td>102468.760567</td>\n",
       "    </tr>\n",
       "    <tr>\n",
       "      <th>14151</th>\n",
       "      <td>2245203</td>\n",
       "      <td>163650.000000</td>\n",
       "    </tr>\n",
       "    <tr>\n",
       "      <th>14152</th>\n",
       "      <td>2245221</td>\n",
       "      <td>155160.441667</td>\n",
       "    </tr>\n",
       "    <tr>\n",
       "      <th>14153</th>\n",
       "      <td>2245222</td>\n",
       "      <td>225452.601567</td>\n",
       "    </tr>\n",
       "    <tr>\n",
       "      <th>14154</th>\n",
       "      <td>2245228</td>\n",
       "      <td>656550.000000</td>\n",
       "    </tr>\n",
       "    <tr>\n",
       "      <th>14155</th>\n",
       "      <td>2245266</td>\n",
       "      <td>113841.780200</td>\n",
       "    </tr>\n",
       "    <tr>\n",
       "      <th>14156</th>\n",
       "      <td>2245331</td>\n",
       "      <td>152940.000000</td>\n",
       "    </tr>\n",
       "    <tr>\n",
       "      <th>14157</th>\n",
       "      <td>2245345</td>\n",
       "      <td>90005.276033</td>\n",
       "    </tr>\n",
       "    <tr>\n",
       "      <th>14158</th>\n",
       "      <td>2245921</td>\n",
       "      <td>102003.960000</td>\n",
       "    </tr>\n",
       "    <tr>\n",
       "      <th>14159</th>\n",
       "      <td>2245929</td>\n",
       "      <td>176645.929394</td>\n",
       "    </tr>\n",
       "    <tr>\n",
       "      <th>14160</th>\n",
       "      <td>2245930</td>\n",
       "      <td>176645.929394</td>\n",
       "    </tr>\n",
       "    <tr>\n",
       "      <th>14161</th>\n",
       "      <td>2245938</td>\n",
       "      <td>547900.000000</td>\n",
       "    </tr>\n",
       "    <tr>\n",
       "      <th>14162</th>\n",
       "      <td>2245978</td>\n",
       "      <td>56810.329436</td>\n",
       "    </tr>\n",
       "    <tr>\n",
       "      <th>14163</th>\n",
       "      <td>2246083</td>\n",
       "      <td>167100.204800</td>\n",
       "    </tr>\n",
       "    <tr>\n",
       "      <th>14164</th>\n",
       "      <td>2246089</td>\n",
       "      <td>172813.339895</td>\n",
       "    </tr>\n",
       "    <tr>\n",
       "      <th>14165</th>\n",
       "      <td>2246127</td>\n",
       "      <td>152105.000000</td>\n",
       "    </tr>\n",
       "  </tbody>\n",
       "</table>\n",
       "<p>14166 rows × 2 columns</p>\n",
       "</div>"
      ],
      "text/plain": [
       "            id      price_usd\n",
       "0         3632  307686.311667\n",
       "1         3633  159466.640000\n",
       "2      2263404  185250.819700\n",
       "3      2263405   83847.000000\n",
       "4      2263406  141019.780741\n",
       "5      2263407   83847.000000\n",
       "6      2263408   83847.000000\n",
       "7      2263409   83847.000000\n",
       "8      2263410  139479.400000\n",
       "9      2263411  109333.665000\n",
       "10     2263412  109333.665000\n",
       "11     2263413  109333.665000\n",
       "12     2263415  177013.720200\n",
       "13     2263416  699519.845238\n",
       "14     2263417   83847.000000\n",
       "15     2263418   83847.000000\n",
       "16     2263419   83847.000000\n",
       "17     2263420   83847.000000\n",
       "18     2263421   83847.000000\n",
       "19     2263422   83847.000000\n",
       "20     2263423   83847.000000\n",
       "21     2263424   83847.000000\n",
       "22     2263425  121044.724300\n",
       "23     2263426  141019.780741\n",
       "24     2263427  141019.780741\n",
       "25     2263428  141019.780741\n",
       "26     2263429  141019.780741\n",
       "27     2263430   83847.000000\n",
       "28     2263431   83847.000000\n",
       "29     2263432   82014.607680\n",
       "...        ...            ...\n",
       "14136  2245037  105664.543333\n",
       "14137  2245039   81265.738300\n",
       "14138  2245041  151419.000000\n",
       "14139  2245042  207230.967300\n",
       "14140  2245071  132594.642857\n",
       "14141  2245093  226531.210000\n",
       "14142  2245123  136577.720400\n",
       "14143  2245124   88596.460000\n",
       "14144  2245167  258604.000000\n",
       "14145  2245170  140120.360081\n",
       "14146  2245172  112105.321040\n",
       "14147  2245180  100522.150200\n",
       "14148  2245185  184690.830000\n",
       "14149  2245186  176120.000000\n",
       "14150  2245187  102468.760567\n",
       "14151  2245203  163650.000000\n",
       "14152  2245221  155160.441667\n",
       "14153  2245222  225452.601567\n",
       "14154  2245228  656550.000000\n",
       "14155  2245266  113841.780200\n",
       "14156  2245331  152940.000000\n",
       "14157  2245345   90005.276033\n",
       "14158  2245921  102003.960000\n",
       "14159  2245929  176645.929394\n",
       "14160  2245930  176645.929394\n",
       "14161  2245938  547900.000000\n",
       "14162  2245978   56810.329436\n",
       "14163  2246083  167100.204800\n",
       "14164  2246089  172813.339895\n",
       "14165  2246127  152105.000000\n",
       "\n",
       "[14166 rows x 2 columns]"
      ]
     },
     "execution_count": 86,
     "metadata": {},
     "output_type": "execute_result"
    }
   ],
   "source": [
    "aVer = pd.read_csv('prueba1.csv')\n",
    "aVer"
   ]
  },
  {
   "cell_type": "markdown",
   "metadata": {},
   "source": [
    "#  Prueba Incluyendo lugares"
   ]
  },
  {
   "cell_type": "code",
   "execution_count": 130,
   "metadata": {},
   "outputs": [
    {
     "data": {
      "text/html": [
       "<div>\n",
       "<style>\n",
       "    .dataframe thead tr:only-child th {\n",
       "        text-align: right;\n",
       "    }\n",
       "\n",
       "    .dataframe thead th {\n",
       "        text-align: left;\n",
       "    }\n",
       "\n",
       "    .dataframe tbody tr th {\n",
       "        vertical-align: top;\n",
       "    }\n",
       "</style>\n",
       "<table border=\"1\" class=\"dataframe\">\n",
       "  <thead>\n",
       "    <tr style=\"text-align: right;\">\n",
       "      <th></th>\n",
       "      <th>place_name</th>\n",
       "      <th>place_name_id</th>\n",
       "    </tr>\n",
       "  </thead>\n",
       "  <tbody>\n",
       "    <tr>\n",
       "      <th>0</th>\n",
       "      <td>Tres de Febrero</td>\n",
       "      <td>0</td>\n",
       "    </tr>\n",
       "    <tr>\n",
       "      <th>1</th>\n",
       "      <td>Maschwitz</td>\n",
       "      <td>1</td>\n",
       "    </tr>\n",
       "    <tr>\n",
       "      <th>2</th>\n",
       "      <td>La Matanza</td>\n",
       "      <td>2</td>\n",
       "    </tr>\n",
       "    <tr>\n",
       "      <th>3</th>\n",
       "      <td>Vicente López</td>\n",
       "      <td>3</td>\n",
       "    </tr>\n",
       "    <tr>\n",
       "      <th>4</th>\n",
       "      <td>Florida</td>\n",
       "      <td>4</td>\n",
       "    </tr>\n",
       "  </tbody>\n",
       "</table>\n",
       "</div>"
      ],
      "text/plain": [
       "        place_name  place_name_id\n",
       "0  Tres de Febrero              0\n",
       "1        Maschwitz              1\n",
       "2       La Matanza              2\n",
       "3    Vicente López              3\n",
       "4          Florida              4"
      ]
     },
     "execution_count": 130,
     "metadata": {},
     "output_type": "execute_result"
    }
   ],
   "source": [
    "#Creamos un place_name_id para agregar a la query\n",
    "barrios = pd.concat([pd.DataFrame([[barrio,0]], columns=['place_name','place_name_id']) for barrio in datosSinNull['place_name'].unique()]).reset_index()\n",
    "barrios['place_name_id'] = barrios.index\n",
    "barrios = barrios.loc[:,['place_name','place_name_id']]\n",
    "barrios.head()"
   ]
  },
  {
   "cell_type": "code",
   "execution_count": 131,
   "metadata": {
    "collapsed": true
   },
   "outputs": [],
   "source": [
    "datosWithPlaces = pd.merge(datosSinNull,barrios,how='left',on='place_name')"
   ]
  },
  {
   "cell_type": "code",
   "execution_count": 132,
   "metadata": {
    "collapsed": true
   },
   "outputs": [],
   "source": [
    "datosFiltradosWithPlaces = datosWithPlaces.loc[:, ['lat', 'lon','surface_covered_in_m2','surface_total_in_m2','price_aprox_usd','place_name_id']]"
   ]
  },
  {
   "cell_type": "markdown",
   "metadata": {},
   "source": [
    "# Entrenamiento"
   ]
  },
  {
   "cell_type": "code",
   "execution_count": 206,
   "metadata": {},
   "outputs": [
    {
     "name": "stderr",
     "output_type": "stream",
     "text": [
      "C:\\Users\\nicol\\Anaconda3\\lib\\site-packages\\sklearn\\neural_network\\multilayer_perceptron.py:564: ConvergenceWarning: Stochastic Optimizer: Maximum iterations (200) reached and the optimization hasn't converged yet.\n",
      "  % self.max_iter, ConvergenceWarning)\n"
     ]
    },
    {
     "data": {
      "text/plain": [
       "<matplotlib.axes._subplots.AxesSubplot at 0x1b980cfa2b0>"
      ]
     },
     "execution_count": 206,
     "metadata": {},
     "output_type": "execute_result"
    },
    {
     "data": {
      "image/png": "[encoded data removed]",
      "text/plain": [
       "<matplotlib.figure.Figure at 0x1b9dceaf470>"
      ]
     },
     "metadata": {},
     "output_type": "display_data"
    }
   ],
   "source": [
    "#Prueba 4\n",
    "\n",
    "x_train, x_test, y_train, y_test = train_test_split(datosFiltradosWithPlaces, datosFiltradosWithPlaces['price_aprox_usd'], test_size=0.2)\n",
    "x_test = x_test.loc[:, ['lat', 'lon', 'surface_total_in_m2', 'surface_covered_in_m2','place_name_id']]\n",
    "x_train = x_train.loc[:, ['lat', 'lon', 'surface_total_in_m2', 'surface_covered_in_m2','place_name_id']]\n",
    "models = [KNeighborsRegressor(),\n",
    "         RandomForestRegressor(n_estimators=100, max_features='sqrt'),\n",
    "         tree.DecisionTreeRegressor(),\n",
    "         neural_network.MLPRegressor()]\n",
    " \n",
    "TestModels = pd.DataFrame()\n",
    "tmp = {}\n",
    " \n",
    "for model in models:\n",
    "        m = str(model)\n",
    "        tmp['Model'] = m[:m.index('(')]\n",
    "        model.fit(x_train, y_train)\n",
    "        tmp['Precio'] = r2_score(y_test, model.predict(x_test))\n",
    "        TestModels = TestModels.append([tmp])\n",
    " \n",
    "TestModels.set_index('Model', inplace=True)\n",
    " \n",
    "fig, axes = plt.subplots(ncols=1, figsize=(10, 4))\n",
    "TestModels.Precio.plot(ax=axes, kind='bar', title='Precio')\n"
   ]
  },
  {
   "cell_type": "code",
   "execution_count": 38,
   "metadata": {},
   "outputs": [
    {
     "data": {
      "text/plain": [
       "array([ 0.39624942,  0.92108453,  0.8808242 ,  0.80555798,  0.82240923])"
      ]
     },
     "execution_count": 38,
     "metadata": {},
     "output_type": "execute_result"
    }
   ],
   "source": [
    "datosFiltradosWithPlacesFeatures = datosFiltradosWithPlaces.loc[:, ['lat', 'lon', 'surface_total_in_m2', 'surface_covered_in_m2','place_name_id']]\n",
    "datosFiltradosWithPlacesPrecios = datosFiltradosWithPlaces.loc[:, ['price_aprox_usd']]\n",
    "RFRModel = RandomForestRegressor(n_estimators=100, max_features='sqrt')\n",
    "\n",
    "scores = cross_val_score(RFRModel, datosFiltradosWithPlacesFeatures, np.ravel(datosFiltradosWithPlacesPrecios), cv=5)\n",
    "\n",
    "scores"
   ]
  },
  {
   "cell_type": "markdown",
   "metadata": {},
   "source": [
    "# Test con set de pruebas "
   ]
  },
  {
   "cell_type": "code",
   "execution_count": 148,
   "metadata": {
    "collapsed": true
   },
   "outputs": [],
   "source": [
    "datosForTestingWithPlaces = pd.merge(datosForTesting,barrios,how='left',on='place_name')"
   ]
  },
  {
   "cell_type": "code",
   "execution_count": 37,
   "metadata": {
    "collapsed": true
   },
   "outputs": [],
   "source": [
    "segundaPrueba = datosForTestingWithPlaces.loc[:, ['lat', 'lon', 'surface_total_in_m2', 'surface_covered_in_m2','place_name_id']]\n",
    "\n",
    "\n",
    "imp = Imputer(missing_values='NaN', strategy='median', axis=0)\n",
    "imp.fit_transform(segundaPrueba)\n",
    "\n",
    "\n",
    "RFRModel = RandomForestRegressor(n_estimators=100, max_features='sqrt')\n",
    "\n",
    "x_train, x_test, y_train, y_test = train_test_split(datosFiltradosWithPlaces.loc[:, ['lat', 'lon', 'surface_total_in_m2', 'surface_covered_in_m2','place_name_id']], datosFiltradosWithPlaces['price_aprox_usd'], test_size=0.2)\n",
    "RFRModel.fit(x_train, y_train)\n",
    "prueba2 = RFRModel.predict(imp.fit_transform(segundaPrueba))\n"
   ]
  },
  {
   "cell_type": "code",
   "execution_count": 211,
   "metadata": {
    "collapsed": true
   },
   "outputs": [],
   "source": [
    "archivo2 = pd.DataFrame()\n",
    "archivo2['id'] = datosForTesting.loc[:,['id']]\n",
    "archivo2['price_usd'] = prueba2\n",
    "archivo2.to_csv('prueba2.csv', index=False)"
   ]
  },
  {
   "cell_type": "markdown",
   "metadata": {
    "collapsed": true
   },
   "source": [
    "# Prueba con Tipo de propiedad"
   ]
  },
  {
   "cell_type": "code",
   "execution_count": 44,
   "metadata": {
    "collapsed": true
   },
   "outputs": [],
   "source": [
    "#Transformamos tipo de propiedad a numerico\n",
    "\n",
    "def tipoPropiedadToNumeric(x):\n",
    "    tipo = ''\n",
    "    if (x == 'house' or x== 'casa'):\n",
    "        tipo = 1 \n",
    "    else:\n",
    "        if (x == 'apartment' or x == 'departamento'): \n",
    "            tipo = 2\n",
    "        else: \n",
    "            if (x == 'PH' or x == 'ph'): \n",
    "                tipo = 3\n",
    "    return tipo\n",
    "\n",
    "datosWithPlaces['property_type_id'] = datosWithPlaces['property_type'].map(tipoPropiedadToNumeric)\n",
    "datosFiltradosWithPlacesAndType =  datosWithPlaces.loc[:, ['lat', 'lon', 'surface_total_in_m2', 'surface_covered_in_m2','price_aprox_usd','place_name_id','property_type_id']]"
   ]
  },
  {
   "cell_type": "markdown",
   "metadata": {},
   "source": [
    "# Entrenamiento"
   ]
  },
  {
   "cell_type": "code",
   "execution_count": 30,
   "metadata": {},
   "outputs": [
    {
     "name": "stderr",
     "output_type": "stream",
     "text": [
      "C:\\Users\\nicol\\Anaconda3\\lib\\site-packages\\sklearn\\neural_network\\multilayer_perceptron.py:564: ConvergenceWarning: Stochastic Optimizer: Maximum iterations (200) reached and the optimization hasn't converged yet.\n",
      "  % self.max_iter, ConvergenceWarning)\n"
     ]
    },
    {
     "data": {
      "text/plain": [
       "<matplotlib.axes._subplots.AxesSubplot at 0x1c739c2a128>"
      ]
     },
     "execution_count": 30,
     "metadata": {},
     "output_type": "execute_result"
    },
    {
     "data": {
      "image/png": "[encoded data removed]",
      "text/plain": [
       "<matplotlib.figure.Figure at 0x1c731493a58>"
      ]
     },
     "metadata": {},
     "output_type": "display_data"
    }
   ],
   "source": [
    "#Prueba 5\n",
    "\n",
    "x_train, x_test, y_train, y_test = train_test_split(datosFiltradosWithPlacesAndType, datosFiltradosWithPlacesAndType['price_aprox_usd'], test_size=0.2)\n",
    "x_test = x_test.loc[:, ['lat', 'lon', 'surface_total_in_m2', 'surface_covered_in_m2','place_name_id','property_type_id']]\n",
    "x_train = x_train.loc[:, ['lat', 'lon', 'surface_total_in_m2', 'surface_covered_in_m2','place_name_id','property_type_id']]\n",
    "models = [KNeighborsRegressor(),\n",
    "         RandomForestRegressor(n_estimators=100, max_features='sqrt'),\n",
    "         tree.DecisionTreeRegressor(),\n",
    "         neural_network.MLPRegressor()]\n",
    " \n",
    "TestModels = pd.DataFrame()\n",
    "tmp = {}\n",
    " \n",
    "for model in models:\n",
    "        m = str(model)\n",
    "        tmp['Model'] = m[:m.index('(')]\n",
    "        model.fit(x_train, y_train)\n",
    "        tmp['Precio'] = r2_score(y_test, model.predict(x_test))\n",
    "        TestModels = TestModels.append([tmp])\n",
    " \n",
    "TestModels.set_index('Model', inplace=True)\n",
    " \n",
    "fig, axes = plt.subplots(ncols=1, figsize=(10, 4))\n",
    "TestModels.Precio.plot(ax=axes, kind='bar', title='Precio')\n"
   ]
  },
  {
   "cell_type": "code",
   "execution_count": 31,
   "metadata": {},
   "outputs": [
    {
     "data": {
      "text/plain": [
       "array([ 0.41323242,  0.9196746 ,  0.88601513,  0.82634754,  0.83008036])"
      ]
     },
     "execution_count": 31,
     "metadata": {},
     "output_type": "execute_result"
    }
   ],
   "source": [
    "datosFiltradosWithPlacesAndTypeFeatures = datosFiltradosWithPlacesAndType.loc[:, ['lat', 'lon', 'surface_total_in_m2', 'surface_covered_in_m2','place_name_id','property_type_id']]\n",
    "datosFiltradosWithPlacesAndTypePrecios = datosFiltradosWithPlacesAndType.loc[:, ['price_aprox_usd']]\n",
    "\n",
    "RFRModel = RandomForestRegressor(n_estimators=100, max_features='sqrt')\n",
    "scores = cross_val_score(RFRModel, datosFiltradosWithPlacesAndTypeFeatures, np.ravel(datosFiltradosWithPlacesAndTypePrecios), cv=5)\n",
    "scores"
   ]
  },
  {
   "cell_type": "markdown",
   "metadata": {},
   "source": [
    "# Test con Set de Pruebas"
   ]
  },
  {
   "cell_type": "code",
   "execution_count": 51,
   "metadata": {
    "collapsed": true
   },
   "outputs": [],
   "source": [
    "datosForTestingWithPlaces['property_type_id'] = datosForTestingWithPlaces['property_type'].map(tipoPropiedadToNumeric)"
   ]
  },
  {
   "cell_type": "code",
   "execution_count": 53,
   "metadata": {
    "collapsed": true
   },
   "outputs": [],
   "source": [
    "terceraPrueba = datosForTestingWithPlaces.loc[:, ['lat', 'lon', 'surface_total_in_m2', 'surface_covered_in_m2','place_name_id','property_type_id']]\n",
    "\n",
    "\n",
    "imp = Imputer(missing_values='NaN', strategy='median', axis=0)\n",
    "imp.fit_transform(terceraPrueba)\n",
    "\n",
    "\n",
    "RFRModel = RandomForestRegressor(n_estimators=100, max_features='sqrt')\n",
    "\n",
    "x_train, x_test, y_train, y_test = train_test_split(datosFiltradosWithPlacesAndType.loc[:, ['lat', 'lon', 'surface_total_in_m2', 'surface_covered_in_m2','place_name_id','property_type_id']], datosFiltradosWithPlacesAndType['price_aprox_usd'], test_size=0.2)\n",
    "RFRModel.fit(x_train, y_train)\n",
    "prueba3 = RFRModel.predict(imp.fit_transform(terceraPrueba))"
   ]
  },
  {
   "cell_type": "code",
   "execution_count": 54,
   "metadata": {
    "collapsed": true
   },
   "outputs": [],
   "source": [
    "archivo3 = pd.DataFrame()\n",
    "archivo3['id'] = datosForTesting.loc[:,['id']]\n",
    "archivo3['price_usd'] = prueba3\n",
    "archivo3.to_csv('prueba3.csv', index=False)"
   ]
  },
  {
   "cell_type": "markdown",
   "metadata": {},
   "source": [
    "# Agregamos fecha de Creacion"
   ]
  },
  {
   "cell_type": "code",
   "execution_count": 56,
   "metadata": {},
   "outputs": [
    {
     "data": {
      "text/plain": [
       "Index(['country_name', 'created_on', 'currency', 'description', 'expenses',\n",
       "       'floor', 'geonames_id', 'id', 'image_thumbnail', 'lat', 'lat-lon',\n",
       "       'lon', 'operation', 'place_name', 'place_with_parent_names', 'price',\n",
       "       'price_aprox_local_currency', 'price_aprox_usd', 'price_per_m2',\n",
       "       'price_usd_per_m2', 'properati_url', 'property_type', 'rooms',\n",
       "       'state_name', 'surface_covered_in_m2', 'surface_in_m2',\n",
       "       'surface_total_in_m2', 'title', 'place_name_id', 'property_type_id'],\n",
       "      dtype='object')"
      ]
     },
     "execution_count": 56,
     "metadata": {},
     "output_type": "execute_result"
    }
   ],
   "source": [
    "datosWithPlaces.columns"
   ]
  },
  {
   "cell_type": "code",
   "execution_count": 58,
   "metadata": {},
   "outputs": [
    {
     "data": {
      "text/html": [
       "<div>\n",
       "<style>\n",
       "    .dataframe thead tr:only-child th {\n",
       "        text-align: right;\n",
       "    }\n",
       "\n",
       "    .dataframe thead th {\n",
       "        text-align: left;\n",
       "    }\n",
       "\n",
       "    .dataframe tbody tr th {\n",
       "        vertical-align: top;\n",
       "    }\n",
       "</style>\n",
       "<table border=\"1\" class=\"dataframe\">\n",
       "  <thead>\n",
       "    <tr style=\"text-align: right;\">\n",
       "      <th></th>\n",
       "      <th>country_name</th>\n",
       "      <th>created_on</th>\n",
       "      <th>currency</th>\n",
       "      <th>description</th>\n",
       "      <th>expenses</th>\n",
       "      <th>floor</th>\n",
       "      <th>geonames_id</th>\n",
       "      <th>id</th>\n",
       "      <th>image_thumbnail</th>\n",
       "      <th>lat</th>\n",
       "      <th>...</th>\n",
       "      <th>rooms</th>\n",
       "      <th>state_name</th>\n",
       "      <th>surface_covered_in_m2</th>\n",
       "      <th>surface_in_m2</th>\n",
       "      <th>surface_total_in_m2</th>\n",
       "      <th>title</th>\n",
       "      <th>place_name_id</th>\n",
       "      <th>property_type_id</th>\n",
       "      <th>year</th>\n",
       "      <th>month</th>\n",
       "    </tr>\n",
       "  </thead>\n",
       "  <tbody>\n",
       "    <tr>\n",
       "      <th>0</th>\n",
       "      <td>Argentina</td>\n",
       "      <td>2014-07-02</td>\n",
       "      <td>USD</td>\n",
       "      <td>CODIGO: 1520-MYR1925 ubicado en: Ferre 600 -  ...</td>\n",
       "      <td>NaN</td>\n",
       "      <td>NaN</td>\n",
       "      <td>3433321.0</td>\n",
       "      <td>4ba89da8e0e5f0677f3bf9b8da4e14c0ffc08ca1</td>\n",
       "      <td>https://thumbs4.properati.com/7/aAPUkWdVteaoRr...</td>\n",
       "      <td>-34.787505</td>\n",
       "      <td>...</td>\n",
       "      <td>NaN</td>\n",
       "      <td>Bs.As. G.B.A. Zona Sur</td>\n",
       "      <td>325.0</td>\n",
       "      <td>NaN</td>\n",
       "      <td>375.0</td>\n",
       "      <td>Chalet de 3 dormitorios. Impecable. Lote doble...</td>\n",
       "      <td>0</td>\n",
       "      <td>1</td>\n",
       "      <td>2014</td>\n",
       "      <td>7</td>\n",
       "    </tr>\n",
       "    <tr>\n",
       "      <th>1</th>\n",
       "      <td>Argentina</td>\n",
       "      <td>2014-07-02</td>\n",
       "      <td>USD</td>\n",
       "      <td>CODIGO:  ubicado en: Roosevelt 2500 -  Publica...</td>\n",
       "      <td>700</td>\n",
       "      <td>NaN</td>\n",
       "      <td>3436077.0</td>\n",
       "      <td>4c508b233a1495e7ba016684ae7a43c4bcc2f26c</td>\n",
       "      <td>https://thumbs4.properati.com/7/heY_J3kb1D7Efi...</td>\n",
       "      <td>-34.558140</td>\n",
       "      <td>...</td>\n",
       "      <td>NaN</td>\n",
       "      <td>Capital Federal</td>\n",
       "      <td>42.0</td>\n",
       "      <td>NaN</td>\n",
       "      <td>46.0</td>\n",
       "      <td>Excelente 2 Ambientes c/baulera</td>\n",
       "      <td>1</td>\n",
       "      <td>2</td>\n",
       "      <td>2014</td>\n",
       "      <td>7</td>\n",
       "    </tr>\n",
       "    <tr>\n",
       "      <th>2</th>\n",
       "      <td>Argentina</td>\n",
       "      <td>2014-07-02</td>\n",
       "      <td>USD</td>\n",
       "      <td>CODIGO:  ubicado en: Uriarte 1500 -  Publicado...</td>\n",
       "      <td>NaN</td>\n",
       "      <td>NaN</td>\n",
       "      <td>3430234.0</td>\n",
       "      <td>1e0ec350dd33b32977e6da279fdd9e4ebf870d0d</td>\n",
       "      <td>https://thumbs4.properati.com/3/1c50vLZ65H3yTp...</td>\n",
       "      <td>-34.588129</td>\n",
       "      <td>...</td>\n",
       "      <td>NaN</td>\n",
       "      <td>Capital Federal</td>\n",
       "      <td>34.0</td>\n",
       "      <td>NaN</td>\n",
       "      <td>49.0</td>\n",
       "      <td>PH de 2 Ambientes en Palermo Soho</td>\n",
       "      <td>2</td>\n",
       "      <td>3</td>\n",
       "      <td>2014</td>\n",
       "      <td>7</td>\n",
       "    </tr>\n",
       "    <tr>\n",
       "      <th>3</th>\n",
       "      <td>Argentina</td>\n",
       "      <td>2014-07-02</td>\n",
       "      <td>USD</td>\n",
       "      <td>CODIGO: 2388-LLG0925 ubicado en: COLON 660 -  ...</td>\n",
       "      <td>NaN</td>\n",
       "      <td>NaN</td>\n",
       "      <td>3435894.0</td>\n",
       "      <td>d8470085f8f543f16e0d28b7f38fb2354ab9ce92</td>\n",
       "      <td>https://thumbs4.properati.com/8/scNgGnwSxK3fVP...</td>\n",
       "      <td>-34.827373</td>\n",
       "      <td>...</td>\n",
       "      <td>NaN</td>\n",
       "      <td>Bs.As. G.B.A. Zona Sur</td>\n",
       "      <td>230.0</td>\n",
       "      <td>NaN</td>\n",
       "      <td>523.0</td>\n",
       "      <td>CHALET EN INMEJORABLE UBICACION A 150 MTS DE L...</td>\n",
       "      <td>3</td>\n",
       "      <td>1</td>\n",
       "      <td>2014</td>\n",
       "      <td>7</td>\n",
       "    </tr>\n",
       "    <tr>\n",
       "      <th>4</th>\n",
       "      <td>Argentina</td>\n",
       "      <td>2014-07-02</td>\n",
       "      <td>USD</td>\n",
       "      <td>CODIGO:  ubicado en: CONCORDIA 4700 -  Publica...</td>\n",
       "      <td>NaN</td>\n",
       "      <td>NaN</td>\n",
       "      <td>3427451.0</td>\n",
       "      <td>4efac79c0ede6d23f5ef3f9b57096fd6ef503cb0</td>\n",
       "      <td>https://thumbs4.properati.com/1/R24bt8zXYcy6JG...</td>\n",
       "      <td>-34.591155</td>\n",
       "      <td>...</td>\n",
       "      <td>NaN</td>\n",
       "      <td>Capital Federal</td>\n",
       "      <td>52.0</td>\n",
       "      <td>NaN</td>\n",
       "      <td>57.0</td>\n",
       "      <td>DEPARTAMENTO 3 AMBIENTES 57M2 EN V DEVOTO, BA...</td>\n",
       "      <td>4</td>\n",
       "      <td>2</td>\n",
       "      <td>2014</td>\n",
       "      <td>7</td>\n",
       "    </tr>\n",
       "  </tbody>\n",
       "</table>\n",
       "<p>5 rows × 32 columns</p>\n",
       "</div>"
      ],
      "text/plain": [
       "  country_name  created_on currency  \\\n",
       "0    Argentina  2014-07-02      USD   \n",
       "1    Argentina  2014-07-02      USD   \n",
       "2    Argentina  2014-07-02      USD   \n",
       "3    Argentina  2014-07-02      USD   \n",
       "4    Argentina  2014-07-02      USD   \n",
       "\n",
       "                                         description expenses  floor  \\\n",
       "0  CODIGO: 1520-MYR1925 ubicado en: Ferre 600 -  ...      NaN    NaN   \n",
       "1  CODIGO:  ubicado en: Roosevelt 2500 -  Publica...      700    NaN   \n",
       "2  CODIGO:  ubicado en: Uriarte 1500 -  Publicado...      NaN    NaN   \n",
       "3  CODIGO: 2388-LLG0925 ubicado en: COLON 660 -  ...      NaN    NaN   \n",
       "4  CODIGO:  ubicado en: CONCORDIA 4700 -  Publica...      NaN    NaN   \n",
       "\n",
       "   geonames_id                                        id  \\\n",
       "0    3433321.0  4ba89da8e0e5f0677f3bf9b8da4e14c0ffc08ca1   \n",
       "1    3436077.0  4c508b233a1495e7ba016684ae7a43c4bcc2f26c   \n",
       "2    3430234.0  1e0ec350dd33b32977e6da279fdd9e4ebf870d0d   \n",
       "3    3435894.0  d8470085f8f543f16e0d28b7f38fb2354ab9ce92   \n",
       "4    3427451.0  4efac79c0ede6d23f5ef3f9b57096fd6ef503cb0   \n",
       "\n",
       "                                     image_thumbnail        lat  ...   rooms  \\\n",
       "0  https://thumbs4.properati.com/7/aAPUkWdVteaoRr... -34.787505  ...     NaN   \n",
       "1  https://thumbs4.properati.com/7/heY_J3kb1D7Efi... -34.558140  ...     NaN   \n",
       "2  https://thumbs4.properati.com/3/1c50vLZ65H3yTp... -34.588129  ...     NaN   \n",
       "3  https://thumbs4.properati.com/8/scNgGnwSxK3fVP... -34.827373  ...     NaN   \n",
       "4  https://thumbs4.properati.com/1/R24bt8zXYcy6JG... -34.591155  ...     NaN   \n",
       "\n",
       "               state_name surface_covered_in_m2 surface_in_m2  \\\n",
       "0  Bs.As. G.B.A. Zona Sur                 325.0           NaN   \n",
       "1         Capital Federal                  42.0           NaN   \n",
       "2         Capital Federal                  34.0           NaN   \n",
       "3  Bs.As. G.B.A. Zona Sur                 230.0           NaN   \n",
       "4         Capital Federal                  52.0           NaN   \n",
       "\n",
       "  surface_total_in_m2                                              title  \\\n",
       "0               375.0  Chalet de 3 dormitorios. Impecable. Lote doble...   \n",
       "1                46.0                    Excelente 2 Ambientes c/baulera   \n",
       "2                49.0                  PH de 2 Ambientes en Palermo Soho   \n",
       "3               523.0  CHALET EN INMEJORABLE UBICACION A 150 MTS DE L...   \n",
       "4                57.0   DEPARTAMENTO 3 AMBIENTES 57M2 EN V DEVOTO, BA...   \n",
       "\n",
       "   place_name_id  property_type_id  year  month  \n",
       "0              0                 1  2014      7  \n",
       "1              1                 2  2014      7  \n",
       "2              2                 3  2014      7  \n",
       "3              3                 1  2014      7  \n",
       "4              4                 2  2014      7  \n",
       "\n",
       "[5 rows x 32 columns]"
      ]
     },
     "execution_count": 58,
     "metadata": {},
     "output_type": "execute_result"
    }
   ],
   "source": [
    "datosWithPlaces['year'] = pd.DatetimeIndex(datosWithPlaces['created_on']).year\n",
    "datosWithPlaces['month'] = pd.DatetimeIndex(datosWithPlaces['created_on']).month\n",
    "datosWithPlaces.head()"
   ]
  },
  {
   "cell_type": "code",
   "execution_count": 59,
   "metadata": {
    "collapsed": true
   },
   "outputs": [],
   "source": [
    "\n",
    "datosFiltradosWithDate =  datosWithPlaces.loc[:, ['lat', 'lon', 'surface_total_in_m2', 'surface_covered_in_m2','price_aprox_usd','place_name_id','property_type_id','year','month']]"
   ]
  },
  {
   "cell_type": "markdown",
   "metadata": {},
   "source": [
    "# Entrenamiento"
   ]
  },
  {
   "cell_type": "code",
   "execution_count": 60,
   "metadata": {},
   "outputs": [
    {
     "data": {
      "text/plain": [
       "<matplotlib.axes._subplots.AxesSubplot at 0x1c73bdf0ac8>"
      ]
     },
     "execution_count": 60,
     "metadata": {},
     "output_type": "execute_result"
    },
    {
     "data": {
      "image/png": "[encoded data removed]",
      "text/plain": [
       "<matplotlib.figure.Figure at 0x1c73b8894e0>"
      ]
     },
     "metadata": {},
     "output_type": "display_data"
    }
   ],
   "source": [
    "x_train, x_test, y_train, y_test = train_test_split(datosFiltradosWithDate, datosFiltradosWithDate['price_aprox_usd'], test_size=0.2)\n",
    "x_test = x_test.loc[:, ['lat', 'lon', 'surface_total_in_m2', 'surface_covered_in_m2','place_name_id','property_type_id','year','month']]\n",
    "x_train = x_train.loc[:, ['lat', 'lon', 'surface_total_in_m2', 'surface_covered_in_m2','place_name_id','property_type_id','year','month']]\n",
    "models = [KNeighborsRegressor(),\n",
    "         RandomForestRegressor(n_estimators=100, max_features='sqrt'),\n",
    "         tree.DecisionTreeRegressor(),\n",
    "         neural_network.MLPRegressor()]\n",
    " \n",
    "TestModels = pd.DataFrame()\n",
    "tmp = {}\n",
    " \n",
    "for model in models:\n",
    "        m = str(model)\n",
    "        tmp['Model'] = m[:m.index('(')]\n",
    "        model.fit(x_train, y_train)\n",
    "        tmp['Precio'] = r2_score(y_test, model.predict(x_test))\n",
    "        TestModels = TestModels.append([tmp])\n",
    " \n",
    "TestModels.set_index('Model', inplace=True)\n",
    " \n",
    "fig, axes = plt.subplots(ncols=1, figsize=(10, 4))\n",
    "TestModels.Precio.plot(ax=axes, kind='bar', title='Precio')\n"
   ]
  },
  {
   "cell_type": "code",
   "execution_count": 61,
   "metadata": {},
   "outputs": [
    {
     "data": {
      "text/plain": [
       "array([ 0.40077163,  0.93274365,  0.89799032,  0.82681386,  0.83257868])"
      ]
     },
     "execution_count": 61,
     "metadata": {},
     "output_type": "execute_result"
    }
   ],
   "source": [
    "datosFiltradosWithDateFeatures = datosFiltradosWithDate.loc[:, ['lat', 'lon', 'surface_total_in_m2', 'surface_covered_in_m2','place_name_id','property_type_id','year','month']]\n",
    "datosFiltradosWithDatePrecios = datosFiltradosWithDate.loc[:, ['price_aprox_usd']]\n",
    "\n",
    "RFRModel = RandomForestRegressor(n_estimators=100, max_features='sqrt')\n",
    "scores = cross_val_score(RFRModel, datosFiltradosWithDateFeatures, np.ravel(datosFiltradosWithDatePrecios), cv=5)\n",
    "scores"
   ]
  },
  {
   "cell_type": "markdown",
   "metadata": {},
   "source": [
    "# # Test con Set de Pruebas"
   ]
  },
  {
   "cell_type": "code",
   "execution_count": 62,
   "metadata": {
    "collapsed": true
   },
   "outputs": [],
   "source": [
    "datosForTestingWithPlaces['year'] = pd.DatetimeIndex(datosForTestingWithPlaces['created_on']).year\n",
    "datosForTestingWithPlaces['month'] = pd.DatetimeIndex(datosForTestingWithPlaces['created_on']).month"
   ]
  },
  {
   "cell_type": "code",
   "execution_count": 66,
   "metadata": {
    "collapsed": true
   },
   "outputs": [],
   "source": [
    "cuartaPrueba = datosForTestingWithPlaces.loc[:, ['lat', 'lon', 'surface_total_in_m2', 'surface_covered_in_m2','place_name_id','property_type_id','year','month']]\n",
    "\n",
    "\n",
    "imp = Imputer(missing_values='NaN', strategy='median', axis=0)\n",
    "imp.fit_transform(cuarta)\n",
    "\n",
    "\n",
    "RFRModel = RandomForestRegressor(n_estimators=100, max_features='sqrt')\n",
    "\n",
    "x_train, x_test, y_train, y_test = train_test_split(datosFiltradosWithDateFeatures.loc[:, ['lat', 'lon', 'surface_total_in_m2', 'surface_covered_in_m2','place_name_id','property_type_id','year','month']], datosFiltradosWithDatePrecios['price_aprox_usd'], test_size=0.2)\n",
    "RFRModel.fit(x_train, y_train)\n",
    "prueba4 = RFRModel.predict(imp.fit_transform(cuartaPrueba))"
   ]
  },
  {
   "cell_type": "code",
   "execution_count": 67,
   "metadata": {
    "collapsed": true
   },
   "outputs": [],
   "source": [
    "archivo4 = pd.DataFrame()\n",
    "archivo4['id'] = datosForTesting.loc[:,['id']]\n",
    "archivo4['price_usd'] = prueba4\n",
    "archivo4.to_csv('prueba4.csv', index=False)"
   ]
  },
  {
   "cell_type": "markdown",
   "metadata": {},
   "source": [
    "# Feature extraction"
   ]
  },
  {
   "cell_type": "code",
   "execution_count": 95,
   "metadata": {},
   "outputs": [
    {
     "name": "stdout",
     "output_type": "stream",
     "text": [
      "  (0, 0)\t2.0\n",
      "  (0, 2)\t1.0\n",
      "  (0, 3)\t1.0\n",
      "  (0, 4)\t-1.0\n",
      "  (0, 6)\t0.0\n",
      "  (0, 7)\t-1.0\n",
      "  (0, 9)\t2.0\n",
      "  (1, 0)\t2.0\n",
      "  (1, 1)\t-1.0\n",
      "  (1, 2)\t1.0\n",
      "  (1, 3)\t2.0\n",
      "  (1, 4)\t-1.0\n",
      "  (1, 6)\t0.0\n",
      "  (1, 7)\t-1.0\n",
      "  (1, 9)\t3.0\n"
     ]
    }
   ],
   "source": [
    "from sklearn.feature_extraction import FeatureHasher\n",
    "fh = FeatureHasher(n_features=10, input_type='string')\n",
    "result = fh.fit_transform(barrios)\n",
    "print(result)"
   ]
  },
  {
   "cell_type": "markdown",
   "metadata": {},
   "source": [
    "# Habitaciones"
   ]
  },
  {
   "cell_type": "code",
   "execution_count": 143,
   "metadata": {
    "collapsed": true
   },
   "outputs": [],
   "source": [
    "datosWithPlacesAndRooms = datosWithPlaces.loc[:, ['lat', 'lon', 'surface_total_in_m2', 'surface_covered_in_m2','price_aprox_usd','place_name_id','property_type','year','month','rooms']]\n",
    "\n",
    "datosWithPlacesAndRooms =  datosWithPlacesAndRooms.loc[datosWithPlacesAndRooms['rooms'].notnull(),:]\n",
    "\n",
    "datosWithPlacesAndRooms = datosWithPlacesAndRooms.loc[datosWithPlacesAndRooms.property_type != 'store', :]\n",
    "datosWithPlacesAndRoomsOHC= pd.get_dummies(datosWithPlacesAndRooms, prefix=['property_type'])"
   ]
  },
  {
   "cell_type": "code",
   "execution_count": 144,
   "metadata": {},
   "outputs": [
    {
     "name": "stderr",
     "output_type": "stream",
     "text": [
      "C:\\Users\\nicol\\Anaconda3\\lib\\site-packages\\sklearn\\neural_network\\multilayer_perceptron.py:564: ConvergenceWarning: Stochastic Optimizer: Maximum iterations (200) reached and the optimization hasn't converged yet.\n",
      "  % self.max_iter, ConvergenceWarning)\n"
     ]
    },
    {
     "data": {
      "text/plain": [
       "<matplotlib.axes._subplots.AxesSubplot at 0x1ea9aa772e8>"
      ]
     },
     "execution_count": 144,
     "metadata": {},
     "output_type": "execute_result"
    },
    {
     "data": {
      "image/png": "[encoded data removed]",
      "text/plain": [
       "<matplotlib.figure.Figure at 0x1eb7eeabc50>"
      ]
     },
     "metadata": {},
     "output_type": "display_data"
    }
   ],
   "source": [
    "#Prueba 6\n",
    "\n",
    "#x_train, x_test, y_train, y_test = train_test_split(datosWithPlacesAndRooms, datosWithPlacesAndRooms['price_aprox_usd'], test_size=0.2)\n",
    "#x_test = x_test.loc[:, ['lat', 'lon', 'surface_total_in_m2', 'surface_covered_in_m2','place_name_id','property_type_id','year','month','rooms']]\n",
    "#x_train = x_train.loc[:, ['lat', 'lon', 'surface_total_in_m2', 'surface_covered_in_m2','place_name_id','property_type_id','year','month','rooms']]\n",
    "\n",
    "x_train, x_test, y_train, y_test = train_test_split(datosWithPlacesAndRoomsOHC, datosWithPlacesAndRoomsOHC['price_aprox_usd'], test_size=0.2)\n",
    "x_test = x_test.drop('price_aprox_usd',1)\n",
    "x_train = x_train.drop('price_aprox_usd',1)\n",
    "\n",
    "\n",
    "models = [KNeighborsRegressor(),\n",
    "         RandomForestRegressor(n_estimators=100, max_features='sqrt'),\n",
    "         tree.DecisionTreeRegressor(),\n",
    "         neural_network.MLPRegressor()]\n",
    " \n",
    "TestModels = pd.DataFrame()\n",
    "tmp = {}\n",
    " \n",
    "for model in models:\n",
    "        m = str(model)\n",
    "        tmp['Model'] = m[:m.index('(')]\n",
    "        model.fit(x_train, y_train)\n",
    "        tmp['Precio'] = r2_score(y_test, model.predict(x_test))\n",
    "        TestModels = TestModels.append([tmp])\n",
    " \n",
    "TestModels.set_index('Model', inplace=True)\n",
    " \n",
    "fig, axes = plt.subplots(ncols=1, figsize=(10, 4))\n",
    "TestModels.Precio.plot(ax=axes, kind='bar', title='Precio')"
   ]
  },
  {
   "cell_type": "code",
   "execution_count": 169,
   "metadata": {},
   "outputs": [
    {
     "data": {
      "text/plain": [
       "array([ 0.33930928,  0.9607647 ,  0.88604265,  0.81940946,  0.88699178])"
      ]
     },
     "execution_count": 169,
     "metadata": {},
     "output_type": "execute_result"
    }
   ],
   "source": [
    "#datosFiltradosWithDateAndRoomsFeatures = datosWithPlacesAndRooms.loc[:, ['lat', 'lon', 'surface_total_in_m2', 'surface_covered_in_m2','place_name_id','property_type_id','year','month','rooms']]\n",
    "#datosFiltradosWithDateAndRoomsPrecios = datosWithPlacesAndRooms.loc[:, ['price_aprox_usd']]\n",
    "\n",
    "datosWithPlacesAndRoomsOHCFeatures = datosWithPlacesAndRoomsOHC.drop('price_aprox_usd',1)\n",
    "datosWithPlacesAndRoomsOHCPrecios = datosWithPlacesAndRoomsOHC.loc[:, ['price_aprox_usd']]\n",
    "\n",
    "\n",
    "RFRModel = RandomForestRegressor(n_estimators=100, max_features='sqrt')\n",
    "scores = cross_val_score(RFRModel, datosWithPlacesAndRoomsOHCFeatures, np.ravel(datosWithPlacesAndRoomsOHCPrecios), cv=5)\n",
    "scores"
   ]
  },
  {
   "cell_type": "markdown",
   "metadata": {},
   "source": [
    "# Test con Set de Pruebas"
   ]
  },
  {
   "cell_type": "code",
   "execution_count": 114,
   "metadata": {},
   "outputs": [
    {
     "data": {
      "text/html": [
       "<div>\n",
       "<style>\n",
       "    .dataframe thead tr:only-child th {\n",
       "        text-align: right;\n",
       "    }\n",
       "\n",
       "    .dataframe thead th {\n",
       "        text-align: left;\n",
       "    }\n",
       "\n",
       "    .dataframe tbody tr th {\n",
       "        vertical-align: top;\n",
       "    }\n",
       "</style>\n",
       "<table border=\"1\" class=\"dataframe\">\n",
       "  <thead>\n",
       "    <tr style=\"text-align: right;\">\n",
       "      <th></th>\n",
       "      <th>id</th>\n",
       "      <th>created_on</th>\n",
       "      <th>property_type</th>\n",
       "      <th>operation</th>\n",
       "      <th>place_name</th>\n",
       "      <th>place_with_parent_names</th>\n",
       "      <th>country_name</th>\n",
       "      <th>state_name</th>\n",
       "      <th>lat-lon</th>\n",
       "      <th>lat</th>\n",
       "      <th>...</th>\n",
       "      <th>surface_total_in_m2</th>\n",
       "      <th>surface_covered_in_m2</th>\n",
       "      <th>floor</th>\n",
       "      <th>rooms</th>\n",
       "      <th>expenses</th>\n",
       "      <th>description</th>\n",
       "      <th>place_name_id</th>\n",
       "      <th>property_type_id</th>\n",
       "      <th>year</th>\n",
       "      <th>month</th>\n",
       "    </tr>\n",
       "  </thead>\n",
       "  <tbody>\n",
       "    <tr>\n",
       "      <th>203</th>\n",
       "      <td>2264992</td>\n",
       "      <td>2017-08-01</td>\n",
       "      <td>departamento</td>\n",
       "      <td>venta</td>\n",
       "      <td>Congreso</td>\n",
       "      <td>|Argentina|Capital Federal|Congreso|</td>\n",
       "      <td>Argentina</td>\n",
       "      <td>Capital Federal</td>\n",
       "      <td>-34.6154366495,-58.3888295497</td>\n",
       "      <td>-34.615437</td>\n",
       "      <td>...</td>\n",
       "      <td>276.0</td>\n",
       "      <td>266.0</td>\n",
       "      <td>NaN</td>\n",
       "      <td>7.0</td>\n",
       "      <td>NaN</td>\n",
       "      <td>Excelente Semipiso de Categoría7 ambientes de ...</td>\n",
       "      <td>21.0</td>\n",
       "      <td>2</td>\n",
       "      <td>2017</td>\n",
       "      <td>8</td>\n",
       "    </tr>\n",
       "    <tr>\n",
       "      <th>415</th>\n",
       "      <td>2265978</td>\n",
       "      <td>2017-08-01</td>\n",
       "      <td>ph</td>\n",
       "      <td>venta</td>\n",
       "      <td>San Nicolás</td>\n",
       "      <td>|Argentina|Capital Federal|San Nicolás|</td>\n",
       "      <td>Argentina</td>\n",
       "      <td>Capital Federal</td>\n",
       "      <td>-34.6062189,-58.383506</td>\n",
       "      <td>-34.606219</td>\n",
       "      <td>...</td>\n",
       "      <td>538.0</td>\n",
       "      <td>266.0</td>\n",
       "      <td>NaN</td>\n",
       "      <td>7.0</td>\n",
       "      <td>NaN</td>\n",
       "      <td>PH en edificio histórico, ubicado a 4 cuadras ...</td>\n",
       "      <td>121.0</td>\n",
       "      <td>3</td>\n",
       "      <td>2017</td>\n",
       "      <td>8</td>\n",
       "    </tr>\n",
       "    <tr>\n",
       "      <th>491</th>\n",
       "      <td>2266447</td>\n",
       "      <td>2017-08-01</td>\n",
       "      <td>departamento</td>\n",
       "      <td>venta</td>\n",
       "      <td>Palermo</td>\n",
       "      <td>|Argentina|Capital Federal|Palermo|</td>\n",
       "      <td>Argentina</td>\n",
       "      <td>Capital Federal</td>\n",
       "      <td>-34.5664200446,-58.4322408121</td>\n",
       "      <td>-34.566420</td>\n",
       "      <td>...</td>\n",
       "      <td>498.0</td>\n",
       "      <td>434.0</td>\n",
       "      <td>NaN</td>\n",
       "      <td>7.0</td>\n",
       "      <td>300000</td>\n",
       "      <td>Venta de Departamento 7 AMBIENTES O MAS en Pal...</td>\n",
       "      <td>24.0</td>\n",
       "      <td>2</td>\n",
       "      <td>2017</td>\n",
       "      <td>8</td>\n",
       "    </tr>\n",
       "    <tr>\n",
       "      <th>1071</th>\n",
       "      <td>2270115</td>\n",
       "      <td>2017-08-02</td>\n",
       "      <td>departamento</td>\n",
       "      <td>venta</td>\n",
       "      <td>Palermo Chico</td>\n",
       "      <td>|Argentina|Capital Federal|Palermo|Palermo Chico|</td>\n",
       "      <td>Argentina</td>\n",
       "      <td>Capital Federal</td>\n",
       "      <td>-34.5764683,-58.4070234</td>\n",
       "      <td>-34.576468</td>\n",
       "      <td>...</td>\n",
       "      <td>350.0</td>\n",
       "      <td>284.0</td>\n",
       "      <td>NaN</td>\n",
       "      <td>8.0</td>\n",
       "      <td>NaN</td>\n",
       "      <td>Espectacular dúplex  más terraza privada con p...</td>\n",
       "      <td>129.0</td>\n",
       "      <td>2</td>\n",
       "      <td>2017</td>\n",
       "      <td>8</td>\n",
       "    </tr>\n",
       "    <tr>\n",
       "      <th>1085</th>\n",
       "      <td>2270235</td>\n",
       "      <td>2017-08-02</td>\n",
       "      <td>departamento</td>\n",
       "      <td>venta</td>\n",
       "      <td>Recoleta</td>\n",
       "      <td>|Argentina|Capital Federal|Recoleta|</td>\n",
       "      <td>Argentina</td>\n",
       "      <td>Capital Federal</td>\n",
       "      <td>-34.5892011,-58.389136</td>\n",
       "      <td>-34.589201</td>\n",
       "      <td>...</td>\n",
       "      <td>139.0</td>\n",
       "      <td>139.0</td>\n",
       "      <td>NaN</td>\n",
       "      <td>7.0</td>\n",
       "      <td>NaN</td>\n",
       "      <td>HALL, LIVING COMEDOR Y ESCRITORIO, 2 DORMITORI...</td>\n",
       "      <td>85.0</td>\n",
       "      <td>2</td>\n",
       "      <td>2017</td>\n",
       "      <td>8</td>\n",
       "    </tr>\n",
       "  </tbody>\n",
       "</table>\n",
       "<p>5 rows × 21 columns</p>\n",
       "</div>"
      ],
      "text/plain": [
       "           id  created_on property_type operation     place_name  \\\n",
       "203   2264992  2017-08-01  departamento     venta       Congreso   \n",
       "415   2265978  2017-08-01            ph     venta    San Nicolás   \n",
       "491   2266447  2017-08-01  departamento     venta        Palermo   \n",
       "1071  2270115  2017-08-02  departamento     venta  Palermo Chico   \n",
       "1085  2270235  2017-08-02  departamento     venta       Recoleta   \n",
       "\n",
       "                                place_with_parent_names country_name  \\\n",
       "203                |Argentina|Capital Federal|Congreso|    Argentina   \n",
       "415             |Argentina|Capital Federal|San Nicolás|    Argentina   \n",
       "491                 |Argentina|Capital Federal|Palermo|    Argentina   \n",
       "1071  |Argentina|Capital Federal|Palermo|Palermo Chico|    Argentina   \n",
       "1085               |Argentina|Capital Federal|Recoleta|    Argentina   \n",
       "\n",
       "           state_name                        lat-lon        lat  ...    \\\n",
       "203   Capital Federal  -34.6154366495,-58.3888295497 -34.615437  ...     \n",
       "415   Capital Federal         -34.6062189,-58.383506 -34.606219  ...     \n",
       "491   Capital Federal  -34.5664200446,-58.4322408121 -34.566420  ...     \n",
       "1071  Capital Federal        -34.5764683,-58.4070234 -34.576468  ...     \n",
       "1085  Capital Federal         -34.5892011,-58.389136 -34.589201  ...     \n",
       "\n",
       "      surface_total_in_m2  surface_covered_in_m2  floor  rooms  expenses  \\\n",
       "203                 276.0                  266.0    NaN    7.0       NaN   \n",
       "415                 538.0                  266.0    NaN    7.0       NaN   \n",
       "491                 498.0                  434.0    NaN    7.0    300000   \n",
       "1071                350.0                  284.0    NaN    8.0       NaN   \n",
       "1085                139.0                  139.0    NaN    7.0       NaN   \n",
       "\n",
       "                                            description place_name_id  \\\n",
       "203   Excelente Semipiso de Categoría7 ambientes de ...          21.0   \n",
       "415   PH en edificio histórico, ubicado a 4 cuadras ...         121.0   \n",
       "491   Venta de Departamento 7 AMBIENTES O MAS en Pal...          24.0   \n",
       "1071  Espectacular dúplex  más terraza privada con p...         129.0   \n",
       "1085  HALL, LIVING COMEDOR Y ESCRITORIO, 2 DORMITORI...          85.0   \n",
       "\n",
       "      property_type_id  year  month  \n",
       "203                  2  2017      8  \n",
       "415                  3  2017      8  \n",
       "491                  2  2017      8  \n",
       "1071                 2  2017      8  \n",
       "1085                 2  2017      8  \n",
       "\n",
       "[5 rows x 21 columns]"
      ]
     },
     "execution_count": 114,
     "metadata": {},
     "output_type": "execute_result"
    }
   ],
   "source": [
    "datosForTestingGrandes = datosForTestingWithPlaces[datosForTestingWithPlaces['rooms'] > 6]\n",
    "datosForTestingGrandes.head()"
   ]
  },
  {
   "cell_type": "code",
   "execution_count": 174,
   "metadata": {},
   "outputs": [
    {
     "data": {
      "text/plain": [
       "Index(['lat', 'lon', 'surface_total_in_m2', 'surface_covered_in_m2',\n",
       "       'place_name_id', 'year', 'month', 'rooms', 'property_type_casa',\n",
       "       'property_type_departamento', 'property_type_ph'],\n",
       "      dtype='object')"
      ]
     },
     "execution_count": 174,
     "metadata": {},
     "output_type": "execute_result"
    }
   ],
   "source": [
    "datosForTestingWithPlacesAndR = datosForTestingWithPlaces.loc[:, ['lat', 'lon', 'surface_total_in_m2', 'surface_covered_in_m2','place_name_id','property_type','year','month','rooms']]\n",
    "\n",
    "datosForTestingWithPlacesAndOHC = pd.get_dummies(datosForTestingWithPlacesAndR, prefix=['property_type'])\n",
    "\n",
    "datosWithPlacesAndRoomsOHCFeatures.columns"
   ]
  },
  {
   "cell_type": "code",
   "execution_count": 175,
   "metadata": {},
   "outputs": [
    {
     "data": {
      "text/plain": [
       "Index(['lat', 'lon', 'surface_total_in_m2', 'surface_covered_in_m2',\n",
       "       'place_name_id', 'year', 'month', 'rooms', 'property_type_casa',\n",
       "       'property_type_departamento', 'property_type_ph'],\n",
       "      dtype='object')"
      ]
     },
     "execution_count": 175,
     "metadata": {},
     "output_type": "execute_result"
    }
   ],
   "source": [
    "datosForTestingWithPlacesAndOHC.columns"
   ]
  },
  {
   "cell_type": "code",
   "execution_count": 177,
   "metadata": {},
   "outputs": [
    {
     "data": {
      "text/plain": [
       "Index(['lat', 'lon', 'surface_total_in_m2', 'surface_covered_in_m2',\n",
       "       'place_name_id', 'year', 'month', 'rooms', 'property_type_casa',\n",
       "       'property_type_departamento', 'property_type_ph'],\n",
       "      dtype='object')"
      ]
     },
     "execution_count": 177,
     "metadata": {},
     "output_type": "execute_result"
    }
   ],
   "source": [
    "datosWithPlacesAndRoomsOHCFeatures.columns"
   ]
  },
  {
   "cell_type": "code",
   "execution_count": 179,
   "metadata": {},
   "outputs": [
    {
     "data": {
      "text/plain": [
       "Index(['lat', 'lon', 'surface_total_in_m2', 'surface_covered_in_m2',\n",
       "       'place_name_id', 'year', 'month', 'rooms', 'property_type_casa',\n",
       "       'property_type_departamento', 'property_type_ph'],\n",
       "      dtype='object')"
      ]
     },
     "execution_count": 179,
     "metadata": {},
     "output_type": "execute_result"
    }
   ],
   "source": [
    "quintaPrueba21.columns"
   ]
  },
  {
   "cell_type": "code",
   "execution_count": 176,
   "metadata": {},
   "outputs": [
    {
     "ename": "ValueError",
     "evalue": "Number of features of the model must match the input. Model n_features is 11 and input n_features is 9 ",
     "output_type": "error",
     "traceback": [
      "\u001b[1;31m---------------------------------------------------------------------------\u001b[0m",
      "\u001b[1;31mValueError\u001b[0m                                Traceback (most recent call last)",
      "\u001b[1;32m<ipython-input-176-f1fa11d30d16>\u001b[0m in \u001b[0;36m<module>\u001b[1;34m()\u001b[0m\n\u001b[0;32m      9\u001b[0m \u001b[0mx_train\u001b[0m\u001b[1;33m,\u001b[0m \u001b[0mx_test\u001b[0m\u001b[1;33m,\u001b[0m \u001b[0my_train\u001b[0m\u001b[1;33m,\u001b[0m \u001b[0my_test\u001b[0m \u001b[1;33m=\u001b[0m \u001b[0mtrain_test_split\u001b[0m\u001b[1;33m(\u001b[0m\u001b[0mdatosWithPlacesAndRoomsOHCFeatures\u001b[0m\u001b[1;33m,\u001b[0m \u001b[0mdatosWithPlacesAndRoomsOHCPrecios\u001b[0m\u001b[1;33m[\u001b[0m\u001b[1;34m'price_aprox_usd'\u001b[0m\u001b[1;33m]\u001b[0m\u001b[1;33m,\u001b[0m \u001b[0mtest_size\u001b[0m\u001b[1;33m=\u001b[0m\u001b[1;36m0.2\u001b[0m\u001b[1;33m)\u001b[0m\u001b[1;33m\u001b[0m\u001b[0m\n\u001b[0;32m     10\u001b[0m \u001b[0mRFRModel\u001b[0m\u001b[1;33m.\u001b[0m\u001b[0mfit\u001b[0m\u001b[1;33m(\u001b[0m\u001b[0mx_train\u001b[0m\u001b[1;33m,\u001b[0m \u001b[0my_train\u001b[0m\u001b[1;33m)\u001b[0m\u001b[1;33m\u001b[0m\u001b[0m\n\u001b[1;32m---> 11\u001b[1;33m \u001b[0mprueba51\u001b[0m \u001b[1;33m=\u001b[0m \u001b[0mRFRModel\u001b[0m\u001b[1;33m.\u001b[0m\u001b[0mpredict\u001b[0m\u001b[1;33m(\u001b[0m\u001b[0mimp\u001b[0m\u001b[1;33m.\u001b[0m\u001b[0mfit_transform\u001b[0m\u001b[1;33m(\u001b[0m\u001b[0mquintaPrueba21\u001b[0m\u001b[1;33m)\u001b[0m\u001b[1;33m)\u001b[0m\u001b[1;33m\u001b[0m\u001b[0m\n\u001b[0m",
      "\u001b[1;32m~\\Anaconda3\\lib\\site-packages\\sklearn\\ensemble\\forest.py\u001b[0m in \u001b[0;36mpredict\u001b[1;34m(self, X)\u001b[0m\n\u001b[0;32m    679\u001b[0m         \u001b[0mcheck_is_fitted\u001b[0m\u001b[1;33m(\u001b[0m\u001b[0mself\u001b[0m\u001b[1;33m,\u001b[0m \u001b[1;34m'estimators_'\u001b[0m\u001b[1;33m)\u001b[0m\u001b[1;33m\u001b[0m\u001b[0m\n\u001b[0;32m    680\u001b[0m         \u001b[1;31m# Check data\u001b[0m\u001b[1;33m\u001b[0m\u001b[1;33m\u001b[0m\u001b[0m\n\u001b[1;32m--> 681\u001b[1;33m         \u001b[0mX\u001b[0m \u001b[1;33m=\u001b[0m \u001b[0mself\u001b[0m\u001b[1;33m.\u001b[0m\u001b[0m_validate_X_predict\u001b[0m\u001b[1;33m(\u001b[0m\u001b[0mX\u001b[0m\u001b[1;33m)\u001b[0m\u001b[1;33m\u001b[0m\u001b[0m\n\u001b[0m\u001b[0;32m    682\u001b[0m \u001b[1;33m\u001b[0m\u001b[0m\n\u001b[0;32m    683\u001b[0m         \u001b[1;31m# Assign chunk of trees to jobs\u001b[0m\u001b[1;33m\u001b[0m\u001b[1;33m\u001b[0m\u001b[0m\n",
      "\u001b[1;32m~\\Anaconda3\\lib\\site-packages\\sklearn\\ensemble\\forest.py\u001b[0m in \u001b[0;36m_validate_X_predict\u001b[1;34m(self, X)\u001b[0m\n\u001b[0;32m    355\u001b[0m                                  \"call `fit` before exploiting the model.\")\n\u001b[0;32m    356\u001b[0m \u001b[1;33m\u001b[0m\u001b[0m\n\u001b[1;32m--> 357\u001b[1;33m         \u001b[1;32mreturn\u001b[0m \u001b[0mself\u001b[0m\u001b[1;33m.\u001b[0m\u001b[0mestimators_\u001b[0m\u001b[1;33m[\u001b[0m\u001b[1;36m0\u001b[0m\u001b[1;33m]\u001b[0m\u001b[1;33m.\u001b[0m\u001b[0m_validate_X_predict\u001b[0m\u001b[1;33m(\u001b[0m\u001b[0mX\u001b[0m\u001b[1;33m,\u001b[0m \u001b[0mcheck_input\u001b[0m\u001b[1;33m=\u001b[0m\u001b[1;32mTrue\u001b[0m\u001b[1;33m)\u001b[0m\u001b[1;33m\u001b[0m\u001b[0m\n\u001b[0m\u001b[0;32m    358\u001b[0m \u001b[1;33m\u001b[0m\u001b[0m\n\u001b[0;32m    359\u001b[0m     \u001b[1;33m@\u001b[0m\u001b[0mproperty\u001b[0m\u001b[1;33m\u001b[0m\u001b[0m\n",
      "\u001b[1;32m~\\Anaconda3\\lib\\site-packages\\sklearn\\tree\\tree.py\u001b[0m in \u001b[0;36m_validate_X_predict\u001b[1;34m(self, X, check_input)\u001b[0m\n\u001b[0;32m    382\u001b[0m                              \u001b[1;34m\"match the input. Model n_features is %s and \"\u001b[0m\u001b[1;33m\u001b[0m\u001b[0m\n\u001b[0;32m    383\u001b[0m                              \u001b[1;34m\"input n_features is %s \"\u001b[0m\u001b[1;33m\u001b[0m\u001b[0m\n\u001b[1;32m--> 384\u001b[1;33m                              % (self.n_features_, n_features))\n\u001b[0m\u001b[0;32m    385\u001b[0m \u001b[1;33m\u001b[0m\u001b[0m\n\u001b[0;32m    386\u001b[0m         \u001b[1;32mreturn\u001b[0m \u001b[0mX\u001b[0m\u001b[1;33m\u001b[0m\u001b[0m\n",
      "\u001b[1;31mValueError\u001b[0m: Number of features of the model must match the input. Model n_features is 11 and input n_features is 9 "
     ]
    }
   ],
   "source": [
    "quintaPrueba = datosForTestingFecha\n",
    "\n",
    "imp = Imputer(missing_values='NaN', strategy='median', axis=0)\n",
    "imp.fit_transform(quintaPrueba)\n",
    "\n",
    "\n",
    "RFRModel = RandomForestRegressor(n_estimators=100, max_features='sqrt')\n",
    "x_train, x_test, y_train, y_test = train_test_split(datosSinNullConFechasFeatures, datosSinNullConFechasPrecios['price_aprox_usd'], test_size=0.2)\n",
    "RFRModel.fit(x_train, y_train)\n",
    "prueba5 = RFRModel.predict(imp.fit_transform(quintaPrueba))"
   ]
  },
  {
   "cell_type": "code",
   "execution_count": 111,
   "metadata": {
    "collapsed": true
   },
   "outputs": [],
   "source": [
    "archivo51 = pd.DataFrame()\n",
    "archivo51['id'] = datosForTesting.loc[:,['id']]\n",
    "archivo51['price_usd'] = prueba51\n",
    "archivo51.to_csv('prueba51.csv', index=False)"
   ]
  },
  {
   "cell_type": "markdown",
   "metadata": {
    "collapsed": true
   },
   "source": [
    "# Datos sin places"
   ]
  },
  {
   "cell_type": "code",
   "execution_count": 84,
   "metadata": {
    "collapsed": true
   },
   "outputs": [],
   "source": [
    "datosSinNull = datosSinNull.loc[datosSinNull['lon'].notnull(),:]\n",
    "datosSinNull = datosSinNull.loc[datosSinNull['surface_total_in_m2'].notnull(),:]\n",
    "datosSinNull = datosSinNull.loc[datosSinNull['price_aprox_usd'].notnull(),:]\n",
    "datosSinNull = datosSinNull.loc[datosSinNull['lat'].notnull(),:]\n",
    "datosSinNull = datosSinNull.loc[datosSinNull['surface_covered_in_m2'].notnull(),:]\n",
    "datosSinNull['year'] = pd.DatetimeIndex(datosSinNull['created_on']).year\n",
    "datosSinNull['month'] = pd.DatetimeIndex(datosSinNull['created_on']).month\n",
    "\n",
    "datosSinNullConFechas = datosSinNull.loc[:, ['lat', 'lon', 'surface_total_in_m2','price_aprox_usd', 'surface_covered_in_m2','property_type','year','month']]"
   ]
  },
  {
   "cell_type": "code",
   "execution_count": 85,
   "metadata": {},
   "outputs": [
    {
     "data": {
      "text/html": [
       "<div>\n",
       "<style>\n",
       "    .dataframe thead tr:only-child th {\n",
       "        text-align: right;\n",
       "    }\n",
       "\n",
       "    .dataframe thead th {\n",
       "        text-align: left;\n",
       "    }\n",
       "\n",
       "    .dataframe tbody tr th {\n",
       "        vertical-align: top;\n",
       "    }\n",
       "</style>\n",
       "<table border=\"1\" class=\"dataframe\">\n",
       "  <thead>\n",
       "    <tr style=\"text-align: right;\">\n",
       "      <th></th>\n",
       "      <th>lat</th>\n",
       "      <th>lon</th>\n",
       "      <th>surface_total_in_m2</th>\n",
       "      <th>price_aprox_usd</th>\n",
       "      <th>surface_covered_in_m2</th>\n",
       "      <th>year</th>\n",
       "      <th>month</th>\n",
       "      <th>property_type_casa</th>\n",
       "      <th>property_type_departamento</th>\n",
       "      <th>property_type_ph</th>\n",
       "    </tr>\n",
       "  </thead>\n",
       "  <tbody>\n",
       "    <tr>\n",
       "      <th>12</th>\n",
       "      <td>-34.787505</td>\n",
       "      <td>-58.373606</td>\n",
       "      <td>375.0</td>\n",
       "      <td>450000.0</td>\n",
       "      <td>325.0</td>\n",
       "      <td>2014</td>\n",
       "      <td>7</td>\n",
       "      <td>1</td>\n",
       "      <td>0</td>\n",
       "      <td>0</td>\n",
       "    </tr>\n",
       "    <tr>\n",
       "      <th>14</th>\n",
       "      <td>-34.558140</td>\n",
       "      <td>-58.461494</td>\n",
       "      <td>46.0</td>\n",
       "      <td>96000.0</td>\n",
       "      <td>42.0</td>\n",
       "      <td>2014</td>\n",
       "      <td>7</td>\n",
       "      <td>0</td>\n",
       "      <td>1</td>\n",
       "      <td>0</td>\n",
       "    </tr>\n",
       "    <tr>\n",
       "      <th>15</th>\n",
       "      <td>-34.588129</td>\n",
       "      <td>-58.433152</td>\n",
       "      <td>49.0</td>\n",
       "      <td>120000.0</td>\n",
       "      <td>34.0</td>\n",
       "      <td>2014</td>\n",
       "      <td>7</td>\n",
       "      <td>0</td>\n",
       "      <td>0</td>\n",
       "      <td>1</td>\n",
       "    </tr>\n",
       "    <tr>\n",
       "      <th>17</th>\n",
       "      <td>-34.827373</td>\n",
       "      <td>-58.393529</td>\n",
       "      <td>523.0</td>\n",
       "      <td>300000.0</td>\n",
       "      <td>230.0</td>\n",
       "      <td>2014</td>\n",
       "      <td>7</td>\n",
       "      <td>1</td>\n",
       "      <td>0</td>\n",
       "      <td>0</td>\n",
       "    </tr>\n",
       "    <tr>\n",
       "      <th>21</th>\n",
       "      <td>-34.591155</td>\n",
       "      <td>-58.510174</td>\n",
       "      <td>57.0</td>\n",
       "      <td>155000.0</td>\n",
       "      <td>52.0</td>\n",
       "      <td>2014</td>\n",
       "      <td>7</td>\n",
       "      <td>0</td>\n",
       "      <td>1</td>\n",
       "      <td>0</td>\n",
       "    </tr>\n",
       "  </tbody>\n",
       "</table>\n",
       "</div>"
      ],
      "text/plain": [
       "          lat        lon  surface_total_in_m2  price_aprox_usd  \\\n",
       "12 -34.787505 -58.373606                375.0         450000.0   \n",
       "14 -34.558140 -58.461494                 46.0          96000.0   \n",
       "15 -34.588129 -58.433152                 49.0         120000.0   \n",
       "17 -34.827373 -58.393529                523.0         300000.0   \n",
       "21 -34.591155 -58.510174                 57.0         155000.0   \n",
       "\n",
       "    surface_covered_in_m2  year  month  property_type_casa  \\\n",
       "12                  325.0  2014      7                   1   \n",
       "14                   42.0  2014      7                   0   \n",
       "15                   34.0  2014      7                   0   \n",
       "17                  230.0  2014      7                   1   \n",
       "21                   52.0  2014      7                   0   \n",
       "\n",
       "    property_type_departamento  property_type_ph  \n",
       "12                           0                 0  \n",
       "14                           1                 0  \n",
       "15                           0                 1  \n",
       "17                           0                 0  \n",
       "21                           1                 0  "
      ]
     },
     "execution_count": 85,
     "metadata": {},
     "output_type": "execute_result"
    }
   ],
   "source": [
    "\n",
    "datosSinNullConFechas = pd.get_dummies(datosSinNullConFechas, prefix=['property_type'])\n",
    "datosSinNullConFechas.head()"
   ]
  },
  {
   "cell_type": "code",
   "execution_count": 46,
   "metadata": {},
   "outputs": [
    {
     "ename": "AttributeError",
     "evalue": "'function' object has no attribute 'values'",
     "output_type": "error",
     "traceback": [
      "\u001b[1;31m---------------------------------------------------------------------------\u001b[0m",
      "\u001b[1;31mAttributeError\u001b[0m                            Traceback (most recent call last)",
      "\u001b[1;32m<ipython-input-46-a7cea5631bc5>\u001b[0m in \u001b[0;36m<module>\u001b[1;34m()\u001b[0m\n\u001b[1;32m----> 1\u001b[1;33m \u001b[0mdatosSinNullConFechas\u001b[0m\u001b[1;33m.\u001b[0m\u001b[0misnull\u001b[0m\u001b[1;33m.\u001b[0m\u001b[0mvalues\u001b[0m\u001b[1;33m\u001b[0m\u001b[0m\n\u001b[0m",
      "\u001b[1;31mAttributeError\u001b[0m: 'function' object has no attribute 'values'"
     ]
    }
   ],
   "source": []
  },
  {
   "cell_type": "markdown",
   "metadata": {},
   "source": [
    "# Entrenamiento"
   ]
  },
  {
   "cell_type": "code",
   "execution_count": 86,
   "metadata": {},
   "outputs": [
    {
     "name": "stderr",
     "output_type": "stream",
     "text": [
      "C:\\Users\\nicol\\Anaconda3\\lib\\site-packages\\sklearn\\neural_network\\multilayer_perceptron.py:564: ConvergenceWarning: Stochastic Optimizer: Maximum iterations (200) reached and the optimization hasn't converged yet.\n",
      "  % self.max_iter, ConvergenceWarning)\n"
     ]
    },
    {
     "data": {
      "text/plain": [
       "<matplotlib.axes._subplots.AxesSubplot at 0x1ea9f246710>"
      ]
     },
     "execution_count": 86,
     "metadata": {},
     "output_type": "execute_result"
    },
    {
     "data": {
      "image/png": "[encoded data removed]",
      "text/plain": [
       "<matplotlib.figure.Figure at 0x1ea9c1ce160>"
      ]
     },
     "metadata": {},
     "output_type": "display_data"
    }
   ],
   "source": [
    "#Prueba 7\n",
    "\n",
    "x_train, x_test, y_train, y_test = train_test_split(datosSinNullConFechas, datosSinNullConFechas['price_aprox_usd'], test_size=0.2)\n",
    "#x_test = x_test.loc[:, ['lat', 'lon', 'surface_total_in_m2', 'surface_covered_in_m2','property_type_id','rooms']]\n",
    "#x_train = x_train.loc[:, ['lat', 'lon', 'surface_total_in_m2', 'surface_covered_in_m2','property_type_id','rooms']]\n",
    "\n",
    "x_test = x_test.drop('price_aprox_usd',1)\n",
    "x_train = x_train.drop('price_aprox_usd',1)\n",
    "\n",
    "\n",
    "models = [KNeighborsRegressor(),\n",
    "         RandomForestRegressor(n_estimators=100, max_features='sqrt'),\n",
    "         tree.DecisionTreeRegressor(),\n",
    "         neural_network.MLPRegressor()]\n",
    " \n",
    "TestModels = pd.DataFrame()\n",
    "tmp = {}\n",
    " \n",
    "for model in models:\n",
    "        m = str(model)\n",
    "        tmp['Model'] = m[:m.index('(')]\n",
    "        model.fit(x_train, y_train)\n",
    "        tmp['Precio'] = r2_score(y_test, model.predict(x_test))\n",
    "        TestModels = TestModels.append([tmp])\n",
    " \n",
    "TestModels.set_index('Model', inplace=True)\n",
    " \n",
    "fig, axes = plt.subplots(ncols=1, figsize=(10, 4))\n",
    "TestModels.Precio.plot(ax=axes, kind='bar', title='Precio')"
   ]
  },
  {
   "cell_type": "code",
   "execution_count": 87,
   "metadata": {},
   "outputs": [
    {
     "data": {
      "text/plain": [
       "array([ 0.38766737,  0.94024533,  0.9014026 ,  0.82327816,  0.83647658])"
      ]
     },
     "execution_count": 87,
     "metadata": {},
     "output_type": "execute_result"
    }
   ],
   "source": [
    "datosSinNullConFechasFeatures = datosSinNullConFechas.drop('price_aprox_usd',1)\n",
    "datosSinNullConFechasPrecios = datosSinNullConFechas.loc[:, ['price_aprox_usd']]\n",
    "\n",
    "RFRModel = RandomForestRegressor(n_estimators=100, max_features='sqrt')\n",
    "scores = cross_val_score(RFRModel, datosSinNullConFechasFeatures, np.ravel(datosSinNullConFechasPrecios), cv=5)\n",
    "scores"
   ]
  },
  {
   "cell_type": "code",
   "execution_count": 91,
   "metadata": {},
   "outputs": [
    {
     "data": {
      "text/plain": [
       "Index(['lat', 'lon', 'surface_total_in_m2', 'surface_covered_in_m2', 'year',\n",
       "       'month', 'property_type_casa', 'property_type_departamento',\n",
       "       'property_type_ph'],\n",
       "      dtype='object')"
      ]
     },
     "execution_count": 91,
     "metadata": {},
     "output_type": "execute_result"
    }
   ],
   "source": [
    "datosSinNullConFechasFeatures.columns"
   ]
  },
  {
   "cell_type": "markdown",
   "metadata": {},
   "source": [
    "# Test de datos de pruebas"
   ]
  },
  {
   "cell_type": "code",
   "execution_count": 88,
   "metadata": {},
   "outputs": [
    {
     "data": {
      "text/html": [
       "<div>\n",
       "<style>\n",
       "    .dataframe thead tr:only-child th {\n",
       "        text-align: right;\n",
       "    }\n",
       "\n",
       "    .dataframe thead th {\n",
       "        text-align: left;\n",
       "    }\n",
       "\n",
       "    .dataframe tbody tr th {\n",
       "        vertical-align: top;\n",
       "    }\n",
       "</style>\n",
       "<table border=\"1\" class=\"dataframe\">\n",
       "  <thead>\n",
       "    <tr style=\"text-align: right;\">\n",
       "      <th></th>\n",
       "      <th>lat</th>\n",
       "      <th>lon</th>\n",
       "      <th>surface_total_in_m2</th>\n",
       "      <th>surface_covered_in_m2</th>\n",
       "      <th>year</th>\n",
       "      <th>month</th>\n",
       "      <th>property_type_casa</th>\n",
       "      <th>property_type_departamento</th>\n",
       "      <th>property_type_ph</th>\n",
       "    </tr>\n",
       "  </thead>\n",
       "  <tbody>\n",
       "    <tr>\n",
       "      <th>0</th>\n",
       "      <td>-34.610988</td>\n",
       "      <td>-58.363464</td>\n",
       "      <td>0.0</td>\n",
       "      <td>NaN</td>\n",
       "      <td>2017</td>\n",
       "      <td>8</td>\n",
       "      <td>0</td>\n",
       "      <td>1</td>\n",
       "      <td>0</td>\n",
       "    </tr>\n",
       "    <tr>\n",
       "      <th>1</th>\n",
       "      <td>NaN</td>\n",
       "      <td>NaN</td>\n",
       "      <td>0.0</td>\n",
       "      <td>NaN</td>\n",
       "      <td>2017</td>\n",
       "      <td>8</td>\n",
       "      <td>0</td>\n",
       "      <td>1</td>\n",
       "      <td>0</td>\n",
       "    </tr>\n",
       "    <tr>\n",
       "      <th>2</th>\n",
       "      <td>-34.589363</td>\n",
       "      <td>-58.412880</td>\n",
       "      <td>53.0</td>\n",
       "      <td>48.0</td>\n",
       "      <td>2017</td>\n",
       "      <td>8</td>\n",
       "      <td>0</td>\n",
       "      <td>1</td>\n",
       "      <td>0</td>\n",
       "    </tr>\n",
       "    <tr>\n",
       "      <th>3</th>\n",
       "      <td>NaN</td>\n",
       "      <td>NaN</td>\n",
       "      <td>39.0</td>\n",
       "      <td>39.0</td>\n",
       "      <td>2017</td>\n",
       "      <td>8</td>\n",
       "      <td>0</td>\n",
       "      <td>1</td>\n",
       "      <td>0</td>\n",
       "    </tr>\n",
       "    <tr>\n",
       "      <th>4</th>\n",
       "      <td>NaN</td>\n",
       "      <td>NaN</td>\n",
       "      <td>51.0</td>\n",
       "      <td>51.0</td>\n",
       "      <td>2017</td>\n",
       "      <td>8</td>\n",
       "      <td>0</td>\n",
       "      <td>1</td>\n",
       "      <td>0</td>\n",
       "    </tr>\n",
       "  </tbody>\n",
       "</table>\n",
       "</div>"
      ],
      "text/plain": [
       "         lat        lon  surface_total_in_m2  surface_covered_in_m2  year  \\\n",
       "0 -34.610988 -58.363464                  0.0                    NaN  2017   \n",
       "1        NaN        NaN                  0.0                    NaN  2017   \n",
       "2 -34.589363 -58.412880                 53.0                   48.0  2017   \n",
       "3        NaN        NaN                 39.0                   39.0  2017   \n",
       "4        NaN        NaN                 51.0                   51.0  2017   \n",
       "\n",
       "   month  property_type_casa  property_type_departamento  property_type_ph  \n",
       "0      8                   0                           1                 0  \n",
       "1      8                   0                           1                 0  \n",
       "2      8                   0                           1                 0  \n",
       "3      8                   0                           1                 0  \n",
       "4      8                   0                           1                 0  "
      ]
     },
     "execution_count": 88,
     "metadata": {},
     "output_type": "execute_result"
    }
   ],
   "source": [
    "datosForTesting['year'] = pd.DatetimeIndex(datosForTesting['created_on']).year\n",
    "datosForTesting['month'] = pd.DatetimeIndex(datosForTesting['created_on']).month\n",
    "datosForTestingFecha = datosForTesting.loc[:, ['lat', 'lon', 'surface_total_in_m2', 'surface_covered_in_m2','property_type','year','month']]\n",
    "datosForTestingFecha = pd.get_dummies(datosForTestingFecha, prefix=['property_type'])\n",
    "datosForTestingFecha.head()"
   ]
  },
  {
   "cell_type": "code",
   "execution_count": 92,
   "metadata": {
    "collapsed": true
   },
   "outputs": [],
   "source": [
    "sextaPrueba = datosForTestingFecha\n",
    "\n",
    "imp = Imputer(missing_values='NaN', strategy='median', axis=0)\n",
    "imp.fit_transform(sextaPrueba)\n",
    "\n",
    "\n",
    "RFRModel = RandomForestRegressor(n_estimators=100, max_features='sqrt')\n",
    "x_train, x_test, y_train, y_test = train_test_split(datosSinNullConFechasFeatures, datosSinNullConFechasPrecios['price_aprox_usd'], test_size=0.2)\n",
    "RFRModel.fit(x_train, y_train)\n",
    "prueba6 = RFRModel.predict(imp.fit_transform(sextaPrueba))"
   ]
  },
  {
   "cell_type": "code",
   "execution_count": 93,
   "metadata": {
    "collapsed": true
   },
   "outputs": [],
   "source": [
    "archivo6 = pd.DataFrame()\n",
    "archivo6['id'] = datosForTesting.loc[:,['id']]\n",
    "archivo6['price_usd'] = prueba6\n",
    "archivo6.to_csv('prueba6.csv', index=False)"
   ]
  },
  {
   "cell_type": "markdown",
   "metadata": {},
   "source": [
    "# One Hot Coding con  Barrios"
   ]
  },
  {
   "cell_type": "code",
   "execution_count": 121,
   "metadata": {
    "collapsed": true
   },
   "outputs": [],
   "source": [
    "datosSinNull = datosSinNull.loc[datosSinNull['lon'].notnull(),:]\n",
    "datosSinNull = datosSinNull.loc[datosSinNull['surface_total_in_m2'].notnull(),:]\n",
    "datosSinNull = datosSinNull.loc[datosSinNull['price_aprox_usd'].notnull(),:]\n",
    "datosSinNull = datosSinNull.loc[datosSinNull['lat'].notnull(),:]\n",
    "datosSinNull = datosSinNull.loc[datosSinNull['surface_covered_in_m2'].notnull(),:]\n",
    "datosSinNull = datosSinNull.loc[datosSinNull['rooms'].notnull(),:]\n",
    "datosSinNull['year'] = pd.DatetimeIndex(datosSinNull['created_on']).year\n",
    "datosSinNull['month'] = pd.DatetimeIndex(datosSinNull['created_on']).month\n",
    "\n",
    "datosSinNullOHC = datosSinNull.loc[:, ['lat', 'lon', 'surface_total_in_m2','price_aprox_usd', 'place_name' ,'surface_covered_in_m2','property_type','year','month','rooms']]"
   ]
  },
  {
   "cell_type": "code",
   "execution_count": 122,
   "metadata": {
    "collapsed": true
   },
   "outputs": [],
   "source": [
    "datosSinNullOHCWithDummies = pd.get_dummies(datosSinNullOHC)\n",
    "\n",
    "\n"
   ]
  },
  {
   "cell_type": "code",
   "execution_count": 120,
   "metadata": {},
   "outputs": [
    {
     "data": {
      "text/plain": [
       "True"
      ]
     },
     "execution_count": 120,
     "metadata": {},
     "output_type": "execute_result"
    }
   ],
   "source": [
    "datosSinNullOHCWithDummies.rooms.isnull().values.any()"
   ]
  },
  {
   "cell_type": "code",
   "execution_count": 123,
   "metadata": {},
   "outputs": [
    {
     "name": "stderr",
     "output_type": "stream",
     "text": [
      "C:\\Users\\nicol\\Anaconda3\\lib\\site-packages\\sklearn\\neural_network\\multilayer_perceptron.py:564: ConvergenceWarning: Stochastic Optimizer: Maximum iterations (200) reached and the optimization hasn't converged yet.\n",
      "  % self.max_iter, ConvergenceWarning)\n"
     ]
    },
    {
     "data": {
      "text/plain": [
       "<matplotlib.axes._subplots.AxesSubplot at 0x1eafdd5f438>"
      ]
     },
     "execution_count": 123,
     "metadata": {},
     "output_type": "execute_result"
    },
    {
     "data": {
      "image/png": "[encoded data removed]",
      "text/plain": [
       "<matplotlib.figure.Figure at 0x1eb66bfb550>"
      ]
     },
     "metadata": {},
     "output_type": "display_data"
    }
   ],
   "source": [
    "#Prueba 8\n",
    "\n",
    "x_train, x_test, y_train, y_test = train_test_split(datosSinNullOHCWithDummies, datosSinNullOHCWithDummies['price_aprox_usd'], test_size=0.2)\n",
    "#x_test = x_test.loc[:, ['lat', 'lon', 'surface_total_in_m2', 'surface_covered_in_m2','property_type_id','rooms']]\n",
    "#x_train = x_train.loc[:, ['lat', 'lon', 'surface_total_in_m2', 'surface_covered_in_m2','property_type_id','rooms']]\n",
    "\n",
    "x_test = x_test.drop('price_aprox_usd',1)\n",
    "x_train = x_train.drop('price_aprox_usd',1)\n",
    "\n",
    "\n",
    "models = [KNeighborsRegressor(),\n",
    "         RandomForestRegressor(n_estimators=100, max_features='sqrt'),\n",
    "         tree.DecisionTreeRegressor(),\n",
    "         neural_network.MLPRegressor()]\n",
    " \n",
    "TestModels = pd.DataFrame()\n",
    "tmp = {}\n",
    " \n",
    "for model in models:\n",
    "        m = str(model)\n",
    "        tmp['Model'] = m[:m.index('(')]\n",
    "        model.fit(x_train, y_train)\n",
    "        tmp['Precio'] = r2_score(y_test, model.predict(x_test))\n",
    "        TestModels = TestModels.append([tmp])\n",
    " \n",
    "TestModels.set_index('Model', inplace=True)\n",
    " \n",
    "fig, axes = plt.subplots(ncols=1, figsize=(10, 4))\n",
    "TestModels.Precio.plot(ax=axes, kind='bar', title='Precio')"
   ]
  },
  {
   "cell_type": "code",
   "execution_count": 124,
   "metadata": {},
   "outputs": [
    {
     "data": {
      "text/plain": [
       "array([ 0.34810912,  0.96118896,  0.88521832,  0.80146185,  0.8715518 ])"
      ]
     },
     "execution_count": 124,
     "metadata": {},
     "output_type": "execute_result"
    }
   ],
   "source": [
    "datosSinNullOHCWithDummiesFeatures = datosSinNullOHCWithDummies.drop('price_aprox_usd',1)\n",
    "datosSinNullOHCWithDummiesPrecios = datosSinNullOHCWithDummies.loc[:, ['price_aprox_usd']]\n",
    "\n",
    "RFRModel = RandomForestRegressor(n_estimators=100, max_features='sqrt')\n",
    "scores = cross_val_score(RFRModel, datosSinNullOHCWithDummiesFeatures, np.ravel(datosSinNullOHCWithDummiesPrecios), cv=5)\n",
    "scores"
   ]
  },
  {
   "cell_type": "markdown",
   "metadata": {},
   "source": [
    "# Prueba con set de datos de test"
   ]
  },
  {
   "cell_type": "code",
   "execution_count": 125,
   "metadata": {
    "collapsed": true
   },
   "outputs": [],
   "source": [
    "datosForTesting['year'] = pd.DatetimeIndex(datosForTesting['created_on']).year\n",
    "datosForTesting['month'] = pd.DatetimeIndex(datosForTesting['created_on']).month\n",
    "datosForTestingOHC = datosForTesting.loc[:, ['lat', 'lon', 'surface_total_in_m2','place_name' ,'surface_covered_in_m2','property_type','year','month','rooms']]\n",
    "datosForTestingOHC = pd.get_dummies(datosForTestingOHC)"
   ]
  },
  {
   "cell_type": "markdown",
   "metadata": {},
   "source": [
    "# Entrenamiento"
   ]
  },
  {
   "cell_type": "code",
   "execution_count": 128,
   "metadata": {},
   "outputs": [
    {
     "ename": "ValueError",
     "evalue": "Number of features of the model must match the input. Model n_features is 460 and input n_features is 233 ",
     "output_type": "error",
     "traceback": [
      "\u001b[1;31m---------------------------------------------------------------------------\u001b[0m",
      "\u001b[1;31mValueError\u001b[0m                                Traceback (most recent call last)",
      "\u001b[1;32m<ipython-input-128-b20447eb3b99>\u001b[0m in \u001b[0;36m<module>\u001b[1;34m()\u001b[0m\n\u001b[0;32m      8\u001b[0m \u001b[0mx_train\u001b[0m\u001b[1;33m,\u001b[0m \u001b[0mx_test\u001b[0m\u001b[1;33m,\u001b[0m \u001b[0my_train\u001b[0m\u001b[1;33m,\u001b[0m \u001b[0my_test\u001b[0m \u001b[1;33m=\u001b[0m \u001b[0mtrain_test_split\u001b[0m\u001b[1;33m(\u001b[0m\u001b[0mdatosSinNullOHCWithDummiesFeatures\u001b[0m\u001b[1;33m,\u001b[0m \u001b[0mdatosSinNullOHCWithDummiesPrecios\u001b[0m\u001b[1;33m[\u001b[0m\u001b[1;34m'price_aprox_usd'\u001b[0m\u001b[1;33m]\u001b[0m\u001b[1;33m,\u001b[0m \u001b[0mtest_size\u001b[0m\u001b[1;33m=\u001b[0m\u001b[1;36m0.2\u001b[0m\u001b[1;33m)\u001b[0m\u001b[1;33m\u001b[0m\u001b[0m\n\u001b[0;32m      9\u001b[0m \u001b[0mRFRModel\u001b[0m\u001b[1;33m.\u001b[0m\u001b[0mfit\u001b[0m\u001b[1;33m(\u001b[0m\u001b[0mx_train\u001b[0m\u001b[1;33m,\u001b[0m \u001b[0my_train\u001b[0m\u001b[1;33m)\u001b[0m\u001b[1;33m\u001b[0m\u001b[0m\n\u001b[1;32m---> 10\u001b[1;33m \u001b[0mprueba7\u001b[0m \u001b[1;33m=\u001b[0m \u001b[0mRFRModel\u001b[0m\u001b[1;33m.\u001b[0m\u001b[0mpredict\u001b[0m\u001b[1;33m(\u001b[0m\u001b[0mimp\u001b[0m\u001b[1;33m.\u001b[0m\u001b[0mfit_transform\u001b[0m\u001b[1;33m(\u001b[0m\u001b[0mseptimaPrueba\u001b[0m\u001b[1;33m)\u001b[0m\u001b[1;33m)\u001b[0m\u001b[1;33m\u001b[0m\u001b[0m\n\u001b[0m",
      "\u001b[1;32m~\\Anaconda3\\lib\\site-packages\\sklearn\\ensemble\\forest.py\u001b[0m in \u001b[0;36mpredict\u001b[1;34m(self, X)\u001b[0m\n\u001b[0;32m    679\u001b[0m         \u001b[0mcheck_is_fitted\u001b[0m\u001b[1;33m(\u001b[0m\u001b[0mself\u001b[0m\u001b[1;33m,\u001b[0m \u001b[1;34m'estimators_'\u001b[0m\u001b[1;33m)\u001b[0m\u001b[1;33m\u001b[0m\u001b[0m\n\u001b[0;32m    680\u001b[0m         \u001b[1;31m# Check data\u001b[0m\u001b[1;33m\u001b[0m\u001b[1;33m\u001b[0m\u001b[0m\n\u001b[1;32m--> 681\u001b[1;33m         \u001b[0mX\u001b[0m \u001b[1;33m=\u001b[0m \u001b[0mself\u001b[0m\u001b[1;33m.\u001b[0m\u001b[0m_validate_X_predict\u001b[0m\u001b[1;33m(\u001b[0m\u001b[0mX\u001b[0m\u001b[1;33m)\u001b[0m\u001b[1;33m\u001b[0m\u001b[0m\n\u001b[0m\u001b[0;32m    682\u001b[0m \u001b[1;33m\u001b[0m\u001b[0m\n\u001b[0;32m    683\u001b[0m         \u001b[1;31m# Assign chunk of trees to jobs\u001b[0m\u001b[1;33m\u001b[0m\u001b[1;33m\u001b[0m\u001b[0m\n",
      "\u001b[1;32m~\\Anaconda3\\lib\\site-packages\\sklearn\\ensemble\\forest.py\u001b[0m in \u001b[0;36m_validate_X_predict\u001b[1;34m(self, X)\u001b[0m\n\u001b[0;32m    355\u001b[0m                                  \"call `fit` before exploiting the model.\")\n\u001b[0;32m    356\u001b[0m \u001b[1;33m\u001b[0m\u001b[0m\n\u001b[1;32m--> 357\u001b[1;33m         \u001b[1;32mreturn\u001b[0m \u001b[0mself\u001b[0m\u001b[1;33m.\u001b[0m\u001b[0mestimators_\u001b[0m\u001b[1;33m[\u001b[0m\u001b[1;36m0\u001b[0m\u001b[1;33m]\u001b[0m\u001b[1;33m.\u001b[0m\u001b[0m_validate_X_predict\u001b[0m\u001b[1;33m(\u001b[0m\u001b[0mX\u001b[0m\u001b[1;33m,\u001b[0m \u001b[0mcheck_input\u001b[0m\u001b[1;33m=\u001b[0m\u001b[1;32mTrue\u001b[0m\u001b[1;33m)\u001b[0m\u001b[1;33m\u001b[0m\u001b[0m\n\u001b[0m\u001b[0;32m    358\u001b[0m \u001b[1;33m\u001b[0m\u001b[0m\n\u001b[0;32m    359\u001b[0m     \u001b[1;33m@\u001b[0m\u001b[0mproperty\u001b[0m\u001b[1;33m\u001b[0m\u001b[0m\n",
      "\u001b[1;32m~\\Anaconda3\\lib\\site-packages\\sklearn\\tree\\tree.py\u001b[0m in \u001b[0;36m_validate_X_predict\u001b[1;34m(self, X, check_input)\u001b[0m\n\u001b[0;32m    382\u001b[0m                              \u001b[1;34m\"match the input. Model n_features is %s and \"\u001b[0m\u001b[1;33m\u001b[0m\u001b[0m\n\u001b[0;32m    383\u001b[0m                              \u001b[1;34m\"input n_features is %s \"\u001b[0m\u001b[1;33m\u001b[0m\u001b[0m\n\u001b[1;32m--> 384\u001b[1;33m                              % (self.n_features_, n_features))\n\u001b[0m\u001b[0;32m    385\u001b[0m \u001b[1;33m\u001b[0m\u001b[0m\n\u001b[0;32m    386\u001b[0m         \u001b[1;32mreturn\u001b[0m \u001b[0mX\u001b[0m\u001b[1;33m\u001b[0m\u001b[0m\n",
      "\u001b[1;31mValueError\u001b[0m: Number of features of the model must match the input. Model n_features is 460 and input n_features is 233 "
     ]
    }
   ],
   "source": [
    "septimaPrueba = datosForTestingOHC\n",
    "\n",
    "imp = Imputer(missing_values='NaN', strategy='median', axis=0)\n",
    "imp.fit_transform(septimaPrueba)\n",
    "impColumns = Imputer()\n",
    "impColumns.fit_transform(septimaPrueba)\n",
    "RFRModel = RandomForestRegressor(n_estimators=100, max_features='sqrt')\n",
    "x_train, x_test, y_train, y_test = train_test_split(datosSinNullOHCWithDummiesFeatures, datosSinNullOHCWithDummiesPrecios['price_aprox_usd'], test_size=0.2)\n",
    "RFRModel.fit(x_train, y_train)\n",
    "prueba7 = RFRModel.predict(imp.fit_transform(septimaPrueba))"
   ]
  },
  {
   "cell_type": "code",
   "execution_count": null,
   "metadata": {
    "collapsed": true
   },
   "outputs": [],
   "source": [
    "archivo7 = pd.DataFrame()\n",
    "archivo7['id'] = datosForTesting.loc[:,['id']]\n",
    "archivo7['price_usd'] = prueba7\n",
    "archivo7.to_csv('prueba7.csv', index=False)"
   ]
  },
  {
   "cell_type": "markdown",
   "metadata": {},
   "source": [
    "# Type y Barrios con OHC"
   ]
  },
  {
   "cell_type": "code",
   "execution_count": 24,
   "metadata": {},
   "outputs": [
    {
     "data": {
      "text/plain": [
       "Index(['id', 'created_on', 'property_type', 'operation', 'place_name',\n",
       "       'place_with_parent_names', 'country_name', 'state_name', 'lat-lon',\n",
       "       'lat', 'lon', 'surface_total_in_m2', 'surface_covered_in_m2', 'floor',\n",
       "       'rooms', 'expenses', 'description', 'price_aprox_usd'],\n",
       "      dtype='object')"
      ]
     },
     "execution_count": 24,
     "metadata": {},
     "output_type": "execute_result"
    }
   ],
   "source": []
  },
  {
   "cell_type": "code",
   "execution_count": 109,
   "metadata": {
    "collapsed": true
   },
   "outputs": [],
   "source": [
    "datosSinNull['year'] = pd.DatetimeIndex(datosSinNull['created_on']).year\n",
    "datosSinNull['month'] = pd.DatetimeIndex(datosSinNull['created_on']).month\n",
    "\n",
    "def split_place_with_parent_names_localidad(x):\n",
    "    z=x.split(\"|\")\n",
    "    return z[3]\n",
    "\n",
    "datosSinNull['localidad'] = datosSinNull['place_with_parent_names'].map(split_place_with_parent_names_localidad)\n",
    "datosForTesting['localidad'] = datosForTesting['place_with_parent_names'].map(split_place_with_parent_names_localidad)"
   ]
  },
  {
   "cell_type": "code",
   "execution_count": 110,
   "metadata": {
    "collapsed": true
   },
   "outputs": [],
   "source": [
    "localidades = datosForTesting['localidad'].unique()\n",
    "\n",
    "\n",
    "def localidadEnSet(x):\n",
    "    return x in localidades.tolist()\n",
    "\n",
    "\n",
    "datosSinNull['localidadEnSet'] = datosSinNull['localidad'].map(localidadEnSet)\n",
    "datosSamePlaces = datosSinNull.loc[datosSinNull['localidadEnSet'] == True, :]\n"
   ]
  },
  {
   "cell_type": "code",
   "execution_count": 67,
   "metadata": {
    "collapsed": true
   },
   "outputs": [],
   "source": []
  },
  {
   "cell_type": "code",
   "execution_count": 113,
   "metadata": {},
   "outputs": [
    {
     "data": {
      "text/plain": [
       "Index(['lat', 'lon', 'surface_total_in_m2', 'price_aprox_usd',\n",
       "       'surface_covered_in_m2', 'year', 'month', 'localidad_',\n",
       "       'localidad_Abasto', 'localidad_Agronomía', 'localidad_Almagro',\n",
       "       'localidad_Almirante Brown', 'localidad_Avellaneda',\n",
       "       'localidad_Balvanera', 'localidad_Barracas', 'localidad_Barrio Norte',\n",
       "       'localidad_Belgrano', 'localidad_Berazategui', 'localidad_Boca',\n",
       "       'localidad_Boedo', 'localidad_Caballito', 'localidad_Cañuelas',\n",
       "       'localidad_Centro / Microcentro', 'localidad_Chacarita',\n",
       "       'localidad_Coghlan', 'localidad_Colegiales', 'localidad_Congreso',\n",
       "       'localidad_Constitución', 'localidad_Esteban Echeverría',\n",
       "       'localidad_Ezeiza', 'localidad_Florencio Varela', 'localidad_Flores',\n",
       "       'localidad_Floresta', 'localidad_General Rodríguez',\n",
       "       'localidad_General San Martín', 'localidad_Hurlingham',\n",
       "       'localidad_Ituzaingó', 'localidad_La Matanza', 'localidad_La Plata',\n",
       "       'localidad_Lanús', 'localidad_Las Cañitas', 'localidad_Liniers',\n",
       "       'localidad_Lomas de Zamora', 'localidad_Marcos Paz',\n",
       "       'localidad_Mataderos', 'localidad_Merlo', 'localidad_Monserrat',\n",
       "       'localidad_Monte Castro', 'localidad_Moreno', 'localidad_Morón',\n",
       "       'localidad_Nuñez', 'localidad_Once', 'localidad_Palermo',\n",
       "       'localidad_Parque Avellaneda', 'localidad_Parque Centenario',\n",
       "       'localidad_Parque Chacabuco', 'localidad_Parque Chas',\n",
       "       'localidad_Parque Patricios', 'localidad_Paternal', 'localidad_Pompeya',\n",
       "       'localidad_Presidente Perón', 'localidad_Puerto Madero',\n",
       "       'localidad_Quilmes', 'localidad_Recoleta', 'localidad_Retiro',\n",
       "       'localidad_Saavedra', 'localidad_San Cristobal',\n",
       "       'localidad_San Nicolás', 'localidad_San Telmo', 'localidad_San Vicente',\n",
       "       'localidad_Tres de Febrero', 'localidad_Tribunales',\n",
       "       'localidad_Velez Sarsfield', 'localidad_Versalles',\n",
       "       'localidad_Vicente López', 'localidad_Villa Crespo',\n",
       "       'localidad_Villa Devoto', 'localidad_Villa General Mitre',\n",
       "       'localidad_Villa Lugano', 'localidad_Villa Luro',\n",
       "       'localidad_Villa Ortuzar', 'localidad_Villa Pueyrredón',\n",
       "       'localidad_Villa Real', 'localidad_Villa Riachuelo',\n",
       "       'localidad_Villa Santa Rita', 'localidad_Villa Soldati',\n",
       "       'localidad_Villa Urquiza', 'localidad_Villa del Parque',\n",
       "       'property_type_casa', 'property_type_departamento', 'property_type_ph'],\n",
       "      dtype='object')"
      ]
     },
     "execution_count": 113,
     "metadata": {},
     "output_type": "execute_result"
    }
   ],
   "source": [
    "datosSamePlacesFiltered = datosSamePlaces.loc[:, ['lat', 'lon', 'surface_total_in_m2','price_aprox_usd', 'localidad' ,'surface_covered_in_m2','property_type','year','month']]\n",
    "datosSamePlacesFiltered = pd.get_dummies(datosSamePlacesFiltered)\n",
    "\n",
    "datosSamePlacesFiltered.columns"
   ]
  },
  {
   "cell_type": "markdown",
   "metadata": {},
   "source": [
    "# Entrenamiento"
   ]
  },
  {
   "cell_type": "code",
   "execution_count": 117,
   "metadata": {},
   "outputs": [
    {
     "name": "stderr",
     "output_type": "stream",
     "text": [
      "C:\\Users\\nicol\\Anaconda3\\lib\\site-packages\\sklearn\\neural_network\\multilayer_perceptron.py:564: ConvergenceWarning: Stochastic Optimizer: Maximum iterations (200) reached and the optimization hasn't converged yet.\n",
      "  % self.max_iter, ConvergenceWarning)\n"
     ]
    },
    {
     "data": {
      "text/plain": [
       "<matplotlib.axes._subplots.AxesSubplot at 0x1b5d081e588>"
      ]
     },
     "execution_count": 117,
     "metadata": {},
     "output_type": "execute_result"
    },
    {
     "data": {
      "image/png": "[encoded data removed]",
      "text/plain": [
       "<matplotlib.figure.Figure at 0x1b5d081be48>"
      ]
     },
     "metadata": {},
     "output_type": "display_data"
    }
   ],
   "source": [
    "#Prueba 9\n",
    "\n",
    "x_train, x_test, y_train, y_test = train_test_split(datosSamePlacesFiltered, datosSamePlacesFiltered['price_aprox_usd'], test_size=0.2)\n",
    "#x_test = x_test.loc[:, ['lat', 'lon', 'surface_total_in_m2', 'surface_covered_in_m2','property_type_id','rooms']]\n",
    "#x_train = x_train.loc[:, ['lat', 'lon', 'surface_total_in_m2', 'surface_covered_in_m2','property_type_id','rooms']]\n",
    "\n",
    "x_test = x_test.drop('price_aprox_usd',1)\n",
    "x_train = x_train.drop('price_aprox_usd',1)\n",
    "\n",
    "\n",
    "models = [KNeighborsRegressor(),\n",
    "         RandomForestRegressor(n_estimators=100, max_features='sqrt'),\n",
    "         tree.DecisionTreeRegressor(),\n",
    "         neural_network.MLPRegressor()]\n",
    " \n",
    "TestModels = pd.DataFrame()\n",
    "tmp = {}\n",
    " \n",
    "for model in models:\n",
    "        m = str(model)\n",
    "        tmp['Model'] = m[:m.index('(')]\n",
    "        model.fit(x_train, y_train)\n",
    "        tmp['Precio'] = r2_score(y_test, model.predict(x_test))\n",
    "        TestModels = TestModels.append([tmp])\n",
    " \n",
    "TestModels.set_index('Model', inplace=True)\n",
    " \n",
    "fig, axes = plt.subplots(ncols=1, figsize=(10, 4))\n",
    "TestModels.Precio.plot(ax=axes, kind='bar', title='Precio')"
   ]
  },
  {
   "cell_type": "code",
   "execution_count": 118,
   "metadata": {
    "collapsed": true
   },
   "outputs": [],
   "source": [
    "datosSamePlacesFilteredFeatures = datosSamePlacesFiltered.drop('price_aprox_usd',1)\n",
    "datosSamePlacesFilteredPrecios = datosSamePlacesFiltered.loc[:, ['price_aprox_usd']]"
   ]
  },
  {
   "cell_type": "code",
   "execution_count": 119,
   "metadata": {},
   "outputs": [
    {
     "data": {
      "text/plain": [
       "array([ 0.34523362,  0.95159897,  0.89140769,  0.8496383 ,  0.83309986])"
      ]
     },
     "execution_count": 119,
     "metadata": {},
     "output_type": "execute_result"
    }
   ],
   "source": [
    "RFRModel = RandomForestRegressor(n_estimators=100, max_features='sqrt')\n",
    "scores = cross_val_score(RFRModel, datosSamePlacesFilteredFeatures, np.ravel(datosSamePlacesFilteredPrecios), cv=5)\n",
    "scores"
   ]
  },
  {
   "cell_type": "markdown",
   "metadata": {},
   "source": [
    "# Preparamos set de Test"
   ]
  },
  {
   "cell_type": "code",
   "execution_count": 122,
   "metadata": {
    "collapsed": true
   },
   "outputs": [],
   "source": [
    "datosForTesting['year'] = pd.DatetimeIndex(datosForTesting['created_on']).year\n",
    "datosForTesting['month'] = pd.DatetimeIndex(datosForTesting['created_on']).month\n",
    "\n",
    "datosForTestingFiltered = datosForTesting.loc[:, ['lat', 'lon', 'surface_total_in_m2','property_type' ,'localidad' ,'surface_covered_in_m2','year','month']]\n",
    "datosForTestingFiltered = pd.get_dummies(datosForTestingFiltered)"
   ]
  },
  {
   "cell_type": "code",
   "execution_count": 71,
   "metadata": {},
   "outputs": [
    {
     "data": {
      "text/plain": [
       "Index(['lat', 'lon', 'surface_total_in_m2', 'surface_covered_in_m2', 'year',\n",
       "       'month', 'place_name_9 de Abril', 'place_name_Abasto',\n",
       "       'place_name_Abril Club de Campo', 'place_name_Adrogué',\n",
       "       ...\n",
       "       'place_name_Villa Tesei', 'place_name_Villa Udaondo',\n",
       "       'place_name_Villa Urquiza', 'place_name_Villa del Parque',\n",
       "       'place_name_Virrey del Pino', 'place_name_Wilde',\n",
       "       'place_name_William Morris', 'property_type_casa',\n",
       "       'property_type_departamento', 'property_type_ph'],\n",
       "      dtype='object', length=222)"
      ]
     },
     "execution_count": 71,
     "metadata": {},
     "output_type": "execute_result"
    }
   ],
   "source": []
  },
  {
   "cell_type": "code",
   "execution_count": null,
   "metadata": {
    "collapsed": true
   },
   "outputs": [],
   "source": [
    "\n"
   ]
  },
  {
   "cell_type": "markdown",
   "metadata": {},
   "source": [
    "# Entrenamiento"
   ]
  },
  {
   "cell_type": "code",
   "execution_count": 124,
   "metadata": {
    "collapsed": true
   },
   "outputs": [],
   "source": [
    "octavaPrueba = datosForTestingFiltered\n",
    "\n",
    "imp = Imputer(missing_values='NaN', strategy='median', axis=0)\n",
    "imp.fit_transform(octavaPrueba)\n",
    "impColumns = Imputer()\n",
    "impColumns.fit_transform(octavaPrueba)\n",
    "RFRModel = RandomForestRegressor(n_estimators=100, max_features='sqrt')\n",
    "x_train, x_test, y_train, y_test = train_test_split(datosSamePlacesFilteredFeatures, datosSamePlacesFilteredPrecios['price_aprox_usd'], test_size=0.2)\n",
    "RFRModel.fit(x_train, y_train)\n",
    "prueba8 = RFRModel.predict(imp.fit_transform(octavaPrueba))"
   ]
  },
  {
   "cell_type": "code",
   "execution_count": 126,
   "metadata": {
    "collapsed": true
   },
   "outputs": [],
   "source": [
    "archivo8 = pd.DataFrame()\n",
    "archivo8['id'] = datosForTesting.loc[:,['id']]\n",
    "archivo8['price_usd'] = prueba8\n",
    "archivo8.to_csv('prueba8.csv', index=False)"
   ]
  },
  {
   "cell_type": "code",
   "execution_count": null,
   "metadata": {
    "collapsed": true
   },
   "outputs": [],
   "source": []
  },
  {
   "cell_type": "markdown",
   "metadata": {
    "collapsed": true
   },
   "source": [
    "# Agrupamos por Comunas"
   ]
  },
  {
   "cell_type": "code",
   "execution_count": 279,
   "metadata": {},
   "outputs": [],
   "source": [
    "\n",
    "datosSinNull['year'] = pd.DatetimeIndex(datosSinNull['created_on']).year\n",
    "datosSinNull['month'] = pd.DatetimeIndex(datosSinNull['created_on']).month\n",
    "\n",
    "\n",
    "datosForTesting['year'] = pd.DatetimeIndex(datosForTesting['created_on']).year\n",
    "datosForTesting['month'] = pd.DatetimeIndex(datosForTesting['created_on']).month\n",
    "\n",
    "comunas = pd.read_csv('resources/comunas.csv')"
   ]
  },
  {
   "cell_type": "code",
   "execution_count": 209,
   "metadata": {},
   "outputs": [
    {
     "data": {
      "text/plain": [
       "array(['Bs.As. G.B.A. Zona Sur', 'Capital Federal',\n",
       "       'Bs.As. G.B.A. Zona Norte', 'Bs.As. G.B.A. Zona Oeste'], dtype=object)"
      ]
     },
     "execution_count": 209,
     "metadata": {},
     "output_type": "execute_result"
    }
   ],
   "source": [
    "datosSinNull['state_name'].unique()"
   ]
  },
  {
   "cell_type": "code",
   "execution_count": 280,
   "metadata": {},
   "outputs": [],
   "source": [
    "datosSinNull['tipo'] = 'train'\n",
    "datosForTesting['tipo'] = 'test'\n",
    "concat_df = pd.concat([datosSinNull , datosForTesting])"
   ]
  },
  {
   "cell_type": "code",
   "execution_count": 281,
   "metadata": {},
   "outputs": [],
   "source": [
    "datosConComunas = pd.merge(concat_df, comunas, left_on='place_name', right_on='barrio',how='left')"
   ]
  },
  {
   "cell_type": "code",
   "execution_count": 282,
   "metadata": {},
   "outputs": [
    {
     "data": {
      "text/plain": [
       "array(['Bs.As. G.B.A. Zona Sur', 'Capital Federal',\n",
       "       'Bs.As. G.B.A. Zona Norte', 'Bs.As. G.B.A. Zona Oeste',\n",
       "       'Buenos Aires Interior'], dtype=object)"
      ]
     },
     "execution_count": 282,
     "metadata": {},
     "output_type": "execute_result"
    }
   ],
   "source": [
    "datosConComunas['state_name'].unique()"
   ]
  },
  {
   "cell_type": "code",
   "execution_count": 283,
   "metadata": {},
   "outputs": [],
   "source": [
    "datosConComunas.loc[datosConComunas['barrio'].isnull(), 'barrio'] = datosConComunas['state_name']\n",
    "datosConComunas.loc[datosConComunas['state_name'] == 'Bs.As. G.B.A. Zona Sur', 'comuna'] = '17' \n",
    "datosConComunas.loc[datosConComunas['state_name'] == 'Bs.As. G.B.A. Zona Norte', 'comuna'] = '18'\n",
    "datosConComunas.loc[datosConComunas['state_name'] == 'Bs.As. G.B.A. Zona Oeste', 'comuna'] = '19'\n",
    "datosConComunas.loc[datosConComunas['state_name'] == 'Buenos Aires Interior', 'comuna'] = '20'\n",
    "datosConComunas.loc[:, 'comuna'] = 'Comuna '+ datosConComunas['comuna'].astype(str)"
   ]
  },
  {
   "cell_type": "code",
   "execution_count": 284,
   "metadata": {},
   "outputs": [],
   "source": [
    "datosConComunasFiltered = datosConComunas.loc[:, ['lat', 'lon', 'surface_total_in_m2','price_aprox_usd','surface_covered_in_m2','property_type','comuna','year','month','tipo']]"
   ]
  },
  {
   "cell_type": "code",
   "execution_count": 285,
   "metadata": {},
   "outputs": [
    {
     "data": {
      "text/plain": [
       "30"
      ]
     },
     "execution_count": 285,
     "metadata": {},
     "output_type": "execute_result"
    }
   ],
   "source": [
    "datosConComunasFilteredOHC = pd.get_dummies(datosConComunasFiltered)\n",
    "#datosConComunasFilteredOHC.columns\n",
    "\n",
    "trainConComunas = datosConComunasFilteredOHC[datosConComunasFilteredOHC['tipo_train'] == 1]\n",
    "testConComunas = datosConComunasFilteredOHC[datosConComunasFilteredOHC['tipo_test'] == 1]\n",
    "\n",
    "# Drop your labels\n",
    "trainConComunas = trainConComunas.drop(['tipo_train','tipo_test'], axis=1)\n",
    "testConComunas = testConComunas.drop(['tipo_train','tipo_test'], axis=1)\n",
    "\n",
    "trainConComunas.columns.size"
   ]
  },
  {
   "cell_type": "code",
   "execution_count": 242,
   "metadata": {},
   "outputs": [
    {
     "data": {
      "text/plain": [
       "30"
      ]
     },
     "execution_count": 242,
     "metadata": {},
     "output_type": "execute_result"
    }
   ],
   "source": [
    "testConComunas.columns.size"
   ]
  },
  {
   "cell_type": "markdown",
   "metadata": {},
   "source": [
    "# Entrenamiento"
   ]
  },
  {
   "cell_type": "code",
   "execution_count": 228,
   "metadata": {},
   "outputs": [
    {
     "name": "stderr",
     "output_type": "stream",
     "text": [
      "C:\\Users\\nicol\\Anaconda3\\lib\\site-packages\\sklearn\\neural_network\\multilayer_perceptron.py:564: ConvergenceWarning: Stochastic Optimizer: Maximum iterations (200) reached and the optimization hasn't converged yet.\n",
      "  % self.max_iter, ConvergenceWarning)\n"
     ]
    },
    {
     "data": {
      "text/plain": [
       "<matplotlib.axes._subplots.AxesSubplot at 0x178227a5898>"
      ]
     },
     "execution_count": 228,
     "metadata": {},
     "output_type": "execute_result"
    },
    {
     "data": {
      "image/png": "[encoded data removed]",
      "text/plain": [
       "<matplotlib.figure.Figure at 0x178227a5128>"
      ]
     },
     "metadata": {},
     "output_type": "display_data"
    }
   ],
   "source": [
    "#Prueba 9\n",
    "\n",
    "x_train, x_test, y_train, y_test = train_test_split(trainConComunas, trainConComunas['price_aprox_usd'], test_size=0.2)\n",
    "#x_test = x_test.loc[:, ['lat', 'lon', 'surface_total_in_m2', 'surface_covered_in_m2','property_type_id','rooms']]\n",
    "#x_train = x_train.loc[:, ['lat', 'lon', 'surface_total_in_m2', 'surface_covered_in_m2','property_type_id','rooms']]\n",
    "\n",
    "x_test = x_test.drop('price_aprox_usd',1)\n",
    "x_train = x_train.drop('price_aprox_usd',1)\n",
    "\n",
    "\n",
    "models = [KNeighborsRegressor(),\n",
    "         RandomForestRegressor(n_estimators=100, max_features='sqrt'),\n",
    "         tree.DecisionTreeRegressor(),\n",
    "         neural_network.MLPRegressor()]\n",
    " \n",
    "TestModels = pd.DataFrame()\n",
    "tmp = {}\n",
    " \n",
    "for model in models:\n",
    "        m = str(model)\n",
    "        tmp['Model'] = m[:m.index('(')]\n",
    "        model.fit(x_train, y_train)\n",
    "        tmp['Precio'] = r2_score(y_test, model.predict(x_test))\n",
    "        TestModels = TestModels.append([tmp])\n",
    " \n",
    "TestModels.set_index('Model', inplace=True)\n",
    " \n",
    "fig, axes = plt.subplots(ncols=1, figsize=(10, 4))\n",
    "TestModels.Precio.plot(ax=axes, kind='bar', title='Precio')"
   ]
  },
  {
   "cell_type": "code",
   "execution_count": 286,
   "metadata": {
    "collapsed": true
   },
   "outputs": [],
   "source": [
    "datosOHCFeatures = trainConComunas.drop('price_aprox_usd',1)\n",
    "datosOHCPrecios = trainConComunas.loc[:, ['price_aprox_usd']]"
   ]
  },
  {
   "cell_type": "code",
   "execution_count": 287,
   "metadata": {},
   "outputs": [
    {
     "data": {
      "text/plain": [
       "array([ 0.39202364,  0.94052559,  0.8970258 ,  0.8269647 ,  0.83793984])"
      ]
     },
     "execution_count": 287,
     "metadata": {},
     "output_type": "execute_result"
    }
   ],
   "source": [
    "\n",
    "RFRModel = RandomForestRegressor(n_estimators=100, max_features='sqrt')\n",
    "scores = cross_val_score(RFRModel, datosOHCFeatures, np.ravel(datosOHCPrecios.loc[:, ['price_aprox_usd']]), cv=5)\n",
    "scores"
   ]
  },
  {
   "cell_type": "markdown",
   "metadata": {},
   "source": [
    "# Set de Pruebas"
   ]
  },
  {
   "cell_type": "code",
   "execution_count": 231,
   "metadata": {},
   "outputs": [
    {
     "data": {
      "text/html": [
       "<div>\n",
       "<style>\n",
       "    .dataframe thead tr:only-child th {\n",
       "        text-align: right;\n",
       "    }\n",
       "\n",
       "    .dataframe thead th {\n",
       "        text-align: left;\n",
       "    }\n",
       "\n",
       "    .dataframe tbody tr th {\n",
       "        vertical-align: top;\n",
       "    }\n",
       "</style>\n",
       "<table border=\"1\" class=\"dataframe\">\n",
       "  <thead>\n",
       "    <tr style=\"text-align: right;\">\n",
       "      <th></th>\n",
       "      <th>lat</th>\n",
       "      <th>lon</th>\n",
       "      <th>surface_total_in_m2</th>\n",
       "      <th>price_aprox_usd</th>\n",
       "      <th>surface_covered_in_m2</th>\n",
       "      <th>year</th>\n",
       "      <th>month</th>\n",
       "      <th>property_type_casa</th>\n",
       "      <th>property_type_departamento</th>\n",
       "      <th>property_type_ph</th>\n",
       "      <th>...</th>\n",
       "      <th>comuna_Comuna 19</th>\n",
       "      <th>comuna_Comuna 2.0</th>\n",
       "      <th>comuna_Comuna 20</th>\n",
       "      <th>comuna_Comuna 3.0</th>\n",
       "      <th>comuna_Comuna 4.0</th>\n",
       "      <th>comuna_Comuna 5.0</th>\n",
       "      <th>comuna_Comuna 6.0</th>\n",
       "      <th>comuna_Comuna 7.0</th>\n",
       "      <th>comuna_Comuna 8.0</th>\n",
       "      <th>comuna_Comuna 9.0</th>\n",
       "    </tr>\n",
       "  </thead>\n",
       "  <tbody>\n",
       "    <tr>\n",
       "      <th>131071</th>\n",
       "      <td>-34.610988</td>\n",
       "      <td>-58.363464</td>\n",
       "      <td>0.0</td>\n",
       "      <td>NaN</td>\n",
       "      <td>NaN</td>\n",
       "      <td>NaN</td>\n",
       "      <td>NaN</td>\n",
       "      <td>0</td>\n",
       "      <td>1</td>\n",
       "      <td>0</td>\n",
       "      <td>...</td>\n",
       "      <td>0</td>\n",
       "      <td>0</td>\n",
       "      <td>0</td>\n",
       "      <td>0</td>\n",
       "      <td>0</td>\n",
       "      <td>0</td>\n",
       "      <td>0</td>\n",
       "      <td>0</td>\n",
       "      <td>0</td>\n",
       "      <td>0</td>\n",
       "    </tr>\n",
       "    <tr>\n",
       "      <th>131072</th>\n",
       "      <td>NaN</td>\n",
       "      <td>NaN</td>\n",
       "      <td>0.0</td>\n",
       "      <td>NaN</td>\n",
       "      <td>NaN</td>\n",
       "      <td>NaN</td>\n",
       "      <td>NaN</td>\n",
       "      <td>0</td>\n",
       "      <td>1</td>\n",
       "      <td>0</td>\n",
       "      <td>...</td>\n",
       "      <td>0</td>\n",
       "      <td>0</td>\n",
       "      <td>1</td>\n",
       "      <td>0</td>\n",
       "      <td>0</td>\n",
       "      <td>0</td>\n",
       "      <td>0</td>\n",
       "      <td>0</td>\n",
       "      <td>0</td>\n",
       "      <td>0</td>\n",
       "    </tr>\n",
       "    <tr>\n",
       "      <th>131073</th>\n",
       "      <td>-34.589363</td>\n",
       "      <td>-58.412880</td>\n",
       "      <td>53.0</td>\n",
       "      <td>NaN</td>\n",
       "      <td>48.0</td>\n",
       "      <td>NaN</td>\n",
       "      <td>NaN</td>\n",
       "      <td>0</td>\n",
       "      <td>1</td>\n",
       "      <td>0</td>\n",
       "      <td>...</td>\n",
       "      <td>0</td>\n",
       "      <td>0</td>\n",
       "      <td>0</td>\n",
       "      <td>0</td>\n",
       "      <td>0</td>\n",
       "      <td>0</td>\n",
       "      <td>0</td>\n",
       "      <td>0</td>\n",
       "      <td>0</td>\n",
       "      <td>0</td>\n",
       "    </tr>\n",
       "    <tr>\n",
       "      <th>131074</th>\n",
       "      <td>NaN</td>\n",
       "      <td>NaN</td>\n",
       "      <td>39.0</td>\n",
       "      <td>NaN</td>\n",
       "      <td>39.0</td>\n",
       "      <td>NaN</td>\n",
       "      <td>NaN</td>\n",
       "      <td>0</td>\n",
       "      <td>1</td>\n",
       "      <td>0</td>\n",
       "      <td>...</td>\n",
       "      <td>0</td>\n",
       "      <td>0</td>\n",
       "      <td>0</td>\n",
       "      <td>0</td>\n",
       "      <td>0</td>\n",
       "      <td>0</td>\n",
       "      <td>0</td>\n",
       "      <td>0</td>\n",
       "      <td>0</td>\n",
       "      <td>0</td>\n",
       "    </tr>\n",
       "    <tr>\n",
       "      <th>131075</th>\n",
       "      <td>NaN</td>\n",
       "      <td>NaN</td>\n",
       "      <td>51.0</td>\n",
       "      <td>NaN</td>\n",
       "      <td>51.0</td>\n",
       "      <td>NaN</td>\n",
       "      <td>NaN</td>\n",
       "      <td>0</td>\n",
       "      <td>1</td>\n",
       "      <td>0</td>\n",
       "      <td>...</td>\n",
       "      <td>0</td>\n",
       "      <td>0</td>\n",
       "      <td>0</td>\n",
       "      <td>0</td>\n",
       "      <td>0</td>\n",
       "      <td>0</td>\n",
       "      <td>0</td>\n",
       "      <td>0</td>\n",
       "      <td>0</td>\n",
       "      <td>0</td>\n",
       "    </tr>\n",
       "  </tbody>\n",
       "</table>\n",
       "<p>5 rows × 30 columns</p>\n",
       "</div>"
      ],
      "text/plain": [
       "              lat        lon  surface_total_in_m2  price_aprox_usd  \\\n",
       "131071 -34.610988 -58.363464                  0.0              NaN   \n",
       "131072        NaN        NaN                  0.0              NaN   \n",
       "131073 -34.589363 -58.412880                 53.0              NaN   \n",
       "131074        NaN        NaN                 39.0              NaN   \n",
       "131075        NaN        NaN                 51.0              NaN   \n",
       "\n",
       "        surface_covered_in_m2  year  month  property_type_casa  \\\n",
       "131071                    NaN   NaN    NaN                   0   \n",
       "131072                    NaN   NaN    NaN                   0   \n",
       "131073                   48.0   NaN    NaN                   0   \n",
       "131074                   39.0   NaN    NaN                   0   \n",
       "131075                   51.0   NaN    NaN                   0   \n",
       "\n",
       "        property_type_departamento  property_type_ph        ...          \\\n",
       "131071                           1                 0        ...           \n",
       "131072                           1                 0        ...           \n",
       "131073                           1                 0        ...           \n",
       "131074                           1                 0        ...           \n",
       "131075                           1                 0        ...           \n",
       "\n",
       "        comuna_Comuna 19  comuna_Comuna 2.0  comuna_Comuna 20  \\\n",
       "131071                 0                  0                 0   \n",
       "131072                 0                  0                 1   \n",
       "131073                 0                  0                 0   \n",
       "131074                 0                  0                 0   \n",
       "131075                 0                  0                 0   \n",
       "\n",
       "        comuna_Comuna 3.0  comuna_Comuna 4.0  comuna_Comuna 5.0  \\\n",
       "131071                  0                  0                  0   \n",
       "131072                  0                  0                  0   \n",
       "131073                  0                  0                  0   \n",
       "131074                  0                  0                  0   \n",
       "131075                  0                  0                  0   \n",
       "\n",
       "        comuna_Comuna 6.0  comuna_Comuna 7.0  comuna_Comuna 8.0  \\\n",
       "131071                  0                  0                  0   \n",
       "131072                  0                  0                  0   \n",
       "131073                  0                  0                  0   \n",
       "131074                  0                  0                  0   \n",
       "131075                  0                  0                  0   \n",
       "\n",
       "        comuna_Comuna 9.0  \n",
       "131071                  0  \n",
       "131072                  0  \n",
       "131073                  0  \n",
       "131074                  0  \n",
       "131075                  0  \n",
       "\n",
       "[5 rows x 30 columns]"
      ]
     },
     "execution_count": 231,
     "metadata": {},
     "output_type": "execute_result"
    }
   ],
   "source": [
    "testConComunas.head()"
   ]
  },
  {
   "cell_type": "code",
   "execution_count": 205,
   "metadata": {},
   "outputs": [
    {
     "data": {
      "text/html": [
       "<div>\n",
       "<style>\n",
       "    .dataframe thead tr:only-child th {\n",
       "        text-align: right;\n",
       "    }\n",
       "\n",
       "    .dataframe thead th {\n",
       "        text-align: left;\n",
       "    }\n",
       "\n",
       "    .dataframe tbody tr th {\n",
       "        vertical-align: top;\n",
       "    }\n",
       "</style>\n",
       "<table border=\"1\" class=\"dataframe\">\n",
       "  <thead>\n",
       "    <tr style=\"text-align: right;\">\n",
       "      <th></th>\n",
       "      <th>id</th>\n",
       "      <th>created_on</th>\n",
       "      <th>property_type</th>\n",
       "      <th>operation</th>\n",
       "      <th>place_name</th>\n",
       "      <th>place_with_parent_names</th>\n",
       "      <th>country_name</th>\n",
       "      <th>state_name</th>\n",
       "      <th>lat-lon</th>\n",
       "      <th>lat</th>\n",
       "      <th>lon</th>\n",
       "      <th>surface_total_in_m2</th>\n",
       "      <th>surface_covered_in_m2</th>\n",
       "      <th>floor</th>\n",
       "      <th>rooms</th>\n",
       "      <th>expenses</th>\n",
       "      <th>description</th>\n",
       "    </tr>\n",
       "  </thead>\n",
       "  <tbody>\n",
       "    <tr>\n",
       "      <th>0</th>\n",
       "      <td>3632</td>\n",
       "      <td>2017-08-24</td>\n",
       "      <td>departamento</td>\n",
       "      <td>venta</td>\n",
       "      <td>Puerto Madero</td>\n",
       "      <td>|Argentina|Capital Federal|Puerto Madero|</td>\n",
       "      <td>Argentina</td>\n",
       "      <td>Capital Federal</td>\n",
       "      <td>-34.6109877599,-58.3634635778</td>\n",
       "      <td>-34.610988</td>\n",
       "      <td>-58.363464</td>\n",
       "      <td>0.0</td>\n",
       "      <td>NaN</td>\n",
       "      <td>NaN</td>\n",
       "      <td>NaN</td>\n",
       "      <td>NaN</td>\n",
       "      <td>Edificio BA Houses situado frente al Dique 3 d...</td>\n",
       "    </tr>\n",
       "    <tr>\n",
       "      <th>1</th>\n",
       "      <td>3633</td>\n",
       "      <td>2017-08-25</td>\n",
       "      <td>departamento</td>\n",
       "      <td>venta</td>\n",
       "      <td>Buenos Aires Interior</td>\n",
       "      <td>|Argentina|Buenos Aires Interior|</td>\n",
       "      <td>Argentina</td>\n",
       "      <td>Buenos Aires Interior</td>\n",
       "      <td>NaN</td>\n",
       "      <td>NaN</td>\n",
       "      <td>NaN</td>\n",
       "      <td>0.0</td>\n",
       "      <td>NaN</td>\n",
       "      <td>NaN</td>\n",
       "      <td>NaN</td>\n",
       "      <td>NaN</td>\n",
       "      <td>El departamento cuenta con un living-comedor a...</td>\n",
       "    </tr>\n",
       "    <tr>\n",
       "      <th>2</th>\n",
       "      <td>2263404</td>\n",
       "      <td>2017-08-01</td>\n",
       "      <td>departamento</td>\n",
       "      <td>venta</td>\n",
       "      <td>Palermo Soho</td>\n",
       "      <td>|Argentina|Capital Federal|Palermo|Palermo Soho|</td>\n",
       "      <td>Argentina</td>\n",
       "      <td>Capital Federal</td>\n",
       "      <td>-34.5893633232,-58.4128798588</td>\n",
       "      <td>-34.589363</td>\n",
       "      <td>-58.412880</td>\n",
       "      <td>53.0</td>\n",
       "      <td>48.0</td>\n",
       "      <td>NaN</td>\n",
       "      <td>NaN</td>\n",
       "      <td>1500</td>\n",
       "      <td>IMPECABLE TORRE COY III – DEPA...</td>\n",
       "    </tr>\n",
       "    <tr>\n",
       "      <th>3</th>\n",
       "      <td>2263405</td>\n",
       "      <td>2017-08-01</td>\n",
       "      <td>departamento</td>\n",
       "      <td>venta</td>\n",
       "      <td>Chacarita</td>\n",
       "      <td>|Argentina|Capital Federal|Chacarita|</td>\n",
       "      <td>Argentina</td>\n",
       "      <td>Capital Federal</td>\n",
       "      <td>NaN</td>\n",
       "      <td>NaN</td>\n",
       "      <td>NaN</td>\n",
       "      <td>39.0</td>\n",
       "      <td>39.0</td>\n",
       "      <td>NaN</td>\n",
       "      <td>NaN</td>\n",
       "      <td>NaN</td>\n",
       "      <td>AMBIENTE DIVISIBLE CON PISOS D...</td>\n",
       "    </tr>\n",
       "    <tr>\n",
       "      <th>4</th>\n",
       "      <td>2263406</td>\n",
       "      <td>2017-08-01</td>\n",
       "      <td>departamento</td>\n",
       "      <td>venta</td>\n",
       "      <td>Chacarita</td>\n",
       "      <td>|Argentina|Capital Federal|Chacarita|</td>\n",
       "      <td>Argentina</td>\n",
       "      <td>Capital Federal</td>\n",
       "      <td>NaN</td>\n",
       "      <td>NaN</td>\n",
       "      <td>NaN</td>\n",
       "      <td>51.0</td>\n",
       "      <td>51.0</td>\n",
       "      <td>NaN</td>\n",
       "      <td>NaN</td>\n",
       "      <td>NaN</td>\n",
       "      <td>LIVING COMEDOR CON PISOS DE PO...</td>\n",
       "    </tr>\n",
       "  </tbody>\n",
       "</table>\n",
       "</div>"
      ],
      "text/plain": [
       "        id  created_on property_type operation             place_name  \\\n",
       "0     3632  2017-08-24  departamento     venta          Puerto Madero   \n",
       "1     3633  2017-08-25  departamento     venta  Buenos Aires Interior   \n",
       "2  2263404  2017-08-01  departamento     venta           Palermo Soho   \n",
       "3  2263405  2017-08-01  departamento     venta              Chacarita   \n",
       "4  2263406  2017-08-01  departamento     venta              Chacarita   \n",
       "\n",
       "                            place_with_parent_names country_name  \\\n",
       "0         |Argentina|Capital Federal|Puerto Madero|    Argentina   \n",
       "1                 |Argentina|Buenos Aires Interior|    Argentina   \n",
       "2  |Argentina|Capital Federal|Palermo|Palermo Soho|    Argentina   \n",
       "3             |Argentina|Capital Federal|Chacarita|    Argentina   \n",
       "4             |Argentina|Capital Federal|Chacarita|    Argentina   \n",
       "\n",
       "              state_name                        lat-lon        lat        lon  \\\n",
       "0        Capital Federal  -34.6109877599,-58.3634635778 -34.610988 -58.363464   \n",
       "1  Buenos Aires Interior                            NaN        NaN        NaN   \n",
       "2        Capital Federal  -34.5893633232,-58.4128798588 -34.589363 -58.412880   \n",
       "3        Capital Federal                            NaN        NaN        NaN   \n",
       "4        Capital Federal                            NaN        NaN        NaN   \n",
       "\n",
       "   surface_total_in_m2  surface_covered_in_m2  floor  rooms expenses  \\\n",
       "0                  0.0                    NaN    NaN    NaN      NaN   \n",
       "1                  0.0                    NaN    NaN    NaN      NaN   \n",
       "2                 53.0                   48.0    NaN    NaN     1500   \n",
       "3                 39.0                   39.0    NaN    NaN      NaN   \n",
       "4                 51.0                   51.0    NaN    NaN      NaN   \n",
       "\n",
       "                                         description  \n",
       "0  Edificio BA Houses situado frente al Dique 3 d...  \n",
       "1  El departamento cuenta con un living-comedor a...  \n",
       "2                  IMPECABLE TORRE COY III – DEPA...  \n",
       "3                  AMBIENTE DIVISIBLE CON PISOS D...  \n",
       "4                  LIVING COMEDOR CON PISOS DE PO...  "
      ]
     },
     "execution_count": 205,
     "metadata": {},
     "output_type": "execute_result"
    }
   ],
   "source": []
  },
  {
   "cell_type": "markdown",
   "metadata": {},
   "source": [
    "# Entrenamiento"
   ]
  },
  {
   "cell_type": "code",
   "execution_count": 296,
   "metadata": {},
   "outputs": [
    {
     "data": {
      "text/plain": [
       "Index(['lat', 'lon', 'surface_total_in_m2', 'surface_covered_in_m2', 'year',\n",
       "       'month', 'property_type_casa', 'property_type_departamento',\n",
       "       'property_type_ph', 'comuna_Comuna 1.0', 'comuna_Comuna 10.0',\n",
       "       'comuna_Comuna 11.0', 'comuna_Comuna 12.0', 'comuna_Comuna 13.0',\n",
       "       'comuna_Comuna 14.0', 'comuna_Comuna 15.0', 'comuna_Comuna 16.0',\n",
       "       'comuna_Comuna 17', 'comuna_Comuna 18', 'comuna_Comuna 19',\n",
       "       'comuna_Comuna 2.0', 'comuna_Comuna 20', 'comuna_Comuna 3.0',\n",
       "       'comuna_Comuna 4.0', 'comuna_Comuna 5.0', 'comuna_Comuna 6.0',\n",
       "       'comuna_Comuna 7.0', 'comuna_Comuna 8.0', 'comuna_Comuna 9.0'],\n",
       "      dtype='object')"
      ]
     },
     "execution_count": 296,
     "metadata": {},
     "output_type": "execute_result"
    }
   ],
   "source": [
    "novenaPrueba = testConComunas.drop('price_aprox_usd', axis=1)\n",
    "novenaPrueba.columns"
   ]
  },
  {
   "cell_type": "code",
   "execution_count": 295,
   "metadata": {},
   "outputs": [
    {
     "data": {
      "text/plain": [
       "Index(['lat', 'lon', 'surface_total_in_m2', 'surface_covered_in_m2', 'year',\n",
       "       'month', 'property_type_casa', 'property_type_departamento',\n",
       "       'property_type_ph', 'comuna_Comuna 1.0', 'comuna_Comuna 10.0',\n",
       "       'comuna_Comuna 11.0', 'comuna_Comuna 12.0', 'comuna_Comuna 13.0',\n",
       "       'comuna_Comuna 14.0', 'comuna_Comuna 15.0', 'comuna_Comuna 16.0',\n",
       "       'comuna_Comuna 17', 'comuna_Comuna 18', 'comuna_Comuna 19',\n",
       "       'comuna_Comuna 2.0', 'comuna_Comuna 20', 'comuna_Comuna 3.0',\n",
       "       'comuna_Comuna 4.0', 'comuna_Comuna 5.0', 'comuna_Comuna 6.0',\n",
       "       'comuna_Comuna 7.0', 'comuna_Comuna 8.0', 'comuna_Comuna 9.0'],\n",
       "      dtype='object')"
      ]
     },
     "execution_count": 295,
     "metadata": {},
     "output_type": "execute_result"
    }
   ],
   "source": [
    "datosOHCFeatures.columns"
   ]
  },
  {
   "cell_type": "code",
   "execution_count": 263,
   "metadata": {},
   "outputs": [
    {
     "data": {
      "text/plain": [
       "29"
      ]
     },
     "execution_count": 263,
     "metadata": {},
     "output_type": "execute_result"
    }
   ],
   "source": []
  },
  {
   "cell_type": "code",
   "execution_count": 266,
   "metadata": {},
   "outputs": [],
   "source": [
    "trainConComunas.columns.size\n",
    "sinPrecio = trainConComunas.drop('price_aprox_usd',axis=1)"
   ]
  },
  {
   "cell_type": "code",
   "execution_count": 300,
   "metadata": {},
   "outputs": [],
   "source": [
    "imp = Imputer(missing_values='NaN', strategy='median', axis=0)\n",
    "imp.fit_transform(novenaPrueba)\n",
    "\n",
    "RFRModel = RandomForestRegressor(n_estimators=100, max_features='sqrt')\n",
    "x_train, x_test, y_train, y_test = train_test_split(datosOHCFeatures, datosOHCPrecios['price_aprox_usd'], test_size=0.2)\n",
    "RFRModel.fit(x_train, y_train)\n",
    "prueba9 = RFRModel.predict(imp.fit_transform(novenaPrueba))"
   ]
  },
  {
   "cell_type": "code",
   "execution_count": null,
   "metadata": {
    "collapsed": true
   },
   "outputs": [],
   "source": []
  },
  {
   "cell_type": "code",
   "execution_count": null,
   "metadata": {
    "collapsed": true
   },
   "outputs": [],
   "source": []
  },
  {
   "cell_type": "code",
   "execution_count": null,
   "metadata": {
    "collapsed": true
   },
   "outputs": [],
   "source": []
  },
  {
   "cell_type": "code",
   "execution_count": 301,
   "metadata": {
    "collapsed": true
   },
   "outputs": [],
   "source": [
    "archivo9 = pd.DataFrame()\n",
    "archivo9['id'] = datosForTesting.loc[:,['id']]\n",
    "archivo9['price_usd'] = prueba9\n",
    "archivo9.to_csv('prueba9.csv', index=False)"
   ]
  },
  {
   "cell_type": "code",
   "execution_count": null,
   "metadata": {
    "collapsed": true
   },
   "outputs": [],
   "source": []
  }
 ],
 "metadata": {
  "kernelspec": {
   "display_name": "Python 3",
   "language": "python",
   "name": "python3"
  },
  "language_info": {
   "codemirror_mode": {
    "name": "ipython",
    "version": 3
   },
   "file_extension": ".py",
   "mimetype": "text/x-python",
   "name": "python",
   "nbconvert_exporter": "python",
   "pygments_lexer": "ipython3",
   "version": "3.6.3"
  }
 },
 "nbformat": 4,
 "nbformat_minor": 2
}
